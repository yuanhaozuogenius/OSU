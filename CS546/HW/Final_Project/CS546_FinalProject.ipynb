{
 "cells": [
  {
   "cell_type": "code",
   "execution_count": 1,
   "metadata": {
    "pycharm": {
     "name": "#%%\n"
    }
   },
   "outputs": [],
   "source": [
    "import igraph\n",
    "import numpy\n",
    "import pandas"
   ]
  },
  {
   "cell_type": "code",
   "execution_count": 2,
   "metadata": {
    "pycharm": {
     "name": "#%%\n"
    },
    "scrolled": true
   },
   "outputs": [
    {
     "data": {
      "text/plain": "    age  sex   cp  trestbps   chol  fbs  restecg  thalach  exang  oldpeak  \\\n0  63.0  1.0  1.0     145.0  233.0  1.0      2.0    150.0    0.0      2.3   \n1  67.0  1.0  4.0     160.0  286.0  0.0      2.0    108.0    1.0      1.5   \n2  67.0  1.0  4.0     120.0  229.0  0.0      2.0    129.0    1.0      2.6   \n3  37.0  1.0  3.0     130.0  250.0  0.0      0.0    187.0    0.0      3.5   \n4  41.0  0.0  2.0     130.0  204.0  0.0      2.0    172.0    0.0      1.4   \n5  56.0  1.0  2.0     120.0  236.0  0.0      0.0    178.0    0.0      0.8   \n\n   slope   ca thal  num  \n0    3.0  0.0  6.0    0  \n1    2.0  3.0  3.0    2  \n2    2.0  2.0  7.0    1  \n3    3.0  0.0  3.0    0  \n4    1.0  0.0  3.0    0  \n5    1.0  0.0  3.0    0  ",
      "text/html": "<div>\n<style scoped>\n    .dataframe tbody tr th:only-of-type {\n        vertical-align: middle;\n    }\n\n    .dataframe tbody tr th {\n        vertical-align: top;\n    }\n\n    .dataframe thead th {\n        text-align: right;\n    }\n</style>\n<table border=\"1\" class=\"dataframe\">\n  <thead>\n    <tr style=\"text-align: right;\">\n      <th></th>\n      <th>age</th>\n      <th>sex</th>\n      <th>cp</th>\n      <th>trestbps</th>\n      <th>chol</th>\n      <th>fbs</th>\n      <th>restecg</th>\n      <th>thalach</th>\n      <th>exang</th>\n      <th>oldpeak</th>\n      <th>slope</th>\n      <th>ca</th>\n      <th>thal</th>\n      <th>num</th>\n    </tr>\n  </thead>\n  <tbody>\n    <tr>\n      <th>0</th>\n      <td>63.0</td>\n      <td>1.0</td>\n      <td>1.0</td>\n      <td>145.0</td>\n      <td>233.0</td>\n      <td>1.0</td>\n      <td>2.0</td>\n      <td>150.0</td>\n      <td>0.0</td>\n      <td>2.3</td>\n      <td>3.0</td>\n      <td>0.0</td>\n      <td>6.0</td>\n      <td>0</td>\n    </tr>\n    <tr>\n      <th>1</th>\n      <td>67.0</td>\n      <td>1.0</td>\n      <td>4.0</td>\n      <td>160.0</td>\n      <td>286.0</td>\n      <td>0.0</td>\n      <td>2.0</td>\n      <td>108.0</td>\n      <td>1.0</td>\n      <td>1.5</td>\n      <td>2.0</td>\n      <td>3.0</td>\n      <td>3.0</td>\n      <td>2</td>\n    </tr>\n    <tr>\n      <th>2</th>\n      <td>67.0</td>\n      <td>1.0</td>\n      <td>4.0</td>\n      <td>120.0</td>\n      <td>229.0</td>\n      <td>0.0</td>\n      <td>2.0</td>\n      <td>129.0</td>\n      <td>1.0</td>\n      <td>2.6</td>\n      <td>2.0</td>\n      <td>2.0</td>\n      <td>7.0</td>\n      <td>1</td>\n    </tr>\n    <tr>\n      <th>3</th>\n      <td>37.0</td>\n      <td>1.0</td>\n      <td>3.0</td>\n      <td>130.0</td>\n      <td>250.0</td>\n      <td>0.0</td>\n      <td>0.0</td>\n      <td>187.0</td>\n      <td>0.0</td>\n      <td>3.5</td>\n      <td>3.0</td>\n      <td>0.0</td>\n      <td>3.0</td>\n      <td>0</td>\n    </tr>\n    <tr>\n      <th>4</th>\n      <td>41.0</td>\n      <td>0.0</td>\n      <td>2.0</td>\n      <td>130.0</td>\n      <td>204.0</td>\n      <td>0.0</td>\n      <td>2.0</td>\n      <td>172.0</td>\n      <td>0.0</td>\n      <td>1.4</td>\n      <td>1.0</td>\n      <td>0.0</td>\n      <td>3.0</td>\n      <td>0</td>\n    </tr>\n    <tr>\n      <th>5</th>\n      <td>56.0</td>\n      <td>1.0</td>\n      <td>2.0</td>\n      <td>120.0</td>\n      <td>236.0</td>\n      <td>0.0</td>\n      <td>0.0</td>\n      <td>178.0</td>\n      <td>0.0</td>\n      <td>0.8</td>\n      <td>1.0</td>\n      <td>0.0</td>\n      <td>3.0</td>\n      <td>0</td>\n    </tr>\n  </tbody>\n</table>\n</div>"
     },
     "execution_count": 2,
     "metadata": {},
     "output_type": "execute_result"
    }
   ],
   "source": [
    "g_discret_data = pandas.read_csv(\"processed.cleveland.data\",\n",
    "                                 sep=\",\")\n",
    "g_discret_data.head(n=6)"
   ]
  },
  {
   "cell_type": "code",
   "execution_count": 3,
   "metadata": {
    "pycharm": {
     "name": "#%%\n"
    },
    "scrolled": true
   },
   "outputs": [
    {
     "data": {
      "text/plain": "1"
     },
     "execution_count": 3,
     "metadata": {},
     "output_type": "execute_result"
    }
   ],
   "source": [
    "g_discret_data[\"num\"][2]"
   ]
  },
  {
   "cell_type": "code",
   "execution_count": 4,
   "metadata": {
    "pycharm": {
     "name": "#%%\n"
    }
   },
   "outputs": [],
   "source": [
    "real_network_adj_np = numpy.zeros(shape=[14, 14])\n",
    "molec_names = list(g_discret_data.columns)[0:14]\n",
    "real_network_adj_df = pandas.DataFrame(real_network_adj_np, index=molec_names, columns=molec_names)\n",
    "real_network_adj_df[\"num\"][\"age\"] = 1\n",
    "real_network_adj_df[\"num\"][\"sex\"] = 1\n",
    "real_network_adj_df[\"num\"][\"cp\"] = 1\n",
    "real_network_adj_df[\"num\"][\"trestbps\"] = 1\n",
    "real_network_adj_df[\"num\"][\"chol\"] = 1\n",
    "real_network_adj_df[\"num\"][\"fbs\"] = 1\n",
    "real_network_adj_df[\"num\"][\"restecg\"] = 1\n",
    "real_network_adj_df[\"num\"][\"thalach\"] = 1\n",
    "real_network_adj_df[\"num\"][\"exang\"] = 1\n",
    "real_network_adj_df[\"num\"][\"oldpeak\"] = 1\n",
    "real_network_adj_df[\"num\"][\"slope\"] = 1\n",
    "real_network_adj_df[\"num\"][\"ca\"] = 1\n",
    "real_network_adj_df[\"num\"][\"thal\"] = 1\n",
    "real_network_adj = real_network_adj_df.values"
   ]
  },
  {
   "cell_type": "code",
   "execution_count": 5,
   "metadata": {
    "pycharm": {
     "name": "#%%\n"
    }
   },
   "outputs": [
    {
     "name": "stdout",
     "output_type": "stream",
     "text": [
      "IGRAPH D--- 14 13 -- \n",
      "+ attr: lable (v)\n"
     ]
    },
    {
     "data": {
      "text/plain": "<igraph.drawing.cairo.plot.CairoPlot at 0x24fed728350>",
      "image/svg+xml": "<?xml version=\"1.0\" encoding=\"UTF-8\"?>\n<svg xmlns=\"http://www.w3.org/2000/svg\" xmlns:xlink=\"http://www.w3.org/1999/xlink\" width=\"200\" height=\"200\" viewBox=\"0 0 200 200\">\n<rect x=\"-20\" y=\"-20\" width=\"240\" height=\"240\" fill=\"rgb(100%, 100%, 100%)\" fill-opacity=\"1\"/>\n<path fill=\"none\" stroke-width=\"1\" stroke-linecap=\"butt\" stroke-linejoin=\"miter\" stroke=\"rgb(26.666667%, 26.666667%, 26.666667%)\" stroke-opacity=\"1\" stroke-miterlimit=\"10\" d=\"M 75.84375 20 L 92.164062 76.726562 \"/>\n<path fill-rule=\"nonzero\" fill=\"rgb(26.666667%, 26.666667%, 26.666667%)\" fill-opacity=\"1\" d=\"M 96.105469 90.433594 L 87.707031 78.007812 L 96.617188 75.441406 L 96.105469 90.433594 \"/>\n<path fill=\"none\" stroke-width=\"1\" stroke-linecap=\"butt\" stroke-linejoin=\"miter\" stroke=\"rgb(26.666667%, 26.666667%, 26.666667%)\" stroke-opacity=\"1\" stroke-miterlimit=\"10\" d=\"M 20 73.292969 L 75.890625 92.25 \"/>\n<path fill-rule=\"nonzero\" fill=\"rgb(26.666667%, 26.666667%, 26.666667%)\" fill-opacity=\"1\" d=\"M 89.402344 96.832031 L 74.402344 96.640625 L 77.378906 87.859375 L 89.402344 96.832031 \"/>\n<path fill=\"none\" stroke-width=\"1\" stroke-linecap=\"butt\" stroke-linejoin=\"miter\" stroke=\"rgb(26.666667%, 26.666667%, 26.666667%)\" stroke-opacity=\"1\" stroke-miterlimit=\"10\" d=\"M 170.34375 69.488281 L 121.183594 90.503906 \"/>\n<path fill-rule=\"nonzero\" fill=\"rgb(26.666667%, 26.666667%, 26.666667%)\" fill-opacity=\"1\" d=\"M 108.066406 96.113281 L 119.363281 86.242188 L 123.003906 94.769531 L 108.066406 96.113281 \"/>\n<path fill=\"none\" stroke-width=\"1\" stroke-linecap=\"butt\" stroke-linejoin=\"miter\" stroke=\"rgb(26.666667%, 26.666667%, 26.666667%)\" stroke-opacity=\"1\" stroke-miterlimit=\"10\" d=\"M 64.554688 171.488281 L 88.363281 121.917969 \"/>\n<path fill-rule=\"nonzero\" fill=\"rgb(26.666667%, 26.666667%, 26.666667%)\" fill-opacity=\"1\" d=\"M 94.542969 109.058594 L 92.542969 123.925781 L 84.1875 119.910156 L 94.542969 109.058594 \"/>\n<path fill=\"none\" stroke-width=\"1\" stroke-linecap=\"butt\" stroke-linejoin=\"miter\" stroke=\"rgb(26.666667%, 26.666667%, 26.666667%)\" stroke-opacity=\"1\" stroke-miterlimit=\"10\" d=\"M 165.515625 142.402344 L 119.351562 113.0625 \"/>\n<path fill-rule=\"nonzero\" fill=\"rgb(26.666667%, 26.666667%, 26.666667%)\" fill-opacity=\"1\" d=\"M 107.3125 105.410156 L 121.835938 109.148438 L 116.863281 116.972656 L 107.3125 105.410156 \"/>\n<path fill=\"none\" stroke-width=\"1\" stroke-linecap=\"butt\" stroke-linejoin=\"miter\" stroke=\"rgb(26.666667%, 26.666667%, 26.666667%)\" stroke-opacity=\"1\" stroke-miterlimit=\"10\" d=\"M 139 170.085938 L 110.933594 121.101562 \"/>\n<path fill-rule=\"nonzero\" fill=\"rgb(26.666667%, 26.666667%, 26.666667%)\" fill-opacity=\"1\" d=\"M 103.84375 108.722656 L 114.957031 118.796875 L 106.914062 123.402344 L 103.84375 108.722656 \"/>\n<path fill=\"none\" stroke-width=\"1\" stroke-linecap=\"butt\" stroke-linejoin=\"miter\" stroke=\"rgb(26.666667%, 26.666667%, 26.666667%)\" stroke-opacity=\"1\" stroke-miterlimit=\"10\" d=\"M 46.261719 44.882812 L 82.125 82.484375 \"/>\n<path fill-rule=\"nonzero\" fill=\"rgb(26.666667%, 26.666667%, 26.666667%)\" fill-opacity=\"1\" d=\"M 91.96875 92.808594 L 78.769531 85.683594 L 85.480469 79.285156 L 91.96875 92.808594 \"/>\n<path fill=\"none\" stroke-width=\"1\" stroke-linecap=\"butt\" stroke-linejoin=\"miter\" stroke=\"rgb(26.666667%, 26.666667%, 26.666667%)\" stroke-opacity=\"1\" stroke-miterlimit=\"10\" d=\"M 32.949219 148.976562 L 79.386719 114.507812 \"/>\n<path fill-rule=\"nonzero\" fill=\"rgb(26.666667%, 26.666667%, 26.666667%)\" fill-opacity=\"1\" d=\"M 90.84375 106.003906 L 82.148438 118.230469 L 76.625 110.785156 L 90.84375 106.003906 \"/>\n<path fill=\"none\" stroke-width=\"1\" stroke-linecap=\"butt\" stroke-linejoin=\"miter\" stroke=\"rgb(26.666667%, 26.666667%, 26.666667%)\" stroke-opacity=\"1\" stroke-miterlimit=\"10\" d=\"M 101.792969 180 L 99.757812 124.292969 \"/>\n<path fill-rule=\"nonzero\" fill=\"rgb(26.666667%, 26.666667%, 26.666667%)\" fill-opacity=\"1\" d=\"M 99.238281 110.039062 L 104.390625 124.125 L 95.125 124.464844 L 99.238281 110.039062 \"/>\n<path fill=\"none\" stroke-width=\"1\" stroke-linecap=\"butt\" stroke-linejoin=\"miter\" stroke=\"rgb(26.666667%, 26.666667%, 26.666667%)\" stroke-opacity=\"1\" stroke-miterlimit=\"10\" d=\"M 151.101562 35.882812 L 114.191406 81.226562 \"/>\n<path fill-rule=\"nonzero\" fill=\"rgb(26.666667%, 26.666667%, 26.666667%)\" fill-opacity=\"1\" d=\"M 105.183594 92.289062 L 110.597656 78.300781 L 117.785156 84.152344 L 105.183594 92.289062 \"/>\n<path fill=\"none\" stroke-width=\"1\" stroke-linecap=\"butt\" stroke-linejoin=\"miter\" stroke=\"rgb(26.666667%, 26.666667%, 26.666667%)\" stroke-opacity=\"1\" stroke-miterlimit=\"10\" d=\"M 180 106.640625 L 123.058594 102.011719 \"/>\n<path fill-rule=\"nonzero\" fill=\"rgb(26.666667%, 26.666667%, 26.666667%)\" fill-opacity=\"1\" d=\"M 108.839844 100.855469 L 123.433594 97.390625 L 122.683594 106.632812 L 108.839844 100.855469 \"/>\n<path fill=\"none\" stroke-width=\"1\" stroke-linecap=\"butt\" stroke-linejoin=\"miter\" stroke=\"rgb(26.666667%, 26.666667%, 26.666667%)\" stroke-opacity=\"1\" stroke-miterlimit=\"10\" d=\"M 114.226562 24.878906 L 103.726562 76.269531 \"/>\n<path fill-rule=\"nonzero\" fill=\"rgb(26.666667%, 26.666667%, 26.666667%)\" fill-opacity=\"1\" d=\"M 100.871094 90.246094 L 99.1875 75.34375 L 108.269531 77.199219 L 100.871094 90.246094 \"/>\n<path fill=\"none\" stroke-width=\"1\" stroke-linecap=\"butt\" stroke-linejoin=\"miter\" stroke=\"rgb(26.666667%, 26.666667%, 26.666667%)\" stroke-opacity=\"1\" stroke-miterlimit=\"10\" d=\"M 23.289062 111.894531 L 74.898438 103.804688 \"/>\n<path fill-rule=\"nonzero\" fill=\"rgb(26.666667%, 26.666667%, 26.666667%)\" fill-opacity=\"1\" d=\"M 88.992188 101.59375 L 75.617188 108.382812 L 74.179688 99.222656 L 88.992188 101.59375 \"/>\n<path fill-rule=\"nonzero\" fill=\"rgb(100%, 0%, 0%)\" fill-opacity=\"1\" stroke-width=\"1\" stroke-linecap=\"butt\" stroke-linejoin=\"miter\" stroke=\"rgb(0%, 0%, 0%)\" stroke-opacity=\"1\" stroke-miterlimit=\"10\" d=\"M 85.84375 20 C 85.84375 25.523438 81.367188 30 75.84375 30 C 70.324219 30 65.84375 25.523438 65.84375 20 C 65.84375 14.476562 70.324219 10 75.84375 10 C 81.367188 10 85.84375 14.476562 85.84375 20 \"/>\n<path fill-rule=\"nonzero\" fill=\"rgb(100%, 0%, 0%)\" fill-opacity=\"1\" stroke-width=\"1\" stroke-linecap=\"butt\" stroke-linejoin=\"miter\" stroke=\"rgb(0%, 0%, 0%)\" stroke-opacity=\"1\" stroke-miterlimit=\"10\" d=\"M 30 73.292969 C 30 78.816406 25.523438 83.292969 20 83.292969 C 14.476562 83.292969 10 78.816406 10 73.292969 C 10 67.769531 14.476562 63.292969 20 63.292969 C 25.523438 63.292969 30 67.769531 30 73.292969 \"/>\n<path fill-rule=\"nonzero\" fill=\"rgb(100%, 0%, 0%)\" fill-opacity=\"1\" stroke-width=\"1\" stroke-linecap=\"butt\" stroke-linejoin=\"miter\" stroke=\"rgb(0%, 0%, 0%)\" stroke-opacity=\"1\" stroke-miterlimit=\"10\" d=\"M 180.34375 69.488281 C 180.34375 75.011719 175.867188 79.488281 170.34375 79.488281 C 164.820312 79.488281 160.34375 75.011719 160.34375 69.488281 C 160.34375 63.964844 164.820312 59.488281 170.34375 59.488281 C 175.867188 59.488281 180.34375 63.964844 180.34375 69.488281 \"/>\n<path fill-rule=\"nonzero\" fill=\"rgb(100%, 0%, 0%)\" fill-opacity=\"1\" stroke-width=\"1\" stroke-linecap=\"butt\" stroke-linejoin=\"miter\" stroke=\"rgb(0%, 0%, 0%)\" stroke-opacity=\"1\" stroke-miterlimit=\"10\" d=\"M 74.554688 171.488281 C 74.554688 177.011719 70.078125 181.488281 64.554688 181.488281 C 59.03125 181.488281 54.554688 177.011719 54.554688 171.488281 C 54.554688 165.964844 59.03125 161.488281 64.554688 161.488281 C 70.078125 161.488281 74.554688 165.964844 74.554688 171.488281 \"/>\n<path fill-rule=\"nonzero\" fill=\"rgb(100%, 0%, 0%)\" fill-opacity=\"1\" stroke-width=\"1\" stroke-linecap=\"butt\" stroke-linejoin=\"miter\" stroke=\"rgb(0%, 0%, 0%)\" stroke-opacity=\"1\" stroke-miterlimit=\"10\" d=\"M 175.515625 142.402344 C 175.515625 147.925781 171.039062 152.402344 165.515625 152.402344 C 159.992188 152.402344 155.515625 147.925781 155.515625 142.402344 C 155.515625 136.878906 159.992188 132.402344 165.515625 132.402344 C 171.039062 132.402344 175.515625 136.878906 175.515625 142.402344 \"/>\n<path fill-rule=\"nonzero\" fill=\"rgb(100%, 0%, 0%)\" fill-opacity=\"1\" stroke-width=\"1\" stroke-linecap=\"butt\" stroke-linejoin=\"miter\" stroke=\"rgb(0%, 0%, 0%)\" stroke-opacity=\"1\" stroke-miterlimit=\"10\" d=\"M 149 170.085938 C 149 175.609375 144.523438 180.085938 139 180.085938 C 133.476562 180.085938 129 175.609375 129 170.085938 C 129 164.5625 133.476562 160.085938 139 160.085938 C 144.523438 160.085938 149 164.5625 149 170.085938 \"/>\n<path fill-rule=\"nonzero\" fill=\"rgb(100%, 0%, 0%)\" fill-opacity=\"1\" stroke-width=\"1\" stroke-linecap=\"butt\" stroke-linejoin=\"miter\" stroke=\"rgb(0%, 0%, 0%)\" stroke-opacity=\"1\" stroke-miterlimit=\"10\" d=\"M 56.261719 44.882812 C 56.261719 50.40625 51.785156 54.882812 46.261719 54.882812 C 40.742188 54.882812 36.261719 50.40625 36.261719 44.882812 C 36.261719 39.359375 40.742188 34.882812 46.261719 34.882812 C 51.785156 34.882812 56.261719 39.359375 56.261719 44.882812 \"/>\n<path fill-rule=\"nonzero\" fill=\"rgb(100%, 0%, 0%)\" fill-opacity=\"1\" stroke-width=\"1\" stroke-linecap=\"butt\" stroke-linejoin=\"miter\" stroke=\"rgb(0%, 0%, 0%)\" stroke-opacity=\"1\" stroke-miterlimit=\"10\" d=\"M 42.949219 148.976562 C 42.949219 154.5 38.472656 158.976562 32.949219 158.976562 C 27.429688 158.976562 22.949219 154.5 22.949219 148.976562 C 22.949219 143.453125 27.429688 138.976562 32.949219 138.976562 C 38.472656 138.976562 42.949219 143.453125 42.949219 148.976562 \"/>\n<path fill-rule=\"nonzero\" fill=\"rgb(100%, 0%, 0%)\" fill-opacity=\"1\" stroke-width=\"1\" stroke-linecap=\"butt\" stroke-linejoin=\"miter\" stroke=\"rgb(0%, 0%, 0%)\" stroke-opacity=\"1\" stroke-miterlimit=\"10\" d=\"M 111.792969 180 C 111.792969 185.523438 107.316406 190 101.792969 190 C 96.269531 190 91.792969 185.523438 91.792969 180 C 91.792969 174.476562 96.269531 170 101.792969 170 C 107.316406 170 111.792969 174.476562 111.792969 180 \"/>\n<path fill-rule=\"nonzero\" fill=\"rgb(100%, 0%, 0%)\" fill-opacity=\"1\" stroke-width=\"1\" stroke-linecap=\"butt\" stroke-linejoin=\"miter\" stroke=\"rgb(0%, 0%, 0%)\" stroke-opacity=\"1\" stroke-miterlimit=\"10\" d=\"M 161.101562 35.882812 C 161.101562 41.40625 156.625 45.882812 151.101562 45.882812 C 145.578125 45.882812 141.101562 41.40625 141.101562 35.882812 C 141.101562 30.359375 145.578125 25.882812 151.101562 25.882812 C 156.625 25.882812 161.101562 30.359375 161.101562 35.882812 \"/>\n<path fill-rule=\"nonzero\" fill=\"rgb(100%, 0%, 0%)\" fill-opacity=\"1\" stroke-width=\"1\" stroke-linecap=\"butt\" stroke-linejoin=\"miter\" stroke=\"rgb(0%, 0%, 0%)\" stroke-opacity=\"1\" stroke-miterlimit=\"10\" d=\"M 190 106.640625 C 190 112.164062 185.523438 116.640625 180 116.640625 C 174.476562 116.640625 170 112.164062 170 106.640625 C 170 101.117188 174.476562 96.640625 180 96.640625 C 185.523438 96.640625 190 101.117188 190 106.640625 \"/>\n<path fill-rule=\"nonzero\" fill=\"rgb(100%, 0%, 0%)\" fill-opacity=\"1\" stroke-width=\"1\" stroke-linecap=\"butt\" stroke-linejoin=\"miter\" stroke=\"rgb(0%, 0%, 0%)\" stroke-opacity=\"1\" stroke-miterlimit=\"10\" d=\"M 124.226562 24.878906 C 124.226562 30.402344 119.75 34.878906 114.226562 34.878906 C 108.703125 34.878906 104.226562 30.402344 104.226562 24.878906 C 104.226562 19.355469 108.703125 14.878906 114.226562 14.878906 C 119.75 14.878906 124.226562 19.355469 124.226562 24.878906 \"/>\n<path fill-rule=\"nonzero\" fill=\"rgb(100%, 0%, 0%)\" fill-opacity=\"1\" stroke-width=\"1\" stroke-linecap=\"butt\" stroke-linejoin=\"miter\" stroke=\"rgb(0%, 0%, 0%)\" stroke-opacity=\"1\" stroke-miterlimit=\"10\" d=\"M 33.289062 111.894531 C 33.289062 117.417969 28.8125 121.894531 23.289062 121.894531 C 17.765625 121.894531 13.289062 117.417969 13.289062 111.894531 C 13.289062 106.371094 17.765625 101.894531 23.289062 101.894531 C 28.8125 101.894531 33.289062 106.371094 33.289062 111.894531 \"/>\n<path fill-rule=\"nonzero\" fill=\"rgb(100%, 0%, 0%)\" fill-opacity=\"1\" stroke-width=\"1\" stroke-linecap=\"butt\" stroke-linejoin=\"miter\" stroke=\"rgb(0%, 0%, 0%)\" stroke-opacity=\"1\" stroke-miterlimit=\"10\" d=\"M 108.871094 100.042969 C 108.871094 105.566406 104.394531 110.042969 98.871094 110.042969 C 93.347656 110.042969 88.871094 105.566406 88.871094 100.042969 C 88.871094 94.523438 93.347656 90.042969 98.871094 90.042969 C 104.394531 90.042969 108.871094 94.523438 108.871094 100.042969 \"/>\n</svg>\n"
     },
     "execution_count": 5,
     "metadata": {
      "image/svg+xml": {
       "isolated": true
      }
     },
     "output_type": "execute_result"
    }
   ],
   "source": [
    "Title = [\"age\", \"sex\", \"cp\", \"trestbps\", \"chol\",\n",
    "         \"fbs\", \"restecg\", \"thalach\", \"exang\",\n",
    "         \"oldpeak\", \"slope\", \"ca\", \"thal\", \"num\"]\n",
    "real_network_igraph = igraph.Graph.Adjacency(real_network_adj.tolist())\n",
    "real_network_igraph.vs[\"lable\"] = Title\n",
    "print(real_network_igraph.summary())\n",
    "igraph.drawing.plot(real_network_igraph, bbox=(0, 0, 200, 200))"
   ]
  },
  {
   "cell_type": "code",
   "execution_count": 6,
   "metadata": {
    "pycharm": {
     "name": "#%%\n"
    }
   },
   "outputs": [],
   "source": [
    "import csv\n",
    "import random\n",
    "import math\n",
    "\n",
    "\n",
    "def loadCsv(filename):\n",
    "    lines = csv.reader(open(filename, \"r\"))\n",
    "    dataset1 = list(lines)\n",
    "    dataset = []\n",
    "    list1 = [i for i in range(len(dataset1)) for x in dataset1[i] if x == '?']\n",
    "    for i in range(len(dataset1)):\n",
    "        if not (i in list1):\n",
    "            dataset.append(dataset1[i])\n",
    "    for i in range(len(dataset)):\n",
    "        dataset[i] = [float(x) for x in dataset[i]]\n",
    "    return dataset\n",
    "\n",
    "\n",
    "def splitDataset(dataset, splitRatio):\n",
    "    trainSize = int(len(dataset) * splitRatio)\n",
    "    trainSet = []\n",
    "    copy = list(dataset)\n",
    "    while len(trainSet) < trainSize:\n",
    "        index = random.randrange(len(copy))\n",
    "        trainSet.append(copy.pop(index))\n",
    "    return [trainSet, copy]\n",
    "\n",
    "\n",
    "def separateByClass(dataset):\n",
    "    separated = {}\n",
    "    for i in range(len(dataset)):\n",
    "        vector = dataset[i]\n",
    "        if (vector[-1] not in separated):\n",
    "            separated[vector[-1]] = []\n",
    "        separated[vector[-1]].append(vector)\n",
    "    return separated\n",
    "\n",
    "\n",
    "def mean(numbers):\n",
    "    return sum(numbers) / float(len(numbers))\n",
    "\n",
    "\n",
    "def stdev(numbers):\n",
    "    avg = mean(numbers)\n",
    "    variance = sum([pow(x - avg, 2) for x in numbers]) / float(len(numbers) - 1)\n",
    "    return math.sqrt(variance)\n",
    "\n",
    "\n",
    "def summarize(dataset):\n",
    "    summaries = [(mean(attribute), stdev(attribute)) for attribute in zip(*dataset)]\n",
    "    del summaries[-1]\n",
    "    return summaries\n",
    "\n",
    "\n",
    "def summarizeByClass(dataset):\n",
    "    separated = separateByClass(dataset)\n",
    "    summaries = {}\n",
    "    for classValue, instances in separated.items():\n",
    "        summaries[classValue] = summarize(instances)\n",
    "    return summaries\n",
    "\n",
    "\n",
    "def calculateProbability(x, mean, stdev):\n",
    "    exponent = math.exp(-(math.pow(x - mean, 2) / (2 * math.pow(stdev, 2))))\n",
    "    return (1 / (math.sqrt(2 * math.pi) * stdev)) * exponent\n",
    "\n",
    "\n",
    "def calculateClassProbabilities(summaries, inputVector):\n",
    "    probabilities = {}\n",
    "    for classValue, classSummaries in summaries.items():\n",
    "        probabilities[classValue] = 1\n",
    "        for i in range(len(classSummaries)):\n",
    "            mean, stdev = classSummaries[i]\n",
    "            x = inputVector[i]\n",
    "            probabilities[classValue] *= calculateProbability(x, mean, stdev)\n",
    "    return probabilities\n",
    "\n",
    "\n",
    "def predict(summaries, inputVector):\n",
    "    probabilities = calculateClassProbabilities(summaries, inputVector)\n",
    "    bestLabel, bestProb = None, -1\n",
    "    for classValue, probability in probabilities.items():\n",
    "        if bestLabel is None or probability > bestProb:\n",
    "            bestProb = probability\n",
    "            bestLabel = classValue\n",
    "    return bestLabel\n",
    "\n",
    "\n",
    "def getPredictions(summaries, testSet):\n",
    "    predictions = []\n",
    "    for i in range(len(testSet)):\n",
    "        result = predict(summaries, testSet[i])\n",
    "        predictions.append(result)\n",
    "    return predictions\n",
    "\n",
    "\n",
    "def getAccuracy(testSet, predictions):\n",
    "    correct = 0\n",
    "    for i in range(len(testSet)):\n",
    "        if testSet[i][-1] == predictions[i]:\n",
    "            correct += 1\n",
    "    return (correct / float(len(testSet))) * 100.0\n",
    "\n",
    "\n",
    "def main():\n",
    "    filename = 'processed.cleveland.txt'\n",
    "    splitRatio = 0.67\n",
    "    dataset = loadCsv(filename)\n",
    "    trainingSet, testSet = splitDataset(dataset, splitRatio)\n",
    "    print('Split {0} rows into train={1} and test={2} rows'.format(len(dataset), len(trainingSet), len(testSet)))\n",
    "    # prepare model\n",
    "    summaries = summarizeByClass(trainingSet)\n",
    "    # test model\n",
    "    predictions = getPredictions(summaries, testSet)\n",
    "    accuracy = getAccuracy(testSet, predictions)\n",
    "    print('Accuracy: {0}%'.format(accuracy))"
   ]
  },
  {
   "cell_type": "code",
   "execution_count": 7,
   "metadata": {
    "pycharm": {
     "name": "#%%\n"
    },
    "scrolled": true
   },
   "outputs": [
    {
     "name": "stdout",
     "output_type": "stream",
     "text": [
      "Split 297 rows into train=198 and test=99 rows\n",
      "Accuracy: 44.44444444444444%\n"
     ]
    }
   ],
   "source": [
    "main()"
   ]
  }
 ],
 "metadata": {
  "kernelspec": {
   "display_name": "Python 3 (ipykernel)",
   "language": "python",
   "name": "python3"
  },
  "language_info": {
   "codemirror_mode": {
    "name": "ipython",
    "version": 3
   },
   "file_extension": ".py",
   "mimetype": "text/x-python",
   "name": "python",
   "nbconvert_exporter": "python",
   "pygments_lexer": "ipython3",
   "version": "3.11.1"
  }
 },
 "nbformat": 4,
 "nbformat_minor": 4
}