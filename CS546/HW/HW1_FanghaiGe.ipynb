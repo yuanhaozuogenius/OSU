{
 "cells": [
  {
   "cell_type": "markdown",
   "metadata": {},
   "source": [
    "# CSX46 Homework 1"
   ]
  },
  {
   "cell_type": "markdown",
   "metadata": {},
   "source": [
    "Fanghai Ge 933669678"
   ]
  },
  {
   "cell_type": "markdown",
   "metadata": {},
   "source": [
    "The human metabolic network is made available in edge-list format in a two-column tab-delimited text file `shared/hsmetnet.txt`.  In case you want to check that you have a complete and uncorrupted version of the file, here is it's MD5 checksum: `50bc7295c1f727cdc5867e4853a27583`. An example of the `hsmetnet.txt` file format is shown here:\n",
    "```\n",
    "alkylated DNA   REACTION1\n",
    "REACTION1       DNAn\n",
    "REACTION1       alkylated nucleobase\n",
    "acetyl-CoA      REACTION2\n",
    "1-alkyl-2-lyso-sn-glycero-3-phosphocholine      REACTION2\n",
    "REACTION2       1-alkyl-2-acetyl-sn-glycero-3-phosphocholine\n",
    "REACTION2       coenzyme A\n",
    "deoxyribonucleoside triphosphate        REACTION3\n",
    "(deoxynucleotides)(n)   REACTION3\n",
    "```\n",
    "You will see that there are two types of nodes; nodes that start with `REACTION` and nodes that do not. The former represent chemical *reactions*, and the latter represent *metabolites*. This graph is directed, so the ordering of the nodes is important; a row of the form\n",
    "```\n",
    "some-metabolite    REACTION523\n",
    "```\n",
    "is saying that metabolite `some-metabolite` is an *input* to (i.e., a reactant for) reaction `REACTION523`. Conversely, a row of the form\n",
    "```\n",
    "REACTION634    another-metabolite\n",
    "```\n",
    "is saying that metabolite `another-metabolite` is an *output* of (i.e., a product of) reaction `REACTION634`. A graph with two classes of nodes (and for which the only allowed edges are *between* nodes of the two classes, never *among* nodes of a single class) is called *bipartite*. So in this homework assignment we will be analyzing the human metabolic network as a bipartite graph.\n",
    "\n",
    "You will need to submit your homework assignment as either a Jupyter notebook (preferred) or a PDF of a report showing both code *and* results from running the code. "
   ]
  },
  {
   "cell_type": "markdown",
   "metadata": {},
   "source": [
    "Your first step is to read in the metabolic network as an edge-list (hint: use `read_csv` from `pandas`). Name the two columns `source` and `target`."
   ]
  },
  {
   "cell_type": "code",
   "execution_count": 1,
   "metadata": {},
   "outputs": [],
   "source": [
    "import pandas\n",
    "import igraph\n",
    "import numpy"
   ]
  },
  {
   "cell_type": "code",
   "execution_count": 2,
   "metadata": {},
   "outputs": [],
   "source": [
    "meta = pandas.read_csv(\"shared/hsmetnet.txt\",\n",
    "                                 sep=\"\\t\", \n",
    "                                 names=[\"source\",\"target\"])"
   ]
  },
  {
   "cell_type": "markdown",
   "metadata": {},
   "source": [
    "Next, you will want to construct a list of the names of all vertices and construct a list of indexes of vertices that are metabolites (hint: use `Graph.TupleList` with `directed=True`; you can use  `.values.tolist()` on the Pandas dataframe"
   ]
  },
  {
   "cell_type": "code",
   "execution_count": 3,
   "metadata": {
    "scrolled": true
   },
   "outputs": [
    {
     "data": {
      "text/plain": [
       "'IGRAPH DN-- 7879 19708 -- \\n+ attr: name (v)'"
      ]
     },
     "execution_count": 3,
     "metadata": {},
     "output_type": "execute_result"
    }
   ],
   "source": [
    "meta_graph = igraph.Graph.TupleList(meta[[\"source\",\"target\"]].values.tolist(), directed=True)\n",
    "meta_graph.summary()"
   ]
  },
  {
   "cell_type": "markdown",
   "metadata": {},
   "source": [
    "Questions for you: *how many distinct metabolites are there in the graph?* *How many reactions?* *How many edges are there?* \n",
    "\n",
    "(hint: use list comprehension, `in`, `for`, `len`, `str`, `set`, and `shape`)"
   ]
  },
  {
   "cell_type": "code",
   "execution_count": 4,
   "metadata": {
    "scrolled": true
   },
   "outputs": [
    {
     "name": "stdout",
     "output_type": "stream",
     "text": [
      "number of distinct metabolites in the graph: 2340\n",
      "number of distinct reactions in the graph:  5539\n",
      "number of edges in the graph: 19708\n"
     ]
    }
   ],
   "source": [
    "meta_inds = []\n",
    "cont = 0\n",
    "for v in meta_graph.vs:\n",
    "    if \"REACTION\" in v[\"name\"]:\n",
    "        cont += 1\n",
    "    else:\n",
    "        meta_inds.append(v.index)\n",
    "N = len(meta_graph.vs)\n",
    "metanum = len(meta_inds)\n",
    "print(\"number of distinct metabolites in the graph:\", metanum)\n",
    "print(\"number of distinct reactions in the graph: \", cont)\n",
    "\n",
    "meta_edges = meta_graph.get_edgelist()\n",
    "edges = len(meta_edges)\n",
    "print(\"number of edges in the graph:\", edges)"
   ]
  },
  {
   "cell_type": "markdown",
   "metadata": {},
   "source": [
    "Question for you: In this graph, what are the top six metabolites in terms of vertex degree?\n",
    "\n",
    "(hint: use list comprehension, `for`, `enumerate`, `sorted` (with `reverse=True`), and `lambda` or `itemgetter`)\n",
    "\n",
    "Thank you to Lindsey Kvarfordt for helping revise this code (SAR)"
   ]
  },
  {
   "cell_type": "code",
   "execution_count": 5,
   "metadata": {},
   "outputs": [
    {
     "name": "stdout",
     "output_type": "stream",
     "text": [
      "['ATP', 'ADP', 'phosphate', 'peptide', '[protein] (L-serine/L-threonine) phosphate', '[protein]-(L-serine/L-threonine)']\n"
     ]
    }
   ],
   "source": [
    "from collections import defaultdict\n",
    "degree = defaultdict(int)\n",
    "for v in meta_graph.vs:\n",
    "    if \"REACTION\" in v[\"name\"]:\n",
    "        continue\n",
    "    else:\n",
    "        degree[v[\"name\"]] = v.degree()\n",
    "from operator import itemgetter\n",
    "sorted_degree = sorted(degree.items(), key=itemgetter(1), reverse=True)\n",
    "meta_name = []\n",
    "for i in range(6):\n",
    "    meta_name.append(sorted_degree[i][0])\n",
    "print(meta_name)"
   ]
  },
  {
   "cell_type": "markdown",
   "metadata": {},
   "source": [
    "Assignment for you: *Plot the distribution of the degrees of these vertices, on log-log scale.*  \n",
    "\n",
    "(hint: use `degree_distribution` in igraph, with `vertices=metabolite_inds`; use the `.bins()` method to get the bin counts out; you can use `matplotlib.pyplot.loglog` to plot). As your \"x\" coordinate, please use the `left` element of the histogram bins (see the Class 3 degree distance python notebook)."
   ]
  },
  {
   "cell_type": "code",
   "execution_count": 6,
   "metadata": {
    "scrolled": true
   },
   "outputs": [
    {
     "data": {
      "image/png": "[encoded data removed]",
      "text/plain": [
       "<Figure size 432x288 with 1 Axes>"
      ]
     },
     "metadata": {
      "needs_background": "light"
     },
     "output_type": "display_data"
    }
   ],
   "source": [
    "import matplotlib.pyplot as plt\n",
    "xs, ys = zip(*[(left, count) for left, _, count in \n",
    "         meta_graph.degree_distribution(vertices = meta_inds).bins()])\n",
    "plt.loglog(xs, ys)\n",
    "plt.xlabel(\"k\")\n",
    "plt.ylabel(\"N(k)\")\n",
    "plt.show()"
   ]
  },
  {
   "cell_type": "markdown",
   "metadata": {},
   "source": [
    "Question: *what is the exponent α of the best-fit power-law to the degree distribution?* \n",
    "\n",
    "(hint: use `igraph.statistics.power_law_fit`)"
   ]
  },
  {
   "cell_type": "code",
   "execution_count": 7,
   "metadata": {
    "scrolled": true
   },
   "outputs": [
    {
     "name": "stdout",
     "output_type": "stream",
     "text": [
      "2.02\n"
     ]
    }
   ],
   "source": [
    "print(\"%.2f\" % igraph.statistics.power_law_fit(meta_graph.degree(meta_inds)).alpha)"
   ]
  },
  {
   "cell_type": "markdown",
   "metadata": {},
   "source": [
    "Questions to answer: *How does the α that you get compare to the estimate of the power-law exponent reported by Jeong et al. in their 2000 article in Nature, “The large-scale organization of metabolic networks” (vol. 407, pp. 651–654) (see page 14 of reading-for-class-06.pdf)? Based on structure of the network that you analyzed (bipartite, containing reactions) vs. the structure of the network that they analyzed (network projected to a network containing only metabolites), is it appropriate to compare the exponents? Why or why not?*"
   ]
  },
  {
   "cell_type": "markdown",
   "metadata": {},
   "source": [
    "Answer: I think the α that I get is not have much different with jeong et al. beacuse it all comes from the degree distribution of the metabolites. And i think it approporite to compare the exponents because it's containing reactions and bipartite is more efficent to analyse the dgree contribution. "
   ]
  },
  {
   "cell_type": "markdown",
   "metadata": {},
   "source": [
    "Task:  *Calculate the shortest-path-lengths between all pairs of metabolites (vertices) in the giant weakly connected component of the graph, discarding direction information in the graph.*  \n",
    "\n",
    "(hint: use `clusters` with `mode=weak` to get the giant weakly-connected component; then use `components.membership` and `enumerate` to get the giant component members; then use `igraph.shortest_paths` with `mode=igraph.ALL`, with\n",
    "`source=<metabolite_vertex_indices>` and `target=<metabolite_vertex_indices>` to get the\n",
    "all-pairs-shortest-paths.)"
   ]
  },
  {
   "cell_type": "code",
   "execution_count": 8,
   "metadata": {},
   "outputs": [],
   "source": [
    "meta_components = meta_graph.clusters(mode = \"weak\")\n",
    "\n",
    "meta_component_sizes = meta_components.sizes()\n",
    "\n",
    "inds_giant_component =  [index for index, item in enumerate(meta_components.membership) if item==numpy.argmax(meta_component_sizes)]\n",
    "\n",
    "numpy.set_printoptions(suppress=True)\n",
    "\n",
    "meta_inds_giant = numpy.array([], dtype = numpy.int64)\n",
    "\n",
    "meta_inds_array = numpy.array(meta_inds)\n",
    "\n",
    "for index in inds_giant_component:\n",
    "    meta_inds_giant = numpy.hstack((meta_inds_giant, meta_inds_array[meta_inds_array == index]))\n",
    "\n",
    "apsp_dists = meta_graph.shortest_paths(source = meta_inds_giant,\n",
    "                                       target = meta_inds_giant,\n",
    "                                       mode = igraph.ALL)"
   ]
  },
  {
   "cell_type": "markdown",
   "metadata": {},
   "source": [
    "Question: *What is the average of the shortest-path-lengtsh between all pairs of metabolites in the giant (weakly connected) component of the network?*\n",
    "\n",
    " \n",
    "\n",
    "(hint: Use `numpy.array`, `numpy.isfinite` and `numpy.mean` to get the mean distance; throw away any shortest-paths distance value if it is infinite.)"
   ]
  },
  {
   "cell_type": "code",
   "execution_count": 9,
   "metadata": {
    "scrolled": true
   },
   "outputs": [
    {
     "name": "stdout",
     "output_type": "stream",
     "text": [
      "6.80\n"
     ]
    }
   ],
   "source": [
    "apsp_array = numpy.array(apsp_dists)\n",
    "print(\"%0.2f\" % numpy.mean(apsp_array))"
   ]
  },
  {
   "cell_type": "markdown",
   "metadata": {},
   "source": [
    "Question: *What is the maximum of the shortest-path-length between all pairs of metabolites (throwing away infinite values, as before) in the giant (weakly connected) component of the network?* \n",
    "\n",
    "(hint: use `numpy.max` and `numpy.isfinite`; Note, you are calculating the diameter of the giant component)"
   ]
  },
  {
   "cell_type": "code",
   "execution_count": 10,
   "metadata": {},
   "outputs": [
    {
     "name": "stdout",
     "output_type": "stream",
     "text": [
      "18\n"
     ]
    }
   ],
   "source": [
    "print(numpy.max(apsp_array))"
   ]
  },
  {
   "cell_type": "markdown",
   "metadata": {},
   "source": [
    "Question:  *Why are the average geodesic distances that we get, roughly twice those reported in Fig. 3b of Jeong et al., 2000?*"
   ]
  },
  {
   "cell_type": "markdown",
   "metadata": {},
   "source": [
    "because we use the igraph.all it will change directed edge into undirected edge"
   ]
  },
  {
   "cell_type": "markdown",
   "metadata": {},
   "source": [
    "Calculate the shortest-paths betweenness centrality for all metabolites in the directed network.  (hint: use the `betweenness` function with the `v=<vector of vertex indices>` option, with `directed=True`)"
   ]
  },
  {
   "cell_type": "code",
   "execution_count": 11,
   "metadata": {
    "scrolled": false
   },
   "outputs": [],
   "source": [
    "meta_betweenness = meta_graph.betweenness(vertices = meta_inds, directed = True)\n",
    "meta_betweenness_max = numpy.max(meta_betweenness)\n",
    "meta_betweenness_min = numpy.min(meta_betweenness)\n",
    "for i in range(len(meta_betweenness)):\n",
    "    meta_betweenness[i] = (meta_betweenness[i] - meta_betweenness_min) / (meta_betweenness_max - meta_betweenness_min)"
   ]
  },
  {
   "cell_type": "markdown",
   "metadata": {},
   "source": [
    "Task: *plot the scatter plot of betweenness centrality vs. vertex degree for all metabolites, on log-log scale.* \n",
    "\n",
    "(hint:  use `numpy.array`, `numpy.where`, and `matplotlib.pyplot.scatter`)"
   ]
  },
  {
   "cell_type": "code",
   "execution_count": 12,
   "metadata": {
    "scrolled": true
   },
   "outputs": [
    {
     "data": {
      "image/png": "[encoded data removed]",
      "text/plain": [
       "<Figure size 432x288 with 1 Axes>"
      ]
     },
     "metadata": {
      "needs_background": "light"
     },
     "output_type": "display_data"
    }
   ],
   "source": [
    "degree_array = numpy.array(meta_graph.degree(meta_inds))\n",
    "ax = plt.gca()\n",
    "ax.scatter(degree_array, meta_betweenness)\n",
    "ax.set_xscale(\"log\")\n",
    "ax.set_yscale(\"log\")\n",
    "plt.xlabel(\"degree\")\n",
    "plt.ylabel(\"betweenness\")\n",
    "plt.ylim(0.00000001, 100)\n",
    "plt.xlim(1, 10000)\n",
    "plt.show()"
   ]
  },
  {
   "cell_type": "markdown",
   "metadata": {},
   "source": [
    "Question: *Among metabolites with degree k=2 , what metabolite has highest betweenness centrality in the network?* \n",
    "\n",
    "(hint:  use `numpy.argmax` and `numpy.where`"
   ]
  },
  {
   "cell_type": "code",
   "execution_count": 13,
   "metadata": {},
   "outputs": [],
   "source": [
    "inds_2_v = []\n",
    "degree_all = numpy.array(meta_graph.degree())\n",
    "inds_2_temp = numpy.where(degree_all == 2)[0]\n",
    "inds_2 = numpy.array(inds_2_temp)\n",
    "n = 0\n",
    "for i in inds_2:\n",
    "    if \"REACTION\" in meta_graph.vs[i][\"name\"]:\n",
    "        n = n + 1\n",
    "    else:\n",
    "        inds_2_v.append(i)\n"
   ]
  },
  {
   "cell_type": "code",
   "execution_count": 14,
   "metadata": {
    "scrolled": true
   },
   "outputs": [
    {
     "data": {
      "text/plain": [
       "'L-arginino-succinate'"
      ]
     },
     "execution_count": 14,
     "metadata": {},
     "output_type": "execute_result"
    }
   ],
   "source": [
    "meta_betweenness_2 = meta_graph.betweenness(vertices = inds_2_v, directed = True)\n",
    "meta_betweenness_2_array = numpy.array(meta_betweenness_2)\n",
    "meta_betweenness_2_max = numpy.max(meta_betweenness_2_array)\n",
    "inds_2_max = [index for index, i in enumerate(meta_betweenness_2_array) if i == meta_betweenness_2_max ]\n",
    "meta_graph.vs[inds_2_v[numpy.argmax(meta_betweenness_2_array)]][\"name\"]"
   ]
  },
  {
   "cell_type": "markdown",
   "metadata": {},
   "source": [
    "Search on this metabolite in the HumanCyc database at [humancyc.org](https://humancyc.org), using the search box. Click on the \"reactions\" tab. What important metabolic cycles is this metabolite involved in? Click on the \"urea cycle\". What is the known consequence of absence of an enzyme in this pathway?"
   ]
  },
  {
   "cell_type": "markdown",
   "metadata": {},
   "source": [
    "L-aspartate + L-citrulline + ATP → L-arginino-succinate + AMP + diphosphate + H+\n",
    "argininosuccinate synthase [ASS1]"
   ]
  }
 ],
 "metadata": {
  "kernelspec": {
   "display_name": "Python 3",
   "language": "python",
   "name": "python3"
  },
  "language_info": {
   "codemirror_mode": {
    "name": "ipython",
    "version": 3
   },
   "file_extension": ".py",
   "mimetype": "text/x-python",
   "name": "python",
   "nbconvert_exporter": "python",
   "pygments_lexer": "ipython3",
   "version": "3.6.9"
  }
 },
 "nbformat": 4,
 "nbformat_minor": 1
}
