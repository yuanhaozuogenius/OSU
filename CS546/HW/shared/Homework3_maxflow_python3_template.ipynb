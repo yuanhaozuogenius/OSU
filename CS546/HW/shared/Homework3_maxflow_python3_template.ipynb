{
 "cells": [
  {
   "cell_type": "markdown",
   "metadata": {},
   "source": [
    "# CSX46 Homework 3 - Maximum Flow"
   ]
  },
  {
   "cell_type": "markdown",
   "metadata": {},
   "source": [
    "For this homework exercise, we will need `numpy` and `igraph` and `pandas`"
   ]
  },
  {
   "cell_type": "code",
   "execution_count": 4,
   "metadata": {},
   "outputs": [],
   "source": [
    "import numpy\n",
    "import igraph\n",
    "import pandas"
   ]
  },
  {
   "cell_type": "markdown",
   "metadata": {},
   "source": [
    "## Question 1"
   ]
  },
  {
   "cell_type": "markdown",
   "metadata": {},
   "source": [
    "Define an adjacency matrix for a simple directed graph with six vertices, as shown here:"
   ]
  },
  {
   "cell_type": "code",
   "execution_count": 3,
   "metadata": {},
   "outputs": [
    {
     "name": "stdout",
     "output_type": "stream",
     "text": [
      "IGRAPH D--- 6 7 -- \n",
      "+ attr: label (v)\n"
     ]
    },
    {
     "data": {
      "image/svg+xml": [
       "<?xml version=\"1.0\" encoding=\"UTF-8\"?>\n",
       "<svg xmlns=\"http://www.w3.org/2000/svg\" xmlns:xlink=\"http://www.w3.org/1999/xlink\" width=\"200pt\" height=\"200pt\" viewBox=\"0 0 200 200\" version=\"1.1\">\n",
       "<defs>\n",
       "<g>\n",
       "<symbol overflow=\"visible\" id=\"glyph0-0\">\n",
       "<path style=\"stroke:none;\" d=\"M 0.703125 2.46875 L 0.703125 -9.875 L 7.703125 -9.875 L 7.703125 2.46875 Z M 1.484375 1.703125 L 6.921875 1.703125 L 6.921875 -9.078125 L 1.484375 -9.078125 Z M 1.484375 1.703125 \"/>\n",
       "</symbol>\n",
       "<symbol overflow=\"visible\" id=\"glyph0-1\">\n",
       "<path style=\"stroke:none;\" d=\"M 4.78125 -8.84375 L 2.90625 -3.765625 L 6.671875 -3.765625 Z M 4 -10.203125 L 5.578125 -10.203125 L 9.46875 0 L 8.03125 0 L 7.09375 -2.625 L 2.5 -2.625 L 1.5625 0 L 0.109375 0 Z M 4 -10.203125 \"/>\n",
       "</symbol>\n",
       "<symbol overflow=\"visible\" id=\"glyph0-2\">\n",
       "<path style=\"stroke:none;\" d=\"M 2.75 -4.875 L 2.75 -1.140625 L 4.96875 -1.140625 C 5.707031 -1.140625 6.253906 -1.289062 6.609375 -1.59375 C 6.972656 -1.90625 7.15625 -2.378906 7.15625 -3.015625 C 7.15625 -3.648438 6.972656 -4.117188 6.609375 -4.421875 C 6.253906 -4.722656 5.707031 -4.875 4.96875 -4.875 Z M 2.75 -9.078125 L 2.75 -6 L 4.796875 -6 C 5.472656 -6 5.972656 -6.125 6.296875 -6.375 C 6.628906 -6.625 6.796875 -7.007812 6.796875 -7.53125 C 6.796875 -8.050781 6.628906 -8.4375 6.296875 -8.6875 C 5.972656 -8.945312 5.472656 -9.078125 4.796875 -9.078125 Z M 1.375 -10.203125 L 4.90625 -10.203125 C 5.957031 -10.203125 6.765625 -9.984375 7.328125 -9.546875 C 7.898438 -9.109375 8.1875 -8.488281 8.1875 -7.6875 C 8.1875 -7.0625 8.039062 -6.5625 7.75 -6.1875 C 7.457031 -5.820312 7.03125 -5.59375 6.46875 -5.5 C 7.144531 -5.351562 7.671875 -5.046875 8.046875 -4.578125 C 8.421875 -4.117188 8.609375 -3.546875 8.609375 -2.859375 C 8.609375 -1.941406 8.296875 -1.234375 7.671875 -0.734375 C 7.054688 -0.242188 6.175781 0 5.03125 0 L 1.375 0 Z M 1.375 -10.203125 \"/>\n",
       "</symbol>\n",
       "<symbol overflow=\"visible\" id=\"glyph0-3\">\n",
       "<path style=\"stroke:none;\" d=\"M 9.015625 -9.421875 L 9.015625 -7.96875 C 8.546875 -8.394531 8.046875 -8.710938 7.515625 -8.921875 C 6.992188 -9.140625 6.441406 -9.25 5.859375 -9.25 C 4.691406 -9.25 3.796875 -8.890625 3.171875 -8.171875 C 2.554688 -7.460938 2.25 -6.4375 2.25 -5.09375 C 2.25 -3.75 2.554688 -2.71875 3.171875 -2 C 3.796875 -1.289062 4.691406 -0.9375 5.859375 -0.9375 C 6.441406 -0.9375 6.992188 -1.039062 7.515625 -1.25 C 8.046875 -1.46875 8.546875 -1.796875 9.015625 -2.234375 L 9.015625 -0.78125 C 8.535156 -0.457031 8.023438 -0.210938 7.484375 -0.046875 C 6.941406 0.117188 6.367188 0.203125 5.765625 0.203125 C 4.222656 0.203125 3.003906 -0.269531 2.109375 -1.21875 C 1.222656 -2.164062 0.78125 -3.457031 0.78125 -5.09375 C 0.78125 -6.726562 1.222656 -8.019531 2.109375 -8.96875 C 3.003906 -9.914062 4.222656 -10.390625 5.765625 -10.390625 C 6.378906 -10.390625 6.957031 -10.304688 7.5 -10.140625 C 8.039062 -9.984375 8.546875 -9.742188 9.015625 -9.421875 Z M 9.015625 -9.421875 \"/>\n",
       "</symbol>\n",
       "<symbol overflow=\"visible\" id=\"glyph0-4\">\n",
       "<path style=\"stroke:none;\" d=\"M 2.75 -9.078125 L 2.75 -1.140625 L 4.421875 -1.140625 C 5.828125 -1.140625 6.859375 -1.457031 7.515625 -2.09375 C 8.171875 -2.726562 8.5 -3.734375 8.5 -5.109375 C 8.5 -6.484375 8.171875 -7.488281 7.515625 -8.125 C 6.859375 -8.757812 5.828125 -9.078125 4.421875 -9.078125 Z M 1.375 -10.203125 L 4.21875 -10.203125 C 6.1875 -10.203125 7.632812 -9.789062 8.5625 -8.96875 C 9.488281 -8.144531 9.953125 -6.859375 9.953125 -5.109375 C 9.953125 -3.347656 9.488281 -2.054688 8.5625 -1.234375 C 7.632812 -0.410156 6.1875 0 4.21875 0 L 1.375 0 Z M 1.375 -10.203125 \"/>\n",
       "</symbol>\n",
       "<symbol overflow=\"visible\" id=\"glyph0-5\">\n",
       "<path style=\"stroke:none;\" d=\"M 1.375 -10.203125 L 7.828125 -10.203125 L 7.828125 -9.046875 L 2.75 -9.046875 L 2.75 -6.015625 L 7.609375 -6.015625 L 7.609375 -4.859375 L 2.75 -4.859375 L 2.75 -1.15625 L 7.953125 -1.15625 L 7.953125 0 L 1.375 0 Z M 1.375 -10.203125 \"/>\n",
       "</symbol>\n",
       "<symbol overflow=\"visible\" id=\"glyph0-6\">\n",
       "<path style=\"stroke:none;\" d=\"M 0.875 -10.203125 L 2.359375 -10.203125 L 4.90625 -6.40625 L 7.453125 -10.203125 L 8.9375 -10.203125 L 5.65625 -5.3125 L 9.15625 0 L 7.671875 0 L 4.796875 -4.34375 L 1.90625 0 L 0.421875 0 L 4.0625 -5.453125 Z M 0.875 -10.203125 \"/>\n",
       "</symbol>\n",
       "</g>\n",
       "</defs>\n",
       "<g id=\"surface2\">\n",
       "<rect x=\"0\" y=\"0\" width=\"200\" height=\"200\" style=\"fill:rgb(100%,100%,100%);fill-opacity:1;stroke:none;\"/>\n",
       "<path style=\"fill:none;stroke-width:1;stroke-linecap:butt;stroke-linejoin:miter;stroke:rgb(26.666667%,26.666667%,26.666667%);stroke-opacity:1;stroke-miterlimit:10;\" d=\"M 104.394531 70.960938 L 44.179688 76.089844 \"/>\n",
       "<path style=\" stroke:none;fill-rule:nonzero;fill:rgb(26.666667%,26.666667%,26.666667%);fill-opacity:1;\" d=\"M 29.964844 77.296875 L 43.785156 71.46875 L 44.570312 80.707031 L 29.964844 77.296875 \"/>\n",
       "<path style=\"fill:none;stroke-width:1;stroke-linecap:butt;stroke-linejoin:miter;stroke:rgb(26.666667%,26.666667%,26.666667%);stroke-opacity:1;stroke-miterlimit:10;\" d=\"M 104.394531 70.960938 L 131.308594 38.644531 \"/>\n",
       "<path style=\" stroke:none;fill-rule:nonzero;fill:rgb(26.666667%,26.666667%,26.666667%);fill-opacity:1;\" d=\"M 140.441406 27.683594 L 134.871094 41.613281 L 127.75 35.679688 L 140.441406 27.683594 \"/>\n",
       "<path style=\"fill:none;stroke-width:1;stroke-linecap:butt;stroke-linejoin:miter;stroke:rgb(26.666667%,26.666667%,26.666667%);stroke-opacity:1;stroke-miterlimit:10;\" d=\"M 104.394531 70.960938 L 136.964844 104.929688 \"/>\n",
       "<path style=\" stroke:none;fill-rule:nonzero;fill:rgb(26.666667%,26.666667%,26.666667%);fill-opacity:1;\" d=\"M 146.839844 115.226562 L 133.621094 108.136719 L 140.3125 101.71875 L 146.839844 115.226562 \"/>\n",
       "<path style=\"fill:none;stroke-width:1;stroke-linecap:butt;stroke-linejoin:miter;stroke:rgb(26.666667%,26.666667%,26.666667%);stroke-opacity:1;stroke-miterlimit:10;\" d=\"M 104.394531 70.960938 L 155.753906 68.894531 \"/>\n",
       "<path style=\" stroke:none;fill-rule:nonzero;fill:rgb(26.666667%,26.666667%,26.666667%);fill-opacity:1;\" d=\"M 170.007812 68.320312 L 155.941406 73.523438 L 155.566406 64.261719 L 170.007812 68.320312 \"/>\n",
       "<path style=\"fill:none;stroke-width:1;stroke-linecap:butt;stroke-linejoin:miter;stroke:rgb(26.666667%,26.666667%,26.666667%);stroke-opacity:1;stroke-miterlimit:10;\" d=\"M 146.839844 20 L 166.191406 47.964844 \"/>\n",
       "<path style=\" stroke:none;fill-rule:nonzero;fill:rgb(26.666667%,26.666667%,26.666667%);fill-opacity:1;\" d=\"M 174.308594 59.695312 L 162.378906 50.601562 L 170.003906 45.328125 L 174.308594 59.695312 \"/>\n",
       "<path style=\"fill:none;stroke-width:1;stroke-linecap:butt;stroke-linejoin:miter;stroke:rgb(26.666667%,26.666667%,26.666667%);stroke-opacity:1;stroke-miterlimit:10;\" d=\"M 149.757812 180 L 152.078125 146.652344 \"/>\n",
       "<path style=\" stroke:none;fill-rule:nonzero;fill:rgb(26.666667%,26.666667%,26.666667%);fill-opacity:1;\" d=\"M 153.066406 132.417969 L 156.703125 146.972656 L 147.453125 146.328125 L 153.066406 132.417969 \"/>\n",
       "<path style=\"fill:none;stroke-width:1;stroke-linecap:butt;stroke-linejoin:miter;stroke:rgb(26.666667%,26.666667%,26.666667%);stroke-opacity:1;stroke-miterlimit:10;\" d=\"M 153.761719 122.441406 L 169.476562 89.785156 \"/>\n",
       "<path style=\" stroke:none;fill-rule:nonzero;fill:rgb(26.666667%,26.666667%,26.666667%);fill-opacity:1;\" d=\"M 175.664062 76.929688 L 173.652344 91.792969 L 165.300781 87.773438 L 175.664062 76.929688 \"/>\n",
       "<path style=\"fill-rule:nonzero;fill:rgb(100%,0%,0%);fill-opacity:1;stroke-width:1;stroke-linecap:butt;stroke-linejoin:miter;stroke:rgb(0%,0%,0%);stroke-opacity:1;stroke-miterlimit:10;\" d=\"M 114.394531 70.960938 C 114.394531 76.484375 109.917969 80.960938 104.394531 80.960938 C 98.871094 80.960938 94.394531 76.484375 94.394531 70.960938 C 94.394531 65.4375 98.871094 60.960938 104.394531 60.960938 C 109.917969 60.960938 114.394531 65.4375 114.394531 70.960938 \"/>\n",
       "<path style=\"fill-rule:nonzero;fill:rgb(100%,0%,0%);fill-opacity:1;stroke-width:1;stroke-linecap:butt;stroke-linejoin:miter;stroke:rgb(0%,0%,0%);stroke-opacity:1;stroke-miterlimit:10;\" d=\"M 30 78.148438 C 30 83.667969 25.523438 88.148438 20 88.148438 C 14.476562 88.148438 10 83.667969 10 78.148438 C 10 72.625 14.476562 68.148438 20 68.148438 C 25.523438 68.148438 30 72.625 30 78.148438 \"/>\n",
       "<path style=\"fill-rule:nonzero;fill:rgb(100%,0%,0%);fill-opacity:1;stroke-width:1;stroke-linecap:butt;stroke-linejoin:miter;stroke:rgb(0%,0%,0%);stroke-opacity:1;stroke-miterlimit:10;\" d=\"M 156.839844 20 C 156.839844 25.523438 152.363281 30 146.839844 30 C 141.316406 30 136.839844 25.523438 136.839844 20 C 136.839844 14.476562 141.316406 10 146.839844 10 C 152.363281 10 156.839844 14.476562 156.839844 20 \"/>\n",
       "<path style=\"fill-rule:nonzero;fill:rgb(100%,0%,0%);fill-opacity:1;stroke-width:1;stroke-linecap:butt;stroke-linejoin:miter;stroke:rgb(0%,0%,0%);stroke-opacity:1;stroke-miterlimit:10;\" d=\"M 159.757812 180 C 159.757812 185.523438 155.28125 190 149.757812 190 C 144.238281 190 139.757812 185.523438 139.757812 180 C 139.757812 174.476562 144.238281 170 149.757812 170 C 155.28125 170 159.757812 174.476562 159.757812 180 \"/>\n",
       "<path style=\"fill-rule:nonzero;fill:rgb(100%,0%,0%);fill-opacity:1;stroke-width:1;stroke-linecap:butt;stroke-linejoin:miter;stroke:rgb(0%,0%,0%);stroke-opacity:1;stroke-miterlimit:10;\" d=\"M 163.761719 122.441406 C 163.761719 127.964844 159.285156 132.441406 153.761719 132.441406 C 148.238281 132.441406 143.761719 127.964844 143.761719 122.441406 C 143.761719 116.921875 148.238281 112.441406 153.761719 112.441406 C 159.285156 112.441406 163.761719 116.921875 163.761719 122.441406 \"/>\n",
       "<path style=\"fill-rule:nonzero;fill:rgb(100%,0%,0%);fill-opacity:1;stroke-width:1;stroke-linecap:butt;stroke-linejoin:miter;stroke:rgb(0%,0%,0%);stroke-opacity:1;stroke-miterlimit:10;\" d=\"M 190 67.917969 C 190 73.441406 185.523438 77.917969 180 77.917969 C 174.476562 77.917969 170 73.441406 170 67.917969 C 170 62.394531 174.476562 57.917969 180 57.917969 C 185.523438 57.917969 190 62.394531 190 67.917969 \"/>\n",
       "<g style=\"fill:rgb(0%,0%,0%);fill-opacity:1;\">\n",
       "  <use xlink:href=\"#glyph0-1\" x=\"99.609375\" y=\"77.714844\"/>\n",
       "</g>\n",
       "<g style=\"fill:rgb(0%,0%,0%);fill-opacity:1;\">\n",
       "  <use xlink:href=\"#glyph0-2\" x=\"15.007812\" y=\"84.902344\"/>\n",
       "</g>\n",
       "<g style=\"fill:rgb(0%,0%,0%);fill-opacity:1;\">\n",
       "  <use xlink:href=\"#glyph0-3\" x=\"141.9375\" y=\"26.847656\"/>\n",
       "</g>\n",
       "<g style=\"fill:rgb(0%,0%,0%);fill-opacity:1;\">\n",
       "  <use xlink:href=\"#glyph0-4\" x=\"144.097656\" y=\"186.753906\"/>\n",
       "</g>\n",
       "<g style=\"fill:rgb(0%,0%,0%);fill-opacity:1;\">\n",
       "  <use xlink:href=\"#glyph0-5\" x=\"149.097656\" y=\"129.195312\"/>\n",
       "</g>\n",
       "<g style=\"fill:rgb(0%,0%,0%);fill-opacity:1;\">\n",
       "  <use xlink:href=\"#glyph0-6\" x=\"175.214844\" y=\"74.671875\"/>\n",
       "</g>\n",
       "</g>\n",
       "</svg>\n"
      ],
      "text/plain": [
       "<igraph.drawing.Plot at 0x7fcc55a97940>"
      ]
     },
     "execution_count": 3,
     "metadata": {},
     "output_type": "execute_result"
    }
   ],
   "source": []
  },
  {
   "cell_type": "markdown",
   "metadata": {},
   "source": [
    "Make an igraph graph out of this adjacency matrix, and print the graph and its summary:"
   ]
  },
  {
   "cell_type": "code",
   "execution_count": null,
   "metadata": {
    "scrolled": true
   },
   "outputs": [],
   "source": []
  },
  {
   "cell_type": "markdown",
   "metadata": {},
   "source": [
    "Using the `Graph.maxflow` function, compute the max-flow between all possible pairs of distinct vertices. Which pair of vertices have the maximum flow between them? "
   ]
  },
  {
   "cell_type": "code",
   "execution_count": null,
   "metadata": {},
   "outputs": [],
   "source": []
  },
  {
   "cell_type": "markdown",
   "metadata": {},
   "source": [
    "Bonus point: how one would do it using a functional programming style, without a for loop?"
   ]
  },
  {
   "cell_type": "code",
   "execution_count": null,
   "metadata": {},
   "outputs": [],
   "source": []
  },
  {
   "cell_type": "markdown",
   "metadata": {},
   "source": [
    "## Question 2"
   ]
  },
  {
   "cell_type": "markdown",
   "metadata": {},
   "source": [
    "You are going to need to load in the network `shared/hsmetnet.txt` in edge-list format (hint: `pandas.read_csv`), and load it into a digraph using `igraph.Graph.TupleList`"
   ]
  },
  {
   "cell_type": "code",
   "execution_count": 7,
   "metadata": {},
   "outputs": [],
   "source": []
  },
  {
   "cell_type": "markdown",
   "metadata": {},
   "source": [
    "Always check the graph using `igraph.Graph.summary`"
   ]
  },
  {
   "cell_type": "markdown",
   "metadata": {},
   "source": [
    "What is the maximum flow in this network, between the vertex `alpha-D-glucose` and the vertex `pyruvate`? To answer this question, you will probably want to use the following steps:\n",
    "\n",
    "- find the vertex ID of `alpha-D-glucose`\n",
    "- find the vertex ID of `pyruvate`\n",
    "- use `igraph.Graph.maxflow` to get the maximum flow between these two vertex IDs (with `alpha-D-glucose` as the `source` and `pyruvate` as the `target`)"
   ]
  },
  {
   "cell_type": "code",
   "execution_count": null,
   "metadata": {},
   "outputs": [],
   "source": []
  },
  {
   "cell_type": "markdown",
   "metadata": {},
   "source": [
    "Why do you think this pair of vertices has such a high maximum-flow?"
   ]
  }
 ],
 "metadata": {
  "kernelspec": {
   "display_name": "Python 3",
   "language": "python",
   "name": "python3"
  },
  "language_info": {
   "codemirror_mode": {
    "name": "ipython",
    "version": 3
   },
   "file_extension": ".py",
   "mimetype": "text/x-python",
   "name": "python",
   "nbconvert_exporter": "python",
   "pygments_lexer": "ipython3",
   "version": "3.6.9"
  }
 },
 "nbformat": 4,
 "nbformat_minor": 1
}
