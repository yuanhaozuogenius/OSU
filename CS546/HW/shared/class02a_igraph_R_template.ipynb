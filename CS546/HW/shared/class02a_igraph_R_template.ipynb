{
 "cells": [
  {
   "cell_type": "markdown",
   "metadata": {},
   "source": [
    "# CSX46: Class session 2\n",
    "## *Introduction to the igraph package and the Pathway Commons network in SIF format*\n",
    "\n",
    "### Objective: load a network of human molecular interactions and create three igraph `Graph` objects from it (one for protein-protein interactions, one for metabolism interactions, and one for directed protein-protein interactions)"
   ]
  },
  {
   "cell_type": "markdown",
   "metadata": {},
   "source": [
    "OK, we are going to read in the Pathway Commons data in SIF format. Recall that a SIF file is a tab-separated value file. You can find the file as `shared/pathway_commons.sif`. Load it into a data frame `pcdf` using the built-in function `read.table`. Don't forget to specify that the separator is the tab `\\t`, and that there is no quoting allowed (`quote=\"\"`). Use the `col.names` argument to name the three columns `species1`, `interaction_type`, and `species2`. Make sure to specify that there is no header and that `stringsAsFactors=FALSE`.\n",
    "\n",
    "For help on using `read.table`, just type ?read.table\n",
    "\n",
    "Note: for each row, the `interaction_type` column contains one of 11 different interaction types (identified by a string, like `interacts-with` or `controls-production-of`). "
   ]
  },
  {
   "cell_type": "code",
   "execution_count": 2,
   "metadata": {},
   "outputs": [],
   "source": [
    "pcdf <- read.table(FILL IN HERE)\n"
   ]
  },
  {
   "cell_type": "markdown",
   "metadata": {},
   "source": [
    "Let's take a peek at `pcdf` using the `head` function:"
   ]
  },
  {
   "cell_type": "code",
   "execution_count": 3,
   "metadata": {},
   "outputs": [
    {
     "data": {
      "text/html": [
       "<table>\n",
       "<caption>A data.frame: 6 × 3</caption>\n",
       "<thead>\n",
       "\t<tr><th scope=col>species1</th><th scope=col>interaction_type</th><th scope=col>species2</th></tr>\n",
       "\t<tr><th scope=col>&lt;chr&gt;</th><th scope=col>&lt;chr&gt;</th><th scope=col>&lt;chr&gt;</th></tr>\n",
       "</thead>\n",
       "<tbody>\n",
       "\t<tr><td>A1BG</td><td>controls-expression-of     </td><td>A2M   </td></tr>\n",
       "\t<tr><td>A1BG</td><td>interacts-with             </td><td>ABCC6 </td></tr>\n",
       "\t<tr><td>A1BG</td><td>controls-phosphorylation-of</td><td>AKT1  </td></tr>\n",
       "\t<tr><td>A1BG</td><td>controls-state-change-of   </td><td>AKT1  </td></tr>\n",
       "\t<tr><td>A1BG</td><td>interacts-with             </td><td>ANXA7 </td></tr>\n",
       "\t<tr><td>A1BG</td><td>interacts-with             </td><td>CDKN1A</td></tr>\n",
       "</tbody>\n",
       "</table>\n"
      ],
      "text/latex": [
       "A data.frame: 6 × 3\n",
       "\\begin{tabular}{r|lll}\n",
       " species1 & interaction\\_type & species2\\\\\n",
       " <chr> & <chr> & <chr>\\\\\n",
       "\\hline\n",
       "\t A1BG & controls-expression-of      & A2M   \\\\\n",
       "\t A1BG & interacts-with              & ABCC6 \\\\\n",
       "\t A1BG & controls-phosphorylation-of & AKT1  \\\\\n",
       "\t A1BG & controls-state-change-of    & AKT1  \\\\\n",
       "\t A1BG & interacts-with              & ANXA7 \\\\\n",
       "\t A1BG & interacts-with              & CDKN1A\\\\\n",
       "\\end{tabular}\n"
      ],
      "text/markdown": [
       "\n",
       "A data.frame: 6 × 3\n",
       "\n",
       "| species1 &lt;chr&gt; | interaction_type &lt;chr&gt; | species2 &lt;chr&gt; |\n",
       "|---|---|---|\n",
       "| A1BG | controls-expression-of      | A2M    |\n",
       "| A1BG | interacts-with              | ABCC6  |\n",
       "| A1BG | controls-phosphorylation-of | AKT1   |\n",
       "| A1BG | controls-state-change-of    | AKT1   |\n",
       "| A1BG | interacts-with              | ANXA7  |\n",
       "| A1BG | interacts-with              | CDKN1A |\n",
       "\n"
      ],
      "text/plain": [
       "  species1 interaction_type            species2\n",
       "1 A1BG     controls-expression-of      A2M     \n",
       "2 A1BG     interacts-with              ABCC6   \n",
       "3 A1BG     controls-phosphorylation-of AKT1    \n",
       "4 A1BG     controls-state-change-of    AKT1    \n",
       "5 A1BG     interacts-with              ANXA7   \n",
       "6 A1BG     interacts-with              CDKN1A  "
      ]
     },
     "metadata": {},
     "output_type": "display_data"
    }
   ],
   "source": []
  },
  {
   "cell_type": "code",
   "execution_count": 4,
   "metadata": {},
   "outputs": [
    {
     "name": "stderr",
     "output_type": "stream",
     "text": [
      "\n",
      "Attaching package: ‘igraph’\n",
      "\n",
      "\n",
      "The following objects are masked from ‘package:stats’:\n",
      "\n",
      "    decompose, spectrum\n",
      "\n",
      "\n",
      "The following object is masked from ‘package:base’:\n",
      "\n",
      "    union\n",
      "\n",
      "\n"
     ]
    }
   ],
   "source": [
    "library(igraph)\n",
    "\n",
    "interaction_types_ppi <- c(\"interacts-with\",\n",
    "                           FILL IN HERE)\n",
    "\n",
    "interaction_types_metab <- FILL IN HERE\n",
    "\n",
    "interaction_types_ppd <- FILL IN HERE"
   ]
  },
  {
   "cell_type": "markdown",
   "metadata": {},
   "source": [
    "Subset data frame `pcdf` to obtain only the rows whose interactions are in `interaction_types_ppi`, and select only columns 1 and 3:"
   ]
  },
  {
   "cell_type": "code",
   "execution_count": 5,
   "metadata": {},
   "outputs": [],
   "source": [
    "pcdf_ppi <- FILL IN HERE"
   ]
  },
  {
   "cell_type": "markdown",
   "metadata": {},
   "source": [
    "Use the `igraph` function `graph_from_data_farme` to build a network from the edge-list data in `pcdf_ppi`; use `print` to see a summary of the graph:"
   ]
  },
  {
   "cell_type": "code",
   "execution_count": 6,
   "metadata": {},
   "outputs": [
    {
     "name": "stdout",
     "output_type": "stream",
     "text": [
      "IGRAPH ba9e496 UN-- 17020 523498 -- \n",
      "+ attr: name (v/c)\n",
      "+ edges from ba9e496 (vertex names):\n",
      " [1] A1BG--ABCC6   A1BG--ANXA7   A1BG--CDKN1A  A1BG--CRISP3  A1BG--GDPD1  \n",
      " [6] A1BG--GRB2    A1BG--GRB7    A1BG--HNF4A   A1BG--ONECUT1 A1BG--PIK3CA \n",
      "[11] A1BG--PIK3R1  A1BG--PRDX4   A1BG--PTPN11  A1BG--SETD7   A1BG--SMN1   \n",
      "[16] A1BG--SMN2    A1BG--SNCA    A1BG--SOS1    A1BG--TK1     A1CF--ACBD3  \n",
      "[21] A1CF--ACLY    A1CF--APOBEC1 A1CF--APOBEC1 A1CF--ATF2    A1CF--CELF2  \n",
      "[26] A1CF--CTNNB1  A1CF--E2F1    A1CF--E2F3    A1CF--E2F4    A1CF--FHL3   \n",
      "[31] A1CF--HNF1A   A1CF--HNF4A   A1CF--JUN     A1CF--KAT5    A1CF--KHSRP  \n",
      "[36] A1CF--MBD2    A1CF--MBD3    A1CF--NRF1    A1CF--RBL2    A1CF--REL    \n",
      "+ ... omitted several edges\n"
     ]
    }
   ],
   "source": [
    "graph_ppi <- FILL IN HERE\n",
    "print(FILL IN HERE)"
   ]
  },
  {
   "cell_type": "markdown",
   "metadata": {},
   "source": [
    "Do the same for the metabolic network:"
   ]
  },
  {
   "cell_type": "code",
   "execution_count": 7,
   "metadata": {},
   "outputs": [
    {
     "name": "stdout",
     "output_type": "stream",
     "text": [
      "IGRAPH 77472bf DN-- 7620 38145 -- \n",
      "+ attr: name (v/c)\n",
      "+ edges from 77472bf (vertex names):\n",
      " [1] A4GALT->CHEBI:17659 A4GALT->CHEBI:17950 A4GALT->CHEBI:18307\n",
      " [4] A4GALT->CHEBI:18313 A4GALT->CHEBI:58223 A4GALT->CHEBI:67119\n",
      " [7] A4GNT ->CHEBI:17659 A4GNT ->CHEBI:58223 AAAS  ->CHEBI:1604 \n",
      "[10] AAAS  ->CHEBI:2274  AACS  ->CHEBI:13705 AACS  ->CHEBI:15345\n",
      "[13] AACS  ->CHEBI:17369 AACS  ->CHEBI:18361 AACS  ->CHEBI:29888\n",
      "[16] AACS  ->CHEBI:57286 AACS  ->CHEBI:57287 AACS  ->CHEBI:57288\n",
      "[19] AACS  ->CHEBI:57392 AACS  ->CHEBI:58280 AADAC ->CHEBI:17790\n",
      "[22] AADAC ->CHEBI:40574 AADAC ->CHEBI:4743  AADAC ->CHEBI:85505\n",
      "+ ... omitted several edges\n"
     ]
    }
   ],
   "source": [
    "FILL IN HERE"
   ]
  },
  {
   "cell_type": "markdown",
   "metadata": {},
   "source": [
    "Do the same for the directed protein-protein interactions:"
   ]
  },
  {
   "cell_type": "code",
   "execution_count": 30,
   "metadata": {},
   "outputs": [
    {
     "name": "stdout",
     "output_type": "stream",
     "text": [
      "IGRAPH DN-- 16063 359713 -- \n",
      "+ attr: name (v/c), interaction_type (e/c)\n",
      "IGRAPH DN-- 16063 359713 -- \n",
      "+ attr: name (v/c), interaction_type (e/c)\n",
      "+ edges (vertex names):\n",
      " [1] A1BG  ->A2M      A1BG  ->AKT1     A1BG  ->AKT1     A2M   ->APOA1   \n",
      " [5] A2M   ->CDC42    A2M   ->RAC1     A2M   ->RAC2     A2M   ->RAC3    \n",
      " [9] A2M   ->RHOA     A2M   ->RHOBTB1  A2M   ->RHOBTB2  A2M   ->RHOB    \n",
      "[13] A2M   ->RHOC     A2M   ->RHOD     A2M   ->RHOF     A2M   ->RHOG    \n",
      "[17] A2M   ->RHOH     A2M   ->RHOJ     A2M   ->RHOQ     A2M   ->RHOT1   \n",
      "[21] A2M   ->RHOT2    A2M   ->RHOU     A2M   ->RHOV     A4GALT->ABO     \n",
      "[25] A4GALT->AK3      A4GALT->B3GALNT1 A4GALT->B3GALT1  A4GALT->B3GALT2 \n",
      "[29] A4GALT->B3GALT4  A4GALT->B3GALT5  A4GALT->B3GALT6  A4GALT->B3GAT2  \n",
      "+ ... omitted several edges\n"
     ]
    }
   ],
   "source": [
    "FILL IN HERE"
   ]
  },
  {
   "cell_type": "markdown",
   "metadata": {
    "collapsed": true
   },
   "source": [
    "Question: of the three networks that you just created, which has the most edges?"
   ]
  },
  {
   "cell_type": "markdown",
   "metadata": {},
   "source": [
    "Next, we need to create a small graph. Let's make a three-vertex undirected graph from an edge-list. Let's connect all vertices to all other vertices: 1<->2, 2<->3, 3<->1. We'll once again use graph_from_data_farme to do this:"
   ]
  },
  {
   "cell_type": "code",
   "execution_count": 11,
   "metadata": {},
   "outputs": [],
   "source": [
    "testgraph <- graph_from_data_frame(FILL IN HERE, directed=FALSE)"
   ]
  },
  {
   "cell_type": "markdown",
   "metadata": {},
   "source": [
    "Now let's plot the small test graph:"
   ]
  },
  {
   "cell_type": "code",
   "execution_count": 12,
   "metadata": {},
   "outputs": [
    {
     "data": {
      "image/png": "[encoded data removed]",
      "text/plain": [
       "Plot with title “”"
      ]
     },
     "metadata": {
      "image/png": {
       "height": 420,
       "width": 420
      },
      "text/plain": {
       "height": 420,
       "width": 420
      }
     },
     "output_type": "display_data"
    }
   ],
   "source": [
    "plot(testgraph)"
   ]
  }
 ],
 "metadata": {
  "kernelspec": {
   "display_name": "R",
   "language": "R",
   "name": "ir"
  },
  "language_info": {
   "codemirror_mode": "r",
   "file_extension": ".r",
   "mimetype": "text/x-r-source",
   "name": "R",
   "pygments_lexer": "r",
   "version": "3.6.1"
  }
 },
 "nbformat": 4,
 "nbformat_minor": 1
}
