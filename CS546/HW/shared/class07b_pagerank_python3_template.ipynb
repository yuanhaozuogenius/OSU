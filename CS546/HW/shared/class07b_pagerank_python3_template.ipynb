{
 "cells": [
  {
   "cell_type": "markdown",
   "metadata": {},
   "source": [
    "# CSX46 - Class Session 10 - Pagerank centrality\n",
    "\n",
    "In this class session we are going to compute the outgoing-edge PageRank centrality of each gene (vertex) in a human gene regulatory network (a directed graph) from a landmark paper on human gene regulation (Neph et al., Cell, volume 150, pages 1274-1286, 2012; see PDF on Canvas in `Files/Optional Reading`). We will also write our own PageRank function and compare it to the `igraph.Graph.pagerank` method."
   ]
  },
  {
   "cell_type": "markdown",
   "metadata": {},
   "source": [
    "Using Pandas `read_csv`, read in the ifle `shared/neph_gene_network.txt`, which has two columns of text (first column is the regulator gene, second column is the target gene), into a data frame. The file has no header and is tab-delimited.  Assign the column names of the dataframe to be `regulator` and `target`, respectively."
   ]
  },
  {
   "cell_type": "markdown",
   "metadata": {},
   "source": [
    "Let's load the Python packages that we will need for this exercise"
   ]
  },
  {
   "cell_type": "code",
   "execution_count": 1,
   "metadata": {},
   "outputs": [],
   "source": [
    "import pandas\n",
    "import igraph\n",
    "import numpy\n",
    "import matplotlib.pyplot\n",
    "import random"
   ]
  },
  {
   "cell_type": "markdown",
   "metadata": {},
   "source": [
    "Using `pandas.read_csv`, read the file `shared/neph_gene_network.txt`; name the two columns of the resulting data frame, `regulator` and `target`."
   ]
  },
  {
   "cell_type": "code",
   "execution_count": 2,
   "metadata": {},
   "outputs": [],
   "source": [
    "edge_list_neph = pandas.read_csv(FILL IN HERE)"
   ]
  },
  {
   "cell_type": "markdown",
   "metadata": {},
   "source": [
    "Load the edge-list data into a directed `igraph.Graph` object `neph_graph`, using `igraph.Graph.TupleList`. NOTE: igraph's `igraph.Graph.pagerank` computes only *incoming* pagerank centrality, and we want *outgoing* pagerank centrality. So: *make sure to reverse the columns of the data frame when you input the data frame into `Graph.TupleList` since we want the outgoing pagerank centrality not incoming pagerank centrality.* Print out a summary of the graph, using the `igraph.Graph.summary` method:"
   ]
  },
  {
   "cell_type": "code",
   "execution_count": 3,
   "metadata": {},
   "outputs": [
    {
     "data": {
      "text/plain": [
       "'IGRAPH DN-- 538 47945 -- \\n+ attr: name (v)'"
      ]
     },
     "execution_count": 3,
     "metadata": {},
     "output_type": "execute_result"
    }
   ],
   "source": [
    "neph_graph = igraph.Graph.TupleList(FILL IN HERE)\n",
    "neph_graph.summary()"
   ]
  },
  {
   "cell_type": "markdown",
   "metadata": {},
   "source": [
    "Compute the pagerank centrality measures of all vertices, using `igraph.Graph.pagerank`.  Use the resulting object to initialize a `numpy.array`, `pageranks`."
   ]
  },
  {
   "cell_type": "code",
   "execution_count": 4,
   "metadata": {},
   "outputs": [],
   "source": [
    "pageranks = numpy.array(FILL IN HERE)"
   ]
  },
  {
   "cell_type": "markdown",
   "metadata": {},
   "source": [
    "Which vertex has highest pagerank centrality in the gene regulatory network, and what is its pagerank centrality value? (think `numpy.max` and `numpy.argmax`). Get a `VertexSet` sequence using the `igraph.Graph.vs` property, and then index into that sequence using Python indexing:"
   ]
  },
  {
   "cell_type": "code",
   "execution_count": 5,
   "metadata": {},
   "outputs": [
    {
     "name": "stdout",
     "output_type": "stream",
     "text": [
      "0.00749112688039444\n"
     ]
    },
    {
     "data": {
      "text/plain": [
       "igraph.Vertex(<igraph.Graph object at 0x7f4349d3ec78>, 122, {'name': 'FOS'})"
      ]
     },
     "execution_count": 5,
     "metadata": {},
     "output_type": "execute_result"
    }
   ],
   "source": []
  },
  {
   "cell_type": "markdown",
   "metadata": {},
   "source": [
    "Calculate the in-degree of all vertices in the graph, and scatter plot `log(degree)` vs. `log(pagerank)`.  (Do you see why we used `in` here?  Note the column swapping we did earlier). Note-- you will have to eliminate one vertex that has zero in-degree."
   ]
  },
  {
   "cell_type": "code",
   "execution_count": 6,
   "metadata": {},
   "outputs": [
    {
     "data": {
      "image/png": "[encoded data removed]",
      "text/plain": [
       "<Figure size 432x288 with 1 Axes>"
      ]
     },
     "metadata": {
      "needs_background": "light"
     },
     "output_type": "display_data"
    }
   ],
   "source": [
    "import matplotlib.pyplot\n",
    "FILL IN HERE\n",
    "matplotlib.pyplot.ylim(3*1e-4, 1e-2)\n",
    "matplotlib.pyplot.xlim(0.8, 600)\n",
    "matplotlib.pyplot.show()"
   ]
  },
  {
   "cell_type": "markdown",
   "metadata": {},
   "source": [
    "See if you can calculate the pagerank centrality yourself, using the matrix inversion (Eq. 7.19 from Newman). Test your function on a small directed graph."
   ]
  },
  {
   "cell_type": "code",
   "execution_count": 7,
   "metadata": {},
   "outputs": [],
   "source": [
    "def pagerank(g):\n",
    "    # N is the number of vertices\n",
    "    N = len(g.vs)\n",
    "    \n",
    "    # alpha is the damping parameter\n",
    "    alpha = 0.85\n",
    "    \n",
    "    # beta = (1-alpha)/N\n",
    "    beta = (1-alpha)/N\n",
    "    \n",
    "    # compute the out-degree of each vertex\n",
    "    degree_values = g.degree(mode=\"out\")\n",
    "    \n",
    "    # get a floating-point adjacency matrix M in the Newman format (take transpose from igraph format)\n",
    "    M = \n",
    "    \n",
    "    # or each column in 0,N-1:\n",
    "    for j in range(0,N):\n",
    "        \n",
    "        # get the out degree of the vertex as a float\n",
    "        degree_value = \n",
    "        \n",
    "        # if degree is nonzero, normalize the column of M with degree_value\n",
    "        if degree_value > 0:\n",
    "            M[:,j] /= \n",
    "        else:\n",
    "            # set the column to zero\n",
    "            M[:,j] = \n",
    "            \n",
    "    # compute pagerank following Newman Eq. 7.19, where M = AD^(-1)\n",
    "    pr = \n",
    "    \n",
    "    # normalize pagerank centrality by its sum\n",
    "    pr /= \n",
    "    \n",
    "    retlist = pr.transpose().tolist()[0]\n",
    "    return(retlist)"
   ]
  },
  {
   "cell_type": "markdown",
   "metadata": {},
   "source": [
    "Test out your function on a small 5-vertex Barabasi-Albert graph:"
   ]
  },
  {
   "cell_type": "code",
   "execution_count": 8,
   "metadata": {},
   "outputs": [
    {
     "name": "stdout",
     "output_type": "stream",
     "text": [
      "[0.27786259541984737, 0.2778625954198473, 0.14809160305343513, 0.14809160305343513, 0.1480916030534351]\n",
      "[0.2778625954198473, 0.2778625954198473, 0.14809160305343513, 0.14809160305343513, 0.1480916030534351]\n"
     ]
    }
   ],
   "source": []
  }
 ],
 "metadata": {
  "kernelspec": {
   "display_name": "Python 3",
   "language": "python",
   "name": "python3"
  },
  "language_info": {
   "codemirror_mode": {
    "name": "ipython",
    "version": 3
   },
   "file_extension": ".py",
   "mimetype": "text/x-python",
   "name": "python",
   "nbconvert_exporter": "python",
   "pygments_lexer": "ipython3",
   "version": "3.6.9"
  }
 },
 "nbformat": 4,
 "nbformat_minor": 1
}
