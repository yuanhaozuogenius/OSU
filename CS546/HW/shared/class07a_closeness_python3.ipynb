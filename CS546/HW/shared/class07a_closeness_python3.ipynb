{
 "cells": [
  {
   "cell_type": "markdown",
   "metadata": {},
   "source": [
    "# CSX46 - Class Session 7 - Closeness centrality\n",
    "\n",
    "In this class session we are going to scatter-plot the harmonic-mean closeness centralities\n",
    "of the vertices in the gene regulatory network (which we will obtain from Pathway Commons) with the vertices' degree centralities. We will get the geodesic path distances using `igraph`, which will use BFS for this graph."
   ]
  },
  {
   "cell_type": "markdown",
   "metadata": {},
   "source": [
    "We are going to use `pandas`, `igraph`, `numpy`, and `timeit`"
   ]
  },
  {
   "cell_type": "code",
   "execution_count": 1,
   "metadata": {},
   "outputs": [],
   "source": [
    "import pandas\n",
    "import igraph\n",
    "import numpy\n",
    "import timeit"
   ]
  },
  {
   "cell_type": "markdown",
   "metadata": {},
   "source": [
    "Load in the SIF file for Pathway Commons, using `pandas.read_csv` and specifying the three column names `species1`, `interaction_type`, and `species2`:"
   ]
  },
  {
   "cell_type": "code",
   "execution_count": 2,
   "metadata": {},
   "outputs": [],
   "source": [
    "sif_data = pandas.read_csv(\"shared/pathway_commons.sif\",\n",
    "                           sep=\"\\t\", names=[\"species1\",\"interaction_type\",\"species2\"])"
   ]
  },
  {
   "cell_type": "markdown",
   "metadata": {},
   "source": [
    "Subset the data frame to include only rows for which the `interaction_type` column contains the string `controls-expression-of`; subset columns to include only columns `species1` and `species2` using the `[` operator and the list `[\"species1\",\"species2\"]`; and eliminate redundant edges in the edge-list using the `drop_duplicates` method. "
   ]
  },
  {
   "cell_type": "code",
   "execution_count": 3,
   "metadata": {},
   "outputs": [],
   "source": [
    "interac_grn = sif_data[sif_data.interaction_type == \"controls-expression-of\"]\n",
    "interac_grn_unique = interac_grn[[\"species1\",\"species2\"]].drop_duplicates()"
   ]
  },
  {
   "cell_type": "markdown",
   "metadata": {},
   "source": [
    "Create a undirected graph in igraph, from the dataframe edge-list, using `Graph.TupleList` and specifying `directed=False`. Print out the graph summary using the `summary` instance method."
   ]
  },
  {
   "cell_type": "code",
   "execution_count": 4,
   "metadata": {},
   "outputs": [
    {
     "data": {
      "text/plain": [
       "'IGRAPH UN-- 14208 110013 -- \\n+ attr: name (v)'"
      ]
     },
     "execution_count": 4,
     "metadata": {},
     "output_type": "execute_result"
    }
   ],
   "source": [
    "grn_igraph = igraph.Graph.TupleList(interac_grn_unique.values.tolist(), directed=False)\n",
    "grn_igraph.summary()"
   ]
  },
  {
   "cell_type": "markdown",
   "metadata": {},
   "source": [
    "For one vertex at a time (iterating over the vertex sequence `grn_igraph.vs`), compute that vertex's harmonic mean closeness centrality using Eq. 7.30 from Newman's book. Don't forget to eliminate the \"0\" distance between a vertex and itself, in the results you get back from calling the `shortest_paths` method on the `Vertex` object.   Just for information purposes, measure how long the code takes to run, in seconds, using `timeit.default_timer()`. "
   ]
  },
  {
   "cell_type": "code",
   "execution_count": 5,
   "metadata": {},
   "outputs": [
    {
     "name": "stdout",
     "output_type": "stream",
     "text": [
      "Elapsed time: 118.70 s\n"
     ]
    }
   ],
   "source": [
    "N = len(grn_igraph.vs)\n",
    "\n",
    "# allocate a vector to contain the harmonic-mean vertex closeness centralities; initialize to zeroes\n",
    "# (so if a vertex is a singleton we don't have to update its harmonic-mean closeness centrality)\n",
    "hm_closeness_centralities = numpy.zeros(N)\n",
    "\n",
    "# allocate a vector to contain the vertex closeness centralities; initialize to zeroes\n",
    "# (so if a vertex is a singleton we don't have to update its closeness centrality)\n",
    "closeness_centralities = numpy.zeros(N)\n",
    "\n",
    "# initialize a counter\n",
    "ctr = 0\n",
    "\n",
    "# start the timer\n",
    "start_time = timeit.default_timer()\n",
    "\n",
    "# for each vertex in `grn_igraph.vs`\n",
    "for my_vertex in grn_igraph.vs:\n",
    "    \n",
    "    # compute the geodesic distance to every other vertex, from my_vertex, using the `shortest_paths` instance method;\n",
    "    # put it in a numpy.array\n",
    "    my_dists = numpy.array(my_vertex.shortest_paths())\n",
    "    \n",
    "    # igraph computes CC by setting the \"distance\" to a vertex that is in a different component, to N\n",
    "    my_dists[numpy.logical_not(numpy.isfinite(my_dists))] = N\n",
    "    \n",
    "    ## this equation is how you would compute CC according to Newman's Eq. 7.29:\n",
    "    # my_dists = my_dists[numpy.isfinite(my_dists) & (my_dists > 0)]\n",
    "\n",
    "    # filter the numpy array to include only entries that are positive \n",
    "    my_dists = my_dists[my_dists > 0]\n",
    "    \n",
    "\n",
    "    if len(my_dists) > 0:\n",
    "        # compute harmonic-mean closeness centrality following Eq. 7.30 in Newman\n",
    "        hm_closeness_centralities[ctr] = numpy.sum(1/my_dists)/(N-1)\n",
    "        \n",
    "        # NOTE: igraph uses \"N-1\" but Newman uses \"N\" in Eq. 7.29; we'll folow igraph here\n",
    "        closeness_centralities[ctr] = (N-1)/numpy.sum(my_dists)\n",
    "    ctr += 1\n",
    "    \n",
    "# compute the elapsed time\n",
    "ci_elapsed = timeit.default_timer() - start_time\n",
    "print(\"Elapsed time: %0.2f s\" % ci_elapsed)"
   ]
  },
  {
   "cell_type": "markdown",
   "metadata": {},
   "source": [
    "Now, let's compute the closeness centralities using igraph's method `igraph.Graph.closeness`. How long does it take to run?"
   ]
  },
  {
   "cell_type": "code",
   "execution_count": 6,
   "metadata": {},
   "outputs": [
    {
     "name": "stdout",
     "output_type": "stream",
     "text": [
      "Elapsed time: 30.84 s\n"
     ]
    }
   ],
   "source": [
    "start_time = timeit.default_timer()\n",
    "cc_igraph = grn_igraph.closeness(normalized=True)\n",
    "elapsed_time = timeit.default_timer() - start_time\n",
    "print(\"Elapsed time: %0.2f s\" % elapsed_time)"
   ]
  },
  {
   "cell_type": "markdown",
   "metadata": {},
   "source": [
    "Compare `cc_igraph` with `closeness_centralities`; are they all the same?"
   ]
  },
  {
   "cell_type": "code",
   "execution_count": 7,
   "metadata": {},
   "outputs": [
    {
     "data": {
      "text/plain": [
       "0"
      ]
     },
     "execution_count": 7,
     "metadata": {},
     "output_type": "execute_result"
    }
   ],
   "source": [
    "len(numpy.where(numpy.abs(closeness_centralities-cc_igraph) != 0.)[0])"
   ]
  },
  {
   "cell_type": "markdown",
   "metadata": {},
   "source": [
    "Histogram the harmonic-mean closeness centralities.  Do they have a large dynamic range?"
   ]
  },
  {
   "cell_type": "code",
   "execution_count": 8,
   "metadata": {},
   "outputs": [
    {
     "data": {
      "image/png": "[encoded data removed]",
      "text/plain": [
       "<Figure size 432x288 with 1 Axes>"
      ]
     },
     "metadata": {
      "needs_background": "light"
     },
     "output_type": "display_data"
    }
   ],
   "source": [
    "import matplotlib.pyplot\n",
    "matplotlib.pyplot.hist(closeness_centralities)\n",
    "matplotlib.pyplot.xlabel(\"Ci\")\n",
    "matplotlib.pyplot.ylabel(\"Frequency\")\n",
    "matplotlib.pyplot.show()"
   ]
  },
  {
   "cell_type": "markdown",
   "metadata": {},
   "source": [
    "Scatter plot the harmonic-mean closeness centralities vs. the log10 degree. Is there any kind of relationship?"
   ]
  },
  {
   "cell_type": "code",
   "execution_count": 9,
   "metadata": {},
   "outputs": [
    {
     "data": {
      "image/png": "[encoded data removed]",
      "text/plain": [
       "<Figure size 432x288 with 1 Axes>"
      ]
     },
     "metadata": {
      "needs_background": "light"
     },
     "output_type": "display_data"
    }
   ],
   "source": [
    "ax = matplotlib.pyplot.gca()\n",
    "ax.scatter(grn_igraph.degree(), closeness_centralities)\n",
    "ax.set_xscale(\"log\")\n",
    "matplotlib.pyplot.xlabel(\"degree\")\n",
    "matplotlib.pyplot.ylabel(\"closeness\")\n",
    "matplotlib.pyplot.show()"
   ]
  },
  {
   "cell_type": "markdown",
   "metadata": {},
   "source": [
    "Which protein has the highest harmonic-mean closeness centrality in the network, and what is its centrality value? use `numpy.argmax`"
   ]
  },
  {
   "cell_type": "code",
   "execution_count": 10,
   "metadata": {},
   "outputs": [
    {
     "name": "stdout",
     "output_type": "stream",
     "text": [
      "0.2781268964977193\n"
     ]
    },
    {
     "data": {
      "text/plain": [
       "'CYP26A1'"
      ]
     },
     "execution_count": 10,
     "metadata": {},
     "output_type": "execute_result"
    }
   ],
   "source": [
    "print(numpy.max(closeness_centralities))\n",
    "grn_igraph.vs[numpy.argmax(closeness_centralities)][\"name\"]"
   ]
  },
  {
   "cell_type": "markdown",
   "metadata": {},
   "source": [
    "Print names of the top 10 proteins in the network, by harmonic-mean closeness centrality:, using `numpy.argsort`:"
   ]
  },
  {
   "cell_type": "code",
   "execution_count": 11,
   "metadata": {},
   "outputs": [
    {
     "data": {
      "text/plain": [
       "['CYP26A1', 'TCF3', 'LEF1', 'MAZ', 'MYC', 'FOXO4', 'PAX4', 'PITX2', 'HNF1A']"
      ]
     },
     "execution_count": 11,
     "metadata": {},
     "output_type": "execute_result"
    }
   ],
   "source": [
    "grn_igraph.vs[numpy.argsort(closeness_centralities)[::-1][0:9].tolist()][\"name\"]"
   ]
  },
  {
   "cell_type": "markdown",
   "metadata": {},
   "source": [
    "Let's do it using a Pandas `DataFrame`:"
   ]
  },
  {
   "cell_type": "code",
   "execution_count": 12,
   "metadata": {},
   "outputs": [
    {
     "data": {
      "text/html": [
       "<div>\n",
       "<style scoped>\n",
       "    .dataframe tbody tr th:only-of-type {\n",
       "        vertical-align: middle;\n",
       "    }\n",
       "\n",
       "    .dataframe tbody tr th {\n",
       "        vertical-align: top;\n",
       "    }\n",
       "\n",
       "    .dataframe thead th {\n",
       "        text-align: right;\n",
       "    }\n",
       "</style>\n",
       "<table border=\"1\" class=\"dataframe\">\n",
       "  <thead>\n",
       "    <tr style=\"text-align: right;\">\n",
       "      <th></th>\n",
       "      <th>CC</th>\n",
       "    </tr>\n",
       "    <tr>\n",
       "      <th>protein</th>\n",
       "      <th></th>\n",
       "    </tr>\n",
       "  </thead>\n",
       "  <tbody>\n",
       "    <tr>\n",
       "      <th>CYP26A1</th>\n",
       "      <td>0.278127</td>\n",
       "    </tr>\n",
       "    <tr>\n",
       "      <th>TCF3</th>\n",
       "      <td>0.261105</td>\n",
       "    </tr>\n",
       "    <tr>\n",
       "      <th>LEF1</th>\n",
       "      <td>0.253163</td>\n",
       "    </tr>\n",
       "    <tr>\n",
       "      <th>MAZ</th>\n",
       "      <td>0.253037</td>\n",
       "    </tr>\n",
       "    <tr>\n",
       "      <th>MYC</th>\n",
       "      <td>0.251799</td>\n",
       "    </tr>\n",
       "    <tr>\n",
       "      <th>FOXO4</th>\n",
       "      <td>0.249877</td>\n",
       "    </tr>\n",
       "    <tr>\n",
       "      <th>PAX4</th>\n",
       "      <td>0.247906</td>\n",
       "    </tr>\n",
       "    <tr>\n",
       "      <th>PITX2</th>\n",
       "      <td>0.247768</td>\n",
       "    </tr>\n",
       "    <tr>\n",
       "      <th>HNF1A</th>\n",
       "      <td>0.247100</td>\n",
       "    </tr>\n",
       "    <tr>\n",
       "      <th>MAX</th>\n",
       "      <td>0.246380</td>\n",
       "    </tr>\n",
       "  </tbody>\n",
       "</table>\n",
       "</div>"
      ],
      "text/plain": [
       "               CC\n",
       "protein          \n",
       "CYP26A1  0.278127\n",
       "TCF3     0.261105\n",
       "LEF1     0.253163\n",
       "MAZ      0.253037\n",
       "MYC      0.251799\n",
       "FOXO4    0.249877\n",
       "PAX4     0.247906\n",
       "PITX2    0.247768\n",
       "HNF1A    0.247100\n",
       "MAX      0.246380"
      ]
     },
     "execution_count": 12,
     "metadata": {},
     "output_type": "execute_result"
    }
   ],
   "source": [
    "cc_df = pandas.DataFrame(list(zip(grn_igraph.vs[\"name\"], \n",
    "                                  closeness_centralities.tolist())),\n",
    "                        columns=[\"protein\",\"CC\"])\n",
    "cc_df = cc_df.set_index(\"protein\")\n",
    "cc_df.sort_values(\"CC\", ascending=False).head(n=10)"
   ]
  }
 ],
 "metadata": {
  "kernelspec": {
   "display_name": "Python 3",
   "language": "python",
   "name": "python3"
  },
  "language_info": {
   "codemirror_mode": {
    "name": "ipython",
    "version": 3
   },
   "file_extension": ".py",
   "mimetype": "text/x-python",
   "name": "python",
   "nbconvert_exporter": "python",
   "pygments_lexer": "ipython3",
   "version": "3.6.9"
  }
 },
 "nbformat": 4,
 "nbformat_minor": 1
}
