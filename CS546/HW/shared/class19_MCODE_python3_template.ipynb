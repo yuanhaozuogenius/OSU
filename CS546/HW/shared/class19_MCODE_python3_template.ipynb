{
 "cells": [
  {
   "cell_type": "markdown",
   "metadata": {},
   "source": [
    "# CSX46 - Class 19 - MCODE\n",
    "\n",
    "In this notebook, we will analyze a simple graph (`test.dot`) and then the Krogran network using the MCODE community detection algorithm."
   ]
  },
  {
   "cell_type": "code",
   "execution_count": 1,
   "metadata": {},
   "outputs": [],
   "source": [
    "import pygraphviz\n",
    "import igraph\n",
    "import numpy\n",
    "import pandas\n",
    "import sys\n",
    "from collections import defaultdict"
   ]
  },
  {
   "cell_type": "code",
   "execution_count": 2,
   "metadata": {},
   "outputs": [
    {
     "data": {
      "text/plain": [
       "'IGRAPH UN-- 13 26 -- \\n+ attr: name (v)'"
      ]
     },
     "execution_count": 2,
     "metadata": {},
     "output_type": "execute_result"
    }
   ],
   "source": [
    "test_graph = FILL IN HERE\n",
    "nodes = test_graph.nodes()\n",
    "edges = FILL IN HERE\n",
    "test_igraph = FILL IN HERE\n",
    "test_igraph.summary()"
   ]
  },
  {
   "cell_type": "code",
   "execution_count": 3,
   "metadata": {},
   "outputs": [
    {
     "data": {
      "image/svg+xml": [
       "<?xml version=\"1.0\" encoding=\"UTF-8\"?>\n",
       "<svg xmlns=\"http://www.w3.org/2000/svg\" xmlns:xlink=\"http://www.w3.org/1999/xlink\" width=\"250pt\" height=\"300pt\" viewBox=\"0 0 250 300\" version=\"1.1\">\n",
       "<defs>\n",
       "<g>\n",
       "<symbol overflow=\"visible\" id=\"glyph0-0\">\n",
       "<path style=\"stroke:none;\" d=\"M 0.703125 2.46875 L 0.703125 -9.875 L 7.703125 -9.875 L 7.703125 2.46875 Z M 1.484375 1.703125 L 6.921875 1.703125 L 6.921875 -9.078125 L 1.484375 -9.078125 Z M 1.484375 1.703125 \"/>\n",
       "</symbol>\n",
       "<symbol overflow=\"visible\" id=\"glyph0-1\">\n",
       "<path style=\"stroke:none;\" d=\"M 1.734375 -1.15625 L 4 -1.15625 L 4 -8.953125 L 1.53125 -8.453125 L 1.53125 -9.71875 L 3.984375 -10.203125 L 5.359375 -10.203125 L 5.359375 -1.15625 L 7.609375 -1.15625 L 7.609375 0 L 1.734375 0 Z M 1.734375 -1.15625 \"/>\n",
       "</symbol>\n",
       "<symbol overflow=\"visible\" id=\"glyph0-2\">\n",
       "<path style=\"stroke:none;\" d=\"M 2.6875 -1.15625 L 7.5 -1.15625 L 7.5 0 L 1.03125 0 L 1.03125 -1.15625 C 1.550781 -1.695312 2.265625 -2.425781 3.171875 -3.34375 C 4.078125 -4.257812 4.644531 -4.847656 4.875 -5.109375 C 5.3125 -5.609375 5.617188 -6.03125 5.796875 -6.375 C 5.972656 -6.71875 6.0625 -7.054688 6.0625 -7.390625 C 6.0625 -7.929688 5.867188 -8.375 5.484375 -8.71875 C 5.109375 -9.0625 4.613281 -9.234375 4 -9.234375 C 3.570312 -9.234375 3.117188 -9.15625 2.640625 -9 C 2.160156 -8.851562 1.644531 -8.625 1.09375 -8.3125 L 1.09375 -9.71875 C 1.644531 -9.9375 2.160156 -10.101562 2.640625 -10.21875 C 3.128906 -10.332031 3.578125 -10.390625 3.984375 -10.390625 C 5.035156 -10.390625 5.875 -10.125 6.5 -9.59375 C 7.132812 -9.070312 7.453125 -8.367188 7.453125 -7.484375 C 7.453125 -7.054688 7.375 -6.65625 7.21875 -6.28125 C 7.0625 -5.90625 6.773438 -5.460938 6.359375 -4.953125 C 6.242188 -4.828125 5.878906 -4.445312 5.265625 -3.8125 C 4.660156 -3.175781 3.800781 -2.289062 2.6875 -1.15625 Z M 2.6875 -1.15625 \"/>\n",
       "</symbol>\n",
       "<symbol overflow=\"visible\" id=\"glyph0-3\">\n",
       "<path style=\"stroke:none;\" d=\"M 4.625 -5.65625 C 4 -5.65625 3.503906 -5.441406 3.140625 -5.015625 C 2.785156 -4.585938 2.609375 -4.007812 2.609375 -3.28125 C 2.609375 -2.539062 2.785156 -1.957031 3.140625 -1.53125 C 3.503906 -1.101562 4 -0.890625 4.625 -0.890625 C 5.238281 -0.890625 5.726562 -1.101562 6.09375 -1.53125 C 6.457031 -1.957031 6.640625 -2.539062 6.640625 -3.28125 C 6.640625 -4.007812 6.457031 -4.585938 6.09375 -5.015625 C 5.726562 -5.441406 5.238281 -5.65625 4.625 -5.65625 Z M 7.359375 -9.984375 L 7.359375 -8.71875 C 7.015625 -8.882812 6.664062 -9.007812 6.3125 -9.09375 C 5.957031 -9.1875 5.609375 -9.234375 5.265625 -9.234375 C 4.347656 -9.234375 3.648438 -8.925781 3.171875 -8.3125 C 2.691406 -7.695312 2.421875 -6.765625 2.359375 -5.515625 C 2.617188 -5.910156 2.953125 -6.210938 3.359375 -6.421875 C 3.765625 -6.640625 4.210938 -6.75 4.703125 -6.75 C 5.722656 -6.75 6.53125 -6.4375 7.125 -5.8125 C 7.726562 -5.1875 8.03125 -4.34375 8.03125 -3.28125 C 8.03125 -2.226562 7.71875 -1.382812 7.09375 -0.75 C 6.476562 -0.113281 5.65625 0.203125 4.625 0.203125 C 3.4375 0.203125 2.53125 -0.25 1.90625 -1.15625 C 1.289062 -2.0625 0.984375 -3.375 0.984375 -5.09375 C 0.984375 -6.707031 1.363281 -7.992188 2.125 -8.953125 C 2.894531 -9.910156 3.921875 -10.390625 5.203125 -10.390625 C 5.554688 -10.390625 5.90625 -10.351562 6.25 -10.28125 C 6.601562 -10.21875 6.972656 -10.117188 7.359375 -9.984375 Z M 7.359375 -9.984375 \"/>\n",
       "</symbol>\n",
       "<symbol overflow=\"visible\" id=\"glyph0-4\">\n",
       "<path style=\"stroke:none;\" d=\"M 1.15625 -10.203125 L 7.71875 -10.203125 L 7.71875 -9.625 L 4 0 L 2.5625 0 L 6.046875 -9.046875 L 1.15625 -9.046875 Z M 1.15625 -10.203125 \"/>\n",
       "</symbol>\n",
       "<symbol overflow=\"visible\" id=\"glyph0-5\">\n",
       "<path style=\"stroke:none;\" d=\"M 5.296875 -9 L 1.8125 -3.5625 L 5.296875 -3.5625 Z M 4.921875 -10.203125 L 6.671875 -10.203125 L 6.671875 -3.5625 L 8.125 -3.5625 L 8.125 -2.40625 L 6.671875 -2.40625 L 6.671875 0 L 5.296875 0 L 5.296875 -2.40625 L 0.6875 -2.40625 L 0.6875 -3.734375 Z M 4.921875 -10.203125 \"/>\n",
       "</symbol>\n",
       "<symbol overflow=\"visible\" id=\"glyph0-6\">\n",
       "<path style=\"stroke:none;\" d=\"M 5.6875 -5.5 C 6.34375 -5.363281 6.851562 -5.070312 7.21875 -4.625 C 7.59375 -4.175781 7.78125 -3.625 7.78125 -2.96875 C 7.78125 -1.957031 7.429688 -1.175781 6.734375 -0.625 C 6.046875 -0.0703125 5.066406 0.203125 3.796875 0.203125 C 3.367188 0.203125 2.925781 0.15625 2.46875 0.0625 C 2.019531 -0.0195312 1.550781 -0.144531 1.0625 -0.3125 L 1.0625 -1.640625 C 1.445312 -1.421875 1.867188 -1.253906 2.328125 -1.140625 C 2.785156 -1.023438 3.257812 -0.96875 3.75 -0.96875 C 4.613281 -0.96875 5.269531 -1.132812 5.71875 -1.46875 C 6.175781 -1.8125 6.40625 -2.3125 6.40625 -2.96875 C 6.40625 -3.570312 6.191406 -4.039062 5.765625 -4.375 C 5.347656 -4.71875 4.765625 -4.890625 4.015625 -4.890625 L 2.828125 -4.890625 L 2.828125 -6.015625 L 4.078125 -6.015625 C 4.753906 -6.015625 5.269531 -6.148438 5.625 -6.421875 C 5.988281 -6.703125 6.171875 -7.097656 6.171875 -7.609375 C 6.171875 -8.128906 5.984375 -8.53125 5.609375 -8.8125 C 5.242188 -9.09375 4.710938 -9.234375 4.015625 -9.234375 C 3.640625 -9.234375 3.234375 -9.191406 2.796875 -9.109375 C 2.367188 -9.023438 1.894531 -8.894531 1.375 -8.71875 L 1.375 -9.953125 C 1.894531 -10.097656 2.382812 -10.207031 2.84375 -10.28125 C 3.300781 -10.351562 3.734375 -10.390625 4.140625 -10.390625 C 5.191406 -10.390625 6.019531 -10.148438 6.625 -9.671875 C 7.238281 -9.203125 7.546875 -8.5625 7.546875 -7.75 C 7.546875 -7.175781 7.382812 -6.695312 7.0625 -6.3125 C 6.738281 -5.925781 6.28125 -5.65625 5.6875 -5.5 Z M 5.6875 -5.5 \"/>\n",
       "</symbol>\n",
       "<symbol overflow=\"visible\" id=\"glyph0-7\">\n",
       "<path style=\"stroke:none;\" d=\"M 1.515625 -10.203125 L 6.9375 -10.203125 L 6.9375 -9.046875 L 2.78125 -9.046875 L 2.78125 -6.546875 C 2.976562 -6.609375 3.175781 -6.65625 3.375 -6.6875 C 3.570312 -6.726562 3.773438 -6.75 3.984375 -6.75 C 5.117188 -6.75 6.019531 -6.4375 6.6875 -5.8125 C 7.351562 -5.1875 7.6875 -4.34375 7.6875 -3.28125 C 7.6875 -2.175781 7.34375 -1.316406 6.65625 -0.703125 C 5.976562 -0.0976562 5.015625 0.203125 3.765625 0.203125 C 3.335938 0.203125 2.898438 0.164062 2.453125 0.09375 C 2.015625 0.0195312 1.554688 -0.0859375 1.078125 -0.234375 L 1.078125 -1.625 C 1.492188 -1.40625 1.921875 -1.238281 2.359375 -1.125 C 2.796875 -1.019531 3.253906 -0.96875 3.734375 -0.96875 C 4.523438 -0.96875 5.148438 -1.171875 5.609375 -1.578125 C 6.066406 -1.992188 6.296875 -2.5625 6.296875 -3.28125 C 6.296875 -3.988281 6.066406 -4.546875 5.609375 -4.953125 C 5.148438 -5.367188 4.523438 -5.578125 3.734375 -5.578125 C 3.367188 -5.578125 3 -5.535156 2.625 -5.453125 C 2.257812 -5.378906 1.890625 -5.253906 1.515625 -5.078125 Z M 1.515625 -10.203125 \"/>\n",
       "</symbol>\n",
       "<symbol overflow=\"visible\" id=\"glyph0-8\">\n",
       "<path style=\"stroke:none;\" d=\"M 4.453125 -4.84375 C 3.796875 -4.84375 3.28125 -4.664062 2.90625 -4.3125 C 2.53125 -3.96875 2.34375 -3.488281 2.34375 -2.875 C 2.34375 -2.257812 2.53125 -1.773438 2.90625 -1.421875 C 3.28125 -1.066406 3.796875 -0.890625 4.453125 -0.890625 C 5.109375 -0.890625 5.625 -1.066406 6 -1.421875 C 6.375 -1.773438 6.5625 -2.257812 6.5625 -2.875 C 6.5625 -3.488281 6.375 -3.96875 6 -4.3125 C 5.625 -4.664062 5.109375 -4.84375 4.453125 -4.84375 Z M 3.0625 -5.4375 C 2.476562 -5.582031 2.019531 -5.859375 1.6875 -6.265625 C 1.351562 -6.671875 1.1875 -7.164062 1.1875 -7.75 C 1.1875 -8.5625 1.476562 -9.203125 2.0625 -9.671875 C 2.644531 -10.148438 3.441406 -10.390625 4.453125 -10.390625 C 5.460938 -10.390625 6.257812 -10.148438 6.84375 -9.671875 C 7.425781 -9.203125 7.71875 -8.5625 7.71875 -7.75 C 7.71875 -7.164062 7.550781 -6.671875 7.21875 -6.265625 C 6.882812 -5.859375 6.425781 -5.582031 5.84375 -5.4375 C 6.507812 -5.28125 7.023438 -4.972656 7.390625 -4.515625 C 7.765625 -4.066406 7.953125 -3.519531 7.953125 -2.875 C 7.953125 -1.882812 7.648438 -1.125 7.046875 -0.59375 C 6.441406 -0.0625 5.578125 0.203125 4.453125 0.203125 C 3.328125 0.203125 2.460938 -0.0625 1.859375 -0.59375 C 1.253906 -1.125 0.953125 -1.882812 0.953125 -2.875 C 0.953125 -3.519531 1.140625 -4.066406 1.515625 -4.515625 C 1.890625 -4.972656 2.40625 -5.28125 3.0625 -5.4375 Z M 2.5625 -7.609375 C 2.5625 -7.085938 2.726562 -6.675781 3.0625 -6.375 C 3.394531 -6.082031 3.859375 -5.9375 4.453125 -5.9375 C 5.046875 -5.9375 5.507812 -6.082031 5.84375 -6.375 C 6.175781 -6.675781 6.34375 -7.085938 6.34375 -7.609375 C 6.34375 -8.140625 6.175781 -8.550781 5.84375 -8.84375 C 5.507812 -9.144531 5.046875 -9.296875 4.453125 -9.296875 C 3.859375 -9.296875 3.394531 -9.144531 3.0625 -8.84375 C 2.726562 -8.550781 2.5625 -8.140625 2.5625 -7.609375 Z M 2.5625 -7.609375 \"/>\n",
       "</symbol>\n",
       "<symbol overflow=\"visible\" id=\"glyph0-9\">\n",
       "<path style=\"stroke:none;\" d=\"M 1.53125 -0.21875 L 1.53125 -1.46875 C 1.882812 -1.300781 2.238281 -1.175781 2.59375 -1.09375 C 2.945312 -1.007812 3.296875 -0.96875 3.640625 -0.96875 C 4.546875 -0.96875 5.238281 -1.269531 5.71875 -1.875 C 6.207031 -2.488281 6.484375 -3.421875 6.546875 -4.671875 C 6.285156 -4.285156 5.953125 -3.984375 5.546875 -3.765625 C 5.140625 -3.554688 4.691406 -3.453125 4.203125 -3.453125 C 3.179688 -3.453125 2.367188 -3.757812 1.765625 -4.375 C 1.171875 -5 0.875 -5.847656 0.875 -6.921875 C 0.875 -7.960938 1.179688 -8.800781 1.796875 -9.4375 C 2.421875 -10.070312 3.25 -10.390625 4.28125 -10.390625 C 5.46875 -10.390625 6.367188 -9.9375 6.984375 -9.03125 C 7.609375 -8.125 7.921875 -6.8125 7.921875 -5.09375 C 7.921875 -3.488281 7.539062 -2.203125 6.78125 -1.234375 C 6.019531 -0.273438 4.992188 0.203125 3.703125 0.203125 C 3.347656 0.203125 2.992188 0.164062 2.640625 0.09375 C 2.285156 0.03125 1.914062 -0.0703125 1.53125 -0.21875 Z M 4.28125 -4.546875 C 4.90625 -4.546875 5.394531 -4.753906 5.75 -5.171875 C 6.113281 -5.597656 6.296875 -6.179688 6.296875 -6.921875 C 6.296875 -7.648438 6.113281 -8.226562 5.75 -8.65625 C 5.394531 -9.082031 4.90625 -9.296875 4.28125 -9.296875 C 3.664062 -9.296875 3.175781 -9.082031 2.8125 -8.65625 C 2.445312 -8.226562 2.265625 -7.648438 2.265625 -6.921875 C 2.265625 -6.179688 2.445312 -5.597656 2.8125 -5.171875 C 3.175781 -4.753906 3.664062 -4.546875 4.28125 -4.546875 Z M 4.28125 -4.546875 \"/>\n",
       "</symbol>\n",
       "<symbol overflow=\"visible\" id=\"glyph0-10\">\n",
       "<path style=\"stroke:none;\" d=\"M 4.453125 -9.296875 C 3.742188 -9.296875 3.207031 -8.945312 2.84375 -8.25 C 2.488281 -7.550781 2.3125 -6.5 2.3125 -5.09375 C 2.3125 -3.695312 2.488281 -2.644531 2.84375 -1.9375 C 3.207031 -1.238281 3.742188 -0.890625 4.453125 -0.890625 C 5.171875 -0.890625 5.707031 -1.238281 6.0625 -1.9375 C 6.414062 -2.644531 6.59375 -3.695312 6.59375 -5.09375 C 6.59375 -6.5 6.414062 -7.550781 6.0625 -8.25 C 5.707031 -8.945312 5.171875 -9.296875 4.453125 -9.296875 Z M 4.453125 -10.390625 C 5.597656 -10.390625 6.472656 -9.9375 7.078125 -9.03125 C 7.679688 -8.125 7.984375 -6.8125 7.984375 -5.09375 C 7.984375 -3.375 7.679688 -2.0625 7.078125 -1.15625 C 6.472656 -0.25 5.597656 0.203125 4.453125 0.203125 C 3.304688 0.203125 2.429688 -0.25 1.828125 -1.15625 C 1.222656 -2.0625 0.921875 -3.375 0.921875 -5.09375 C 0.921875 -6.8125 1.222656 -8.125 1.828125 -9.03125 C 2.429688 -9.9375 3.304688 -10.390625 4.453125 -10.390625 Z M 4.453125 -10.390625 \"/>\n",
       "</symbol>\n",
       "</g>\n",
       "</defs>\n",
       "<g id=\"surface2\">\n",
       "<rect x=\"0\" y=\"0\" width=\"250\" height=\"300\" style=\"fill:rgb(100%,100%,100%);fill-opacity:1;stroke:none;\"/>\n",
       "<path style=\"fill:none;stroke-width:1;stroke-linecap:butt;stroke-linejoin:miter;stroke:rgb(26.666667%,26.666667%,26.666667%);stroke-opacity:1;stroke-miterlimit:10;\" d=\"M 20 267.878906 L 143.496094 280 \"/>\n",
       "<path style=\"fill:none;stroke-width:1;stroke-linecap:butt;stroke-linejoin:miter;stroke:rgb(26.666667%,26.666667%,26.666667%);stroke-opacity:1;stroke-miterlimit:10;\" d=\"M 20 267.878906 L 43.011719 222.894531 \"/>\n",
       "<path style=\"fill:none;stroke-width:1;stroke-linecap:butt;stroke-linejoin:miter;stroke:rgb(26.666667%,26.666667%,26.666667%);stroke-opacity:1;stroke-miterlimit:10;\" d=\"M 20 267.878906 L 97.554688 237.195312 \"/>\n",
       "<path style=\"fill:none;stroke-width:1;stroke-linecap:butt;stroke-linejoin:miter;stroke:rgb(26.666667%,26.666667%,26.666667%);stroke-opacity:1;stroke-miterlimit:10;\" d=\"M 143.496094 280 L 97.554688 237.195312 \"/>\n",
       "<path style=\"fill:none;stroke-width:1;stroke-linecap:butt;stroke-linejoin:miter;stroke:rgb(26.666667%,26.666667%,26.666667%);stroke-opacity:1;stroke-miterlimit:10;\" d=\"M 143.496094 280 L 159.644531 234.199219 \"/>\n",
       "<path style=\"fill:none;stroke-width:1;stroke-linecap:butt;stroke-linejoin:miter;stroke:rgb(26.666667%,26.666667%,26.666667%);stroke-opacity:1;stroke-miterlimit:10;\" d=\"M 143.496094 280 L 83.566406 270.992188 \"/>\n",
       "<path style=\"fill:none;stroke-width:1;stroke-linecap:butt;stroke-linejoin:miter;stroke:rgb(26.666667%,26.666667%,26.666667%);stroke-opacity:1;stroke-miterlimit:10;\" d=\"M 43.011719 222.894531 L 97.554688 237.195312 \"/>\n",
       "<path style=\"fill:none;stroke-width:1;stroke-linecap:butt;stroke-linejoin:miter;stroke:rgb(26.666667%,26.666667%,26.666667%);stroke-opacity:1;stroke-miterlimit:10;\" d=\"M 43.011719 222.894531 L 159.644531 234.199219 \"/>\n",
       "<path style=\"fill:none;stroke-width:1;stroke-linecap:butt;stroke-linejoin:miter;stroke:rgb(26.666667%,26.666667%,26.666667%);stroke-opacity:1;stroke-miterlimit:10;\" d=\"M 97.554688 237.195312 L 159.644531 234.199219 \"/>\n",
       "<path style=\"fill:none;stroke-width:1;stroke-linecap:butt;stroke-linejoin:miter;stroke:rgb(26.666667%,26.666667%,26.666667%);stroke-opacity:1;stroke-miterlimit:10;\" d=\"M 159.644531 234.199219 L 117.171875 191.730469 \"/>\n",
       "<path style=\"fill:none;stroke-width:1;stroke-linecap:butt;stroke-linejoin:miter;stroke:rgb(26.666667%,26.666667%,26.666667%);stroke-opacity:1;stroke-miterlimit:10;\" d=\"M 43.011719 222.894531 L 83.566406 270.992188 \"/>\n",
       "<path style=\"fill:none;stroke-width:1;stroke-linecap:butt;stroke-linejoin:miter;stroke:rgb(26.666667%,26.666667%,26.666667%);stroke-opacity:1;stroke-miterlimit:10;\" d=\"M 97.554688 237.195312 L 83.566406 270.992188 \"/>\n",
       "<path style=\"fill:none;stroke-width:1;stroke-linecap:butt;stroke-linejoin:miter;stroke:rgb(26.666667%,26.666667%,26.666667%);stroke-opacity:1;stroke-miterlimit:10;\" d=\"M 159.644531 234.199219 L 83.566406 270.992188 \"/>\n",
       "<path style=\"fill:none;stroke-width:1;stroke-linecap:butt;stroke-linejoin:miter;stroke:rgb(26.666667%,26.666667%,26.666667%);stroke-opacity:1;stroke-miterlimit:10;\" d=\"M 43.011719 222.894531 L 117.171875 191.730469 \"/>\n",
       "<path style=\"fill:none;stroke-width:1;stroke-linecap:butt;stroke-linejoin:miter;stroke:rgb(26.666667%,26.666667%,26.666667%);stroke-opacity:1;stroke-miterlimit:10;\" d=\"M 97.554688 237.195312 L 117.171875 191.730469 \"/>\n",
       "<path style=\"fill:none;stroke-width:1;stroke-linecap:butt;stroke-linejoin:miter;stroke:rgb(26.666667%,26.666667%,26.666667%);stroke-opacity:1;stroke-miterlimit:10;\" d=\"M 117.171875 191.730469 L 136.878906 146.03125 \"/>\n",
       "<path style=\"fill:none;stroke-width:1;stroke-linecap:butt;stroke-linejoin:miter;stroke:rgb(26.666667%,26.666667%,26.666667%);stroke-opacity:1;stroke-miterlimit:10;\" d=\"M 136.878906 146.03125 L 156.027344 100.472656 \"/>\n",
       "<path style=\"fill:none;stroke-width:1;stroke-linecap:butt;stroke-linejoin:miter;stroke:rgb(26.666667%,26.666667%,26.666667%);stroke-opacity:1;stroke-miterlimit:10;\" d=\"M 156.027344 100.472656 L 230 66.757812 \"/>\n",
       "<path style=\"fill:none;stroke-width:1;stroke-linecap:butt;stroke-linejoin:miter;stroke:rgb(26.666667%,26.666667%,26.666667%);stroke-opacity:1;stroke-miterlimit:10;\" d=\"M 156.027344 100.472656 L 115.550781 55.664062 \"/>\n",
       "<path style=\"fill:none;stroke-width:1;stroke-linecap:butt;stroke-linejoin:miter;stroke:rgb(26.666667%,26.666667%,26.666667%);stroke-opacity:1;stroke-miterlimit:10;\" d=\"M 156.027344 100.472656 L 173.945312 58.40625 \"/>\n",
       "<path style=\"fill:none;stroke-width:1;stroke-linecap:butt;stroke-linejoin:miter;stroke:rgb(26.666667%,26.666667%,26.666667%);stroke-opacity:1;stroke-miterlimit:10;\" d=\"M 230 66.757812 L 115.550781 55.664062 \"/>\n",
       "<path style=\"fill:none;stroke-width:1;stroke-linecap:butt;stroke-linejoin:miter;stroke:rgb(26.666667%,26.666667%,26.666667%);stroke-opacity:1;stroke-miterlimit:10;\" d=\"M 230 66.757812 L 173.945312 58.40625 \"/>\n",
       "<path style=\"fill:none;stroke-width:1;stroke-linecap:butt;stroke-linejoin:miter;stroke:rgb(26.666667%,26.666667%,26.666667%);stroke-opacity:1;stroke-miterlimit:10;\" d=\"M 230 66.757812 L 190.308594 20 \"/>\n",
       "<path style=\"fill:none;stroke-width:1;stroke-linecap:butt;stroke-linejoin:miter;stroke:rgb(26.666667%,26.666667%,26.666667%);stroke-opacity:1;stroke-miterlimit:10;\" d=\"M 115.550781 55.664062 L 173.945312 58.40625 \"/>\n",
       "<path style=\"fill:none;stroke-width:1;stroke-linecap:butt;stroke-linejoin:miter;stroke:rgb(26.666667%,26.666667%,26.666667%);stroke-opacity:1;stroke-miterlimit:10;\" d=\"M 115.550781 55.664062 L 190.308594 20 \"/>\n",
       "<path style=\"fill:none;stroke-width:1;stroke-linecap:butt;stroke-linejoin:miter;stroke:rgb(26.666667%,26.666667%,26.666667%);stroke-opacity:1;stroke-miterlimit:10;\" d=\"M 173.945312 58.40625 L 190.308594 20 \"/>\n",
       "<path style=\"fill-rule:nonzero;fill:rgb(100%,0%,0%);fill-opacity:1;stroke-width:1;stroke-linecap:butt;stroke-linejoin:miter;stroke:rgb(0%,0%,0%);stroke-opacity:1;stroke-miterlimit:10;\" d=\"M 30 267.878906 C 30 273.402344 25.523438 277.878906 20 277.878906 C 14.476562 277.878906 10 273.402344 10 267.878906 C 10 262.355469 14.476562 257.878906 20 257.878906 C 25.523438 257.878906 30 262.355469 30 267.878906 \"/>\n",
       "<path style=\"fill-rule:nonzero;fill:rgb(100%,0%,0%);fill-opacity:1;stroke-width:1;stroke-linecap:butt;stroke-linejoin:miter;stroke:rgb(0%,0%,0%);stroke-opacity:1;stroke-miterlimit:10;\" d=\"M 153.496094 280 C 153.496094 285.523438 149.019531 290 143.496094 290 C 137.972656 290 133.496094 285.523438 133.496094 280 C 133.496094 274.476562 137.972656 270 143.496094 270 C 149.019531 270 153.496094 274.476562 153.496094 280 \"/>\n",
       "<path style=\"fill-rule:nonzero;fill:rgb(100%,0%,0%);fill-opacity:1;stroke-width:1;stroke-linecap:butt;stroke-linejoin:miter;stroke:rgb(0%,0%,0%);stroke-opacity:1;stroke-miterlimit:10;\" d=\"M 53.011719 222.894531 C 53.011719 228.417969 48.535156 232.894531 43.011719 232.894531 C 37.488281 232.894531 33.011719 228.417969 33.011719 222.894531 C 33.011719 217.371094 37.488281 212.894531 43.011719 212.894531 C 48.535156 212.894531 53.011719 217.371094 53.011719 222.894531 \"/>\n",
       "<path style=\"fill-rule:nonzero;fill:rgb(100%,0%,0%);fill-opacity:1;stroke-width:1;stroke-linecap:butt;stroke-linejoin:miter;stroke:rgb(0%,0%,0%);stroke-opacity:1;stroke-miterlimit:10;\" d=\"M 107.554688 237.195312 C 107.554688 242.71875 103.078125 247.195312 97.554688 247.195312 C 92.03125 247.195312 87.554688 242.71875 87.554688 237.195312 C 87.554688 231.671875 92.03125 227.195312 97.554688 227.195312 C 103.078125 227.195312 107.554688 231.671875 107.554688 237.195312 \"/>\n",
       "<path style=\"fill-rule:nonzero;fill:rgb(100%,0%,0%);fill-opacity:1;stroke-width:1;stroke-linecap:butt;stroke-linejoin:miter;stroke:rgb(0%,0%,0%);stroke-opacity:1;stroke-miterlimit:10;\" d=\"M 169.644531 234.199219 C 169.644531 239.722656 165.167969 244.199219 159.644531 244.199219 C 154.121094 244.199219 149.644531 239.722656 149.644531 234.199219 C 149.644531 228.675781 154.121094 224.199219 159.644531 224.199219 C 165.167969 224.199219 169.644531 228.675781 169.644531 234.199219 \"/>\n",
       "<path style=\"fill-rule:nonzero;fill:rgb(100%,0%,0%);fill-opacity:1;stroke-width:1;stroke-linecap:butt;stroke-linejoin:miter;stroke:rgb(0%,0%,0%);stroke-opacity:1;stroke-miterlimit:10;\" d=\"M 93.566406 270.992188 C 93.566406 276.515625 89.089844 280.992188 83.566406 280.992188 C 78.046875 280.992188 73.566406 276.515625 73.566406 270.992188 C 73.566406 265.46875 78.046875 260.992188 83.566406 260.992188 C 89.089844 260.992188 93.566406 265.46875 93.566406 270.992188 \"/>\n",
       "<path style=\"fill-rule:nonzero;fill:rgb(100%,0%,0%);fill-opacity:1;stroke-width:1;stroke-linecap:butt;stroke-linejoin:miter;stroke:rgb(0%,0%,0%);stroke-opacity:1;stroke-miterlimit:10;\" d=\"M 127.171875 191.730469 C 127.171875 197.253906 122.695312 201.730469 117.171875 201.730469 C 111.648438 201.730469 107.171875 197.253906 107.171875 191.730469 C 107.171875 186.207031 111.648438 181.730469 117.171875 181.730469 C 122.695312 181.730469 127.171875 186.207031 127.171875 191.730469 \"/>\n",
       "<path style=\"fill-rule:nonzero;fill:rgb(100%,0%,0%);fill-opacity:1;stroke-width:1;stroke-linecap:butt;stroke-linejoin:miter;stroke:rgb(0%,0%,0%);stroke-opacity:1;stroke-miterlimit:10;\" d=\"M 146.878906 146.03125 C 146.878906 151.554688 142.398438 156.03125 136.878906 156.03125 C 131.355469 156.03125 126.878906 151.554688 126.878906 146.03125 C 126.878906 140.511719 131.355469 136.03125 136.878906 136.03125 C 142.398438 136.03125 146.878906 140.511719 146.878906 146.03125 \"/>\n",
       "<path style=\"fill-rule:nonzero;fill:rgb(100%,0%,0%);fill-opacity:1;stroke-width:1;stroke-linecap:butt;stroke-linejoin:miter;stroke:rgb(0%,0%,0%);stroke-opacity:1;stroke-miterlimit:10;\" d=\"M 166.027344 100.472656 C 166.027344 105.996094 161.550781 110.472656 156.027344 110.472656 C 150.507812 110.472656 146.027344 105.996094 146.027344 100.472656 C 146.027344 94.949219 150.507812 90.472656 156.027344 90.472656 C 161.550781 90.472656 166.027344 94.949219 166.027344 100.472656 \"/>\n",
       "<path style=\"fill-rule:nonzero;fill:rgb(100%,0%,0%);fill-opacity:1;stroke-width:1;stroke-linecap:butt;stroke-linejoin:miter;stroke:rgb(0%,0%,0%);stroke-opacity:1;stroke-miterlimit:10;\" d=\"M 240 66.757812 C 240 72.28125 235.523438 76.757812 230 76.757812 C 224.476562 76.757812 220 72.28125 220 66.757812 C 220 61.234375 224.476562 56.757812 230 56.757812 C 235.523438 56.757812 240 61.234375 240 66.757812 \"/>\n",
       "<path style=\"fill-rule:nonzero;fill:rgb(100%,0%,0%);fill-opacity:1;stroke-width:1;stroke-linecap:butt;stroke-linejoin:miter;stroke:rgb(0%,0%,0%);stroke-opacity:1;stroke-miterlimit:10;\" d=\"M 125.550781 55.664062 C 125.550781 61.1875 121.074219 65.664062 115.550781 65.664062 C 110.027344 65.664062 105.550781 61.1875 105.550781 55.664062 C 105.550781 50.140625 110.027344 45.664062 115.550781 45.664062 C 121.074219 45.664062 125.550781 50.140625 125.550781 55.664062 \"/>\n",
       "<path style=\"fill-rule:nonzero;fill:rgb(100%,0%,0%);fill-opacity:1;stroke-width:1;stroke-linecap:butt;stroke-linejoin:miter;stroke:rgb(0%,0%,0%);stroke-opacity:1;stroke-miterlimit:10;\" d=\"M 183.945312 58.40625 C 183.945312 63.929688 179.46875 68.40625 173.945312 68.40625 C 168.421875 68.40625 163.945312 63.929688 163.945312 58.40625 C 163.945312 52.882812 168.421875 48.40625 173.945312 48.40625 C 179.46875 48.40625 183.945312 52.882812 183.945312 58.40625 \"/>\n",
       "<path style=\"fill-rule:nonzero;fill:rgb(100%,0%,0%);fill-opacity:1;stroke-width:1;stroke-linecap:butt;stroke-linejoin:miter;stroke:rgb(0%,0%,0%);stroke-opacity:1;stroke-miterlimit:10;\" d=\"M 200.308594 20 C 200.308594 25.523438 195.828125 30 190.308594 30 C 184.785156 30 180.308594 25.523438 180.308594 20 C 180.308594 14.476562 184.785156 10 190.308594 10 C 195.828125 10 200.308594 14.476562 200.308594 20 \"/>\n",
       "<g style=\"fill:rgb(0%,0%,0%);fill-opacity:1;\">\n",
       "  <use xlink:href=\"#glyph0-1\" x=\"15.421875\" y=\"274.632812\"/>\n",
       "</g>\n",
       "<g style=\"fill:rgb(0%,0%,0%);fill-opacity:1;\">\n",
       "  <use xlink:href=\"#glyph0-2\" x=\"139.230469\" y=\"286.847656\"/>\n",
       "</g>\n",
       "<g style=\"fill:rgb(0%,0%,0%);fill-opacity:1;\">\n",
       "  <use xlink:href=\"#glyph0-3\" x=\"38.511719\" y=\"229.738281\"/>\n",
       "</g>\n",
       "<g style=\"fill:rgb(0%,0%,0%);fill-opacity:1;\">\n",
       "  <use xlink:href=\"#glyph0-4\" x=\"93.125\" y=\"243.949219\"/>\n",
       "</g>\n",
       "<g style=\"fill:rgb(0%,0%,0%);fill-opacity:1;\">\n",
       "  <use xlink:href=\"#glyph0-5\" x=\"155.242188\" y=\"240.953125\"/>\n",
       "</g>\n",
       "<g style=\"fill:rgb(0%,0%,0%);fill-opacity:1;\">\n",
       "  <use xlink:href=\"#glyph0-6\" x=\"79.140625\" y=\"277.839844\"/>\n",
       "</g>\n",
       "<g style=\"fill:rgb(0%,0%,0%);fill-opacity:1;\">\n",
       "  <use xlink:href=\"#glyph0-7\" x=\"112.792969\" y=\"198.484375\"/>\n",
       "</g>\n",
       "<g style=\"fill:rgb(0%,0%,0%);fill-opacity:1;\">\n",
       "  <use xlink:href=\"#glyph0-8\" x=\"132.425781\" y=\"152.878906\"/>\n",
       "</g>\n",
       "<g style=\"fill:rgb(0%,0%,0%);fill-opacity:1;\">\n",
       "  <use xlink:href=\"#glyph0-9\" x=\"151.625\" y=\"107.320312\"/>\n",
       "</g>\n",
       "<g style=\"fill:rgb(0%,0%,0%);fill-opacity:1;\">\n",
       "  <use xlink:href=\"#glyph0-1\" x=\"220.789062\" y=\"73.605469\"/>\n",
       "  <use xlink:href=\"#glyph0-10\" x=\"229.696289\" y=\"73.605469\"/>\n",
       "</g>\n",
       "<g style=\"fill:rgb(0%,0%,0%);fill-opacity:1;\">\n",
       "  <use xlink:href=\"#glyph0-1\" x=\"106.574219\" y=\"62.507812\"/>\n",
       "  <use xlink:href=\"#glyph0-2\" x=\"115.481445\" y=\"62.507812\"/>\n",
       "</g>\n",
       "<g style=\"fill:rgb(0%,0%,0%);fill-opacity:1;\">\n",
       "  <use xlink:href=\"#glyph0-1\" x=\"164.828125\" y=\"65.253906\"/>\n",
       "  <use xlink:href=\"#glyph0-6\" x=\"173.735352\" y=\"65.253906\"/>\n",
       "</g>\n",
       "<g style=\"fill:rgb(0%,0%,0%);fill-opacity:1;\">\n",
       "  <use xlink:href=\"#glyph0-1\" x=\"181.277344\" y=\"26.753906\"/>\n",
       "  <use xlink:href=\"#glyph0-1\" x=\"190.18457\" y=\"26.753906\"/>\n",
       "</g>\n",
       "</g>\n",
       "</svg>\n"
      ],
      "text/plain": [
       "<igraph.drawing.Plot at 0x7fa22789d0f0>"
      ]
     },
     "execution_count": 3,
     "metadata": {},
     "output_type": "execute_result"
    }
   ],
   "source": [
    "igraph.drawing.plot(FILL IN HERE)"
   ]
  },
  {
   "cell_type": "markdown",
   "metadata": {},
   "source": [
    "Function `mcode` takes a graph adjacency list `adj_list` and a float parameter `vwp` (vertex weight probability), and returns a list of cluster assignments (of length equal to the number of clusters).  Original code from True Price at UNC Chapel Hill [link to original code](https://github.com/trueprice/python-graph-clustering/blob/master/src/mcode.py)."
   ]
  },
  {
   "cell_type": "code",
   "execution_count": 4,
   "metadata": {},
   "outputs": [],
   "source": [
    "def mcode(adj_list, vwp):\n",
    "  \n",
    "  # Stage 1: Vertex Weighting\n",
    "  N = len(adj_list)\n",
    "  edges = [[]]*N\n",
    "  weights = dict((v, 1.) for v in range(0,N))\n",
    "\n",
    "  edges=defaultdict(set)\n",
    "  for i in range(0,N):\n",
    "    edges[i] = # MAKE A SET FROM adj_list[i]\n",
    "    \n",
    "  res_clusters = []\n",
    "\n",
    "  for i,v in enumerate(edges):\n",
    "    neighborhood = # union of set((v,)) and edges[v]\n",
    "    # if node has only one neighbor, we know everything we need to know\n",
    "    if len(neighborhood) <= 2: continue\n",
    "\n",
    "    k = 1 \n",
    "    while neighborhood:\n",
    "      k_core = # copy neighborhood object\n",
    "      invalid_nodes = True\n",
    "      while invalid_nodes and neighborhood:\n",
    "        invalid_nodes = set(\n",
    "          n for n in neighborhood if len(edges[n] & neighborhood) <= k)\n",
    "        # remove invalid_nodes from neighborhood\n",
    "      #increment k by one\n",
    "    # vertex weight = k-core number * density of k-core\n",
    "    weights[v] = (k-1) * (sum(len(edges[n] & k_core) for n in k_core) / \n",
    "      (2. * len(k_core)**2))\n",
    "\n",
    "  # Stage 2: Molecular Complex Prediction\n",
    "  unvisited = set(edges)\n",
    "  num_clusters = 0\n",
    "  for seed in sorted(weights, key=weights.get, reverse=True):\n",
    "    if seed not in unvisited: continue\n",
    "\n",
    "    cluster, frontier = set((seed,)), set((seed,))\n",
    "    w = weights[seed] * vwp\n",
    "    while frontier:\n",
    "      cluster.update(frontier)\n",
    "      # remove frontier from unvisited\n",
    "      frontier_plus_neighbors = set.union(*(edges[n] for n in frontier))\n",
    "      frontier = set(        \n",
    "        n for n in frontier_plus_neighbors & unvisited if weights[n] > w)\n",
    "\n",
    "    # haircut: only keep 2-core complexes\n",
    "    invalid_nodes = True\n",
    "    while invalid_nodes and cluster:\n",
    "      invalid_nodes = set(n for n in cluster if len(edges[n] & cluster) < 2)\n",
    "      # remove invalid_nodes from cluster\n",
    "\n",
    "    if cluster:\n",
    "      # make a list from `cluster` and add that list to `res_clusters`\n",
    "      num_clusters += 1\n",
    "\n",
    "  return(res_clusters)"
   ]
  },
  {
   "cell_type": "markdown",
   "metadata": {},
   "source": [
    "Run mcode on the adjacency list for your toy graph, with vwp=0.8. How many clusters did it find? Do the cluster memberships make sense?"
   ]
  },
  {
   "cell_type": "code",
   "execution_count": 5,
   "metadata": {},
   "outputs": [
    {
     "data": {
      "text/plain": [
       "[[1, 2, 3, 4, 5, 6], [8, 9, 10, 11, 12]]"
      ]
     },
     "execution_count": 5,
     "metadata": {},
     "output_type": "execute_result"
    }
   ],
   "source": []
  },
  {
   "cell_type": "markdown",
   "metadata": {},
   "source": [
    "Load the Krogan et al. network edge-list data as a Pandas data frame"
   ]
  },
  {
   "cell_type": "code",
   "execution_count": 6,
   "metadata": {},
   "outputs": [],
   "source": [
    "edge_list = pandas.read_csv(\"shared/krogan.sif\",\n",
    "                                 sep=\"\\t\", \n",
    "                                 names=[\"protein1\",\"protein2\"])"
   ]
  },
  {
   "cell_type": "markdown",
   "metadata": {},
   "source": [
    "Make an igraph graph and print its summary"
   ]
  },
  {
   "cell_type": "code",
   "execution_count": 7,
   "metadata": {},
   "outputs": [
    {
     "data": {
      "text/plain": [
       "'IGRAPH UN-- 2674 7079 -- \\n+ attr: name (v)'"
      ]
     },
     "execution_count": 7,
     "metadata": {},
     "output_type": "execute_result"
    }
   ],
   "source": [
    "krogan_graph = FILL IN HERE\n",
    "krogan_graph.summary()"
   ]
  },
  {
   "cell_type": "markdown",
   "metadata": {},
   "source": [
    "Run mcode on your graph with vwp=0.1"
   ]
  },
  {
   "cell_type": "code",
   "execution_count": 8,
   "metadata": {},
   "outputs": [],
   "source": [
    "res = FILL IN HERE"
   ]
  },
  {
   "cell_type": "markdown",
   "metadata": {},
   "source": [
    "Get the cluster sizes"
   ]
  },
  {
   "cell_type": "code",
   "execution_count": 9,
   "metadata": {},
   "outputs": [
    {
     "data": {
      "text/plain": [
       "[635, 541, 4, 3, 5, 3, 4, 3, 3, 3, 3, 3]"
      ]
     },
     "execution_count": 9,
     "metadata": {},
     "output_type": "execute_result"
    }
   ],
   "source": [
    "FILL IN HERE"
   ]
  }
 ],
 "metadata": {
  "kernelspec": {
   "display_name": "Python 3",
   "language": "python",
   "name": "python3"
  },
  "language_info": {
   "codemirror_mode": {
    "name": "ipython",
    "version": 3
   },
   "file_extension": ".py",
   "mimetype": "text/x-python",
   "name": "python",
   "nbconvert_exporter": "python",
   "pygments_lexer": "ipython3",
   "version": "3.6.9"
  }
 },
 "nbformat": 4,
 "nbformat_minor": 2
}
