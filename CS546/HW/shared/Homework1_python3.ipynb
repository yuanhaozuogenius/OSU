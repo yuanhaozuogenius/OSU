{
 "cells": [
  {
   "cell_type": "markdown",
   "metadata": {},
   "source": [
    "# CSX46 Homework 1"
   ]
  },
  {
   "cell_type": "markdown",
   "metadata": {},
   "source": [
    "The human metabolic network is made available in edge-list format in a two-column tab-delimited text file `shared/hsmetnet.txt`.  In case you want to check that you have a complete and uncorrupted version of the file, here is it's MD5 checksum: `50bc7295c1f727cdc5867e4853a27583`. An example of the `hsmetnet.txt` file format is shown here:\n",
    "```\n",
    "alkylated DNA   REACTION1\n",
    "REACTION1       DNAn\n",
    "REACTION1       alkylated nucleobase\n",
    "acetyl-CoA      REACTION2\n",
    "1-alkyl-2-lyso-sn-glycero-3-phosphocholine      REACTION2\n",
    "REACTION2       1-alkyl-2-acetyl-sn-glycero-3-phosphocholine\n",
    "REACTION2       coenzyme A\n",
    "deoxyribonucleoside triphosphate        REACTION3\n",
    "(deoxynucleotides)(n)   REACTION3\n",
    "```\n",
    "You will see that there are two types of nodes; nodes that start with `REACTION` and nodes that do not. The former represent chemical *reactions*, and the latter represent *metabolites*. This graph is directed, so the ordering of the nodes is important; a row of the form\n",
    "```\n",
    "some-metabolite    REACTION523\n",
    "```\n",
    "is saying that metabolite `some-metabolite` is an *input* to (i.e., a reactant for) reaction `REACTION523`. Conversely, a row of the form\n",
    "```\n",
    "REACTION634    another-metabolite\n",
    "```\n",
    "is saying that metabolite `another-metabolite` is an *output* of (i.e., a product of) reaction `REACTION634`. A graph with two classes of nodes (and for which the only allowed edges are *between* nodes of the two classes, never *among* nodes of a single class) is called *bipartite*. So in this homework assignment we will be analyzing the human metabolic network as a bipartite graph.\n",
    "\n",
    "You will need to submit your homework assignment as either a Jupyter notebook (preferred) or a PDF of a report showing both code *and* results from running the code. "
   ]
  },
  {
   "cell_type": "markdown",
   "metadata": {},
   "source": [
    "Your first step is to read in the metabolic network as an edge-list (hint: use `read_csv` from `pandas`). Name the two columns `source` and `target`. Make sure to drop duplicate rows!"
   ]
  },
  {
   "cell_type": "code",
   "execution_count": 17,
   "metadata": {},
   "outputs": [],
   "source": [
    "import pandas\n",
    "bipartite_df = pandas.read_csv(\"shared/hsmetnet.txt\",\n",
    "                           sep=\"\\t\",\n",
    "                           names=[\"source\",\"target\"]).drop_duplicates()"
   ]
  },
  {
   "cell_type": "markdown",
   "metadata": {},
   "source": [
    "Next, you will want to construct a list of the names of all vertices and construct a list of indexes of vertices that are metabolites (hint: use `Graph.TupleList` with `directed=True`; you can use  `.values.tolist()` on the Pandas dataframe"
   ]
  },
  {
   "cell_type": "code",
   "execution_count": 18,
   "metadata": {},
   "outputs": [
    {
     "data": {
      "text/plain": [
       "'IGRAPH DN-- 7879 19537 -- \\n+ attr: name (v)'"
      ]
     },
     "execution_count": 18,
     "metadata": {},
     "output_type": "execute_result"
    }
   ],
   "source": [
    "import igraph\n",
    "from igraph import Graph\n",
    "bipartite_graph = Graph.TupleList(bipartite_df[[\"source\",\"target\"]].values.tolist(),\n",
    "                                 directed=True)\n",
    "bipartite_graph.summary()"
   ]
  },
  {
   "cell_type": "markdown",
   "metadata": {},
   "source": [
    "Questions for you: *how many distinct metabolites are there in the graph?* *How many reactions?* *How many edges are there?* \n",
    "\n",
    "(hint: use list comprehension, `in`, `for`, `len`, `str`, `set`, and `shape`)\n",
    "\n"
   ]
  },
  {
   "cell_type": "code",
   "execution_count": 19,
   "metadata": {},
   "outputs": [
    {
     "name": "stdout",
     "output_type": "stream",
     "text": [
      "number of distinct metabolites in the graph: 2340\n",
      "number of distinct reactions in the graph: 5539\n",
      "number of edges in the graph: 19537\n"
     ]
    }
   ],
   "source": [
    "vertex_names = bipartite_graph.vs[\"name\"]\n",
    "reaction_names = [vertex_name for vertex_name in vertex_names if \"REACTION\" in vertex_name]\n",
    "reaction_names_set = set(reaction_names)\n",
    "metabolite_names = [vertex_name for vertex_name in vertex_names if not (vertex_name in reaction_names_set)]\n",
    "print(\"number of distinct metabolites in the graph: \" + str(len(metabolite_names)))\n",
    "print(\"number of distinct reactions in the graph: \" + str(len(reaction_names)))\n",
    "print(\"number of edges in the graph: \" + str(bipartite_df.shape[0]))"
   ]
  },
  {
   "cell_type": "markdown",
   "metadata": {},
   "source": [
    "Question for you: *In this graph, what are the top six metabolites in terms of vertex degree?* \n",
    "\n",
    "(hint: use list comprehension, `for`, `enumerate`, `sorted` (with `reverse=True`), and `lambda` or `itemgetter`)\n",
    "\n",
    "Thank you to Lindsey Kvarfordt for helping revise this code (SAR)"
   ]
  },
  {
   "cell_type": "code",
   "execution_count": 25,
   "metadata": {},
   "outputs": [
    {
     "data": {
      "text/plain": [
       "{'ATP': 1202,\n",
       " 'ADP': 967,\n",
       " 'phosphate': 562,\n",
       " '[protein] (L-serine/L-threonine) phosphate': 383,\n",
       " '[protein]-(L-serine/L-threonine)': 383,\n",
       " 'coenzyme A': 379}"
      ]
     },
     "execution_count": 25,
     "metadata": {},
     "output_type": "execute_result"
    }
   ],
   "source": [
    "metabolite_names_set = set(metabolite_names)\n",
    "vertex_degrees = bipartite_graph.degree()\n",
    "metabolite_inds = [index for index, vname in enumerate(vertex_names) if vname in metabolite_names_set]\n",
    "metabolite_degrees = [vertex_degrees[i] for i in metabolite_inds]\n",
    "sorted_metabolites = [i[0] for i in sorted(enumerate(metabolite_degrees), \n",
    "                          key=lambda x:x[1],\n",
    "                          reverse=True)]\n",
    "{ metabolite_names[metabolite_id]: metabolite_degrees[metabolite_id] for metabolite_id in sorted_metabolites[0:6] }"
   ]
  },
  {
   "cell_type": "markdown",
   "metadata": {},
   "source": [
    "Assignment for you: *Plot the distribution of the degrees of these vertices, on log-log scale.*  \n",
    "\n",
    "(hint: use `degree_distribution` in igraph, with `vertices=metabolite_inds`; use the `.bins()` method to get the bin counts out; you can use `matplotlib.pyplot.loglog` to plot). As your \"x\" coordinate, please use the `left` element of the histogram bins (see the Class 3 degree distance python notebook)."
   ]
  },
  {
   "cell_type": "code",
   "execution_count": 6,
   "metadata": {},
   "outputs": [
    {
     "data": {
      "image/png": "[encoded data removed]",
      "text/plain": [
       "<Figure size 432x288 with 1 Axes>"
      ]
     },
     "metadata": {
      "needs_background": "light"
     },
     "output_type": "display_data"
    }
   ],
   "source": [
    "import matplotlib\n",
    "import matplotlib.pyplot\n",
    "metab_degree_dist = bipartite_graph.degree_distribution(vertices=metabolite_inds)\n",
    "xs, ys = zip(*[(left, count) for left, _, count in metab_degree_dist.bins() if count > 0])\n",
    "matplotlib.pyplot.loglog(xs, ys)\n",
    "matplotlib.pyplot.xlabel(\"k\")\n",
    "matplotlib.pyplot.ylabel(\"N(k)\")\n",
    "matplotlib.pyplot.show()"
   ]
  },
  {
   "cell_type": "code",
   "execution_count": 7,
   "metadata": {},
   "outputs": [
    {
     "data": {
      "text/plain": [
       "1202"
      ]
     },
     "execution_count": 7,
     "metadata": {},
     "output_type": "execute_result"
    }
   ],
   "source": [
    "len(list(metab_degree_dist.bins()))"
   ]
  },
  {
   "cell_type": "markdown",
   "metadata": {},
   "source": [
    "Question: *what is the exponent α of the best-fit power-law to the degree distribution?* \n",
    "\n",
    "(hint: use `igraph.statistics.power_law_fit`)"
   ]
  },
  {
   "cell_type": "code",
   "execution_count": 8,
   "metadata": {},
   "outputs": [
    {
     "name": "stdout",
     "output_type": "stream",
     "text": [
      "2.02\n"
     ]
    }
   ],
   "source": [
    "alpha = igraph.statistics.power_law_fit(metabolite_degrees).alpha\n",
    "print(\"%.2f\" % alpha)"
   ]
  },
  {
   "cell_type": "markdown",
   "metadata": {},
   "source": [
    "Questions to answer: *How does the α that you get compare to the estimate of the power-law exponent reported by Jeong et al. in their 2000 article in Nature, “The large-scale organization of metabolic networks” (vol. 407, pp. 651–654) (see page 14 of reading-for-class-06.pdf)? Based on structure of the network that you analyzed (bipartite, containing reactions) vs. the structure of the network that they analyzed (network projected to a network containing only metabolites), is it appropriate to compare the exponents? Why or why not?*"
   ]
  },
  {
   "cell_type": "markdown",
   "metadata": {},
   "source": [
    "Task:  *Calculate the shortest-path-lengths between all pairs of metabolites (vertices) in the giant weakly connected component of the graph, treating the graph as if it were undirected.*  \n",
    "\n",
    "(hint: use `clusters` with `mode=weak` to get the giant weakly-connected component; then use `components.membership` and `enumerate` to get the giant component members; then use `igraph.shortest_paths` with `mode=igraph.ALL`, with\n",
    "`source=<metabolite_vertex_indices>` and `target=<metabolite_vertex_indices>` to get the\n",
    "all-pairs-shortest-paths.)"
   ]
  },
  {
   "cell_type": "code",
   "execution_count": 9,
   "metadata": {},
   "outputs": [],
   "source": [
    "components = bipartite_graph.clusters(mode=\"weak\")\n",
    "metabolite_inds_giant_component =  [index for index, item in enumerate(components.membership) if item==0 and index in metabolite_inds]"
   ]
  },
  {
   "cell_type": "code",
   "execution_count": 10,
   "metadata": {},
   "outputs": [],
   "source": [
    "apsp_distances = bipartite_graph.shortest_paths(source=metabolite_inds_giant_component,\n",
    "                                                target=metabolite_inds_giant_component,\n",
    "                                                mode=igraph.ALL)"
   ]
  },
  {
   "cell_type": "markdown",
   "metadata": {},
   "source": [
    "Using the all-pairs distances that you just obtained, calculate the average for all pairs of metabolites in the giant (weakly connected) component of the network, by throwing away any distance value if it is infinite or zero.\n",
    "\n",
    "Question: *What is the average distance that you calculated*?\n",
    "\n",
    "(hint: Use `numpy.array`, `numpy.isfinite` and `numpy.mean` to get the mean distance; throw away any shortest-paths distance value if it is infinite.)"
   ]
  },
  {
   "cell_type": "code",
   "execution_count": 11,
   "metadata": {},
   "outputs": [
    {
     "name": "stdout",
     "output_type": "stream",
     "text": [
      "6.80\n"
     ]
    }
   ],
   "source": [
    "import numpy\n",
    "apsp_np = numpy.array([item for sublist in apsp_distances for item in sublist])\n",
    "avg_dist = numpy.mean(apsp_np[apsp_np > 0 & numpy.isfinite(apsp_np)])\n",
    "print(\"%.2f\" % avg_dist)"
   ]
  },
  {
   "cell_type": "markdown",
   "metadata": {},
   "source": [
    "Also using the all-pairs distances that you previously obtained, calculate the maximum  (throwing away infinite values, as before) in the giant (weakly connected) component of the network (i.e., you are calculating the diameter of the giant component, according to Newman's definition of diameter). \n",
    "\n",
    "Question: *What is the maximum distance that you calculated?* \n",
    "\n",
    "(hint: use `numpy.max` and `numpy.isfinite`; Note, you are calculating the diameter of the giant component)"
   ]
  },
  {
   "cell_type": "code",
   "execution_count": 12,
   "metadata": {},
   "outputs": [
    {
     "data": {
      "text/plain": [
       "18"
      ]
     },
     "execution_count": 12,
     "metadata": {},
     "output_type": "execute_result"
    }
   ],
   "source": [
    "numpy.max(apsp_np[apsp_np > 0 & numpy.isfinite(apsp_np)])"
   ]
  },
  {
   "cell_type": "markdown",
   "metadata": {},
   "source": [
    "Question:  *Why are the average geodesic distances that we get, roughly twice those reported in Fig. 3b of Jeong et al., 2000?*"
   ]
  },
  {
   "cell_type": "markdown",
   "metadata": {},
   "source": [
    "Calculate the shortest-paths betweenness centrality for all metabolites in the directed network.  (hint: use the `betweenness` function with the `v=<vector of vertex indices>` option, with `directed=True`)"
   ]
  },
  {
   "cell_type": "code",
   "execution_count": 13,
   "metadata": {},
   "outputs": [],
   "source": [
    "bc = bipartite_graph.betweenness(vertices=metabolite_inds, directed=True)"
   ]
  },
  {
   "cell_type": "markdown",
   "metadata": {},
   "source": [
    "Task: *plot the scatter plot of betweenness centrality vs. vertex degree for all metabolites, on log-log scale.* \n",
    "\n",
    "(hint:  use `numpy.array`, `numpy.where`, and `matplotlib.pyplot.scatter`)"
   ]
  },
  {
   "cell_type": "code",
   "execution_count": 14,
   "metadata": {
    "scrolled": true
   },
   "outputs": [
    {
     "data": {
      "image/png": "[encoded data removed]",
      "text/plain": [
       "<Figure size 432x288 with 1 Axes>"
      ]
     },
     "metadata": {
      "needs_background": "light"
     },
     "output_type": "display_data"
    }
   ],
   "source": [
    "ax = matplotlib.pyplot.gca()\n",
    "ax.set_xscale(\"log\")\n",
    "ax.set_yscale(\"log\")\n",
    "degrees = numpy.array(metabolite_degrees)\n",
    "bcnp = numpy.array(bc)\n",
    "Nmp = len(metabolite_inds)\n",
    "inds_keep = numpy.where(bcnp > 1e-38)\n",
    "ax.scatter(degrees[inds_keep], \n",
    "           bcnp[inds_keep]/((Nmp-1)*(Nmp-2)))\n",
    "matplotlib.pyplot.xlabel(\"degree\")\n",
    "matplotlib.pyplot.ylabel(\"betweenness centrality\")\n",
    "matplotlib.pyplot.ylim(1e-8, 100)\n",
    "matplotlib.pyplot.xlim(1, 1e+4)\n",
    "matplotlib.pyplot.show()"
   ]
  },
  {
   "cell_type": "markdown",
   "metadata": {},
   "source": [
    "Question: *Among metabolites with degree k=2 , what metabolite has highest betweenness centrality in the network?* \n",
    "\n",
    "(hint:  use `numpy.argmax` and `numpy.where`"
   ]
  },
  {
   "cell_type": "code",
   "execution_count": 15,
   "metadata": {},
   "outputs": [
    {
     "data": {
      "text/plain": [
       "'L-arginino-succinate'"
      ]
     },
     "execution_count": 15,
     "metadata": {},
     "output_type": "execute_result"
    }
   ],
   "source": [
    "inds_deg2 = numpy.where(degrees==2)[0]\n",
    "metabolite_names[inds_deg2[numpy.argmax(bcnp[inds_deg2])]]"
   ]
  },
  {
   "cell_type": "markdown",
   "metadata": {},
   "source": [
    "Search on this metabolite in the HumanCyc database at [humancyc.org](https://humancyc.org), using the search box. Click on the \"reactions\" tab. What important metabolic cycles is this metabolite involved in? Click on the \"urea cycle\". What is the known consequence of absence of an enzyme in this pathway?"
   ]
  }
 ],
 "metadata": {
  "kernelspec": {
   "display_name": "Python 3",
   "language": "python",
   "name": "python3"
  },
  "language_info": {
   "codemirror_mode": {
    "name": "ipython",
    "version": 3
   },
   "file_extension": ".py",
   "mimetype": "text/x-python",
   "name": "python",
   "nbconvert_exporter": "python",
   "pygments_lexer": "ipython3",
   "version": "3.6.9"
  }
 },
 "nbformat": 4,
 "nbformat_minor": 1
}
