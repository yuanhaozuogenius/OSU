{
 "cells": [
  {
   "cell_type": "markdown",
   "metadata": {},
   "source": [
    "# CSX46 - Class Session 4 - Transitivity (Clustering Coefficients)\n",
    "\n",
    "In this class session we are going to compute the local clustering coefficient of all vertices in the undirected human\n",
    "protein-protein interaction network (PPI), in two ways -- first without using `igraph`, and the using `igraph`. We'll obtain the interaction data from the Pathway Commons SIF file (in the `shared/` folder), we'll make an \"adjacency forest\" representation of the network, and we'll manually compute the local clustering coefficient of each vertex (protein) in the network using the \"enumerating neighbor pairs\" method described by Newman. Then we'll run the same algorithm using the `transitivity_local_undirected` function in `igraph`, and we'll compare the results in order to check our work.  Grad students:  you should also group vertices by their \"binned\" vertex degree k (bin size 50, total number of bins = 25) and plot the average local clustering coefficient for the vertices within a bin, against the center k value for the bin, on log-log scale (compare to Newman Fig. 8.12)"
   ]
  },
  {
   "cell_type": "code",
   "execution_count": 1,
   "metadata": {},
   "outputs": [],
   "source": [
    "from igraph import Graph\n",
    "from igraph import summary\n",
    "import pandas\n",
    "import numpy\n",
    "import timeit\n",
    "from pympler import asizeof\n",
    "import bintrees"
   ]
  },
  {
   "cell_type": "markdown",
   "metadata": {},
   "source": [
    "Step 1:  load in the SIF file (refer to Class 3 exercise) into a data frame `sif_data`, using the `pandas.read_csv` function, and name the columns `species1`, `interaction_type`, and `species2`."
   ]
  },
  {
   "cell_type": "code",
   "execution_count": 2,
   "metadata": {},
   "outputs": [],
   "source": [
    "sif_data = pandas.read_csv(\"shared/pathway_commons.sif\",\n",
    "                           sep=\"\\t\", names=[\"species1\",\"interaction_type\",\"species2\"])"
   ]
  },
  {
   "cell_type": "markdown",
   "metadata": {},
   "source": [
    "Step 2:  restrict the interactions to protein-protein undirected (\"in-complex-with\", \"interacts-with\"), by using the `isin` function and then using `[` to index rows into the data frame.  Call the returned ata frame `interac_ppi`."
   ]
  },
  {
   "cell_type": "code",
   "execution_count": 3,
   "metadata": {},
   "outputs": [],
   "source": [
    "interaction_types_ppi = set([\"interacts-with\",\n",
    "                             \"in-complex-with\"])\n",
    "interac_ppi = sif_data[sif_data.interaction_type.isin(interaction_types_ppi)]"
   ]
  },
  {
   "cell_type": "markdown",
   "metadata": {},
   "source": [
    "Step 3: restrict the data frame to only the unique interaction pairs of proteins (ignoring the interaction type), and call that data frame `interac_ppi_unique`. Make an igraph `Graph` object from `interac_ppi_unique` using `Graph.TupleList`, `values`, and `tolist`. Call `summary` on the `Graph` object. Refer to the notebooks for the in-class exercises in Class sessions 3 and 6."
   ]
  },
  {
   "cell_type": "code",
   "execution_count": 4,
   "metadata": {},
   "outputs": [
    {
     "name": "stdout",
     "output_type": "stream",
     "text": [
      "IGRAPH UN-- 17020 491784 -- \n",
      "+ attr: name (v)\n"
     ]
    }
   ],
   "source": [
    "for i in range(0, interac_ppi.shape[0]):\n",
    "    if interac_ppi.iat[i,0] > interac_ppi.iat[i,2]:\n",
    "        temp_name = interac_ppi.iat[i,0]\n",
    "        interac_ppi.set_value(i, 'species1', interac_ppi.iat[i,2])\n",
    "        interac_ppi.set_value(i, 'species2', temp_name)\n",
    "        \n",
    "interac_ppi_unique = interac_ppi[[\"species1\",\"species2\"]].drop_duplicates()        \n",
    "\n",
    "\n",
    "ppi_igraph = Graph.TupleList(interac_ppi_unique.values.tolist(), directed=False)\n",
    "summary(ppi_igraph)"
   ]
  },
  {
   "cell_type": "markdown",
   "metadata": {},
   "source": [
    "Step 4: Obtain an adjacency list representation of the graph (refer to Class 2 notebooks), using the `igraph.Graph.get_adjlist` method."
   ]
  },
  {
   "cell_type": "code",
   "execution_count": 5,
   "metadata": {},
   "outputs": [],
   "source": [
    "ppi_adj_list = ppi_igraph.get_adjlist()"
   ]
  },
  {
   "cell_type": "markdown",
   "metadata": {},
   "source": [
    "Step 5: You can get a count *n* of the vertices in the graph by calling `len` on `ppi_adj_list`. Call this adjacency forest, `ppi_adj_forest`. Make an \"adjacency forest\" data structure as a list of *n* `AVLTree` objects (refer to Class 2c exercise). "
   ]
  },
  {
   "cell_type": "code",
   "execution_count": 6,
   "metadata": {},
   "outputs": [],
   "source": [
    "def get_bst_forest(theadjlist):\n",
    "    g_adj_list = theadjlist\n",
    "    n = len(g_adj_list)\n",
    "    theforest = []\n",
    "    for i in range(0,n):        \n",
    "        itree = bintrees.AVLTree()\n",
    "        for j in g_adj_list[i]:\n",
    "            itree.insert(j,1)\n",
    "        theforest.append(itree)\n",
    "    return theforest\n",
    "\n",
    "def find_bst_forest(bst_forest, i, j):\n",
    "    return j in bst_forest[i]\n",
    "\n",
    "ppi_adj_forest = get_bst_forest(ppi_adj_list)"
   ]
  },
  {
   "cell_type": "markdown",
   "metadata": {
    "collapsed": true
   },
   "source": [
    "Step 6: Compute the local clustering coefficient (C<sub>i</sub>) values of the first 100 vertices (do timing on this operation using the `timeit` package) as a `numpy.array`; for any vertex with degree=1, it's C<sub>i</sub> value can be numpy `NaN`. You'll probably want to have an outer `for` loop for vertex ID `n` going from 0 to 99, and then an inner `for` loop iterating over neighbor vertices of vertex `n`. Store the clustering coefficients in a list `civals`. Print out how many seconds it takes to perform this calculation."
   ]
  },
  {
   "cell_type": "code",
   "execution_count": 7,
   "metadata": {},
   "outputs": [
    {
     "name": "stdout",
     "output_type": "stream",
     "text": [
      "78.19 s\n"
     ]
    }
   ],
   "source": [
    "N = len(ppi_adj_list)\n",
    "civals = numpy.zeros(100)\n",
    "civals[:] = numpy.NaN\n",
    "start_time = timeit.default_timer()\n",
    "for n in range(0, 100):\n",
    "    neighbors = ppi_adj_list[n]\n",
    "    nneighbors = len(neighbors)\n",
    "    if nneighbors > 1:\n",
    "        nctr = 0\n",
    "        for i in range(0, nneighbors):\n",
    "            for j in range(i + 1, nneighbors):\n",
    "                if neighbors[j] in ppi_adj_forest[neighbors[i]]:\n",
    "                    nctr += 1\n",
    "        civals[n] = nctr/(nneighbors*(nneighbors-1)/2)\n",
    "        \n",
    "ci_elapsed = timeit.default_timer() - start_time\n",
    "print(\"%0.2f s\" % ci_elapsed)"
   ]
  },
  {
   "cell_type": "markdown",
   "metadata": {},
   "source": [
    "Step 7: Calculate the local clustering coefficients for the first 100 vertices using \n",
    "the method `igraph.Graph.transitivity_local_undirected` and save the results as a list `civals_igraph`. Do timing on the call to `transitivity_local_undirected`, using `vertices=` to specify the vertices for which you want to compute the local clustering coefficient."
   ]
  },
  {
   "cell_type": "code",
   "execution_count": 8,
   "metadata": {},
   "outputs": [
    {
     "name": "stdout",
     "output_type": "stream",
     "text": [
      "0.95 s\n"
     ]
    }
   ],
   "source": [
    "start_time = timeit.default_timer()\n",
    "civals_igraph = ppi_igraph.transitivity_local_undirected(vertices=list(range(0,100)))\n",
    "ci_elapsed = timeit.default_timer() - start_time\n",
    "print(\"%0.2f s\" % ci_elapsed)"
   ]
  },
  {
   "cell_type": "markdown",
   "metadata": {},
   "source": [
    "Why do you think the `igraph` function `transitivity_local_undirected` is so much faster than our Python code above (which uses the adjacency forest representation of the graph)?"
   ]
  },
  {
   "cell_type": "markdown",
   "metadata": {},
   "source": [
    "Step 8: Compare your C<sub>i</sub> values to those that you got from `igraph`, using a scatter plot where `civals` is on the horizontal axis and `civals_igraph` is on the vertical axis."
   ]
  },
  {
   "cell_type": "code",
   "execution_count": 9,
   "metadata": {},
   "outputs": [
    {
     "data": {
      "image/png": "[encoded data removed]",
      "text/plain": [
       "<Figure size 432x288 with 1 Axes>"
      ]
     },
     "metadata": {
      "needs_background": "light"
     },
     "output_type": "display_data"
    }
   ],
   "source": [
    "import matplotlib.pyplot\n",
    "matplotlib.pyplot.plot(civals, civals_igraph)\n",
    "matplotlib.pyplot.xlabel(\"Ci (my code)\")\n",
    "matplotlib.pyplot.ylabel(\"Ci (igraph)\")\n",
    "matplotlib.pyplot.show()"
   ]
  },
  {
   "cell_type": "markdown",
   "metadata": {},
   "source": [
    "Step 9:  scatter plot the average log(C<sub>i</sub>) vs. log(k) (i.e., local clustering coefficient vs. vertex degree) for 25 bins of vertex degree, with each bin size being 50 (so we are binning by k, and the bin centers are 50, 100, 150, 200, ...., 1250)"
   ]
  },
  {
   "cell_type": "code",
   "execution_count": 10,
   "metadata": {
    "scrolled": false
   },
   "outputs": [
    {
     "data": {
      "image/png": "[encoded data removed]",
      "text/plain": [
       "<Figure size 432x288 with 1 Axes>"
      ]
     },
     "metadata": {
      "needs_background": "light"
     },
     "output_type": "display_data"
    }
   ],
   "source": [
    "civals_igraph = numpy.array(ppi_igraph.transitivity_local_undirected())\n",
    "deg_igraph = ppi_igraph.degree()\n",
    "deg_npa = numpy.array(deg_igraph)\n",
    "deg_binids = numpy.rint(deg_npa/50)\n",
    "binkvals = 50*numpy.array(range(0,25))\n",
    "civals_avg = numpy.zeros(25)\n",
    "for i in range(0,25):\n",
    "    civals_avg[i] = numpy.mean(civals_igraph[deg_binids == i])\n",
    " \n",
    "matplotlib.pyplot.loglog(\n",
    "     binkvals,\n",
    "     civals_avg)\n",
    "matplotlib.pyplot.ylabel(\"<Ci>\")\n",
    "matplotlib.pyplot.xlabel(\"k\")\n",
    "matplotlib.pyplot.show()"
   ]
  },
  {
   "cell_type": "markdown",
   "metadata": {},
   "source": [
    "Compare the above plot to the same type of plot (from Figure 2 of the Potapov et al. article, left panel) for the human gene regulatory network \"TN_RN\". Do they have similar asymptotic (large-*k*) behavior?"
   ]
  },
  {
   "cell_type": "markdown",
   "metadata": {},
   "source": [
    "Step 10: Now try computing the local clustering coefficient for *all* vertices, this time using a \"list of hashtables\" approach. Estimate how long the same calculation would take using an `AVLTree` adjacency forest, and compare. Which is faster?  Why do you think that is so?"
   ]
  },
  {
   "cell_type": "code",
   "execution_count": 11,
   "metadata": {},
   "outputs": [
    {
     "name": "stdout",
     "output_type": "stream",
     "text": [
      "49.74\n"
     ]
    }
   ],
   "source": [
    "civals = numpy.zeros(len(ppi_adj_list))\n",
    "civals[:] = numpy.NaN\n",
    "\n",
    "ppi_adj_hash = []\n",
    "for i in range(0, len(ppi_adj_list)):\n",
    "    newhash = {}\n",
    "    for j in ppi_adj_list[i]:\n",
    "        newhash[j] = True\n",
    "    ppi_adj_hash.append(newhash)\n",
    "\n",
    "    \n",
    "start_time = timeit.default_timer()\n",
    "for n in range(0, len(ppi_adj_list)):\n",
    "    neighbors = ppi_adj_hash[n]\n",
    "    nneighbors = len(neighbors)\n",
    "    if nneighbors > 1:\n",
    "        nctr = 0\n",
    "        for i in neighbors:\n",
    "            for j in neighbors:\n",
    "                if (j > i) and (j in ppi_adj_hash[i]):\n",
    "                    nctr += 1\n",
    "        civals[n] = nctr/(nneighbors*(nneighbors-1)/2)\n",
    "        \n",
    "ci_elapsed = timeit.default_timer() - start_time\n",
    "print(\"%0.2f\" % ci_elapsed)"
   ]
  },
  {
   "cell_type": "markdown",
   "metadata": {},
   "source": [
    "So the built-in python dictionary type gave us fantastic performance.  But is this coming at the cost of huge memory footprint? Let's check the size of our adjacency \"list of hashtables\", in MB:"
   ]
  },
  {
   "cell_type": "code",
   "execution_count": 12,
   "metadata": {},
   "outputs": [
    {
     "data": {
      "text/plain": [
       "68.834888"
      ]
     },
     "execution_count": 12,
     "metadata": {},
     "output_type": "execute_result"
    }
   ],
   "source": [
    "asizeof.asizeof(ppi_adj_hash)/1000000"
   ]
  }
 ],
 "metadata": {
  "kernelspec": {
   "display_name": "Python 3",
   "language": "python",
   "name": "python3"
  },
  "language_info": {
   "codemirror_mode": {
    "name": "ipython",
    "version": 3
   },
   "file_extension": ".py",
   "mimetype": "text/x-python",
   "name": "python",
   "nbconvert_exporter": "python",
   "pygments_lexer": "ipython3",
   "version": "3.6.9"
  }
 },
 "nbformat": 4,
 "nbformat_minor": 1
}
