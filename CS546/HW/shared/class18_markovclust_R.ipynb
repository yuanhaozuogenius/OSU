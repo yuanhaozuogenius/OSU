{
 "cells": [
  {
   "cell_type": "markdown",
   "metadata": {},
   "source": [
    "# Class 14 - Markov Clustering"
   ]
  },
  {
   "cell_type": "code",
   "execution_count": 15,
   "metadata": {},
   "outputs": [],
   "source": [
    "suppressPackageStartupMessages(library(sna))\n",
    "library(readr)\n",
    "suppressPackageStartupMessages(library(igraph))\n",
    "suppressPackageStartupMessages(library(expm))"
   ]
  },
  {
   "cell_type": "code",
   "execution_count": 16,
   "metadata": {},
   "outputs": [],
   "source": [
    "markov_cluster <- function(graph) {\n",
    "    adj_mat <- as.matrix(igraph::get.adjacency(graph))\n",
    "    N <- nrow(adj_mat)\n",
    "    trans_mat_new <- (adj_mat + diag(N)) %*% solve(diag(igraph::degree(graph)+1))\n",
    "    trans_mat <- matrix(rep(0, N^2), ncol=N)\n",
    "\n",
    "    iter_count <- 0\n",
    "    \n",
    "    while(norm(trans_mat - trans_mat_new, type=\"f\")/\n",
    "          norm(0.5*(trans_mat + trans_mat_new), type=\"f\") > 0.01 &&\n",
    "          iter_count < 20) {\n",
    "        \n",
    "        ## the new transition matrix becomes the old transition matrix\n",
    "        trans_mat <- trans_mat_new\n",
    "        \n",
    "        ## expansion step; preserves left-stochastic property of the matrix\n",
    "        trans_mat_new <- trans_mat_new %*% trans_mat_new\n",
    "        \n",
    "        ## inflation step; need to renormalize to restore left-stochastic property\n",
    "        trans_mat_new <- trans_mat_new^2\n",
    "        trans_mat_new <- trans_mat_new / matrix(rep(apply(trans_mat_new, 2, sum),N),ncol=N,byrow=TRUE)\n",
    "        \n",
    "        iter_count <- iter_count + 1\n",
    "        print(sprintf(\"just completed iteration: %d\", iter_count))\n",
    "    }\n",
    "    \n",
    "    print(sprintf(\"Number of iterations for markov clustering: %d\", iter_count))\n",
    "    \n",
    "    trans_mat_new[trans_mat_new < 1e-10] <- 0\n",
    "    trans_mat_new[trans_mat_new > 1e-10] <- 1\n",
    "    \n",
    "    cluster_signatures <- unique(as.data.frame(t(trans_mat_new)))\n",
    "    cluster_assignments <- apply(trans_mat_new, 2, function(my_col) {\n",
    "        which(apply(cluster_signatures, 1, function(my_row) {\n",
    "            all(my_row == my_col)\n",
    "        }))\n",
    "    })\n",
    "    names(cluster_assignments) <- rownames(adj_mat)\n",
    "    t(cluster_assignments)\n",
    "}"
   ]
  },
  {
   "cell_type": "code",
   "execution_count": 26,
   "metadata": {},
   "outputs": [
    {
     "name": "stdout",
     "output_type": "stream",
     "text": [
      "IGRAPH a447bfa UN-- 13 26 -- \n",
      "+ attr: name (v/c)\n"
     ]
    }
   ],
   "source": [
    "test_adjmat <- read.dot(\"testr.dot\")\n",
    "test_adjmat <- test_adjmat + t(test_adjmat)\n",
    "test_igraph <- igraph::graph_from_adjacency_matrix(test_adjmat, mode=\"undirected\")\n",
    "summary(test_igraph)"
   ]
  },
  {
   "cell_type": "code",
   "execution_count": 23,
   "metadata": {},
   "outputs": [
    {
     "data": {
      "image/png": "[encoded data removed]",
      "text/plain": [
       "Plot with title \"\""
      ]
     },
     "metadata": {},
     "output_type": "display_data"
    }
   ],
   "source": [
    "plot(test_igraph)"
   ]
  },
  {
   "cell_type": "code",
   "execution_count": 24,
   "metadata": {},
   "outputs": [
    {
     "name": "stdout",
     "output_type": "stream",
     "text": [
      "[1] \"just completed iteration: 1\"\n",
      "[1] \"just completed iteration: 2\"\n",
      "[1] \"just completed iteration: 3\"\n",
      "[1] \"just completed iteration: 4\"\n",
      "[1] \"just completed iteration: 5\"\n",
      "[1] \"just completed iteration: 6\"\n",
      "[1] \"just completed iteration: 7\"\n",
      "[1] \"just completed iteration: 8\"\n",
      "[1] \"just completed iteration: 9\"\n",
      "[1] \"Number of iterations for markov clustering: 9\"\n"
     ]
    },
    {
     "data": {
      "text/html": [
       "<table>\n",
       "<thead><tr><th scope=col>1</th><th scope=col>2</th><th scope=col>6</th><th scope=col>7</th><th scope=col>4</th><th scope=col>3</th><th scope=col>5</th><th scope=col>8</th><th scope=col>9</th><th scope=col>10</th><th scope=col>12</th><th scope=col>13</th><th scope=col>11</th></tr></thead>\n",
       "<tbody>\n",
       "\t<tr><td>1</td><td>1</td><td>1</td><td>1</td><td>1</td><td>1</td><td>1</td><td>2</td><td>3</td><td>3</td><td>3</td><td>3</td><td>3</td></tr>\n",
       "</tbody>\n",
       "</table>\n"
      ],
      "text/latex": [
       "\\begin{tabular}{lllllllllllll}\n",
       " 1 & 2 & 6 & 7 & 4 & 3 & 5 & 8 & 9 & 10 & 12 & 13 & 11\\\\\n",
       "\\hline\n",
       "\t 1 & 1 & 1 & 1 & 1 & 1 & 1 & 2 & 3 & 3 & 3 & 3 & 3\\\\\n",
       "\\end{tabular}\n"
      ],
      "text/markdown": [
       "\n",
       "1 | 2 | 6 | 7 | 4 | 3 | 5 | 8 | 9 | 10 | 12 | 13 | 11 | \n",
       "|---|\n",
       "| 1 | 1 | 1 | 1 | 1 | 1 | 1 | 2 | 3 | 3 | 3 | 3 | 3 | \n",
       "\n",
       "\n"
      ],
      "text/plain": [
       "     1 2 6 7 4 3 5 8 9 10 12 13 11\n",
       "[1,] 1 1 1 1 1 1 1 2 3 3  3  3  3 "
      ]
     },
     "metadata": {},
     "output_type": "display_data"
    }
   ],
   "source": [
    "markov_cluster(test_igraph)"
   ]
  },
  {
   "cell_type": "code",
   "execution_count": 6,
   "metadata": {
    "scrolled": true
   },
   "outputs": [
    {
     "data": {
      "text/html": [
       "<table>\n",
       "<thead><tr><th scope=col>protein1</th><th scope=col>protein2</th></tr></thead>\n",
       "<tbody>\n",
       "\t<tr><td>AAC3 </td><td>PMR1 </td></tr>\n",
       "\t<tr><td>AAP1 </td><td>GUD1 </td></tr>\n",
       "\t<tr><td>AAP1 </td><td>TRS31</td></tr>\n",
       "\t<tr><td>AAP1 </td><td>GCN3 </td></tr>\n",
       "\t<tr><td>AAP1 </td><td>MDY2 </td></tr>\n",
       "\t<tr><td>AAR2 </td><td>SMD1 </td></tr>\n",
       "</tbody>\n",
       "</table>\n"
      ],
      "text/latex": [
       "\\begin{tabular}{r|ll}\n",
       " protein1 & protein2\\\\\n",
       "\\hline\n",
       "\t AAC3  & PMR1 \\\\\n",
       "\t AAP1  & GUD1 \\\\\n",
       "\t AAP1  & TRS31\\\\\n",
       "\t AAP1  & GCN3 \\\\\n",
       "\t AAP1  & MDY2 \\\\\n",
       "\t AAR2  & SMD1 \\\\\n",
       "\\end{tabular}\n"
      ],
      "text/markdown": [
       "\n",
       "protein1 | protein2 | \n",
       "|---|---|---|---|---|---|\n",
       "| AAC3  | PMR1  | \n",
       "| AAP1  | GUD1  | \n",
       "| AAP1  | TRS31 | \n",
       "| AAP1  | GCN3  | \n",
       "| AAP1  | MDY2  | \n",
       "| AAR2  | SMD1  | \n",
       "\n",
       "\n"
      ],
      "text/plain": [
       "  protein1 protein2\n",
       "1 AAC3     PMR1    \n",
       "2 AAP1     GUD1    \n",
       "3 AAP1     TRS31   \n",
       "4 AAP1     GCN3    \n",
       "5 AAP1     MDY2    \n",
       "6 AAR2     SMD1    "
      ]
     },
     "metadata": {},
     "output_type": "display_data"
    }
   ],
   "source": [
    "edge_list_df <- readr::read_tsv(\"krogan.sif\", \n",
    "                              col_names=c(\"protein1\",\"protein2\"),\n",
    "                              col_types=cols())\n",
    "head(edge_list_df)"
   ]
  },
  {
   "cell_type": "markdown",
   "metadata": {},
   "source": [
    "summary(test_igraph"
   ]
  },
  {
   "cell_type": "code",
   "execution_count": 29,
   "metadata": {},
   "outputs": [
    {
     "name": "stdout",
     "output_type": "stream",
     "text": [
      "IGRAPH b7dae93 UN-- 2674 7079 -- \n",
      "+ attr: name (v/c)\n"
     ]
    }
   ],
   "source": [
    "big_graph <- igraph::graph_from_data_frame(edge_list_df, directed=FALSE)\n",
    "summary(big_graph)"
   ]
  },
  {
   "cell_type": "code",
   "execution_count": 8,
   "metadata": {},
   "outputs": [
    {
     "name": "stdout",
     "output_type": "stream",
     "text": [
      "[1] \"just completed iteration: 1\"\n",
      "[1] \"just completed iteration: 2\"\n",
      "[1] \"just completed iteration: 3\"\n",
      "[1] \"just completed iteration: 4\"\n",
      "[1] \"just completed iteration: 5\"\n",
      "[1] \"just completed iteration: 6\"\n",
      "[1] \"just completed iteration: 7\"\n",
      "[1] \"just completed iteration: 8\"\n",
      "[1] \"just completed iteration: 9\"\n",
      "[1] \"just completed iteration: 10\"\n",
      "[1] \"just completed iteration: 11\"\n",
      "[1] \"Number of iterations for markov clustering: 11\"\n"
     ]
    }
   ],
   "source": [
    "res <- markov_cluster(big_graph)"
   ]
  },
  {
   "cell_type": "code",
   "execution_count": 9,
   "metadata": {},
   "outputs": [
    {
     "data": {
      "text/html": [
       "<table>\n",
       "<thead><tr><th scope=col>AAC3</th><th scope=col>AAP1</th><th scope=col>AAR2</th><th scope=col>ABF1</th><th scope=col>ABF2</th><th scope=col>ACB1</th><th scope=col>ACE2</th><th scope=col>ACF2</th><th scope=col>ACP1</th><th scope=col>ACS2</th><th scope=col>...</th><th scope=col>JSN1</th><th scope=col>RBL2</th><th scope=col>CUE3</th><th scope=col>PLM2</th><th scope=col>STE13</th><th scope=col>ECM3</th><th scope=col>YPK2</th><th scope=col>CUP2</th><th scope=col>MSE1</th><th scope=col>GSP2</th></tr></thead>\n",
       "<tbody>\n",
       "\t<tr><td>1  </td><td>2  </td><td>3  </td><td>4  </td><td>5  </td><td>6  </td><td>7  </td><td>8  </td><td>9  </td><td>10 </td><td>...</td><td>395</td><td>395</td><td>810</td><td>812</td><td>275</td><td>762</td><td>652</td><td>59 </td><td>59 </td><td>817</td></tr>\n",
       "</tbody>\n",
       "</table>\n"
      ],
      "text/latex": [
       "\\begin{tabular}{llllllllllllllllllllllllllllllllllllllllllllllllllllllllllllllllllllllllllllllllllllllllllllllllllllllllllllllllllllllllllllllllllllllllllllllllllllllllllllllllllllllllllllllllllllllllllllllllllllllllllllllllllllllllllllllllllllllllllllllllllllllllllllllllllllllllllllllllllllllllllllllllllllllllllllllllllllllllllllllllllllllllllllllllllllllllllllllllllllllllllllllllllllllllllllllllllllllllllllllllllllllllllllllllllllllllllllllllllllllllllllllllllllllllllllllllllllllllllllllllllllllllllllllllllllllllllllllllllllllllllllllllllllllllllllllllllllllllllllllllllllllllllllllllllllllllllllllllllllllllllllllllllllllllllllllllllllllllllllllllllllllllllllllllllllllllllllllllllllllllllllllllllllllllllllllllllllllllllllllllllllllllllllllllllllllllllllllllllllllllllllllllllllllllllllllllllllllllllllllllllllllllllllllllllllllllllllllllllllllllllllllllllllllllllllllllllllllllllllllllllllllllllllllllllllllllllllllllllllllllllllllllllllllllllllllllllllllllllllllllllllllllllllllllllllllllllllllllllllllllllllllllllllllllllllllllllllllllllllllllllllllllllllllllllllllllllllllllllllllllllllllllllllllllllllllllllllllllllllllllllllllllllllllllllllllllllllllllllllllllllllllllllllllllllllllllllllllllllllllllllllllllllllllllllllllllllllllllllllllllllllllllllllllllllllllllllllllllllllllllllllllllllllllllllllllllllllllllllllllllllllllllllllllllllllllllllllllllllllllllllllllllllllllllllllllllllllllllllllllllllllllllllllllllllllllllllllllllllllllllllllllllllllllllllllllllllllllllllllllllllllllllllllllllllllllllllllllllllllllllllllllllllllllllllllllllllllllllllllllllllllllllllllllllllllllllllllllllllllllllllllllllllllllllllllllllllllllllllllllllllllllllllllllllllllllllllllllllllllllllllllllllllllllllllllllllllllllllllllllllllllllllllllllllllllllllllllllllllllllllllllllllllllllllllllllllllllllllllllllllllllllllllllllllllllllllllllllllllllllllllllllllllllllllllllllllllllllllllllllllllllllllllllllllllllllllllllllllllllllllllllllllllllllllllllllllllllllllllllllllllllllllllllllllllllllllllllllllllllllllllllllllllllllllllllllllllllllllllllllllllllllllllllllllllllllllllllllllllllllllllllllllllllllllllllllllllllllllllllllllllllllllllllllllllllllllllllllllllllllllllllllllllllllllllllllllllllllllllllllllllllllllllllllllllllllllllllllllllllllllllllllllllllllllllllllllllllllllllllllllllllllllllllllllllllllllllllllllllllllllllllllllllllllllllllllllllllllllllllllllllllllllllllllllllllllllllllllllllllllllllllllllllllllllllllllllllllllllllllllllllllllllllllllllllllllllllllllllllllllllllllllllllllllllllllllllllllllllllllllllllllllllllllllllllllllllllllllllllllllllllllllllllllllllllllllllllllllllllllllllllllllllllllllllllllllllllllllllllllllllllllllllllllllllllllllllllllllllll}\n",
       " AAC3 & AAP1 & AAR2 & ABF1 & ABF2 & ACB1 & ACE2 & ACF2 & ACP1 & ACS2 & ... & JSN1 & RBL2 & CUE3 & PLM2 & STE13 & ECM3 & YPK2 & CUP2 & MSE1 & GSP2\\\\\n",
       "\\hline\n",
       "\t 1   & 2   & 3   & 4   & 5   & 6   & 7   & 8   & 9   & 10  & ... & 395 & 395 & 810 & 812 & 275 & 762 & 652 & 59  & 59  & 817\\\\\n",
       "\\end{tabular}\n"
      ],
      "text/markdown": [
       "\n",
       "AAC3 | AAP1 | AAR2 | ABF1 | ABF2 | ACB1 | ACE2 | ACF2 | ACP1 | ACS2 | ... | JSN1 | RBL2 | CUE3 | PLM2 | STE13 | ECM3 | YPK2 | CUP2 | MSE1 | GSP2 | \n",
       "|---|\n",
       "| 1   | 2   | 3   | 4   | 5   | 6   | 7   | 8   | 9   | 10  | ... | 395 | 395 | 810 | 812 | 275 | 762 | 652 | 59  | 59  | 817 | \n",
       "\n",
       "\n"
      ],
      "text/plain": [
       "     AAC3 AAP1 AAR2 ABF1 ABF2 ACB1 ACE2 ACF2 ACP1 ACS2 ... JSN1 RBL2 CUE3 PLM2\n",
       "[1,] 1    2    3    4    5    6    7    8    9    10   ... 395  395  810  812 \n",
       "     STE13 ECM3 YPK2 CUP2 MSE1 GSP2\n",
       "[1,] 275   762  652  59   59   817 "
      ]
     },
     "metadata": {},
     "output_type": "display_data"
    }
   ],
   "source": [
    "head(res)"
   ]
  },
  {
   "cell_type": "code",
   "execution_count": 10,
   "metadata": {},
   "outputs": [
    {
     "data": {
      "text/html": [
       "844"
      ],
      "text/latex": [
       "844"
      ],
      "text/markdown": [
       "844"
      ],
      "text/plain": [
       "[1] 844"
      ]
     },
     "metadata": {},
     "output_type": "display_data"
    }
   ],
   "source": [
    "max(res)"
   ]
  },
  {
   "cell_type": "code",
   "execution_count": 11,
   "metadata": {},
   "outputs": [
    {
     "data": {
      "image/png": "[encoded data removed]",
      "text/plain": [
       "Plot with title \"Histogram of table(res)\""
      ]
     },
     "metadata": {},
     "output_type": "display_data"
    }
   ],
   "source": [
    "hist(res)"
   ]
  },
  {
   "cell_type": "code",
   "execution_count": null,
   "metadata": {},
   "outputs": [],
   "source": []
  }
 ],
 "metadata": {
  "kernelspec": {
   "display_name": "R",
   "language": "R",
   "name": "ir"
  },
  "language_info": {
   "codemirror_mode": "r",
   "file_extension": ".r",
   "mimetype": "text/x-r-source",
   "name": "R",
   "pygments_lexer": "r",
   "version": "3.6.1"
  }
 },
 "nbformat": 4,
 "nbformat_minor": 2
}
