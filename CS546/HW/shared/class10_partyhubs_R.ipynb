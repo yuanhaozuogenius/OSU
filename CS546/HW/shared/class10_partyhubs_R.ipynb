{
 "cells": [
  {
   "cell_type": "markdown",
   "metadata": {},
   "source": [
    "# Class Session 10 - Date Hubs and Party Hubs\n",
    "\n",
    "## Comparing the histograms of local clustering coefficients of date hubs and party hubs\n",
    "\n",
    "In this class, we will analyze the protein-protein interaction network for two classes of yeast proteins, \"date hubs\" and \"party hubs\" as defined by Han et al. in their 2004 study of protein-interaction networks and gene expression (Han et al., Nature, v430, p88, 2004). The authors of that study claimed that there is no difference in the local clustering density, between \"date hubs\" and \"party hubs\".  We will put this to the test. We for each of the \"date hub\" and \"party hub\" proteins, we will compute its local clustering coefficient (Ci) in the protein-protein interaction network.  We will then histogram the Ci values for the two sets of hubs, so that we can compare the distributions of local clustering coefficients for \"date hubs\" and \"party hubs\". We will use a statistical test (Kolmogorov-Smirnov) to compare the two distributions of Ci values."
   ]
  },
  {
   "cell_type": "markdown",
   "metadata": {},
   "source": [
    "To get started, we load the packages that we will require:"
   ]
  },
  {
   "cell_type": "code",
   "execution_count": 1,
   "metadata": {},
   "outputs": [],
   "source": [
    "suppressPackageStartupMessages(library(igraph))"
   ]
  },
  {
   "cell_type": "markdown",
   "metadata": {},
   "source": [
    "Next, we'll load the file of hub types `shared/han_hub_data.txt` (which is a two-column TSV file in which the first column is the protein name and the second column contains the string `date` or `party` for each row; the first row of the file contains the column headers), using our old friend `read.table`. "
   ]
  },
  {
   "cell_type": "code",
   "execution_count": 2,
   "metadata": {},
   "outputs": [],
   "source": [
    "hub_data <- read.table(\"shared/han_hub_data.txt\", \n",
    "                       sep=\"\\t\",\n",
    "                       header=TRUE,\n",
    "                       stringsAsFactors=FALSE)"
   ]
  },
  {
   "cell_type": "markdown",
   "metadata": {},
   "source": [
    "Let's take a peek at the structure of the `hub_data` data frame, using `head` and `dim`.  Here's what it should look like:"
   ]
  },
  {
   "cell_type": "code",
   "execution_count": 3,
   "metadata": {},
   "outputs": [
    {
     "data": {
      "text/html": [
       "<table>\n",
       "<caption>A data.frame: 6 × 2</caption>\n",
       "<thead>\n",
       "\t<tr><th scope=col>Protein</th><th scope=col>HubType</th></tr>\n",
       "\t<tr><th scope=col>&lt;chr&gt;</th><th scope=col>&lt;chr&gt;</th></tr>\n",
       "</thead>\n",
       "<tbody>\n",
       "\t<tr><td>ACT1 </td><td>date </td></tr>\n",
       "\t<tr><td>ADA2 </td><td>date </td></tr>\n",
       "\t<tr><td>AKR1 </td><td>party</td></tr>\n",
       "\t<tr><td>APC1 </td><td>party</td></tr>\n",
       "\t<tr><td>APC11</td><td>date </td></tr>\n",
       "\t<tr><td>APC2 </td><td>party</td></tr>\n",
       "</tbody>\n",
       "</table>\n"
      ],
      "text/latex": [
       "A data.frame: 6 × 2\n",
       "\\begin{tabular}{r|ll}\n",
       " Protein & HubType\\\\\n",
       " <chr> & <chr>\\\\\n",
       "\\hline\n",
       "\t ACT1  & date \\\\\n",
       "\t ADA2  & date \\\\\n",
       "\t AKR1  & party\\\\\n",
       "\t APC1  & party\\\\\n",
       "\t APC11 & date \\\\\n",
       "\t APC2  & party\\\\\n",
       "\\end{tabular}\n"
      ],
      "text/markdown": [
       "\n",
       "A data.frame: 6 × 2\n",
       "\n",
       "| Protein &lt;chr&gt; | HubType &lt;chr&gt; |\n",
       "|---|---|\n",
       "| ACT1  | date  |\n",
       "| ADA2  | date  |\n",
       "| AKR1  | party |\n",
       "| APC1  | party |\n",
       "| APC11 | date  |\n",
       "| APC2  | party |\n",
       "\n"
      ],
      "text/plain": [
       "  Protein HubType\n",
       "1 ACT1    date   \n",
       "2 ADA2    date   \n",
       "3 AKR1    party  \n",
       "4 APC1    party  \n",
       "5 APC11   date   \n",
       "6 APC2    party  "
      ]
     },
     "metadata": {},
     "output_type": "display_data"
    }
   ],
   "source": [
    "head(hub_data)"
   ]
  },
  {
   "cell_type": "code",
   "execution_count": 4,
   "metadata": {},
   "outputs": [
    {
     "data": {
      "text/html": [
       "<ol class=list-inline>\n",
       "\t<li>199</li>\n",
       "\t<li>2</li>\n",
       "</ol>\n"
      ],
      "text/latex": [
       "\\begin{enumerate*}\n",
       "\\item 199\n",
       "\\item 2\n",
       "\\end{enumerate*}\n"
      ],
      "text/markdown": [
       "1. 199\n",
       "2. 2\n",
       "\n",
       "\n"
      ],
      "text/plain": [
       "[1] 199   2"
      ]
     },
     "metadata": {},
     "output_type": "display_data"
    }
   ],
   "source": [
    "dim(hub_data)"
   ]
  },
  {
   "cell_type": "markdown",
   "metadata": {},
   "source": [
    "Next, let's load the file of yeat protein-protein interaction network edges `shared/han_network_edges.txt` (which is a two-column file, with first column is the first protein in the interacting pair, and the second column is the second protein in the interacting pair)"
   ]
  },
  {
   "cell_type": "code",
   "execution_count": 5,
   "metadata": {},
   "outputs": [],
   "source": [
    "edge_df <- read.table(\"shared/han_network_edges.txt\",\n",
    "                     sep=\"\\t\",\n",
    "                     header=TRUE,\n",
    "                     stringsAsFactors=FALSE)"
   ]
  },
  {
   "cell_type": "markdown",
   "metadata": {},
   "source": [
    "Let's take a peek at the data frame `edge_df`, using `head` and `dim`:"
   ]
  },
  {
   "cell_type": "code",
   "execution_count": 6,
   "metadata": {},
   "outputs": [
    {
     "data": {
      "text/html": [
       "<table>\n",
       "<caption>A data.frame: 6 × 2</caption>\n",
       "<thead>\n",
       "\t<tr><th scope=col>PROTEINA</th><th scope=col>PROTEINB</th></tr>\n",
       "\t<tr><th scope=col>&lt;chr&gt;</th><th scope=col>&lt;chr&gt;</th></tr>\n",
       "</thead>\n",
       "<tbody>\n",
       "\t<tr><td>AAR2</td><td>PRP8  </td></tr>\n",
       "\t<tr><td>ABP1</td><td>SRV2  </td></tr>\n",
       "\t<tr><td>ABP1</td><td>ACT1  </td></tr>\n",
       "\t<tr><td>ABP1</td><td>RVS167</td></tr>\n",
       "\t<tr><td>ACT1</td><td>IQG1  </td></tr>\n",
       "\t<tr><td>ACT1</td><td>SRV2  </td></tr>\n",
       "</tbody>\n",
       "</table>\n"
      ],
      "text/latex": [
       "A data.frame: 6 × 2\n",
       "\\begin{tabular}{r|ll}\n",
       " PROTEINA & PROTEINB\\\\\n",
       " <chr> & <chr>\\\\\n",
       "\\hline\n",
       "\t AAR2 & PRP8  \\\\\n",
       "\t ABP1 & SRV2  \\\\\n",
       "\t ABP1 & ACT1  \\\\\n",
       "\t ABP1 & RVS167\\\\\n",
       "\t ACT1 & IQG1  \\\\\n",
       "\t ACT1 & SRV2  \\\\\n",
       "\\end{tabular}\n"
      ],
      "text/markdown": [
       "\n",
       "A data.frame: 6 × 2\n",
       "\n",
       "| PROTEINA &lt;chr&gt; | PROTEINB &lt;chr&gt; |\n",
       "|---|---|\n",
       "| AAR2 | PRP8   |\n",
       "| ABP1 | SRV2   |\n",
       "| ABP1 | ACT1   |\n",
       "| ABP1 | RVS167 |\n",
       "| ACT1 | IQG1   |\n",
       "| ACT1 | SRV2   |\n",
       "\n"
      ],
      "text/plain": [
       "  PROTEINA PROTEINB\n",
       "1 AAR2     PRP8    \n",
       "2 ABP1     SRV2    \n",
       "3 ABP1     ACT1    \n",
       "4 ABP1     RVS167  \n",
       "5 ACT1     IQG1    \n",
       "6 ACT1     SRV2    "
      ]
     },
     "metadata": {},
     "output_type": "display_data"
    }
   ],
   "source": [
    "head(edge_df)"
   ]
  },
  {
   "cell_type": "code",
   "execution_count": 7,
   "metadata": {},
   "outputs": [
    {
     "data": {
      "text/html": [
       "<ol class=list-inline>\n",
       "\t<li>2523</li>\n",
       "\t<li>2</li>\n",
       "</ol>\n"
      ],
      "text/latex": [
       "\\begin{enumerate*}\n",
       "\\item 2523\n",
       "\\item 2\n",
       "\\end{enumerate*}\n"
      ],
      "text/markdown": [
       "1. 2523\n",
       "2. 2\n",
       "\n",
       "\n"
      ],
      "text/plain": [
       "[1] 2523    2"
      ]
     },
     "metadata": {},
     "output_type": "display_data"
    }
   ],
   "source": [
    "dim(edge_df)"
   ]
  },
  {
   "cell_type": "markdown",
   "metadata": {},
   "source": [
    "It will be convenient to let `igraph` compute the local clustering coefficients.  So, we'll want to make an undirected igraph `Graph` object from the edgelist data, using our old friend `graph_from_data_frame`:"
   ]
  },
  {
   "cell_type": "code",
   "execution_count": 8,
   "metadata": {},
   "outputs": [],
   "source": [
    "ppi_graph <- graph_from_data_frame(edge_df, directed=FALSE)"
   ]
  },
  {
   "cell_type": "markdown",
   "metadata": {},
   "source": [
    "As always, we'll use `summary` to sanity check the `Graph` object:"
   ]
  },
  {
   "cell_type": "code",
   "execution_count": 9,
   "metadata": {},
   "outputs": [
    {
     "name": "stdout",
     "output_type": "stream",
     "text": [
      "IGRAPH 0fe33ca UN-- 1344 2523 -- \n",
      "+ attr: name (v/c)\n"
     ]
    }
   ],
   "source": [
    "summary(ppi_graph)"
   ]
  },
  {
   "cell_type": "markdown",
   "metadata": {},
   "source": [
    "Now we'll need to get the igraph vertex index values of the proteins that are date hubs or party hubs. To do this, we'll first need to make a data frame containing (in the first column, \"Protein\") the names of the proteins in the vertex order of the `Graph` object, and (in the second column \"order\") the integer vertex indexes of the proteins.  We'll do this using the `data.frame` function, the `V` function in `igraph`, and the `:` operator to get a range of integers."
   ]
  },
  {
   "cell_type": "code",
   "execution_count": 10,
   "metadata": {},
   "outputs": [],
   "source": [
    "graph_vertices_df = data.frame(Protein=V(ppi_graph)$name, order=1:length(V(ppi_graph)))"
   ]
  },
  {
   "cell_type": "markdown",
   "metadata": {},
   "source": [
    "Let's check our work, using the `head` and `dim` functions:"
   ]
  },
  {
   "cell_type": "code",
   "execution_count": 11,
   "metadata": {},
   "outputs": [
    {
     "data": {
      "text/html": [
       "<table>\n",
       "<caption>A data.frame: 6 × 2</caption>\n",
       "<thead>\n",
       "\t<tr><th scope=col>Protein</th><th scope=col>order</th></tr>\n",
       "\t<tr><th scope=col>&lt;fct&gt;</th><th scope=col>&lt;int&gt;</th></tr>\n",
       "</thead>\n",
       "<tbody>\n",
       "\t<tr><td>AAR2</td><td>1</td></tr>\n",
       "\t<tr><td>ABP1</td><td>2</td></tr>\n",
       "\t<tr><td>ACT1</td><td>3</td></tr>\n",
       "\t<tr><td>ADA2</td><td>4</td></tr>\n",
       "\t<tr><td>AFG3</td><td>5</td></tr>\n",
       "\t<tr><td>AFR1</td><td>6</td></tr>\n",
       "</tbody>\n",
       "</table>\n"
      ],
      "text/latex": [
       "A data.frame: 6 × 2\n",
       "\\begin{tabular}{r|ll}\n",
       " Protein & order\\\\\n",
       " <fct> & <int>\\\\\n",
       "\\hline\n",
       "\t AAR2 & 1\\\\\n",
       "\t ABP1 & 2\\\\\n",
       "\t ACT1 & 3\\\\\n",
       "\t ADA2 & 4\\\\\n",
       "\t AFG3 & 5\\\\\n",
       "\t AFR1 & 6\\\\\n",
       "\\end{tabular}\n"
      ],
      "text/markdown": [
       "\n",
       "A data.frame: 6 × 2\n",
       "\n",
       "| Protein &lt;fct&gt; | order &lt;int&gt; |\n",
       "|---|---|\n",
       "| AAR2 | 1 |\n",
       "| ABP1 | 2 |\n",
       "| ACT1 | 3 |\n",
       "| ADA2 | 4 |\n",
       "| AFG3 | 5 |\n",
       "| AFR1 | 6 |\n",
       "\n"
      ],
      "text/plain": [
       "  Protein order\n",
       "1 AAR2    1    \n",
       "2 ABP1    2    \n",
       "3 ACT1    3    \n",
       "4 ADA2    4    \n",
       "5 AFG3    5    \n",
       "6 AFR1    6    "
      ]
     },
     "metadata": {},
     "output_type": "display_data"
    }
   ],
   "source": [
    "head(graph_vertices_df)"
   ]
  },
  {
   "cell_type": "code",
   "execution_count": 12,
   "metadata": {},
   "outputs": [
    {
     "data": {
      "text/html": [
       "<ol class=list-inline>\n",
       "\t<li>1344</li>\n",
       "\t<li>2</li>\n",
       "</ol>\n"
      ],
      "text/latex": [
       "\\begin{enumerate*}\n",
       "\\item 1344\n",
       "\\item 2\n",
       "\\end{enumerate*}\n"
      ],
      "text/markdown": [
       "1. 1344\n",
       "2. 2\n",
       "\n",
       "\n"
      ],
      "text/plain": [
       "[1] 1344    2"
      ]
     },
     "metadata": {},
     "output_type": "display_data"
    }
   ],
   "source": [
    "dim(graph_vertices_df)"
   ]
  },
  {
   "cell_type": "markdown",
   "metadata": {},
   "source": [
    "Now we'll need to merge the `graph_vertices_df` data frame with the `hub_data` data frame, to connect the hub type information with the igraph vertex index information.  We'll do this using the `merge` function, passing `x=graph_vertices_df`, `y=hub_data`. We'll also need to specify that the columns to be joined are column 1 of `graph_vertices_df` (using the `on.x` argument to `merge`) and column 2  "
   ]
  },
  {
   "cell_type": "code",
   "execution_count": 13,
   "metadata": {},
   "outputs": [],
   "source": [
    "graph_vertices_df <- merge(graph_vertices_df, hub_data, on.x=1, on.y=1, all.x=TRUE, sort=FALSE)\n",
    "graph_vertices_df_sorted <- graph_vertices_df[order(graph_vertices_df$order),c(1,3)]"
   ]
  },
  {
   "cell_type": "code",
   "execution_count": 14,
   "metadata": {},
   "outputs": [
    {
     "data": {
      "text/html": [
       "<table>\n",
       "<caption>A data.frame: 6 × 2</caption>\n",
       "<thead>\n",
       "\t<tr><th></th><th scope=col>Protein</th><th scope=col>HubType</th></tr>\n",
       "\t<tr><th></th><th scope=col>&lt;fct&gt;</th><th scope=col>&lt;chr&gt;</th></tr>\n",
       "</thead>\n",
       "<tbody>\n",
       "\t<tr><th scope=row>200</th><td>AAR2</td><td>NA  </td></tr>\n",
       "\t<tr><th scope=row>201</th><td>ABP1</td><td>NA  </td></tr>\n",
       "\t<tr><th scope=row>1</th><td>ACT1</td><td>date</td></tr>\n",
       "\t<tr><th scope=row>2</th><td>ADA2</td><td>date</td></tr>\n",
       "\t<tr><th scope=row>204</th><td>AFG3</td><td>NA  </td></tr>\n",
       "\t<tr><th scope=row>205</th><td>AFR1</td><td>NA  </td></tr>\n",
       "</tbody>\n",
       "</table>\n"
      ],
      "text/latex": [
       "A data.frame: 6 × 2\n",
       "\\begin{tabular}{r|ll}\n",
       "  & Protein & HubType\\\\\n",
       "  & <fct> & <chr>\\\\\n",
       "\\hline\n",
       "\t200 & AAR2 & NA  \\\\\n",
       "\t201 & ABP1 & NA  \\\\\n",
       "\t1 & ACT1 & date\\\\\n",
       "\t2 & ADA2 & date\\\\\n",
       "\t204 & AFG3 & NA  \\\\\n",
       "\t205 & AFR1 & NA  \\\\\n",
       "\\end{tabular}\n"
      ],
      "text/markdown": [
       "\n",
       "A data.frame: 6 × 2\n",
       "\n",
       "| <!--/--> | Protein &lt;fct&gt; | HubType &lt;chr&gt; |\n",
       "|---|---|---|\n",
       "| 200 | AAR2 | NA   |\n",
       "| 201 | ABP1 | NA   |\n",
       "| 1 | ACT1 | date |\n",
       "| 2 | ADA2 | date |\n",
       "| 204 | AFG3 | NA   |\n",
       "| 205 | AFR1 | NA   |\n",
       "\n"
      ],
      "text/plain": [
       "    Protein HubType\n",
       "200 AAR2    NA     \n",
       "201 ABP1    NA     \n",
       "1   ACT1    date   \n",
       "2   ADA2    date   \n",
       "204 AFG3    NA     \n",
       "205 AFR1    NA     "
      ]
     },
     "metadata": {},
     "output_type": "display_data"
    }
   ],
   "source": [
    "head(graph_vertices_df_sorted)"
   ]
  },
  {
   "cell_type": "code",
   "execution_count": 15,
   "metadata": {},
   "outputs": [
    {
     "data": {
      "text/html": [
       "<ol class=list-inline>\n",
       "\t<li>1344</li>\n",
       "\t<li>2</li>\n",
       "</ol>\n"
      ],
      "text/latex": [
       "\\begin{enumerate*}\n",
       "\\item 1344\n",
       "\\item 2\n",
       "\\end{enumerate*}\n"
      ],
      "text/markdown": [
       "1. 1344\n",
       "2. 2\n",
       "\n",
       "\n"
      ],
      "text/plain": [
       "[1] 1344    2"
      ]
     },
     "metadata": {},
     "output_type": "display_data"
    }
   ],
   "source": [
    "dim(graph_vertices_df_sorted)"
   ]
  },
  {
   "cell_type": "markdown",
   "metadata": {},
   "source": [
    "Use `which` in order to find the index numbers of the proteins that are \"date hubs\" and that are \"party hubs\":"
   ]
  },
  {
   "cell_type": "code",
   "execution_count": 16,
   "metadata": {},
   "outputs": [],
   "source": [
    "date_hub_inds <- which(graph_vertices_df_sorted$HubType==\"date\")\n",
    "party_hub_inds <- which(graph_vertices_df_sorted$HubType==\"party\")"
   ]
  },
  {
   "cell_type": "markdown",
   "metadata": {},
   "source": [
    "As a sanity check, print out the number of date hubs and party hubs that you find"
   ]
  },
  {
   "cell_type": "code",
   "execution_count": 17,
   "metadata": {},
   "outputs": [
    {
     "name": "stdout",
     "output_type": "stream",
     "text": [
      "[1] \"number of date hubs: 91\"\n",
      "[1] \"number of party hubs: 108\"\n"
     ]
    }
   ],
   "source": [
    "print(sprintf(\"number of date hubs: %d\", length(date_hub_inds)))\n",
    "print(sprintf(\"number of party hubs: %d\", length(party_hub_inds)))"
   ]
  },
  {
   "cell_type": "markdown",
   "metadata": {},
   "source": [
    "Now let's use the `transitivity` function in igraph to compute the local clustering coefficients for every vertex in the graph. You'll want to specify `type=\"local\"` in your call to `transitivity`. Print out the first six components of the vector of data returned, as a sanity check.  Question:  why are some of them `NaN`?  Is this normal?"
   ]
  },
  {
   "cell_type": "code",
   "execution_count": 18,
   "metadata": {},
   "outputs": [
    {
     "data": {
      "text/html": [
       "<ol class=list-inline>\n",
       "\t<li>NaN</li>\n",
       "\t<li>0.666666666666667</li>\n",
       "\t<li>0.0514705882352941</li>\n",
       "\t<li>0.681318681318681</li>\n",
       "\t<li>NaN</li>\n",
       "\t<li>0</li>\n",
       "</ol>\n"
      ],
      "text/latex": [
       "\\begin{enumerate*}\n",
       "\\item NaN\n",
       "\\item 0.666666666666667\n",
       "\\item 0.0514705882352941\n",
       "\\item 0.681318681318681\n",
       "\\item NaN\n",
       "\\item 0\n",
       "\\end{enumerate*}\n"
      ],
      "text/markdown": [
       "1. NaN\n",
       "2. 0.666666666666667\n",
       "3. 0.0514705882352941\n",
       "4. 0.681318681318681\n",
       "5. NaN\n",
       "6. 0\n",
       "\n",
       "\n"
      ],
      "text/plain": [
       "[1]        NaN 0.66666667 0.05147059 0.68131868        NaN 0.00000000"
      ]
     },
     "metadata": {},
     "output_type": "display_data"
    }
   ],
   "source": [
    "local_clust_coeffs <- transitivity(ppi_graph, type=\"local\")\n",
    "head(local_clust_coeffs)"
   ]
  },
  {
   "cell_type": "markdown",
   "metadata": {},
   "source": [
    "Plot the histograms of the local clustering coefficients of the \"date hubs\" and the \"party hubs\"."
   ]
  },
  {
   "cell_type": "code",
   "execution_count": 19,
   "metadata": {},
   "outputs": [
    {
     "data": {
      "image/png": "[encoded data removed]",
      "text/plain": [
       "Plot with title “”"
      ]
     },
     "metadata": {
      "image/png": {
       "height": 420,
       "width": 420
      },
      "text/plain": {
       "height": 420,
       "width": 420
      }
     },
     "output_type": "display_data"
    }
   ],
   "source": [
    "nbreaks <- 10\n",
    "breaks <- (0:nbreaks)/nbreaks\n",
    "hist_date <- hist(local_clust_coeffs[date_hub_inds], breaks=breaks, plot=FALSE)\n",
    "hist_party <- hist(local_clust_coeffs[party_hub_inds], breaks=breaks, plot=FALSE)\n",
    "plotvals <- 0.5*(breaks[1:nbreaks] + breaks[2:(nbreaks+1)])\n",
    "plot(hist_date, col=rgb(0,0,1,1/4), xlab=expression(C[i]), main=\"\", freq=FALSE)\n",
    "plot(hist_party, col=rgb(0,1,0,1/4), add=TRUE, freq=FALSE)\n",
    "legend(0.3, 2, bty=\"n\", legend=c(\"date\",\"party\"), fill=c(rgb(0,0,1,1/4),rgb(0,1,0,1/4)))"
   ]
  },
  {
   "cell_type": "markdown",
   "metadata": {},
   "source": [
    "Now let's compare these two histograms by a Kolmogorov-Smirnov test, using the `ks.test` function:"
   ]
  },
  {
   "cell_type": "code",
   "execution_count": 20,
   "metadata": {},
   "outputs": [
    {
     "name": "stderr",
     "output_type": "stream",
     "text": [
      "Warning message in ks.test(local_clust_coeffs[date_hub_inds], local_clust_coeffs[party_hub_inds]):\n",
      "“cannot compute exact p-value with ties”\n"
     ]
    },
    {
     "name": "stdout",
     "output_type": "stream",
     "text": [
      "\n",
      "\tTwo-sample Kolmogorov-Smirnov test\n",
      "\n",
      "data:  local_clust_coeffs[date_hub_inds] and local_clust_coeffs[party_hub_inds]\n",
      "D = 0.26241, p-value = 0.002224\n",
      "alternative hypothesis: two-sided\n",
      "\n"
     ]
    }
   ],
   "source": [
    "print(ks.test(local_clust_coeffs[date_hub_inds],\n",
    "              local_clust_coeffs[party_hub_inds]))"
   ]
  },
  {
   "cell_type": "markdown",
   "metadata": {},
   "source": [
    "What is the *p*-value for this test?  What conclusion do you draw from that *p*-value?"
   ]
  },
  {
   "cell_type": "markdown",
   "metadata": {},
   "source": [
    "When comparing two distributions, it is convenient to use a q-q (quantile-quantile) plot.  In R, you can do this using the built-in function `qqplot`. Let's do this for the distributions of Ci values for date hubs and party hubs."
   ]
  },
  {
   "cell_type": "code",
   "execution_count": 21,
   "metadata": {},
   "outputs": [
    {
     "data": {
      "image/png": "[encoded data removed]",
      "text/plain": [
       "plot without title"
      ]
     },
     "metadata": {
      "image/png": {
       "height": 420,
       "width": 420
      },
      "text/plain": {
       "height": 420,
       "width": 420
      }
     },
     "output_type": "display_data"
    }
   ],
   "source": [
    "qqplot(local_clust_coeffs[date_hub_inds],local_clust_coeffs[party_hub_inds],xlab=\"date Ci\",ylab=\"party Ci\")"
   ]
  },
  {
   "cell_type": "code",
   "execution_count": 22,
   "metadata": {},
   "outputs": [],
   "source": [
    "ci_values_date_hubs <- local_clust_coeffs[date_hub_inds]\n",
    "ci_values_party_hubs <- local_clust_coeffs[party_hub_inds]"
   ]
  }
 ],
 "metadata": {
  "kernelspec": {
   "display_name": "R",
   "language": "R",
   "name": "ir"
  },
  "language_info": {
   "codemirror_mode": "r",
   "file_extension": ".r",
   "mimetype": "text/x-r-source",
   "name": "R",
   "pygments_lexer": "r",
   "version": "3.6.1"
  }
 },
 "nbformat": 4,
 "nbformat_minor": 1
}
