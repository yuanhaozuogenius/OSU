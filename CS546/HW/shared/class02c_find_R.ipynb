{
 "cells": [
  {
   "cell_type": "markdown",
   "metadata": {},
   "source": [
    "# CS446/546 Class Session 2 - Adjacency Forests\n",
    "\n",
    "## Comparing asymptotic running time for testing two vertices for an edge"
   ]
  },
  {
   "cell_type": "markdown",
   "metadata": {},
   "source": [
    "In this exercise, we'll compare the asymptotic computational running time for testing if there is an edge between a pair of vertices, averaged over all pairs of vertices in the graph. We'll do it for a series of undirected graphs (each generated using an Barabasi-Albert model), each with 1000 vertices. We will vary the number of edges in the graph; each graph will have a different average number of vertex neighbors for a vertex (i.e., each graph will have a different average vertex degree). We will time how long it takes to test all possible pairs of vertices for whether or not there is an edge between them, for each of four different graph data structures (adjacency matrix, adjacency list, edge list, and adjacency forest)."
   ]
  },
  {
   "cell_type": "markdown",
   "metadata": {},
   "source": [
    "First, we import all the R packages that we will need for this exercise:"
   ]
  },
  {
   "cell_type": "code",
   "execution_count": 1,
   "metadata": {},
   "outputs": [],
   "source": [
    "suppressPackageStartupMessages(library(igraph))"
   ]
  },
  {
   "cell_type": "markdown",
   "metadata": {},
   "source": [
    "We'll need to start by creating a function `get_adj_tree` that will accept an adjacency list data structure and will create an \"adjacency forest\" data structure representing the graph.  NOTE:  I have deleted the line of code that creates a new environment; see `?new.env` for help."
   ]
  },
  {
   "cell_type": "code",
   "execution_count": 2,
   "metadata": {},
   "outputs": [],
   "source": [
    "get_adj_tree <- function(adj_list) {\n",
    "    n <- length(adj_list)\n",
    "    myforest <- list()\n",
    "    for (i in 1:n) {\n",
    "        newenv <- new.env()\n",
    "        for (j in as.vector(adj_list[[i]])) {\n",
    "            newenv[[as.character(j)]] <- 1\n",
    "        }\n",
    "        myforest[[i]] <- newenv\n",
    "    }\n",
    "    myforest\n",
    "}"
   ]
  },
  {
   "cell_type": "markdown",
   "metadata": {},
   "source": [
    "Now, define a function that will test whether vertices `i` and `j` are connected, using an adjacency matrix:"
   ]
  },
  {
   "cell_type": "code",
   "execution_count": 3,
   "metadata": {},
   "outputs": [],
   "source": [
    "find_matrix <- function(gmat, i, j) {\n",
    "    gmat[i, j] == 1\n",
    "}"
   ]
  },
  {
   "cell_type": "markdown",
   "metadata": {},
   "source": [
    "Now, define a function that will test whether vertices `i` and `j` are connected, using an adjacency list. You may find the function `%in%` useful:"
   ]
  },
  {
   "cell_type": "code",
   "execution_count": 4,
   "metadata": {},
   "outputs": [],
   "source": [
    "find_adj_list <- function(adj_list, i, j) {\n",
    "    j %in% adj_list[[i]]\n",
    "}"
   ]
  },
  {
   "cell_type": "markdown",
   "metadata": {},
   "source": [
    "Now, define a function that will test whether vertices `i` and `j` are connected, using an edge list.  You may find the function `any` useful:"
   ]
  },
  {
   "cell_type": "code",
   "execution_count": 5,
   "metadata": {},
   "outputs": [],
   "source": [
    "find_edge_list <- function(edge_list, i, j) {\n",
    "    any((edge_list[,1] == i) & (edge_list[,2] == j)) | \n",
    "        any((edge_list[,2] == i) & (edge_list[,1] == j))\n",
    "} \n"
   ]
  },
  {
   "cell_type": "markdown",
   "metadata": {},
   "source": [
    "Now, define a function that will test whether vertices `i` and `j` are connected, using an adjacency forest.  You may find the function ``is.null`` useful:"
   ]
  },
  {
   "cell_type": "code",
   "execution_count": 6,
   "metadata": {},
   "outputs": [],
   "source": [
    "find_adj_tree <- function(adj_tree, i, jstr) {\n",
    "    ! is.null(adj_tree[[i]][[jstr]])\n",
    "}\n"
   ]
  },
  {
   "cell_type": "markdown",
   "metadata": {},
   "source": [
    "This is the simulation code; note that we now have two parameters, \"n\" and \"k\" (n is the number of vertices in the graph, and k is the average vertex degree.  We'll actually be keeping n fixed and varying k for this exercise."
   ]
  },
  {
   "cell_type": "code",
   "execution_count": 7,
   "metadata": {},
   "outputs": [],
   "source": [
    "do_sim <- function(n, k) {\n",
    "\n",
    "    nrep <- 1\n",
    "    nsubrep <- 1\n",
    "    \n",
    "    simdf <- do.call(rbind,\n",
    "                     replicate(nrep, {\n",
    "                         g <- sample_pa(n, out.seq=rep(k, n), directed=FALSE)\n",
    "                         \n",
    "                         g_matrix <- as.matrix(as_adjacency_matrix(g))\n",
    "                         g_adj_list <- as_adj_list(g)\n",
    "                         g_edge_list <- as_edgelist(g)\n",
    "                         g_adj_tree <- get_adj_tree(g_adj_list)\n",
    "                                                 \n",
    "                         # this is for setting up the (admittedly weird) R way of doing a \n",
    "                         # double \"for\" loop (see \"mapply\" below)\n",
    "                         allvals <- expand.grid(1:n, 1:n)\n",
    "                         \n",
    "                         # need this because \"as.character\" is kind of slow\n",
    "                         jstrs <- as.character(1:n)\n",
    "                         \n",
    "                         time_mat <- system.time(\n",
    "                             replicate(nsubrep, {\n",
    "                                 mapply(function(i, j) {\n",
    "                                            find_matrix(g_matrix, i, j)\n",
    "                                        }, allvals$Var1, allvals$Var2)\n",
    "                             })\n",
    "                         )[1]\n",
    "                         \n",
    "                         time_adj_list <- system.time(\n",
    "                             replicate(nsubrep, {\n",
    "                                 mapply(function(i, j) {\n",
    "                                            find_adj_list(g_adj_list, i, jstrs[j])\n",
    "                                        }, allvals$Var1, allvals$Var2)\n",
    "                             })\n",
    "                         )[1]\n",
    "                         \n",
    "                         time_adjacency_forest <- system.time(\n",
    "                             replicate(nsubrep, {\n",
    "                                 mapply(function(i, j) {\n",
    "                                     find_adj_tree(g_adj_tree, i, jstrs[j])\n",
    "                                     }, allvals$Var1, allvals$Var2)\n",
    "                             })                           \n",
    "                         )[1]\n",
    "                         \n",
    "                         rowdf <- data.frame(matrix=time_mat,\n",
    "                                             adjlist=time_adj_list,\n",
    "                                             adjforest=time_adjacency_forest)\n",
    "                         \n",
    "\n",
    "                         rowdf\n",
    "                     }, simplify=FALSE)\n",
    "                     )\n",
    "    \n",
    "    # average over replicates\n",
    "    simres <- apply(simdf, 2, mean)\n",
    "    \n",
    "    # get results in microseconds, on a per-vertex-pair basis\n",
    "    1000000*simres/(n*(n-1)/2)\n",
    "}\n"
   ]
  },
  {
   "cell_type": "markdown",
   "metadata": {},
   "source": [
    "Call the do_sim function for three different values of \"k\" (the average vertex degree), and convert the resulting list (of single-row data frames) to a three-row data frame:"
   ]
  },
  {
   "cell_type": "code",
   "execution_count": 8,
   "metadata": {},
   "outputs": [],
   "source": [
    "sim_data_df <- do.call(rbind, lapply(c(1, 5, 10, 100), \n",
    "                                     function(k) {do_sim(1000, k)}))"
   ]
  },
  {
   "cell_type": "code",
   "execution_count": 9,
   "metadata": {
    "scrolled": true
   },
   "outputs": [
    {
     "data": {
      "text/html": [
       "<table>\n",
       "<caption>A matrix: 4 × 3 of type dbl</caption>\n",
       "<thead>\n",
       "\t<tr><th scope=col>matrix</th><th scope=col>adjlist</th><th scope=col>adjforest</th></tr>\n",
       "</thead>\n",
       "<tbody>\n",
       "\t<tr><td>5.827828</td><td> 9.913914</td><td>6.508509</td></tr>\n",
       "\t<tr><td>5.893894</td><td>11.409409</td><td>6.502503</td></tr>\n",
       "\t<tr><td>5.655656</td><td>13.803804</td><td>6.496496</td></tr>\n",
       "\t<tr><td>5.643644</td><td>48.012012</td><td>6.884885</td></tr>\n",
       "</tbody>\n",
       "</table>\n"
      ],
      "text/latex": [
       "A matrix: 4 × 3 of type dbl\n",
       "\\begin{tabular}{lll}\n",
       " matrix & adjlist & adjforest\\\\\n",
       "\\hline\n",
       "\t 5.827828 &  9.913914 & 6.508509\\\\\n",
       "\t 5.893894 & 11.409409 & 6.502503\\\\\n",
       "\t 5.655656 & 13.803804 & 6.496496\\\\\n",
       "\t 5.643644 & 48.012012 & 6.884885\\\\\n",
       "\\end{tabular}\n"
      ],
      "text/markdown": [
       "\n",
       "A matrix: 4 × 3 of type dbl\n",
       "\n",
       "| matrix | adjlist | adjforest |\n",
       "|---|---|---|\n",
       "| 5.827828 |  9.913914 | 6.508509 |\n",
       "| 5.893894 | 11.409409 | 6.502503 |\n",
       "| 5.655656 | 13.803804 | 6.496496 |\n",
       "| 5.643644 | 48.012012 | 6.884885 |\n",
       "\n"
      ],
      "text/plain": [
       "     matrix   adjlist   adjforest\n",
       "[1,] 5.827828  9.913914 6.508509 \n",
       "[2,] 5.893894 11.409409 6.502503 \n",
       "[3,] 5.655656 13.803804 6.496496 \n",
       "[4,] 5.643644 48.012012 6.884885 "
      ]
     },
     "metadata": {},
     "output_type": "display_data"
    }
   ],
   "source": [
    "sim_data_df"
   ]
  }
 ],
 "metadata": {
  "kernelspec": {
   "display_name": "R",
   "language": "R",
   "name": "ir"
  },
  "language_info": {
   "codemirror_mode": "r",
   "file_extension": ".r",
   "mimetype": "text/x-r-source",
   "name": "R",
   "pygments_lexer": "r",
   "version": "3.6.1"
  }
 },
 "nbformat": 4,
 "nbformat_minor": 1
}
