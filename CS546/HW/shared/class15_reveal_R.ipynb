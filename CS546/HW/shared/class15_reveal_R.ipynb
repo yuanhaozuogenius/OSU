{
 "cells": [
  {
   "cell_type": "markdown",
   "metadata": {},
   "source": [
    "# Class 21:  joint entropy and the REVEAL algorithm"
   ]
  },
  {
   "cell_type": "markdown",
   "metadata": {},
   "source": [
    "We'll use the bladder cancer gene expression data to test out the REVEAL algorithm. First, we'll load the data and filter to include only genes for which the median log2 expression level is > 14.  That should give us 13 genes to work with."
   ]
  },
  {
   "cell_type": "code",
   "execution_count": 31,
   "metadata": {},
   "outputs": [
    {
     "name": "stdout",
     "output_type": "stream",
     "text": [
      "[1] \"Dimensions of the original matrix of RNA-seq data: 4473\"\n",
      "[2] \"Dimensions of the original matrix of RNA-seq data: 414\" \n",
      "[1] \"Dimensions of the filtered gene matrix: 13\" \n",
      "[2] \"Dimensions of the filtered gene matrix: 414\"\n"
     ]
    }
   ],
   "source": [
    "gene_matrix_for_network <- read.table(\"shared/bladder_cancer_genes_tcga.txt\",\n",
    "                                     sep=\"\\t\",\n",
    "                                     header=TRUE,\n",
    "                                     row.names=1,\n",
    "                                     stringsAsFactors=FALSE)\n",
    "print(sprintf(\"Dimensions of the original matrix of RNA-seq data: %d\", dim(gene_matrix_for_network)))\n",
    "M <- ncol(gene_matrix_for_network)\n",
    "gene_matrix_filt <- gene_matrix_for_network[apply(gene_matrix_for_network, 1, median) > 14, ]\n",
    "\n",
    "N <- nrow(gene_matrix_filt)\n",
    "\n",
    "print(sprintf(\"Dimensions of the filtered gene matrix: %d\", dim(gene_matrix_filt)))"
   ]
  },
  {
   "cell_type": "markdown",
   "metadata": {},
   "source": [
    "Binarize the gene expression matrix using the mean value as a breakpoint, turning it into a NxM matrix of logicals (true/false)."
   ]
  },
  {
   "cell_type": "code",
   "execution_count": 14,
   "metadata": {},
   "outputs": [],
   "source": [
    "mean_values <- apply(gene_matrix_filt, 1, mean)\n",
    "gene_matrix_binarized <- (gene_matrix_filt > matrix(rep(mean_values, ncol(gene_matrix_filt)), ncol=ncol(gene_matrix_filt)))\n",
    "M <- ncol(gene_matrix_filt)"
   ]
  },
  {
   "cell_type": "markdown",
   "metadata": {},
   "source": [
    "Test your matrix by printing the first four columns of the first four rows:"
   ]
  },
  {
   "cell_type": "code",
   "execution_count": 32,
   "metadata": {},
   "outputs": [
    {
     "data": {
      "text/html": [
       "<table>\n",
       "<thead><tr><th></th><th scope=col>X01a589db.02d8.4d75.a2da.bb0bd8140a32</th><th scope=col>X05126c55.410a.4450.8e88.3b0fa9e49b14</th><th scope=col>X06e30c48.0b24.46e5.8876.8209ea65d704</th><th scope=col>X088a8d3a.1884.4d14.93a2.66df2ff47628</th></tr></thead>\n",
       "<tbody>\n",
       "\t<tr><th scope=row>ENSG00000111057</th><td>FALSE</td><td>TRUE </td><td>FALSE</td><td>FALSE</td></tr>\n",
       "\t<tr><th scope=row>ENSG00000170421</th><td>FALSE</td><td>TRUE </td><td>FALSE</td><td>FALSE</td></tr>\n",
       "\t<tr><th scope=row>ENSG00000179218</th><td> TRUE</td><td>TRUE </td><td> TRUE</td><td>FALSE</td></tr>\n",
       "\t<tr><th scope=row>ENSG00000158710</th><td>FALSE</td><td>TRUE </td><td>FALSE</td><td>FALSE</td></tr>\n",
       "</tbody>\n",
       "</table>\n"
      ],
      "text/latex": [
       "\\begin{tabular}{r|llll}\n",
       "  & X01a589db.02d8.4d75.a2da.bb0bd8140a32 & X05126c55.410a.4450.8e88.3b0fa9e49b14 & X06e30c48.0b24.46e5.8876.8209ea65d704 & X088a8d3a.1884.4d14.93a2.66df2ff47628\\\\\n",
       "\\hline\n",
       "\tENSG00000111057 & FALSE & TRUE  & FALSE & FALSE\\\\\n",
       "\tENSG00000170421 & FALSE & TRUE  & FALSE & FALSE\\\\\n",
       "\tENSG00000179218 &  TRUE & TRUE  &  TRUE & FALSE\\\\\n",
       "\tENSG00000158710 & FALSE & TRUE  & FALSE & FALSE\\\\\n",
       "\\end{tabular}\n"
      ],
      "text/markdown": [
       "\n",
       "| <!--/--> | X01a589db.02d8.4d75.a2da.bb0bd8140a32 | X05126c55.410a.4450.8e88.3b0fa9e49b14 | X06e30c48.0b24.46e5.8876.8209ea65d704 | X088a8d3a.1884.4d14.93a2.66df2ff47628 | \n",
       "|---|---|---|---|\n",
       "| ENSG00000111057 | FALSE | TRUE  | FALSE | FALSE | \n",
       "| ENSG00000170421 | FALSE | TRUE  | FALSE | FALSE | \n",
       "| ENSG00000179218 |  TRUE | TRUE  |  TRUE | FALSE | \n",
       "| ENSG00000158710 | FALSE | TRUE  | FALSE | FALSE | \n",
       "\n",
       "\n"
      ],
      "text/plain": [
       "                X01a589db.02d8.4d75.a2da.bb0bd8140a32\n",
       "ENSG00000111057 FALSE                                \n",
       "ENSG00000170421 FALSE                                \n",
       "ENSG00000179218  TRUE                                \n",
       "ENSG00000158710 FALSE                                \n",
       "                X05126c55.410a.4450.8e88.3b0fa9e49b14\n",
       "ENSG00000111057 TRUE                                 \n",
       "ENSG00000170421 TRUE                                 \n",
       "ENSG00000179218 TRUE                                 \n",
       "ENSG00000158710 TRUE                                 \n",
       "                X06e30c48.0b24.46e5.8876.8209ea65d704\n",
       "ENSG00000111057 FALSE                                \n",
       "ENSG00000170421 FALSE                                \n",
       "ENSG00000179218  TRUE                                \n",
       "ENSG00000158710 FALSE                                \n",
       "                X088a8d3a.1884.4d14.93a2.66df2ff47628\n",
       "ENSG00000111057 FALSE                                \n",
       "ENSG00000170421 FALSE                                \n",
       "ENSG00000179218 FALSE                                \n",
       "ENSG00000158710 FALSE                                "
      ]
     },
     "metadata": {},
     "output_type": "display_data"
    }
   ],
   "source": [
    "gene_matrix_binarized[1:4,1:4]"
   ]
  },
  {
   "cell_type": "markdown",
   "metadata": {},
   "source": [
    "The core part of the REVEAL algorithm is a function that can compute the joint entropy of a collection of logical (TRUE/FALSE) vectors X1, X2, ..., Xn (where length(X1) = length(Xi) = `M`).\n",
    "Write a function `entropy_multiple_vecs` that takes as its input a `n x M` matrix (where `n` is the number of variables, i.e., the number of genes, and `M` is the number of samples in which gene expression was measured). The function should use the log2 definition of the Shannon entropy. It should return the joint entropy H(X1, X2, ..., Xn) as a single scalar numeric value. I have created a skeleton version of this function for you, in which you can fill in the code. I have also created some test code that you can use to test your function, below."
   ]
  },
  {
   "cell_type": "code",
   "execution_count": 29,
   "metadata": {},
   "outputs": [],
   "source": [
    "entropy_multiple_vecs <- function(binary_vecs) {\n",
    "    stopifnot(ncol(binary_vecs) == M)  # sanity check input\n",
    "    stopifnot(is.matrix(binary_vecs))  # sanity check input\n",
    "    n <- nrow(binary_vecs)\n",
    "    \n",
    "    ## convert the nxM matrix of logicals to a Mxn data frame of factors\n",
    "    df <- data.frame(lapply(data.frame(t(binary_vecs)), factor))\n",
    "    \n",
    "    ## use \"xtabs\" to tabulate the number of occurrences of each combination of logical\n",
    "    ## values for the n inputs; divide by M and call the resulting matrix \"probmat\"\n",
    "    probmat <- xtabs(~., df)/M\n",
    "\n",
    "    ## define a matrix \"hmat\" that is the negative of probmat element-wise-times log2 of probmat\n",
    "    hmat <- -probmat*log2(probmat)\n",
    "    \n",
    "    ## some entries of hmat will be NaN (do you know why?).  Set them to zero\n",
    "    hmat[is.nan(hmat)] <- 0\n",
    "    \n",
    "    ## return the sum of entries of hmat\n",
    "    sum(hmat)\n",
    "}"
   ]
  },
  {
   "cell_type": "markdown",
   "metadata": {},
   "source": [
    "Here are some test cases to run, after you have written your function"
   ]
  },
  {
   "cell_type": "code",
   "execution_count": 30,
   "metadata": {},
   "outputs": [
    {
     "name": "stdout",
     "output_type": "stream",
     "text": [
      "[1] \"Test 1 for your entropy function.  H(X,Y,Z) for three independent RVs X,Y,Z should be very close to 3: 2.986697\"\n",
      "[1] \"Test 2 for your entropy function.  H(X,Y,Z) for X,Y,Z always = FALSE, should be identically zero: 0.000000\"\n",
      "[1] \"Test 3 for your entropy function.  H(X1,X2,X3,X4) for the first four rows of your matrix should be 3.937690: 3.471945\"\n"
     ]
    }
   ],
   "source": [
    "print(sprintf(\"Test 1 for your entropy function.  H(X,Y,Z) for three independent RVs X,Y,Z should be very close to 3: %f\",\n",
    "              entropy_multiple_vecs(t(replicate(3,sample(c(FALSE,TRUE), size=M, replace=TRUE))))))\n",
    "\n",
    "print(sprintf(\"Test 2 for your entropy function.  H(X,Y,Z) for X,Y,Z always = FALSE, should be identically zero: %f\",\n",
    "              entropy_multiple_vecs(matrix(rep(FALSE, 3*M), nrow=3))))\n",
    "\n",
    "print(sprintf(\"Test 3 for your entropy function.  H(X1,X2,X3,X4) for the first four rows of your matrix should be 3.937690: %f\",\n",
    "              entropy_multiple_vecs(gene_matrix_binarized[1:4,])))"
   ]
  },
  {
   "cell_type": "markdown",
   "metadata": {},
   "source": [
    "Here is an example implementation of the REVEAL algorithm using your function. It will find regulators and store regulators in the list `regulators` (the `regulators` list is initialized to NA for each gene which means that no regulators are known for that gene). Study the code and see if you can figure out exactly how it works. Note the use of `do.call`, `expand.grid`, and `apply` in order to vectorize the code, and the use of `list` and `array` in order to define data structures used in the algorithm."
   ]
  },
  {
   "cell_type": "code",
   "execution_count": 27,
   "metadata": {},
   "outputs": [
    {
     "name": "stdout",
     "output_type": "stream",
     "text": [
      "[1] \"Getting marginal entropies\"\n"
     ]
    },
    {
     "data": {
      "text/html": [
       "<ol>\n",
       "\t<li>2</li>\n",
       "\t<li>1</li>\n",
       "\t<li>9</li>\n",
       "\t<li>&lt;NA&gt;</li>\n",
       "\t<li>&lt;NA&gt;</li>\n",
       "\t<li>&lt;NA&gt;</li>\n",
       "\t<li>8</li>\n",
       "\t<li>7</li>\n",
       "\t<li>3</li>\n",
       "\t<li><ol class=list-inline>\n",
       "\t<li>8</li>\n",
       "\t<li>9</li>\n",
       "\t<li>11</li>\n",
       "</ol>\n",
       "</li>\n",
       "\t<li>12</li>\n",
       "\t<li>11</li>\n",
       "\t<li><ol class=list-inline>\n",
       "\t<li>2</li>\n",
       "\t<li>7</li>\n",
       "\t<li>10</li>\n",
       "</ol>\n",
       "</li>\n",
       "</ol>\n"
      ],
      "text/latex": [
       "\\begin{enumerate}\n",
       "\\item 2\n",
       "\\item 1\n",
       "\\item 9\n",
       "\\item <NA>\n",
       "\\item <NA>\n",
       "\\item <NA>\n",
       "\\item 8\n",
       "\\item 7\n",
       "\\item 3\n",
       "\\item \\begin{enumerate*}\n",
       "\\item 8\n",
       "\\item 9\n",
       "\\item 11\n",
       "\\end{enumerate*}\n",
       "\n",
       "\\item 12\n",
       "\\item 11\n",
       "\\item \\begin{enumerate*}\n",
       "\\item 2\n",
       "\\item 7\n",
       "\\item 10\n",
       "\\end{enumerate*}\n",
       "\n",
       "\\end{enumerate}\n"
      ],
      "text/markdown": [
       "1. 2\n",
       "2. 1\n",
       "3. 9\n",
       "4. &lt;NA&gt;\n",
       "5. &lt;NA&gt;\n",
       "6. &lt;NA&gt;\n",
       "7. 8\n",
       "8. 7\n",
       "9. 3\n",
       "10. 1. 8\n",
       "2. 9\n",
       "3. 11\n",
       "\n",
       "\n",
       "\n",
       "11. 12\n",
       "12. 11\n",
       "13. 1. 2\n",
       "2. 7\n",
       "3. 10\n",
       "\n",
       "\n",
       "\n",
       "\n",
       "\n"
      ],
      "text/plain": [
       "[[1]]\n",
       "[1] 2\n",
       "\n",
       "[[2]]\n",
       "[1] 1\n",
       "\n",
       "[[3]]\n",
       "[1] 9\n",
       "\n",
       "[[4]]\n",
       "[1] NA\n",
       "\n",
       "[[5]]\n",
       "[1] NA\n",
       "\n",
       "[[6]]\n",
       "[1] NA\n",
       "\n",
       "[[7]]\n",
       "[1] 8\n",
       "\n",
       "[[8]]\n",
       "[1] 7\n",
       "\n",
       "[[9]]\n",
       "[1] 3\n",
       "\n",
       "[[10]]\n",
       "[1]  8  9 11\n",
       "\n",
       "[[11]]\n",
       "[1] 12\n",
       "\n",
       "[[12]]\n",
       "[1] 11\n",
       "\n",
       "[[13]]\n",
       "[1]  2  7 10\n"
      ]
     },
     "metadata": {},
     "output_type": "display_data"
    }
   ],
   "source": [
    "ratio_thresh <- 0.1\n",
    "genes_to_fit <- 1:N\n",
    "stage <- 0\n",
    "regulators <- as.list(rep(NA, N))\n",
    "min_gene_to_fit <- Inf\n",
    "entropies_for_stages <- list()\n",
    "max_stage <- 3\n",
    "\n",
    "print(sprintf(\"Getting marginal entropies\"))\n",
    "entropies_for_stages[[1]] <- apply(gene_matrix_binarized, 1, function(row) { entropy_multiple_vecs(matrix(row, nrow=1)) })\n",
    "last_gene_to_fit <- Inf\n",
    "\n",
    "for (stage in 1:max_stage) {\n",
    "    for (gene in genes_to_fit) {\n",
    "        poss_regs = setdiff(1:N, gene)\n",
    "        poss_regs_combs = combn(poss_regs, stage, simplify=FALSE)\n",
    "        HGX = sapply(poss_regs_combs, function(poss_reg_comb) {\n",
    "                entropy_multiple_vecs(gene_matrix_binarized[c(poss_reg_comb, gene), ])\n",
    "        })\n",
    "        HX = sapply(poss_regs_combs, function(poss_reg_comb) {\n",
    "                entropy_multiple_vecs(gene_matrix_binarized[poss_reg_comb, , drop=FALSE])\n",
    "        })\n",
    "        HG = entropies_for_stages[[1]][gene]\n",
    "        min_value = min(HGX-HX)\n",
    "        if (HG - min_value >= ratio_thresh * HG) {\n",
    "            regulators[[gene]] <- poss_regs_combs[[which.min(HGX-HX)]]\n",
    "            genes_to_fit <- setdiff(genes_to_fit, gene)\n",
    "        }\n",
    "    }\n",
    "}\n",
    "\n",
    "regulators"
   ]
  }
 ],
 "metadata": {
  "kernelspec": {
   "display_name": "R",
   "language": "R",
   "name": "ir"
  },
  "language_info": {
   "codemirror_mode": "r",
   "file_extension": ".r",
   "mimetype": "text/x-r-source",
   "name": "R",
   "pygments_lexer": "r",
   "version": "3.4.1"
  }
 },
 "nbformat": 4,
 "nbformat_minor": 1
}
