{
 "cells": [
  {
   "cell_type": "markdown",
   "metadata": {},
   "source": [
    "# CSX46: Class session 2\n",
    "## *Introduction to the igraph package and the Pathway Commons network in SIF format*\n",
    "\n",
    "### Objective: load a network of human molecular interactions and create three igraph `Graph` objects from it (one for protein-protein interactions, one for metabolism interactions, and one for directed protein-protein interactions)\n",
    "\n",
    "In this notebook we will use the `igraph` package to load molecular interaction data (in edge-list format) into some networks. Documentation about the Python interface to the `igraph` package can be found here: https://igraph.org/python/#docs\n",
    "\n",
    "We will be loading the molecular interaction data from a data file in Simple Interaction File (SIF) format, that has been previously downloaded for you from the Pathway Commons 2.0 website (https://www.pathwaycommons.org/) and can be found on the JupyterHub server in `shared/pathway_commons.sif`. Here is a sneak peek at the file format:\n",
    "```\n",
    "A1BG    controls-expression-of  A2M\n",
    "A1BG    interacts-with  ABCC6\n",
    "A1BG    controls-phosphorylation-of     AKT1\n",
    "A1BG    controls-state-change-of        AKT1\n",
    "A1BG    interacts-with  ANXA7\n",
    "A1BG    interacts-with  CDKN1A\n",
    "A1BG    interacts-with  CRISP3\n",
    "A1BG    interacts-with  GDPD1\n",
    "A1BG    in-complex-with GRB2\n",
    "A1BG    interacts-with  GRB7\n",
    "```\n",
    "As you can see, SIF is a three-column tab-delimited data file format. The first and third columns contain names of molecules (in most cases a protein, but in some cases a metabolite or other chemical). The second column contains an interaction type, of which there are 13 (more about that below)."
   ]
  },
  {
   "cell_type": "markdown",
   "metadata": {},
   "source": [
    "To start with, we are going to need to import the `pandas` and `csv` packages:"
   ]
  },
  {
   "cell_type": "code",
   "execution_count": 1,
   "metadata": {},
   "outputs": [],
   "source": [
    "import pandas\n",
    "import csv"
   ]
  },
  {
   "cell_type": "markdown",
   "metadata": {},
   "source": [
    "OK, we are going to read in the Pathway Commons data in SIF format. Recall that a SIF file is a tab-separated value file. You can find the file as `shared/pathway_commons.sif`. Load it into a data frame `df` using `pandas.read_csv`. Don't forget to specify that the separator is the tab `\\t`. Use the `names` argument to name the three columns `species1`, `interaction_type`, and `species2`. Note: for each row, the `interaction_type` column contains one of 11 different interaction types (identified by a string, like `interacts-with` or `controls-production-of`). Specify that no quoting is allowed using `quoting=csv.QUOTE_NONE`. Note: if you are new to `pandas`, you may find it helpful to run `help(pandas.read_csv)`."
   ]
  },
  {
   "cell_type": "code",
   "execution_count": 2,
   "metadata": {},
   "outputs": [],
   "source": []
  },
  {
   "cell_type": "markdown",
   "metadata": {},
   "source": [
    "Let's take a peek at `df` using the `pandas.core.frame.DataFrame.head` method:"
   ]
  },
  {
   "cell_type": "code",
   "execution_count": 3,
   "metadata": {},
   "outputs": [
    {
     "data": {
      "text/html": [
       "<div>\n",
       "<style scoped>\n",
       "    .dataframe tbody tr th:only-of-type {\n",
       "        vertical-align: middle;\n",
       "    }\n",
       "\n",
       "    .dataframe tbody tr th {\n",
       "        vertical-align: top;\n",
       "    }\n",
       "\n",
       "    .dataframe thead th {\n",
       "        text-align: right;\n",
       "    }\n",
       "</style>\n",
       "<table border=\"1\" class=\"dataframe\">\n",
       "  <thead>\n",
       "    <tr style=\"text-align: right;\">\n",
       "      <th></th>\n",
       "      <th>species1</th>\n",
       "      <th>interaction_type</th>\n",
       "      <th>species2</th>\n",
       "    </tr>\n",
       "  </thead>\n",
       "  <tbody>\n",
       "    <tr>\n",
       "      <th>0</th>\n",
       "      <td>A1BG</td>\n",
       "      <td>controls-expression-of</td>\n",
       "      <td>A2M</td>\n",
       "    </tr>\n",
       "    <tr>\n",
       "      <th>1</th>\n",
       "      <td>A1BG</td>\n",
       "      <td>interacts-with</td>\n",
       "      <td>ABCC6</td>\n",
       "    </tr>\n",
       "    <tr>\n",
       "      <th>2</th>\n",
       "      <td>A1BG</td>\n",
       "      <td>controls-phosphorylation-of</td>\n",
       "      <td>AKT1</td>\n",
       "    </tr>\n",
       "    <tr>\n",
       "      <th>3</th>\n",
       "      <td>A1BG</td>\n",
       "      <td>controls-state-change-of</td>\n",
       "      <td>AKT1</td>\n",
       "    </tr>\n",
       "    <tr>\n",
       "      <th>4</th>\n",
       "      <td>A1BG</td>\n",
       "      <td>interacts-with</td>\n",
       "      <td>ANXA7</td>\n",
       "    </tr>\n",
       "  </tbody>\n",
       "</table>\n",
       "</div>"
      ],
      "text/plain": [
       "  species1             interaction_type species2\n",
       "0     A1BG       controls-expression-of      A2M\n",
       "1     A1BG               interacts-with    ABCC6\n",
       "2     A1BG  controls-phosphorylation-of     AKT1\n",
       "3     A1BG     controls-state-change-of     AKT1\n",
       "4     A1BG               interacts-with    ANXA7"
      ]
     },
     "execution_count": 3,
     "metadata": {},
     "output_type": "execute_result"
    }
   ],
   "source": []
  },
  {
   "cell_type": "markdown",
   "metadata": {},
   "source": [
    "Next, for each of the three types of networks, define a `set` of the relevant interaction types for the given network. We'll abbreviate the three network types as follows: \n",
    "\n",
    "- protein-protein interaction network: PPI\n",
    "- metabolic network: metab\n",
    "- protein-protein directed interaction network: PPD\n",
    "\n",
    "Let's assume that the 13 different interaction types map to the three different network types as follows:\n",
    "\n",
    "- PPI network contains edges of interaction type `interacts-with`, `in-complex-with`, and `neighbor-of`\n",
    "\n",
    "- metab network contains edges of interaction type `controls-production-of`, `consumption-controlled-by`, and `controls-transport-of-chemical`\n",
    "\n",
    "- PPD network contains edges of interaction type `catalysis-precedes`, `controls-phosphorylation-of`, `controls-state-change-of`, `controls-transport-of`, and `controls-expression-of`\n",
    "\n",
    "(note, there are two interaction types, `reacts-with` and `chemical-affects`, that we will not be working with in this notebook).\n",
    "\n",
    "So, define three `set` objects containing the aforementioned `interaction_type` strings, one for each of the three types of networks:"
   ]
  },
  {
   "cell_type": "code",
   "execution_count": 4,
   "metadata": {},
   "outputs": [],
   "source": [
    "interaction_types_ppi = \n",
    "\n",
    "interaction_types_metab = \n",
    "\n",
    "interaction_types_ppd = "
   ]
  },
  {
   "cell_type": "markdown",
   "metadata": {},
   "source": [
    "Now, sub-select rows from `df` for each of the three networks, using the `pandas.core.series.Series.isin` method:"
   ]
  },
  {
   "cell_type": "code",
   "execution_count": 5,
   "metadata": {
    "scrolled": true
   },
   "outputs": [],
   "source": [
    "df_ppi = df[df.interaction_type.isin(interaction_types_ppi)]\n",
    "df_metab = \n",
    "df_ppd = "
   ]
  },
  {
   "cell_type": "markdown",
   "metadata": {},
   "source": [
    "Now, generate an edge-list representation of each of the three networks, by subsetting to the `species1` and `species2` columns. (Note: this means that the specific interaction type information is being dropped from each of the networks). Then convert to a `numpy.ndarray` by referencing the `.values` member, and then apply the `numpy.ndarray.tolist()` method:"
   ]
  },
  {
   "cell_type": "code",
   "execution_count": 6,
   "metadata": {},
   "outputs": [],
   "source": [
    "df_ppi_el = \n",
    "df_metab_el = \n",
    "df_ppd_el = "
   ]
  },
  {
   "cell_type": "markdown",
   "metadata": {},
   "source": [
    "Take a peek at the edge-list representation for the PPI graph, using list indexing to see the first six entries:"
   ]
  },
  {
   "cell_type": "code",
   "execution_count": 7,
   "metadata": {},
   "outputs": [
    {
     "data": {
      "text/plain": [
       "[['A1BG', 'ABCC6'],\n",
       " ['A1BG', 'ANXA7'],\n",
       " ['A1BG', 'CDKN1A'],\n",
       " ['A1BG', 'CRISP3'],\n",
       " ['A1BG', 'GDPD1'],\n",
       " ['A1BG', 'GRB2']]"
      ]
     },
     "execution_count": 7,
     "metadata": {},
     "output_type": "execute_result"
    }
   ],
   "source": []
  },
  {
   "cell_type": "markdown",
   "metadata": {},
   "source": [
    "Yup, that's an edge-list. \n",
    "\n",
    "Now, import the `igraph` package"
   ]
  },
  {
   "cell_type": "code",
   "execution_count": 8,
   "metadata": {},
   "outputs": [],
   "source": []
  },
  {
   "cell_type": "markdown",
   "metadata": {},
   "source": [
    "Make an `igraph.Graph` Graph object for the PPI network, by passing `df_ppi_el` to the `Graph.TupleList()` constructor"
   ]
  },
  {
   "cell_type": "code",
   "execution_count": 9,
   "metadata": {},
   "outputs": [],
   "source": [
    "graph_ppi = "
   ]
  },
  {
   "cell_type": "markdown",
   "metadata": {},
   "source": [
    "View a summary of the graph, by passing the graph object to the `summary` function. You may want to consult the R documentation for the `igraph` function `summary` in order to interpret the output of running `summary`:\n",
    "https://igraph.org/r/doc/print.igraph.html"
   ]
  },
  {
   "cell_type": "code",
   "execution_count": 11,
   "metadata": {},
   "outputs": [
    {
     "name": "stdout",
     "output_type": "stream",
     "text": [
      "IGRAPH UN-- 17020 523498 -- \n",
      "+ attr: name (v)\n"
     ]
    }
   ],
   "source": []
  },
  {
   "cell_type": "markdown",
   "metadata": {},
   "source": [
    "How many vertices does the PPI network have?  How many edges? Is it directed or undirected?"
   ]
  },
  {
   "cell_type": "markdown",
   "metadata": {},
   "source": [
    "Now do the same for the metabolic network, but specifying `directed=True`."
   ]
  },
  {
   "cell_type": "code",
   "execution_count": 16,
   "metadata": {},
   "outputs": [
    {
     "name": "stdout",
     "output_type": "stream",
     "text": [
      "IGRAPH DN-- 7620 38145 -- \n",
      "+ attr: name (v)\n"
     ]
    }
   ],
   "source": [
    "graph_metab = "
   ]
  },
  {
   "cell_type": "markdown",
   "metadata": {},
   "source": [
    "Do you see where the `summary` information denotes that it is a directed graph? How many edges are in the metabolic network?"
   ]
  },
  {
   "cell_type": "markdown",
   "metadata": {},
   "source": [
    "Now, do the same for the directed protein-protein interaction network:"
   ]
  },
  {
   "cell_type": "code",
   "execution_count": 17,
   "metadata": {},
   "outputs": [
    {
     "name": "stdout",
     "output_type": "stream",
     "text": [
      "IGRAPH DN-- 16063 359713 -- \n",
      "+ attr: name (v)\n"
     ]
    }
   ],
   "source": [
    "graph_ppd = "
   ]
  },
  {
   "cell_type": "markdown",
   "metadata": {},
   "source": [
    "Question: of the three networks that you just created, which has the most edges?"
   ]
  },
  {
   "cell_type": "markdown",
   "metadata": {},
   "source": [
    "Now, let's use igraph to draw a small toy network (not the whole PPI!)\n",
    "\n",
    "To do this, first we need to import cairo"
   ]
  },
  {
   "cell_type": "code",
   "execution_count": 18,
   "metadata": {},
   "outputs": [],
   "source": []
  },
  {
   "cell_type": "markdown",
   "metadata": {},
   "source": [
    "Next, we need to create a small graph. Let's make a three-vertex undirected graph from an edge-list. Let's connect all vertices to all other vertices: 1<->2, 2<->3, 3<->1. We'll once again use `igraph.Graph.TupleList` to do this:\n"
   ]
  },
  {
   "cell_type": "code",
   "execution_count": 20,
   "metadata": {},
   "outputs": [],
   "source": [
    "testgraph = "
   ]
  },
  {
   "cell_type": "markdown",
   "metadata": {},
   "source": [
    "Now, let's use the static method `igraph.drawing.plot` to plot `testgraph` (you'll probably want to specify `bbox=[0,0,100,100]` so the graph isn't huge by default):"
   ]
  },
  {
   "cell_type": "code",
   "execution_count": 21,
   "metadata": {},
   "outputs": [
    {
     "data": {
      "image/svg+xml": [
       "<?xml version=\"1.0\" encoding=\"UTF-8\"?>\n",
       "<svg xmlns=\"http://www.w3.org/2000/svg\" xmlns:xlink=\"http://www.w3.org/1999/xlink\" width=\"100pt\" height=\"100pt\" viewBox=\"0 0 100 100\" version=\"1.1\">\n",
       "<g id=\"surface2\">\n",
       "<rect x=\"0\" y=\"0\" width=\"100\" height=\"100\" style=\"fill:rgb(100%,100%,100%);fill-opacity:1;stroke:none;\"/>\n",
       "<path style=\"fill:none;stroke-width:1;stroke-linecap:butt;stroke-linejoin:miter;stroke:rgb(26.666667%,26.666667%,26.666667%);stroke-opacity:1;stroke-miterlimit:10;\" d=\"M 20 48.539062 L 77.976562 80 \"/>\n",
       "<path style=\"fill:none;stroke-width:1;stroke-linecap:butt;stroke-linejoin:miter;stroke:rgb(26.666667%,26.666667%,26.666667%);stroke-opacity:1;stroke-miterlimit:10;\" d=\"M 77.976562 80 L 80 20 \"/>\n",
       "<path style=\"fill:none;stroke-width:1;stroke-linecap:butt;stroke-linejoin:miter;stroke:rgb(26.666667%,26.666667%,26.666667%);stroke-opacity:1;stroke-miterlimit:10;\" d=\"M 20 48.539062 L 80 20 \"/>\n",
       "<path style=\"fill-rule:nonzero;fill:rgb(100%,0%,0%);fill-opacity:1;stroke-width:1;stroke-linecap:butt;stroke-linejoin:miter;stroke:rgb(0%,0%,0%);stroke-opacity:1;stroke-miterlimit:10;\" d=\"M 30 48.539062 C 30 54.0625 25.523438 58.539062 20 58.539062 C 14.476562 58.539062 10 54.0625 10 48.539062 C 10 43.015625 14.476562 38.539062 20 38.539062 C 25.523438 38.539062 30 43.015625 30 48.539062 \"/>\n",
       "<path style=\"fill-rule:nonzero;fill:rgb(100%,0%,0%);fill-opacity:1;stroke-width:1;stroke-linecap:butt;stroke-linejoin:miter;stroke:rgb(0%,0%,0%);stroke-opacity:1;stroke-miterlimit:10;\" d=\"M 87.976562 80 C 87.976562 85.523438 83.5 90 77.976562 90 C 72.453125 90 67.976562 85.523438 67.976562 80 C 67.976562 74.476562 72.453125 70 77.976562 70 C 83.5 70 87.976562 74.476562 87.976562 80 \"/>\n",
       "<path style=\"fill-rule:nonzero;fill:rgb(100%,0%,0%);fill-opacity:1;stroke-width:1;stroke-linecap:butt;stroke-linejoin:miter;stroke:rgb(0%,0%,0%);stroke-opacity:1;stroke-miterlimit:10;\" d=\"M 90 20 C 90 25.523438 85.523438 30 80 30 C 74.476562 30 70 25.523438 70 20 C 70 14.476562 74.476562 10 80 10 C 85.523438 10 90 14.476562 90 20 \"/>\n",
       "</g>\n",
       "</svg>\n"
      ],
      "text/plain": [
       "<igraph.drawing.Plot at 0x7f9cc18e5320>"
      ]
     },
     "execution_count": 21,
     "metadata": {},
     "output_type": "execute_result"
    }
   ],
   "source": []
  }
 ],
 "metadata": {
  "kernelspec": {
   "display_name": "Python 3",
   "language": "python",
   "name": "python3"
  },
  "language_info": {
   "codemirror_mode": {
    "name": "ipython",
    "version": 3
   },
   "file_extension": ".py",
   "mimetype": "text/x-python",
   "name": "python",
   "nbconvert_exporter": "python",
   "pygments_lexer": "ipython3",
   "version": "3.6.9"
  }
 },
 "nbformat": 4,
 "nbformat_minor": 1
}
