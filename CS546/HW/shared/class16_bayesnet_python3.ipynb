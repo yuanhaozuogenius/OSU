{
 "cells": [
  {
   "cell_type": "markdown",
   "metadata": {},
   "source": [
    "# Class 16:  Bayesian Networks\n",
    "## Infer a Bayesian network from a matrix of discretized phospho-flow cytometry data.\n",
    "### Based on supplementary data from the 2005 article by Karen Sachs et al. (Science v308, 2005). \n",
    "\n",
    "In this class exercise, we will use the fundamental theorem for the likelihood of a Bayesian network structure for categorical variables, in order to score the posterior probability of the network shown in the Sachs et al. article (Figure 3A) vs. the phospho-flow cytometry data that the same authors provided in their supplementary data. The phospho-flow cytometry data have been already discretized for you (see \"class16_bayesnet_dataprep_R.ipynb\").  We will need to implement a single-vertex log-likelihood function using Theorem 1 from the article by Cooper & Herskovits in *Machine Learning* (volume 9, pages 309-347, 1992)."
   ]
  },
  {
   "cell_type": "markdown",
   "metadata": {},
   "source": [
    "For this notebook, we will need a bunch of python modules"
   ]
  },
  {
   "cell_type": "code",
   "execution_count": 10,
   "metadata": {},
   "outputs": [],
   "source": [
    "import numpy\n",
    "import pandas\n",
    "import math\n",
    "import scipy.special\n",
    "import igraph\n",
    "import itertools\n",
    "import matplotlib.pyplot"
   ]
  },
  {
   "cell_type": "markdown",
   "metadata": {},
   "source": [
    "Load the tab-delimited data file of discretized phosphoprotein expression data (12 columns; first 11 columns are the expression levels -- \"low\", \"medium\", \"high\"; last column is the experiment identifier for the row; there are nine experiments). Print out the first six lines of the data frame, so you can see what it looks like."
   ]
  },
  {
   "cell_type": "code",
   "execution_count": 1,
   "metadata": {},
   "outputs": [
    {
     "data": {
      "text/html": [
       "<div>\n",
       "<style scoped>\n",
       "    .dataframe tbody tr th:only-of-type {\n",
       "        vertical-align: middle;\n",
       "    }\n",
       "\n",
       "    .dataframe tbody tr th {\n",
       "        vertical-align: top;\n",
       "    }\n",
       "\n",
       "    .dataframe thead th {\n",
       "        text-align: right;\n",
       "    }\n",
       "</style>\n",
       "<table border=\"1\" class=\"dataframe\">\n",
       "  <thead>\n",
       "    <tr style=\"text-align: right;\">\n",
       "      <th></th>\n",
       "      <th>praf</th>\n",
       "      <th>pmek</th>\n",
       "      <th>plcg</th>\n",
       "      <th>PIP2</th>\n",
       "      <th>PIP3</th>\n",
       "      <th>p44.42</th>\n",
       "      <th>pakts473</th>\n",
       "      <th>PKA</th>\n",
       "      <th>PKC</th>\n",
       "      <th>P38</th>\n",
       "      <th>pjnk</th>\n",
       "      <th>expt</th>\n",
       "    </tr>\n",
       "  </thead>\n",
       "  <tbody>\n",
       "    <tr>\n",
       "      <th>0</th>\n",
       "      <td>low</td>\n",
       "      <td>low</td>\n",
       "      <td>low</td>\n",
       "      <td>low</td>\n",
       "      <td>high</td>\n",
       "      <td>low</td>\n",
       "      <td>low</td>\n",
       "      <td>medium</td>\n",
       "      <td>medium</td>\n",
       "      <td>high</td>\n",
       "      <td>high</td>\n",
       "      <td>1_cd3cd28</td>\n",
       "    </tr>\n",
       "    <tr>\n",
       "      <th>1</th>\n",
       "      <td>low</td>\n",
       "      <td>low</td>\n",
       "      <td>medium</td>\n",
       "      <td>low</td>\n",
       "      <td>low</td>\n",
       "      <td>medium</td>\n",
       "      <td>medium</td>\n",
       "      <td>medium</td>\n",
       "      <td>low</td>\n",
       "      <td>low</td>\n",
       "      <td>high</td>\n",
       "      <td>1_cd3cd28</td>\n",
       "    </tr>\n",
       "    <tr>\n",
       "      <th>2</th>\n",
       "      <td>medium</td>\n",
       "      <td>high</td>\n",
       "      <td>medium</td>\n",
       "      <td>low</td>\n",
       "      <td>medium</td>\n",
       "      <td>medium</td>\n",
       "      <td>medium</td>\n",
       "      <td>medium</td>\n",
       "      <td>medium</td>\n",
       "      <td>medium</td>\n",
       "      <td>medium</td>\n",
       "      <td>1_cd3cd28</td>\n",
       "    </tr>\n",
       "    <tr>\n",
       "      <th>3</th>\n",
       "      <td>medium</td>\n",
       "      <td>high</td>\n",
       "      <td>medium</td>\n",
       "      <td>low</td>\n",
       "      <td>low</td>\n",
       "      <td>low</td>\n",
       "      <td>low</td>\n",
       "      <td>medium</td>\n",
       "      <td>medium</td>\n",
       "      <td>medium</td>\n",
       "      <td>medium</td>\n",
       "      <td>1_cd3cd28</td>\n",
       "    </tr>\n",
       "    <tr>\n",
       "      <th>4</th>\n",
       "      <td>low</td>\n",
       "      <td>medium</td>\n",
       "      <td>low</td>\n",
       "      <td>low</td>\n",
       "      <td>medium</td>\n",
       "      <td>medium</td>\n",
       "      <td>medium</td>\n",
       "      <td>low</td>\n",
       "      <td>low</td>\n",
       "      <td>medium</td>\n",
       "      <td>high</td>\n",
       "      <td>1_cd3cd28</td>\n",
       "    </tr>\n",
       "    <tr>\n",
       "      <th>5</th>\n",
       "      <td>low</td>\n",
       "      <td>low</td>\n",
       "      <td>medium</td>\n",
       "      <td>low</td>\n",
       "      <td>low</td>\n",
       "      <td>medium</td>\n",
       "      <td>medium</td>\n",
       "      <td>medium</td>\n",
       "      <td>medium</td>\n",
       "      <td>high</td>\n",
       "      <td>high</td>\n",
       "      <td>1_cd3cd28</td>\n",
       "    </tr>\n",
       "  </tbody>\n",
       "</table>\n",
       "</div>"
      ],
      "text/plain": [
       "     praf    pmek    plcg PIP2    PIP3  p44.42 pakts473     PKA     PKC  \\\n",
       "0     low     low     low  low    high     low      low  medium  medium   \n",
       "1     low     low  medium  low     low  medium   medium  medium     low   \n",
       "2  medium    high  medium  low  medium  medium   medium  medium  medium   \n",
       "3  medium    high  medium  low     low     low      low  medium  medium   \n",
       "4     low  medium     low  low  medium  medium   medium     low     low   \n",
       "5     low     low  medium  low     low  medium   medium  medium  medium   \n",
       "\n",
       "      P38    pjnk       expt  \n",
       "0    high    high  1_cd3cd28  \n",
       "1     low    high  1_cd3cd28  \n",
       "2  medium  medium  1_cd3cd28  \n",
       "3  medium  medium  1_cd3cd28  \n",
       "4  medium    high  1_cd3cd28  \n",
       "5    high    high  1_cd3cd28  "
      ]
     },
     "execution_count": 1,
     "metadata": {},
     "output_type": "execute_result"
    }
   ],
   "source": [
    "g_discret_data = pandas.read_csv(\"shared/sachs_data_discretized.txt\",\n",
    "                                 sep=\"\\t\")\n",
    "g_discret_data.head(n=6)"
   ]
  },
  {
   "cell_type": "markdown",
   "metadata": {},
   "source": [
    "Define a log likelihood function for the vertex degree distribution. Compute a vector `degarray_float` of floating point values for the degree of each vertex. The log likelihood is the logarithm of the product (over all vertices) of the single-vertex power-law degree distribution, which we will define as 1/(1+k)^2. Remember that the log of the product is the sum of the logs, so you can just compute this as `numpy.sum` of `numpy.log` of `numpy.power(1.0 + degarray_float, -2)`"
   ]
  },
  {
   "cell_type": "code",
   "execution_count": 2,
   "metadata": {},
   "outputs": [],
   "source": [
    "def log_prob_network_prior(network):\n",
    "    degarray = numpy.sum(network, axis=0) + numpy.sum(network, axis=1)\n",
    "    degarray_float = numpy.zeros(len(degarray))\n",
    "    degarray_float[:] = degarray\n",
    "    return numpy.sum(numpy.log(numpy.power(1.0 + degarray_float, -2)))"
   ]
  },
  {
   "cell_type": "markdown",
   "metadata": {},
   "source": [
    "Define a vectorized log-factorial function, since it doesn't seem to be a builtin in python. Use the fact that factorial(n) = gamma(n+1), where `gamma` means the gamma function. Note that we can compute log gamma as `scipy.special.gammaln`."
   ]
  },
  {
   "cell_type": "code",
   "execution_count": 3,
   "metadata": {},
   "outputs": [],
   "source": [
    "def lfactorial(n):\n",
    "    return scipy.special.gammaln(n+1)"
   ]
  },
  {
   "cell_type": "markdown",
   "metadata": {},
   "source": [
    "Define a log likelihood function for a single vertex, based on Theorem 1 in the 1992 article in *Machine Learning* by Cooper & Herskovits. Note:  we are using igraph's adjacency matrix format which is the transpose of Newman's adjacency matrix definition!"
   ]
  },
  {
   "cell_type": "code",
   "execution_count": 4,
   "metadata": {},
   "outputs": [],
   "source": [
    "def log_likelihood_network_vertex(network, vertex, discret_data):\n",
    "    # network is a NxN numpy matrix (N = 11 vertices)\n",
    "    # vertex is an integer\n",
    "    # discret_data is \"g_discret_data\" (N = 11 vertices, M = 7466 samples)\n",
    "    parents_vertex = numpy.where(network[:,vertex]==1)[0].tolist()\n",
    "    all_vertices = parents_vertex.copy()\n",
    "    all_vertices.append(vertex)\n",
    "    df1 = discret_data.iloc[:, all_vertices] \n",
    "\n",
    "    # change the name of the vertex column to \"vertex\"\n",
    "    df1_column_names = df1.columns.tolist()\n",
    "    df1_column_names[len(parents_vertex)] = \"vertex\"\n",
    "    df1.columns = df1_column_names\n",
    "\n",
    "    # count the data, grouped by all columns (parents & vertex)\n",
    "    df1 = df1.groupby(df1.columns.values.tolist()).size().reset_index(name='count')\n",
    "    \n",
    "    # make a new column called \"count factorial\" that is the log of the factorial of the count\n",
    "    df1[\"countfactorial\"] = lfactorial(df1[\"count\"].values)\n",
    "    \n",
    "    # drop the \"count\" column, as we no longer need it\n",
    "    df1 = df1.drop(\"count\", 1)\n",
    "    \n",
    "    if len(parents_vertex) > 0:\n",
    "\n",
    "        # sum up log-factorial-counts values for all possible states of \"vertex\" and its parent vertices, \n",
    "        # for each possible combination of parent vertices\n",
    "        nijkdf = df1.groupby(by=df1.columns[list(range(0,len(parents_vertex)))].tolist(), \n",
    "                    as_index=False).sum()\n",
    "        \n",
    "        # count number of cells with each possible combination of states for its parent vertices\n",
    "        df3 = discret_data.iloc[:, parents_vertex]\n",
    "        nijdf = df3.groupby(df3.columns.values.tolist(), as_index=False).size().reset_index()\n",
    "        nijdf_col_names = nijdf.columns.values\n",
    "        nijdf_col_names[len(nijdf_col_names)-1] = \"count\"\n",
    "        nijdf.columns = nijdf_col_names\n",
    "        \n",
    "        # compute the log factorial of the counts\n",
    "        nijdf[\"countfactorial\"] = math.log(2) - lfactorial(2 + nijdf[\"count\"])\n",
    "        \n",
    "        # drop the \"count\" column as we no longer need it\n",
    "        nijdf = nijdf.drop(\"count\", 1)\n",
    "        \n",
    "        # merge the two log-factorial-count values from nijdf and nijkdf, into two columns in a single dataframe\n",
    "        nmerge = nijdf.merge(nijkdf, how=\"outer\", \n",
    "                     on=nijkdf.columns[0:(len(nijkdf.columns)-1)].values.tolist(),\n",
    "                     copy=False)\n",
    "        \n",
    "        # sum the log-factorial-count values from nijdf and nijkdf\n",
    "        llh_res = numpy.sum(nmerge[\"countfactorial_x\"] + nmerge[\"countfactorial_y\"])\n",
    "    else:\n",
    "        # we handle the case of no parent vertices specially, to simplify the code\n",
    "        M = discret_data.shape[0]\n",
    "        llh_res = math.log(2) - lfactorial(M + 2) + numpy.sum(df1[\"countfactorial\"].values)\n",
    "    return llh_res"
   ]
  },
  {
   "cell_type": "markdown",
   "metadata": {},
   "source": [
    "Define a log-posterior-probability function for the whole graph, using the per-vertex likelihood and the network structure prior:"
   ]
  },
  {
   "cell_type": "code",
   "execution_count": 5,
   "metadata": {},
   "outputs": [],
   "source": [
    "def log_posterior_prob_network(network, discret_data):\n",
    "    Nvert = network.shape[1]\n",
    "    lpvert_values = []\n",
    "    for i in range(0, Nvert):\n",
    "        lpvert_value = log_likelihood_network_vertex(network, i, discret_data)\n",
    "        lpvert_values.append(lpvert_value)\n",
    "    return log_prob_network_prior(network) + numpy.sum(numpy.array(lpvert_values))"
   ]
  },
  {
   "cell_type": "markdown",
   "metadata": {},
   "source": [
    "Define an adjacency matrix for the \"real\" network shown in Fig. 3A of the Sachs et al. article (not including the \"missed\" edges which are the dotted arcs)."
   ]
  },
  {
   "cell_type": "code",
   "execution_count": 6,
   "metadata": {
    "scrolled": true
   },
   "outputs": [],
   "source": [
    "real_network_adj_np = numpy.zeros(shape=[11,11])\n",
    "molec_names = list(g_discret_data.columns)[0:11]\n",
    "real_network_adj_df = pandas.DataFrame(real_network_adj_np, index=molec_names, columns=molec_names)\n",
    "real_network_adj_df[\"PKA\"][\"PKC\"] = 1\n",
    "real_network_adj_df[\"praf\"][\"PKC\"] = 1\n",
    "real_network_adj_df[\"pjnk\"][\"PKC\"] = 1\n",
    "real_network_adj_df[\"P38\"][\"PKC\"] = 1\n",
    "real_network_adj_df[\"pjnk\"][\"PKA\"] = 1\n",
    "real_network_adj_df[\"P38\"][\"PKA\"] = 1\n",
    "real_network_adj_df[\"praf\"][\"PKA\"] = 1\n",
    "real_network_adj_df[\"pmek\"][\"PKA\"] = 1\n",
    "real_network_adj_df[\"p44.42\"][\"PKA\"] = 1  # p44.42 = ERK\n",
    "real_network_adj_df[\"pakts473\"][\"PKA\"] = 1\n",
    "real_network_adj_df[\"pakts473\"][\"p44.42\"] = 1\n",
    "real_network_adj_df[\"pmek\"][\"PKC\"] = 1\n",
    "real_network_adj_df[\"pmek\"][\"praf\"] = 1\n",
    "real_network_adj_df[\"p44.42\"][\"pmek\"] = 1\n",
    "real_network_adj_df[\"PIP2\"][\"plcg\"] = 1\n",
    "real_network_adj_df[\"PIP3\"][\"plcg\"] = 1\n",
    "real_network_adj_df[\"PIP2\"][\"PIP3\"] = 1\n",
    "real_network_adj = real_network_adj_df.values"
   ]
  },
  {
   "cell_type": "markdown",
   "metadata": {},
   "source": [
    "Make an igraph network out of the adjacency matrix that you just created, and print the network summary and plot the network."
   ]
  },
  {
   "cell_type": "code",
   "execution_count": 7,
   "metadata": {},
   "outputs": [
    {
     "data": {
      "text/plain": [
       "'IGRAPH D--- 11 17 -- '"
      ]
     },
     "execution_count": 7,
     "metadata": {},
     "output_type": "execute_result"
    }
   ],
   "source": [
    "real_network_igraph = igraph.Graph.Adjacency(real_network_adj.tolist())\n",
    "real_network_igraph.summary()"
   ]
  },
  {
   "cell_type": "markdown",
   "metadata": {},
   "source": [
    "Compute the log posterior probability of the real network `real_network_adj` from Sachs *et al.* Figure 3A, using your function `log_posterior_prob_network`."
   ]
  },
  {
   "cell_type": "code",
   "execution_count": 8,
   "metadata": {},
   "outputs": [
    {
     "name": "stdout",
     "output_type": "stream",
     "text": [
      "-84131.03111133902\n"
     ]
    }
   ],
   "source": [
    "lp_real = log_posterior_prob_network(real_network_adj, g_discret_data)\n",
    "print(lp_real)"
   ]
  },
  {
   "cell_type": "markdown",
   "metadata": {},
   "source": [
    "Generate 1000 random rewirings of the network -- eliminating any rewired digraphs that contain cycles -- and for each randomly rewired network compute the log posterior probability. Use `igraph.Graph.rewire_edges(prob=1, loops=False, multiple=False)` to randomly rewire the graph. Make sure to make a copy of the graph before you rewire it. Check that the rewired graph is a DAG using `igraph.Graph.is_dag()`. If it is a DAG, compute the log posterior probability of the network using `log_posterior_prob_network`. You can get the adjacency matrix for the random graph as a numpy array using `numpy.array(randgraph.get_adjacency().data)`  "
   ]
  },
  {
   "cell_type": "code",
   "execution_count": 12,
   "metadata": {},
   "outputs": [],
   "source": [
    "lprobs_rand = []\n",
    "for _ in itertools.repeat(None, 1000):\n",
    "    graphcopy = real_network_igraph.copy()\n",
    "    graphcopy.rewire_edges(prob=1, loops=False, multiple=False)\n",
    "    if graphcopy.is_dag():\n",
    "        lprobs_rand.append(log_posterior_prob_network(numpy.array(graphcopy.get_adjacency().data), \n",
    "                                                      g_discret_data))"
   ]
  },
  {
   "cell_type": "markdown",
   "metadata": {},
   "source": [
    "Histogram the log ratio of the \"real\" network's posterior probability to the posterior probabilities of each of the random networks. Does it appear that the published network is a reasonable approximation to the maximum *a posteriori* (MAP) estimate?  "
   ]
  },
  {
   "cell_type": "code",
   "execution_count": 13,
   "metadata": {},
   "outputs": [
    {
     "data": {
      "image/png": "[encoded data removed]",
      "text/plain": [
       "<Figure size 432x288 with 1 Axes>"
      ]
     },
     "metadata": {
      "needs_background": "light"
     },
     "output_type": "display_data"
    }
   ],
   "source": [
    "import matplotlib.pyplot\n",
    "matplotlib.pyplot.hist(lp_real - lprobs_rand)\n",
    "matplotlib.pyplot.xlabel(\"log(P(G_real|D)/P(G_rand|D))\")\n",
    "matplotlib.pyplot.ylabel(\"Frequency\")\n",
    "matplotlib.pyplot.show()"
   ]
  }
 ],
 "metadata": {
  "kernelspec": {
   "display_name": "Python 3",
   "language": "python",
   "name": "python3"
  },
  "language_info": {
   "codemirror_mode": {
    "name": "ipython",
    "version": 3
   },
   "file_extension": ".py",
   "mimetype": "text/x-python",
   "name": "python",
   "nbconvert_exporter": "python",
   "pygments_lexer": "ipython3",
   "version": "3.6.9"
  }
 },
 "nbformat": 4,
 "nbformat_minor": 1
}
