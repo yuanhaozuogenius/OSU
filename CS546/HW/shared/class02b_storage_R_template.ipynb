{
 "cells": [
  {
   "cell_type": "markdown",
   "metadata": {},
   "source": [
    "# Class Session 4 Exercise:\n",
    "## Comparing asymptotic running time for enumerating neighbors of all vertices in a graph"
   ]
  },
  {
   "cell_type": "markdown",
   "metadata": {},
   "source": [
    "We will measure the running time for enumerating the neighbor vertices for three different data structures for representing the graph:\n",
    "    adjacency matrix\n",
    "    adjacency list\n",
    "    edge list\n",
    "    \n",
    "First, we import all the R packages that we will need for this exercise:"
   ]
  },
  {
   "cell_type": "code",
   "execution_count": null,
   "metadata": {
    "collapsed": true
   },
   "outputs": [],
   "source": [
    "library(igraph)"
   ]
  },
  {
   "cell_type": "markdown",
   "metadata": {},
   "source": [
    "Define a function that enumerates the neighbors of a vertex i, when the \n",
    "graph is stored in adjacency matrix format (ones and zeroes).  Use the `which` function."
   ]
  },
  {
   "cell_type": "code",
   "execution_count": null,
   "metadata": {
    "collapsed": true
   },
   "outputs": [],
   "source": [
    "enumerate_matrix <- function(gmat, i) {\n",
    "    FILL IN HERE\n",
    "}"
   ]
  },
  {
   "cell_type": "markdown",
   "metadata": {},
   "source": [
    "Define a function that enumerates the neighbors of a vertex i, when the \n",
    "graph is stored in adjacency list format. Use the `[[` function (i..e, array indexing)."
   ]
  },
  {
   "cell_type": "code",
   "execution_count": null,
   "metadata": {
    "collapsed": true
   },
   "outputs": [],
   "source": [
    "enumerate_adj_list <- function(adj_list, i) {\n",
    "    FILL IN HERE\n",
    "}"
   ]
  },
  {
   "cell_type": "markdown",
   "metadata": {},
   "source": [
    "Define a function that enumerates the neighbors of a vertex i, when the \n",
    "graph is stored in edge-list format.  Use the `which` function and then the `c` (concatenate) function."
   ]
  },
  {
   "cell_type": "code",
   "execution_count": null,
   "metadata": {
    "collapsed": true
   },
   "outputs": [],
   "source": [
    "enumerate_edge_list <- function(edge_list, i) {\n",
    "    inds1 <- FILL IN HERE\n",
    "    inds2 <- FILL IN HERE\n",
    "    c(edge_list[inds1,2], edge_list[inds2,1])\n",
    "}"
   ]
  },
  {
   "cell_type": "markdown",
   "metadata": {},
   "source": [
    "This next function is the simulation funtion. Use the `sample_pa` function in igraph to generate a Barabasi-Albert (undirected) graph, with n vertices and m=5 (which should have number of edges equal to nm - m^2 / 2 - m/2).\n",
    "It returns a length-three list containing the average running time for enumerating the neighbor vertices of a vertex in the graph. "
   ]
  },
  {
   "cell_type": "code",
   "execution_count": 19,
   "metadata": {},
   "outputs": [],
   "source": [
    "dosim <- function(n) {\n",
    "\n",
    "    nrep <- 10\n",
    "    nsubrep <- 10\n",
    "    \n",
    "    simdf <- do.call(rbind,\n",
    "                     replicate(nrep, {\n",
    "                        # make a random undirected graph with fixed (average) vertex degree = 5\n",
    "                         g <- FILL IN HERE\n",
    "                         \n",
    "                         g_matrix <- # use igraph as_adjacency_matrix and then R as.matrix\n",
    "                         g_adj_list <- # use igraph as_adj_list\n",
    "                         g_edge_list <- # use igraph as_edgelist\n",
    "\n",
    "                         time_mat <- system.time(\n",
    "                             replicate(nsubrep, {\n",
    "                                 lapply(1:n,\n",
    "                                        function(i) {\n",
    "                                            # call enumerate_matrix for g_matrix and vertex i\n",
    "                                        })\n",
    "                             })\n",
    "                         )[1]\n",
    "                         \n",
    "                         time_adj_list <- system.time(\n",
    "                             replicate(nsubrep, {\n",
    "                                 lapply(1:n,\n",
    "                                        function(i) {\n",
    "                                            # call enumerate_adj_list for g_matrix and vertex i                                            \n",
    "                                        })\n",
    "                             })\n",
    "                         )[1]\n",
    "                         \n",
    "                         time_edge_list <- system.time(\n",
    "                             replicate(nsubrep, {\n",
    "                                 lapply(1:n,\n",
    "                                        function(i) {\n",
    "                                            # call enumerate_edge_list for g_matrix and vertex i                                                \n",
    "                                        })\n",
    "                             })\n",
    "                         )[1]\n",
    "\n",
    "                         rowdf <- data.frame(matrix=time_mat,\n",
    "                                             adjlist=time_adj_list,\n",
    "                                             edgelist=time_edge_list)\n",
    "                         \n",
    "                         rowdf\n",
    "                     }, simplify=FALSE)\n",
    "                     )\n",
    "    \n",
    "    # average over replicates\n",
    "    simres <- apply(simdf, 2, mean)\n",
    "    \n",
    "    # divide by n so that the running time results are on a per-vertex basis\n",
    "    simres/n\n",
    "}\n"
   ]
  },
  {
   "cell_type": "markdown",
   "metadata": {},
   "source": [
    "Run the function for the graphs of 100, 300, and 500 vertices, and gather the results in a list:"
   ]
  },
  {
   "cell_type": "code",
   "execution_count": 20,
   "metadata": {},
   "outputs": [],
   "source": [
    "nvals <- c(100, 300, 500)\n",
    "sim_data_list <- lapply(nvals, dosim)"
   ]
  },
  {
   "cell_type": "markdown",
   "metadata": {},
   "source": [
    "Rescale the list to make the numbers in milliseconds:"
   ]
  },
  {
   "cell_type": "code",
   "execution_count": 110,
   "metadata": {},
   "outputs": [],
   "source": [
    "sim_data_list_rescaled <- lapply(sim_data_list, function(v) {v*1000})"
   ]
  },
  {
   "cell_type": "markdown",
   "metadata": {},
   "source": [
    "Let's have a look at the data in the list format:"
   ]
  },
  {
   "cell_type": "code",
   "execution_count": 28,
   "metadata": {},
   "outputs": [
    {
     "data": {
      "text/html": [
       "<ol>\n",
       "\t<li><dl class=dl-horizontal>\n",
       "\t<dt>matrix</dt>\n",
       "\t\t<dd>0.0287599999999975</dd>\n",
       "\t<dt>adjlist</dt>\n",
       "\t\t<dd>0.00176000000000386</dd>\n",
       "\t<dt>edgelist</dt>\n",
       "\t\t<dd>0.18432</dd>\n",
       "</dl>\n",
       "</li>\n",
       "\t<li><dl class=dl-horizontal>\n",
       "\t<dt>matrix</dt>\n",
       "\t\t<dd>0.0696000000000026</dd>\n",
       "\t<dt>adjlist</dt>\n",
       "\t\t<dd>0.00171999999999798</dd>\n",
       "\t<dt>edgelist</dt>\n",
       "\t\t<dd>0.353239999999998</dd>\n",
       "</dl>\n",
       "</li>\n",
       "\t<li><dl class=dl-horizontal>\n",
       "\t<dt>matrix</dt>\n",
       "\t\t<dd>0.10284</dd>\n",
       "\t<dt>adjlist</dt>\n",
       "\t\t<dd>0.00173333333332721</dd>\n",
       "\t<dt>edgelist</dt>\n",
       "\t\t<dd>0.516826666666667</dd>\n",
       "</dl>\n",
       "</li>\n",
       "\t<li><dl class=dl-horizontal>\n",
       "\t<dt>matrix</dt>\n",
       "\t\t<dd>0.138470000000001</dd>\n",
       "\t<dt>adjlist</dt>\n",
       "\t\t<dd>0.00184999999999832</dd>\n",
       "\t<dt>edgelist</dt>\n",
       "\t\t<dd>0.675100000000001</dd>\n",
       "</dl>\n",
       "</li>\n",
       "\t<li><dl class=dl-horizontal>\n",
       "\t<dt>matrix</dt>\n",
       "\t\t<dd>0.168968</dd>\n",
       "\t<dt>adjlist</dt>\n",
       "\t\t<dd>0.00185600000000068</dd>\n",
       "\t<dt>edgelist</dt>\n",
       "\t\t<dd>0.806472</dd>\n",
       "</dl>\n",
       "</li>\n",
       "</ol>\n"
      ],
      "text/latex": [
       "\\begin{enumerate}\n",
       "\\item \\begin{description*}\n",
       "\\item[matrix] 0.0287599999999975\n",
       "\\item[adjlist] 0.00176000000000386\n",
       "\\item[edgelist] 0.18432\n",
       "\\end{description*}\n",
       "\n",
       "\\item \\begin{description*}\n",
       "\\item[matrix] 0.0696000000000026\n",
       "\\item[adjlist] 0.00171999999999798\n",
       "\\item[edgelist] 0.353239999999998\n",
       "\\end{description*}\n",
       "\n",
       "\\item \\begin{description*}\n",
       "\\item[matrix] 0.10284\n",
       "\\item[adjlist] 0.00173333333332721\n",
       "\\item[edgelist] 0.516826666666667\n",
       "\\end{description*}\n",
       "\n",
       "\\item \\begin{description*}\n",
       "\\item[matrix] 0.138470000000001\n",
       "\\item[adjlist] 0.00184999999999832\n",
       "\\item[edgelist] 0.675100000000001\n",
       "\\end{description*}\n",
       "\n",
       "\\item \\begin{description*}\n",
       "\\item[matrix] 0.168968\n",
       "\\item[adjlist] 0.00185600000000068\n",
       "\\item[edgelist] 0.806472\n",
       "\\end{description*}\n",
       "\n",
       "\\end{enumerate}\n"
      ],
      "text/markdown": [
       "1. matrix\n",
       ":   0.0287599999999975adjlist\n",
       ":   0.00176000000000386edgelist\n",
       ":   0.18432\n",
       "\n",
       "\n",
       "2. matrix\n",
       ":   0.0696000000000026adjlist\n",
       ":   0.00171999999999798edgelist\n",
       ":   0.353239999999998\n",
       "\n",
       "\n",
       "3. matrix\n",
       ":   0.10284adjlist\n",
       ":   0.00173333333332721edgelist\n",
       ":   0.516826666666667\n",
       "\n",
       "\n",
       "4. matrix\n",
       ":   0.138470000000001adjlist\n",
       ":   0.00184999999999832edgelist\n",
       ":   0.675100000000001\n",
       "\n",
       "\n",
       "5. matrix\n",
       ":   0.168968adjlist\n",
       ":   0.00185600000000068edgelist\n",
       ":   0.806472\n",
       "\n",
       "\n",
       "\n",
       "\n"
      ],
      "text/plain": [
       "[[1]]\n",
       "  matrix  adjlist edgelist \n",
       " 0.02876  0.00176  0.18432 \n",
       "\n",
       "[[2]]\n",
       "  matrix  adjlist edgelist \n",
       " 0.06960  0.00172  0.35324 \n",
       "\n",
       "[[3]]\n",
       "     matrix     adjlist    edgelist \n",
       "0.102840000 0.001733333 0.516826667 \n",
       "\n",
       "[[4]]\n",
       "  matrix  adjlist edgelist \n",
       " 0.13847  0.00185  0.67510 \n",
       "\n",
       "[[5]]\n",
       "  matrix  adjlist edgelist \n",
       "0.168968 0.001856 0.806472 \n"
      ]
     },
     "metadata": {},
     "output_type": "display_data"
    }
   ],
   "source": [
    "sim_data_list_rescaled"
   ]
  },
  {
   "cell_type": "markdown",
   "metadata": {},
   "source": [
    "Convert the list to a wide data frame, using do.call and rbind; make the network size the first column of the data frame (and as a factor)"
   ]
  },
  {
   "cell_type": "code",
   "execution_count": 78,
   "metadata": {},
   "outputs": [],
   "source": [
    "sim_data_list_df <- data.frame(network_size=as.factor(nvals),\n",
    "                               do.call(rbind, sim_data_list_rescaled))"
   ]
  },
  {
   "cell_type": "markdown",
   "metadata": {},
   "source": [
    "Let's have a look at the wide data frame format:"
   ]
  },
  {
   "cell_type": "code",
   "execution_count": 79,
   "metadata": {},
   "outputs": [
    {
     "data": {
      "text/html": [
       "<table>\n",
       "<thead><tr><th scope=col>network_size</th><th scope=col>matrix</th><th scope=col>adjlist</th><th scope=col>edgelist</th></tr></thead>\n",
       "<tbody>\n",
       "\t<tr><td>1000       </td><td>0.028760   </td><td>0.001760000</td><td>0.1843200  </td></tr>\n",
       "\t<tr><td>2000       </td><td>0.069600   </td><td>0.001720000</td><td>0.3532400  </td></tr>\n",
       "\t<tr><td>3000       </td><td>0.102840   </td><td>0.001733333</td><td>0.5168267  </td></tr>\n",
       "\t<tr><td>4000       </td><td>0.138470   </td><td>0.001850000</td><td>0.6751000  </td></tr>\n",
       "\t<tr><td>5000       </td><td>0.168968   </td><td>0.001856000</td><td>0.8064720  </td></tr>\n",
       "</tbody>\n",
       "</table>\n"
      ],
      "text/latex": [
       "\\begin{tabular}{r|llll}\n",
       " network\\_size & matrix & adjlist & edgelist\\\\\n",
       "\\hline\n",
       "\t 1000        & 0.028760    & 0.001760000 & 0.1843200  \\\\\n",
       "\t 2000        & 0.069600    & 0.001720000 & 0.3532400  \\\\\n",
       "\t 3000        & 0.102840    & 0.001733333 & 0.5168267  \\\\\n",
       "\t 4000        & 0.138470    & 0.001850000 & 0.6751000  \\\\\n",
       "\t 5000        & 0.168968    & 0.001856000 & 0.8064720  \\\\\n",
       "\\end{tabular}\n"
      ],
      "text/plain": [
       "  network_size matrix   adjlist     edgelist \n",
       "1 1000         0.028760 0.001760000 0.1843200\n",
       "2 2000         0.069600 0.001720000 0.3532400\n",
       "3 3000         0.102840 0.001733333 0.5168267\n",
       "4 4000         0.138470 0.001850000 0.6751000\n",
       "5 5000         0.168968 0.001856000 0.8064720"
      ]
     },
     "metadata": {},
     "output_type": "display_data"
    }
   ],
   "source": [
    "sim_data_list_df"
   ]
  },
  {
   "cell_type": "markdown",
   "metadata": {},
   "source": [
    "\"Melt\" the data into a narrow format:"
   ]
  },
  {
   "cell_type": "code",
   "execution_count": 80,
   "metadata": {},
   "outputs": [],
   "source": [
    "library(dplyr)\n",
    "library(reshape2)\n",
    "sim_data_list_melted <- melt(sim_data_list_df, id.vars=\"network_size\")"
   ]
  },
  {
   "cell_type": "markdown",
   "metadata": {},
   "source": [
    "Let's have a look at the narrow data frame format:"
   ]
  },
  {
   "cell_type": "code",
   "execution_count": 81,
   "metadata": {},
   "outputs": [
    {
     "data": {
      "text/html": [
       "<table>\n",
       "<thead><tr><th scope=col>network_size</th><th scope=col>variable</th><th scope=col>value</th></tr></thead>\n",
       "<tbody>\n",
       "\t<tr><td>1000       </td><td>matrix     </td><td>0.028760000</td></tr>\n",
       "\t<tr><td>2000       </td><td>matrix     </td><td>0.069600000</td></tr>\n",
       "\t<tr><td>3000       </td><td>matrix     </td><td>0.102840000</td></tr>\n",
       "\t<tr><td>4000       </td><td>matrix     </td><td>0.138470000</td></tr>\n",
       "\t<tr><td>5000       </td><td>matrix     </td><td>0.168968000</td></tr>\n",
       "\t<tr><td>1000       </td><td>adjlist    </td><td>0.001760000</td></tr>\n",
       "\t<tr><td>2000       </td><td>adjlist    </td><td>0.001720000</td></tr>\n",
       "\t<tr><td>3000       </td><td>adjlist    </td><td>0.001733333</td></tr>\n",
       "\t<tr><td>4000       </td><td>adjlist    </td><td>0.001850000</td></tr>\n",
       "\t<tr><td>5000       </td><td>adjlist    </td><td>0.001856000</td></tr>\n",
       "\t<tr><td>1000       </td><td>edgelist   </td><td>0.184320000</td></tr>\n",
       "\t<tr><td>2000       </td><td>edgelist   </td><td>0.353240000</td></tr>\n",
       "\t<tr><td>3000       </td><td>edgelist   </td><td>0.516826667</td></tr>\n",
       "\t<tr><td>4000       </td><td>edgelist   </td><td>0.675100000</td></tr>\n",
       "\t<tr><td>5000       </td><td>edgelist   </td><td>0.806472000</td></tr>\n",
       "</tbody>\n",
       "</table>\n"
      ],
      "text/latex": [
       "\\begin{tabular}{r|lll}\n",
       " network\\_size & variable & value\\\\\n",
       "\\hline\n",
       "\t 1000        & matrix      & 0.028760000\\\\\n",
       "\t 2000        & matrix      & 0.069600000\\\\\n",
       "\t 3000        & matrix      & 0.102840000\\\\\n",
       "\t 4000        & matrix      & 0.138470000\\\\\n",
       "\t 5000        & matrix      & 0.168968000\\\\\n",
       "\t 1000        & adjlist     & 0.001760000\\\\\n",
       "\t 2000        & adjlist     & 0.001720000\\\\\n",
       "\t 3000        & adjlist     & 0.001733333\\\\\n",
       "\t 4000        & adjlist     & 0.001850000\\\\\n",
       "\t 5000        & adjlist     & 0.001856000\\\\\n",
       "\t 1000        & edgelist    & 0.184320000\\\\\n",
       "\t 2000        & edgelist    & 0.353240000\\\\\n",
       "\t 3000        & edgelist    & 0.516826667\\\\\n",
       "\t 4000        & edgelist    & 0.675100000\\\\\n",
       "\t 5000        & edgelist    & 0.806472000\\\\\n",
       "\\end{tabular}\n"
      ],
      "text/plain": [
       "   network_size variable value      \n",
       "1  1000         matrix   0.028760000\n",
       "2  2000         matrix   0.069600000\n",
       "3  3000         matrix   0.102840000\n",
       "4  4000         matrix   0.138470000\n",
       "5  5000         matrix   0.168968000\n",
       "6  1000         adjlist  0.001760000\n",
       "7  2000         adjlist  0.001720000\n",
       "8  3000         adjlist  0.001733333\n",
       "9  4000         adjlist  0.001850000\n",
       "10 5000         adjlist  0.001856000\n",
       "11 1000         edgelist 0.184320000\n",
       "12 2000         edgelist 0.353240000\n",
       "13 3000         edgelist 0.516826667\n",
       "14 4000         edgelist 0.675100000\n",
       "15 5000         edgelist 0.806472000"
      ]
     },
     "metadata": {},
     "output_type": "display_data"
    }
   ],
   "source": [
    "sim_data_list_melted"
   ]
  },
  {
   "cell_type": "markdown",
   "metadata": {},
   "source": [
    "Let's plot the data.  The \"barchart\" function in lattice graphics is a nice way to plot a grouped bar plot from a narrow data frame. "
   ]
  },
  {
   "cell_type": "code",
   "execution_count": 108,
   "metadata": {},
   "outputs": [
    {
     "data": {},
     "metadata": {},
     "output_type": "display_data"
    },
    {
     "data": {
      "image/png": "[encoded data removed]"
     },
     "metadata": {},
     "output_type": "display_data"
    }
   ],
   "source": [
    "library(lattice)\n",
    "colors = c('red', 'orange', 'yellow')\n",
    "barchart(value~network_size, data=sim_data_list_melted, groups=variable,\n",
    "         auto.key=list(space='right'),\n",
    "        par.settings=list(superpose.polygon=list(col=colors)))"
   ]
  }
 ],
 "metadata": {
  "kernelspec": {
   "display_name": "R",
   "language": "R",
   "name": "ir"
  },
  "language_info": {
   "codemirror_mode": "r",
   "file_extension": ".r",
   "mimetype": "text/x-r-source",
   "name": "R",
   "pygments_lexer": "r",
   "version": "3.6.1"
  }
 },
 "nbformat": 4,
 "nbformat_minor": 1
}
