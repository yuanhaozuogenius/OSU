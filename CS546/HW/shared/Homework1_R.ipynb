{
 "cells": [
  {
   "cell_type": "markdown",
   "metadata": {},
   "source": [
    "# CSX46 Homework 1"
   ]
  },
  {
   "cell_type": "markdown",
   "metadata": {},
   "source": [
    "The human metabolic network is made available in edge-list format in a two-column tab-delimited text file `shared/hsmetnet.txt`.  In case you want to check that you have a complete and uncorrupted version of the file, here is it's MD5 checksum: `50bc7295c1f727cdc5867e4853a27583`. An example of the `hsmetnet.txt` file format is shown here:\n",
    "```\n",
    "alkylated DNA   REACTION1\n",
    "REACTION1       DNAn\n",
    "REACTION1       alkylated nucleobase\n",
    "acetyl-CoA      REACTION2\n",
    "1-alkyl-2-lyso-sn-glycero-3-phosphocholine      REACTION2\n",
    "REACTION2       1-alkyl-2-acetyl-sn-glycero-3-phosphocholine\n",
    "REACTION2       coenzyme A\n",
    "deoxyribonucleoside triphosphate        REACTION3\n",
    "(deoxynucleotides)(n)   REACTION3\n",
    "```\n",
    "You will see that there are two types of nodes; nodes that start with `REACTION` and nodes that do not. The former represent chemical *reactions*, and the latter represent *metabolites*. This graph is directed, so the ordering of the nodes is important; a row of the form\n",
    "```\n",
    "some-metabolite    REACTION523\n",
    "```\n",
    "is saying that metabolite `some-metabolite` is an *input* to (i.e., a reactant for) reaction `REACTION523`. Conversely, a row of the form\n",
    "```\n",
    "REACTION634    another-metabolite\n",
    "```\n",
    "is saying that metabolite `another-metabolite` is an *output* of (i.e., a product of) reaction `REACTION634`. A graph with two classes of nodes (and for which the only allowed edges are *between* nodes of the two classes, never *among* nodes of a single class) is called *bipartite*. So in this homework assignment we will be analyzing the human metabolic network as a bipartite graph.\n",
    "\n",
    "You will need to submit your homework assignment as either a Jupyter notebook (preferred) or a PDF of a report showing both code *and* results from running the code. "
   ]
  },
  {
   "cell_type": "markdown",
   "metadata": {},
   "source": [
    "Your first step is to read in the metabolic network as an edge-list and make an `igraph` object from it\n",
    "\n",
    "(hint: use `read.table` and `igraph::graph_from_data_frame`)"
   ]
  },
  {
   "cell_type": "code",
   "execution_count": 1,
   "metadata": {},
   "outputs": [],
   "source": [
    "suppressPackageStartupMessages(library(igraph))\n",
    "bipartite_df <- read.table(\"shared/hsmetnet.txt\",\n",
    "                           sep=\"\\t\",\n",
    "                           quote=\"\",\n",
    "                           header=FALSE,\n",
    "                           comment.char=\"\",\n",
    "                           stringsAsFactors=FALSE)\n",
    "\n",
    "bipartite_graph <- graph_from_data_frame(bipartite_df,\n",
    "                                        directed=TRUE)\n"
   ]
  },
  {
   "cell_type": "markdown",
   "metadata": {},
   "source": [
    "Next, you will want to construct a list of the names of all vertices and construct a list of indexes of vertices that are metabolites\n",
    "\n",
    "(hint: use `V`, `grep`, and `setdiff`)"
   ]
  },
  {
   "cell_type": "code",
   "execution_count": 2,
   "metadata": {},
   "outputs": [],
   "source": [
    "vertex_names <- V(bipartite_graph)\n",
    "N <- length(vertex_names)\n",
    "reaction_inds <- grep(\"REACTION\", vertex_names$name)\n",
    "metabolite_inds <- setdiff(1:N, reaction_inds)"
   ]
  },
  {
   "cell_type": "markdown",
   "metadata": {},
   "source": [
    "Question: *How many distinct metabolites are there in the graph? How many reactions? How many edges are there?* \n",
    "\n",
    "(hint: use `sprintf`, `length` and `nrow`)"
   ]
  },
  {
   "cell_type": "code",
   "execution_count": 3,
   "metadata": {},
   "outputs": [
    {
     "name": "stdout",
     "output_type": "stream",
     "text": [
      "[1] \"Number of metabolites: 2340\"\n",
      "[1] \"Number of reactions: 5539\"\n",
      "[1] \"Number of edges: 19708\"\n"
     ]
    }
   ],
   "source": [
    "print(sprintf(\"Number of metabolites: %d\", length(metabolite_inds)))\n",
    "print(sprintf(\"Number of reactions: %d\", length(reaction_inds)))\n",
    "print(sprintf(\"Number of edges: %d\", nrow(bipartite_df)))"
   ]
  },
  {
   "cell_type": "markdown",
   "metadata": {},
   "source": [
    "Question* What are the top six metabolites in terms of vertex degree in the graph?* \n",
    "\n",
    "(hint: use `degree`, `sort`, and `head`)"
   ]
  },
  {
   "cell_type": "code",
   "execution_count": 4,
   "metadata": {},
   "outputs": [
    {
     "name": "stdout",
     "output_type": "stream",
     "text": [
      "                                       ATP \n",
      "                                      1202 \n",
      "                                       ADP \n",
      "                                       967 \n",
      "                                 phosphate \n",
      "                                       562 \n",
      "                                   peptide \n",
      "                                       456 \n",
      "[protein] (L-serine/L-threonine) phosphate \n",
      "                                       383 \n",
      "          [protein]-(L-serine/L-threonine) \n",
      "                                       383 \n"
     ]
    }
   ],
   "source": [
    "metabolite_degrees <- degree(bipartite_graph)[metabolite_inds]\n",
    "print(head(sort(metabolite_degrees, decreasing=TRUE)))"
   ]
  },
  {
   "cell_type": "markdown",
   "metadata": {},
   "source": [
    "Your task: *Plot the distribution of the degrees of these vertices, on log-log scale.*\n",
    "\n",
    "(hint: use `degree_distribution` in igraph)"
   ]
  },
  {
   "cell_type": "code",
   "execution_count": 5,
   "metadata": {},
   "outputs": [
    {
     "data": {
      "image/png": "[encoded data removed]",
      "text/plain": [
       "plot without title"
      ]
     },
     "metadata": {
      "image/png": {
       "height": 420,
       "width": 420
      },
      "text/plain": {
       "height": 420,
       "width": 420
      }
     },
     "output_type": "display_data"
    }
   ],
   "source": [
    "metab_degree_dist <- degree_distribution(bipartite_graph, \n",
    "                                         v=metabolite_inds)\n",
    "kmax <- length(metab_degree_dist)\n",
    "kvals <- 1:kmax\n",
    "inds <- which(metab_degree_dist > 0)\n",
    "plot(kvals[inds], metab_degree_dist[inds], log=\"xy\",\n",
    "     xlab=\"degree\",\n",
    "     ylab=\"fraction of metabolites\")"
   ]
  },
  {
   "cell_type": "markdown",
   "metadata": {},
   "source": [
    "Question* *What is the exponent α of the best-fit power-law?* \n",
    "\n",
    "(hint: use `power.law.fit` in igraph)"
   ]
  },
  {
   "cell_type": "code",
   "execution_count": 6,
   "metadata": {},
   "outputs": [
    {
     "name": "stdout",
     "output_type": "stream",
     "text": [
      "[1] \"2.02\"\n"
     ]
    }
   ],
   "source": [
    "print(sprintf(\"%0.2f\", power.law.fit(metabolite_degrees)$alpha))"
   ]
  },
  {
   "cell_type": "markdown",
   "metadata": {},
   "source": [
    "Questions to answer: How does the α that you get compare to the estimate of the power-law exponent reported by Jeong et al. in their 2000 article in Nature, “The large-scale organization of metabolic networks” (vol. 407, pp. 651–654) (see page 14 of reading-for-class-06.pdf)? Based on structure of the network that you analyzed (bipartite, containing reactions) vs. the structure of the network that they analyzed (network projected to a network containing only metabolites), is it appropriate to compare the exponents? Why or why not?"
   ]
  },
  {
   "cell_type": "markdown",
   "metadata": {},
   "source": [
    "Your task: *Calculate the shortest-path-length between all pairs of metabolites (vertices) in the directed graph.*  \n",
    "\n",
    "(hint: use `clusters` with `mode=weak` to get the giant weakly-connected component; get the component membership IDs for all metablites using the `membership` item of the components object; select metabolites that have component membership==1; then use `shortest.paths` with `mode=all`)"
   ]
  },
  {
   "cell_type": "code",
   "execution_count": 7,
   "metadata": {},
   "outputs": [],
   "source": [
    "components <- clusters(bipartite_graph, mode=\"weak\")\n",
    "vertices_giant_component <- which(components$membership == 1)\n",
    "vertices_metabs_giant_component <- intersect(metabolite_inds, vertices_giant_component)\n",
    "\n",
    "metab_dists <- shortest.paths(bipartite_graph, v=vertices_metabs_giant_component,\n",
    "                              mode=\"all\",\n",
    "                              to=vertices_metabs_giant_component)"
   ]
  },
  {
   "cell_type": "markdown",
   "metadata": {},
   "source": [
    "Question: *What is the average of the shortest-path-length between all pairs of metabolites in the giant (weakly connected) component of the network?* \n",
    "\n",
    "(Note, you will want to throw away any shortest-paths distance value if it is infinite.)"
   ]
  },
  {
   "cell_type": "code",
   "execution_count": 8,
   "metadata": {},
   "outputs": [
    {
     "name": "stdout",
     "output_type": "stream",
     "text": [
      "[1] \"6.80\"\n"
     ]
    }
   ],
   "source": [
    "print(sprintf(\"%0.2f\", mean(metab_dists[metab_dists > 0 & metab_dists < Inf])))"
   ]
  },
  {
   "cell_type": "markdown",
   "metadata": {},
   "source": [
    "Question: *What is the maximum of the shortest-path-length between all pairs of metabolites (throwing away infinite values, as before) in the giant (weakly connected) component of the network?* \n",
    "\n",
    "(Note, you are calculating the diameter of the giant component)."
   ]
  },
  {
   "cell_type": "code",
   "execution_count": 9,
   "metadata": {},
   "outputs": [
    {
     "name": "stdout",
     "output_type": "stream",
     "text": [
      "[1] 18\n"
     ]
    }
   ],
   "source": [
    "print(max(metab_dists[metab_dists > 0 & metab_dists < Inf]))"
   ]
  },
  {
   "cell_type": "markdown",
   "metadata": {},
   "source": [
    "Question: Why are the average geodesic distances that we get, roughly twice those reported in Fig. 3b of Jeong et al., 2000?"
   ]
  },
  {
   "cell_type": "markdown",
   "metadata": {},
   "source": [
    "Your task: *Calculate the shortest-paths betweenness centrality for all metabolites in the network. Make sure you compute betweenness centrality only for metabolite vertices, and on the directed graph.* \n",
    "\n",
    "(hint: use the `betweenness` function with the `v=<vector of vertex indices>` option)"
   ]
  },
  {
   "cell_type": "code",
   "execution_count": 10,
   "metadata": {},
   "outputs": [],
   "source": [
    "Nmetab <- length(metabolite_inds)\n",
    "bc <- betweenness(bipartite_graph, v=metabolite_inds)/((Nmetab-1)*(Nmetab-2))"
   ]
  },
  {
   "cell_type": "markdown",
   "metadata": {},
   "source": [
    "Your task: *plot the scatter plot of betweenness centrality vs. vertex degree for all metabolites, on log-log scale.*"
   ]
  },
  {
   "cell_type": "code",
   "execution_count": 11,
   "metadata": {},
   "outputs": [
    {
     "data": {
      "image/png": "[encoded data removed]",
      "text/plain": [
       "plot without title"
      ]
     },
     "metadata": {
      "image/png": {
       "height": 420,
       "width": 420
      },
      "text/plain": {
       "height": 420,
       "width": 420
      }
     },
     "output_type": "display_data"
    }
   ],
   "source": [
    "inds <- which(bc > 0)\n",
    "plot(metabolite_degrees[inds], bc[inds], log=\"xy\",\n",
    "     xlab=\"degree\",\n",
    "     ylab=\"betweenness centrality\", cex=0.2)"
   ]
  },
  {
   "cell_type": "markdown",
   "metadata": {},
   "source": [
    "Question: *Among metabolites with degree k=2 , what metabolite has highest betweenness centrality in the network?* \n",
    "\n",
    "(hint:  use `sort` and `head`)"
   ]
  },
  {
   "cell_type": "code",
   "execution_count": 12,
   "metadata": {},
   "outputs": [
    {
     "name": "stdout",
     "output_type": "stream",
     "text": [
      "L-arginino-succinate \n",
      "          0.01794253 \n"
     ]
    }
   ],
   "source": [
    "print(head(sort(bc[metabolite_degrees==2],decreasing=TRUE), n=1))"
   ]
  },
  {
   "cell_type": "markdown",
   "metadata": {},
   "source": [
    "Search on this metabolite in the HumanCyc database at [humancyc.org](https://humancyc.org), using the search box. Click on the \"reactions\" tab. What important metabolic cycles is this metabolite involved in? Click on the \"urea cycle\". What is the known consequence of absence of an enzyme in this pathway?"
   ]
  }
 ],
 "metadata": {
  "kernelspec": {
   "display_name": "R",
   "language": "R",
   "name": "ir"
  },
  "language_info": {
   "codemirror_mode": "r",
   "file_extension": ".r",
   "mimetype": "text/x-r-source",
   "name": "R",
   "pygments_lexer": "r",
   "version": "3.6.1"
  }
 },
 "nbformat": 4,
 "nbformat_minor": 1
}
