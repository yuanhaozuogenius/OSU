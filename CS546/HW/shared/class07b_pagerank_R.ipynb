{
 "cells": [
  {
   "cell_type": "markdown",
   "metadata": {},
   "source": [
    "# CSX46 - Class Session 7 - Pagerank centrality\n",
    "\n",
    "In this class session we are going to compute the outgoing-edge PageRank centrality of each gene (vertex) in a human gene regulatory network (a directed graph) from a landmark paper on human gene regulation (Neph et al., Cell, volume 150, pages 1274-1286, 2012; see PDF on Canvas). We'll also implement our own PageRank and compare it to the `igraph::page_rank` function."
   ]
  },
  {
   "cell_type": "markdown",
   "metadata": {},
   "source": [
    "Let's start by having a look at the Neph et al. data file, `neph_gene_network.txt`.  It is in edge-list format, with no header and no \"interaction\" column.  Just two columns, first column contains the \"regulator gene\" and the second column contains the \"target gene\":\n",
    "\n",
    "    head neph_gene_network.txt\n",
    "    AHR     BCL6\n",
    "    AHR     BHLHE41\n",
    "    AHR     BPTF\n",
    "    AHR     CEBPA\n",
    "    AHR     CNOT3\n",
    "    AHR     CREB1"
   ]
  },
  {
   "cell_type": "markdown",
   "metadata": {},
   "source": [
    "Now let's load the packages that we will need for this exercise"
   ]
  },
  {
   "cell_type": "code",
   "execution_count": 1,
   "metadata": {},
   "outputs": [],
   "source": [
    "suppressPackageStartupMessages(library(igraph))"
   ]
  },
  {
   "cell_type": "markdown",
   "metadata": {},
   "source": [
    "Using `read.table`, read the file `shared/neph_gene_network.txt`; name the two columns of the resulting data frame, `regulator` and `target`.  Since there is no header, we will use `header=FALSE`:"
   ]
  },
  {
   "cell_type": "code",
   "execution_count": 2,
   "metadata": {},
   "outputs": [],
   "source": [
    "edge_list_neph <- read.table(\"shared/neph_gene_network.txt\",\n",
    "                            header=FALSE,\n",
    "                            sep=\"\\t\",\n",
    "                            stringsAsFactors=FALSE,\n",
    "                            col.names=c(\"regulator\",\"target\"))"
   ]
  },
  {
   "cell_type": "markdown",
   "metadata": {},
   "source": [
    "Load the edge-list data into a directed Graph object in igraph, using `graph_from_data_frame`. *Make sure to reverse the columns of the data frame when you input the data frame into `graph_from_data_frame`, since we want the outgoing pagerank centrality not incoming pagerank centrality.* Print out a summary of the graph. "
   ]
  },
  {
   "cell_type": "code",
   "execution_count": 4,
   "metadata": {},
   "outputs": [
    {
     "name": "stdout",
     "output_type": "stream",
     "text": [
      "IGRAPH d6906e8 DN-- 538 47945 -- \n",
      "+ attr: name (v/c)\n"
     ]
    }
   ],
   "source": [
    "neph_graph <- graph_from_data_frame(edge_list_neph[,c(2,1)], directed=TRUE)\n",
    "summary(neph_graph)"
   ]
  },
  {
   "cell_type": "markdown",
   "metadata": {},
   "source": [
    "Compute the pagerank centrality measures of all vertices, using `page_rank`. The `page_rank` function will return a list.  You want list item `vector`."
   ]
  },
  {
   "cell_type": "code",
   "execution_count": 6,
   "metadata": {},
   "outputs": [],
   "source": [
    "pageranks <- page_rank(neph_graph)$vector"
   ]
  },
  {
   "cell_type": "markdown",
   "metadata": {},
   "source": [
    "Which vertex has highest pagerank centrality in the gene regulatory network, and what is its pagerank centrality value? (think `which.max`). "
   ]
  },
  {
   "cell_type": "code",
   "execution_count": 8,
   "metadata": {},
   "outputs": [
    {
     "data": {
      "text/html": [
       "<strong>FOS:</strong> 119"
      ],
      "text/latex": [
       "\\textbf{FOS:} 119"
      ],
      "text/markdown": [
       "**FOS:** 119"
      ],
      "text/plain": [
       "FOS \n",
       "119 "
      ]
     },
     "metadata": {},
     "output_type": "display_data"
    }
   ],
   "source": [
    "which.max(pageranks)"
   ]
  },
  {
   "cell_type": "markdown",
   "metadata": {},
   "source": [
    "Calculate the in-degree of all vertices in the graph, and scatter plot `log(degree)` vs. `log(pagerank)`.  (Do you see why we used `in` here?  Note the column swapping we did earlier)"
   ]
  },
  {
   "cell_type": "code",
   "execution_count": 11,
   "metadata": {
    "scrolled": false
   },
   "outputs": [
    {
     "data": {
      "image/png": "[encoded data removed]",
      "text/plain": [
       "plot without title"
      ]
     },
     "metadata": {},
     "output_type": "display_data"
    }
   ],
   "source": [
    "degree_vals <- degree(neph_graph, mode=\"in\")\n",
    "plot(degree_vals[degree_vals > 0], \n",
    "     pageranks[degree_vals > 0], \n",
    "     xlab=expression(k), \n",
    "     ylab=\"pagerank\", \n",
    "     log=\"xy\")"
   ]
  },
  {
   "cell_type": "code",
   "execution_count": 9,
   "metadata": {},
   "outputs": [
    {
     "data": {
      "text/html": [
       "<strong>FOS:</strong> 119"
      ],
      "text/latex": [
       "\\textbf{FOS:} 119"
      ],
      "text/markdown": [
       "**FOS:** 119"
      ],
      "text/plain": [
       "FOS \n",
       "119 "
      ]
     },
     "metadata": {},
     "output_type": "display_data"
    }
   ],
   "source": [
    "which.max(degree(neph_graph, mode=\"in\"))"
   ]
  },
  {
   "cell_type": "markdown",
   "metadata": {
    "collapsed": true
   },
   "source": [
    "See if you can calculate the pagerank centrality yourself, using the matrix inversion (Eq. 7.19 from Newman). Test your function on a small directed graph."
   ]
  },
  {
   "cell_type": "code",
   "execution_count": 119,
   "metadata": {},
   "outputs": [],
   "source": [
    "set.seed(1337)\n",
    "\n",
    "my_page_rank <- function(g) {\n",
    "    # get the number of vertices N\n",
    "    N <- length(V(g))\n",
    "    \n",
    "    # alpha is the damping parameter, set to 0.85\n",
    "    alpha <- 0.85\n",
    "    \n",
    "    # beta = (1-alpha)/N\n",
    "    beta = (1-alpha)/N\n",
    "    \n",
    "    # get the out-degree values of all the vertices\n",
    "    degree_values <- degree(g, mode=\"out\")\n",
    "    \n",
    "    # get the adjacency matrix; take transpose to get it into Newman format\n",
    "    M <- t(as.matrix(get.adjacency(g)))\n",
    "    \n",
    "    # for each column j of M, divide it by the out-degree of vertex j (unless the outdegree of vertex j is zero;\n",
    "    # in that case set the column j of M to zero):\n",
    "    M <- sapply(1:N,\n",
    "               function(col_ind) {\n",
    "                   degree_value <- degree_values[col_ind]\n",
    "                   if (degree_value > 0) {\n",
    "                       M[, col_ind]/degree_value\n",
    "                   } else {\n",
    "                       rep(0, N)\n",
    "                   }\n",
    "               })\n",
    "    \n",
    "    # use the equation from the board to compute the pagerank, as the vector \"pr\"\n",
    "    pr <- (solve(diag(N) - alpha*M) %*% rep(beta,N))[,1]\n",
    "    \n",
    "    # normalize the \"pr\" vector to unity\n",
    "    pr / sum(pr)\n",
    "}"
   ]
  },
  {
   "cell_type": "markdown",
   "metadata": {},
   "source": [
    "Test out your homegrown pagerank function on a small five-vertex graph:"
   ]
  },
  {
   "cell_type": "code",
   "execution_count": 118,
   "metadata": {},
   "outputs": [
    {
     "name": "stdout",
     "output_type": "stream",
     "text": [
      "[1] 0.4243328 0.1824414 0.1889527 0.1021366 0.1021366\n",
      "[1] 0.4243328 0.1824414 0.1889527 0.1021366 0.1021366\n"
     ]
    },
    {
     "data": {
      "image/png": "[encoded data removed]",
      "text/plain": [
       "Plot with title \"\""
      ]
     },
     "metadata": {},
     "output_type": "display_data"
    }
   ],
   "source": [
    "g <- barabasi.game(n=5, m=2, directed=TRUE)\n",
    "plot(g)\n",
    "\n",
    "my_pageranks <- my_page_rank(g)\n",
    "print(my_pageranks)\n",
    "official_pageranks <- page_rank(g, algo=\"prpack\")$vector\n",
    "print(official_pageranks)"
   ]
  },
  {
   "cell_type": "code",
   "execution_count": null,
   "metadata": {},
   "outputs": [],
   "source": []
  }
 ],
 "metadata": {
  "kernelspec": {
   "display_name": "R",
   "language": "R",
   "name": "ir"
  },
  "language_info": {
   "codemirror_mode": "r",
   "file_extension": ".r",
   "mimetype": "text/x-r-source",
   "name": "R",
   "pygments_lexer": "r",
   "version": "3.6.1"
  }
 },
 "nbformat": 4,
 "nbformat_minor": 1
}
