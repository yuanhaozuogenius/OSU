{
 "cells": [
  {
   "cell_type": "markdown",
   "metadata": {},
   "source": [
    "# CS446/546 - Class Session 13 - Similarity and Hierarchical Clustering\n",
    "\n",
    "In this class session we are going to hierachically cluster (based on Sorensen-Dice similarity) vertices in a directed graph from a landmark paper on human gene regulation (Neph et al., Cell, volume 150, pages 1274-1286, 2012; see PDF on Canvas)"
   ]
  },
  {
   "cell_type": "markdown",
   "metadata": {},
   "source": [
    "Let's start by having a look at the Neph et al. data file, `neph_gene_network.txt`.  It is in edge-list format, with no header and no \"interaction\" column.  Just two columns, first column contains the \"regulator gene\" and the second column contains the \"target gene\":\n",
    "\n",
    "    head neph_gene_network.txt\n",
    "    AHR     BCL6\n",
    "    AHR     BHLHE41\n",
    "    AHR     BPTF\n",
    "    AHR     CEBPA\n",
    "    AHR     CNOT3\n",
    "    AHR     CREB1"
   ]
  },
  {
   "cell_type": "markdown",
   "metadata": {},
   "source": [
    "Now let's load the packages that we will need for this exercise"
   ]
  },
  {
   "cell_type": "code",
   "execution_count": 19,
   "metadata": {},
   "outputs": [],
   "source": [
    "suppressPackageStartupMessages(library(igraph))"
   ]
  },
  {
   "cell_type": "markdown",
   "metadata": {},
   "source": [
    "Using `read.table`, read the file `shared/neph_gene_network.txt`; name the two columns of the resulting data frame, `regulator` and `target`.  Since there is no header, we will use `header=FALSE`:"
   ]
  },
  {
   "cell_type": "code",
   "execution_count": 21,
   "metadata": {},
   "outputs": [],
   "source": [
    "edge_list_neph <- read.table(\"shared/neph_gene_network.txt\",\n",
    "                            header=FALSE,\n",
    "                            sep=\"\\t\",\n",
    "                            stringsAsFactors=FALSE,\n",
    "                            col.names=c(\"regulator\",\"target\"))"
   ]
  },
  {
   "cell_type": "markdown",
   "metadata": {},
   "source": [
    "Load the edge-list data into a Graph object in igraph, using `graph_from_data_frame`. Make the graph undirected"
   ]
  },
  {
   "cell_type": "code",
   "execution_count": 22,
   "metadata": {},
   "outputs": [
    {
     "name": "stdout",
     "output_type": "stream",
     "text": [
      "IGRAPH c6d5c31 UN-- 538 47945 -- \n",
      "+ attr: name (v/c)\n"
     ]
    }
   ],
   "source": [
    "neph_graph <- graph_from_data_frame(edge_list_neph, directed=FALSE)\n",
    "summary(neph_graph)"
   ]
  },
  {
   "cell_type": "markdown",
   "metadata": {},
   "source": [
    "Get the adjacency matrix for the graph, using `get.adjacency`, and assign to matrix `g_matrix`"
   ]
  },
  {
   "cell_type": "code",
   "execution_count": 23,
   "metadata": {},
   "outputs": [],
   "source": [
    "g_matrix <- get.adjacency(neph_graph)"
   ]
  },
  {
   "cell_type": "markdown",
   "metadata": {},
   "source": [
    "Compute the Sorensen-Dice similarity of this graph, and assign to similarity matrix `S`, using the igraph `similarity` function and specifying `method=\"dice\"`"
   ]
  },
  {
   "cell_type": "code",
   "execution_count": 25,
   "metadata": {},
   "outputs": [],
   "source": []
  },
  {
   "cell_type": "markdown",
   "metadata": {},
   "source": [
    "Compute a distance matrix by calling `as.dist` on the object 1-S; assign to object `D`"
   ]
  },
  {
   "cell_type": "code",
   "execution_count": 26,
   "metadata": {},
   "outputs": [],
   "source": []
  },
  {
   "cell_type": "markdown",
   "metadata": {},
   "source": [
    "Perform average-linkage hierarchical clustering on this distance object, using `hclust` with `method=average`"
   ]
  },
  {
   "cell_type": "code",
   "execution_count": 27,
   "metadata": {},
   "outputs": [],
   "source": []
  },
  {
   "cell_type": "markdown",
   "metadata": {},
   "source": [
    "Plot the dendrogram using `plot` and make the labels really small using `cex=0.01`, using `plot`"
   ]
  },
  {
   "cell_type": "code",
   "execution_count": 28,
   "metadata": {},
   "outputs": [
    {
     "data": {
      "image/png": "[encoded data removed]",
      "text/plain": [
       "Plot with title \"Cluster Dendrogram\""
      ]
     },
     "metadata": {},
     "output_type": "display_data"
    }
   ],
   "source": []
  },
  {
   "cell_type": "code",
   "execution_count": null,
   "metadata": {},
   "outputs": [],
   "source": []
  }
 ],
 "metadata": {
  "kernelspec": {
   "display_name": "R",
   "language": "R",
   "name": "ir"
  },
  "language_info": {
   "codemirror_mode": "r",
   "file_extension": ".r",
   "mimetype": "text/x-r-source",
   "name": "R",
   "pygments_lexer": "r",
   "version": "3.4.1"
  }
 },
 "nbformat": 4,
 "nbformat_minor": 1
}
