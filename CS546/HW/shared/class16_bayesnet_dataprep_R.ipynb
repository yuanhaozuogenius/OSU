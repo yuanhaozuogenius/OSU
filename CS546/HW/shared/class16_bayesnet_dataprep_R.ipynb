{
 "cells": [
  {
   "cell_type": "markdown",
   "metadata": {},
   "source": [
    "# Class 16:  Bayesian Networks\n",
    "## This notebook prepares the discretized data matrix from the phospho-flow cytometry data from Sachs et al. (Science, 2005).\n",
    "\n",
    "In this notebook, nine Excel spreadsheets from the supplementary data files from the Sachs et al. article are loaded and combined in a single 11-column data frame.  Each column is discretized into three classes (low, medium, high) based on the values in the column. The breakpoints for the discretization are assigned on a column-by-column basis, selected (in a single global optimization) to maximize the sum of the mutual information of all pairs of columns of discretized data. The initial breakpoints for the discretization are the column-wise quantiles (0, 1/3, 2/3, 1). The resulting discretized data matrix is saved as a tab-delimited text file \"sachs_data_discretized.txt\"."
   ]
  },
  {
   "cell_type": "markdown",
   "metadata": {},
   "source": [
    "Read all of the 9 Excel spreadsheets in the subdiretory \"shared/sachs_datafiles\" into a single data frame"
   ]
  },
  {
   "cell_type": "code",
   "execution_count": 16,
   "metadata": {},
   "outputs": [],
   "source": [
    "data_dir_name <- \"shared/sachs_datafiles\"\n",
    "data_file_names <- dir(data_dir_name)\n",
    "\n",
    "names(data_file_names) <- data_file_names\n",
    "library(gdata)\n",
    "suppressWarnings(data_matrix_orig <- do.call(rbind,\n",
    "                     lapply(data_file_names,\n",
    "                    function(data_file_name) {\n",
    "                        data.frame(read.xls(paste(c(data_dir_name,\n",
    "                                     \"/\",\n",
    "                                     data_file_name), collapse=\"\")),\n",
    "                                   expt=strsplit(data_file_name,\".xls\")[[1]])\n",
    "                    })))\n",
    "rownames(data_matrix_orig) <- NULL\n",
    "data_matrix <- data_matrix_orig[,1:11]"
   ]
  },
  {
   "cell_type": "markdown",
   "metadata": {},
   "source": [
    "define a function for computing the mutual information of a Mx2 matrix of factors"
   ]
  },
  {
   "cell_type": "code",
   "execution_count": 5,
   "metadata": {
    "collapsed": true
   },
   "outputs": [],
   "source": [
    "## df should be a M x n data frame of factors\n",
    "joint_entropy_df_cols <- function(df) {\n",
    "    stopifnot(is.data.frame(df))\n",
    "    stopifnot(is.factor(df[,1]))\n",
    "    \n",
    "    n <- ncol(df)\n",
    "    M <- nrow(df)\n",
    "    \n",
    "    ## use \"xtabs\" to tabulate the number of occurrences of each combination of logical\n",
    "    ## values for the n inputs; divide by M and call the resulting matrix \"probmat\"\n",
    "    probmat <- xtabs(~., df)/M\n",
    "\n",
    "    ## define a matrix \"hmat\" that is the negative of probmat element-wise-times log2 of probmat\n",
    "    hmat <- -probmat*log2(probmat)\n",
    "    \n",
    "    ## some entries of hmat will be NaN (do you know why?).  Set them to zero\n",
    "    hmat[is.nan(hmat)] <- 0\n",
    "    \n",
    "    ## return the sum of entries of hmat\n",
    "    sum(hmat)\n",
    "}\n",
    "\n",
    "mutual_information <- function(df_twocols) {\n",
    "    stopifnot(is.data.frame(df_twocols))\n",
    "    stopifnot(ncol(df_twocols) == 2)\n",
    "    stopifnot(is.factor(df_twocols[,1]))\n",
    "    \n",
    "    joint_entropy_df_cols(df_twocols[,1, drop=FALSE]) +\n",
    "        joint_entropy_df_cols(df_twocols[,2, drop=FALSE]) -\n",
    "        joint_entropy_df_cols(df_twocols)\n",
    "}"
   ]
  },
  {
   "cell_type": "markdown",
   "metadata": {},
   "source": [
    "run a couple of simple tests on your mutual information code"
   ]
  },
  {
   "cell_type": "code",
   "execution_count": 6,
   "metadata": {},
   "outputs": [
    {
     "name": "stdout",
     "output_type": "stream",
     "text": [
      "[1] \"independent ternary RVs:  this should give a value close to zero: 0.000052\"\n",
      "[1] \"identical (as in perfectly correlated) ternary RVs:  this should give a value close to 1.584963: 1.584962\"\n"
     ]
    }
   ],
   "source": [
    "## this should give a value close to zero\n",
    "dftest1 <- data.frame(factor(sample(1:3, replace=TRUE, size=100000)),factor(sample(1:3, replace=TRUE, size=100000)))\n",
    "print(sprintf(\"independent ternary RVs:  this should give a value close to zero: %f\", mutual_information(dftest1)))\n",
    "\n",
    "## this should give a value close to log2(3) = 1.584963\n",
    "dftest2 <- data.frame(dftest1[,1],dftest1[,1])\n",
    "print(sprintf(\"identical (as in perfectly correlated) ternary RVs:  this should give a value close to 1.584963: %f\", mutual_information(dftest2)))"
   ]
  },
  {
   "cell_type": "markdown",
   "metadata": {},
   "source": [
    "obtain an initial ternary discretization of the columns of the matrix, using 1/3 and 2/3 quantiles as breakpoints"
   ]
  },
  {
   "cell_type": "code",
   "execution_count": 7,
   "metadata": {
    "collapsed": true
   },
   "outputs": [],
   "source": [
    "discret_breaks_initial <- apply(data_matrix, 2, function(data_matrix_col) {\n",
    "    quantile(data_matrix_col, c(0, 1/3, 2/3, 1))\n",
    "})"
   ]
  },
  {
   "cell_type": "markdown",
   "metadata": {},
   "source": [
    "optimize the ternary discretization breakpoints for each of the columns so that the summed (total) mutaul information for all pairs of columns is maximal"
   ]
  },
  {
   "cell_type": "code",
   "execution_count": 9,
   "metadata": {},
   "outputs": [
    {
     "name": "stdout",
     "output_type": "stream",
     "text": [
      "final  value -6.834433 \n",
      "converged\n"
     ]
    }
   ],
   "source": [
    "compute_sum_mut_inf_given_discret_breaks <- function(data_matrix, discret_breaks) {\n",
    "    ## discretize the data matrix\n",
    "    discret_data_frame <- data.frame(lapply(1:ncol(data_matrix), function(col_num) {\n",
    "        cut(data_matrix[,col_num],\n",
    "            breaks=discret_breaks[,col_num])\n",
    "    }))\n",
    "\n",
    "    # compute the mutual information for all possible pairs of variables, and sum\n",
    "    sum(apply(combn(1:ncol(data_matrix), 2), 2, function(pair_col_nums) {\n",
    "        mutual_information(discret_data_frame[, pair_col_nums])\n",
    "    }))\n",
    "}\n",
    "\n",
    "opt_res <- optim(as.vector(discret_breaks_initial[2:3, ]),\n",
    "                 function(discret_breaks_internal_vec) {\n",
    "                     discret_breaks_matrix <- discret_breaks_initial\n",
    "                     discret_breaks_matrix[2:3, ] <- discret_breaks_internal_vec\n",
    "                     \n",
    "                     compute_sum_mut_inf_given_discret_breaks(data_matrix, discret_breaks_matrix)\n",
    "                 },\n",
    "                 lower=discret_breaks_initial[1,],\n",
    "                 upper=discret_breaks_initial[4,],\n",
    "                 control=list(fnscale=-1, trace=1),\n",
    "                 method=\"L-BFGS-B\")\n",
    "\n",
    "discret_breaks_final <- discret_breaks_initial\n",
    "discret_breaks_final[2:3, ] <- opt_res$par"
   ]
  },
  {
   "cell_type": "markdown",
   "metadata": {},
   "source": [
    "make a discretized data matrix based on the optimal discretization breakpoints selected by `optim`"
   ]
  },
  {
   "cell_type": "code",
   "execution_count": 10,
   "metadata": {
    "collapsed": true
   },
   "outputs": [],
   "source": [
    "data_matrix_discrete <- data.frame(lapply(1:ncol(data_matrix), function(col_num) {\n",
    "    myfac <- cut(data_matrix[,col_num],\n",
    "        breaks=discret_breaks_final[,col_num])\n",
    "    levels(myfac) <- c(\"low\", \"medium\", \"high\")\n",
    "    myfac\n",
    "}))\n",
    "names(data_matrix_discrete) <- colnames(data_matrix)"
   ]
  },
  {
   "cell_type": "markdown",
   "metadata": {},
   "source": [
    "as a check on the discretization, for each column in the original data matrix, plot the original expression levels vs. the discretized categories"
   ]
  },
  {
   "cell_type": "code",
   "execution_count": 13,
   "metadata": {},
   "outputs": [
    {
     "data": {
      "image/png": "[encoded data removed]",
      "text/plain": [
       "plot without title"
      ]
     },
     "metadata": {},
     "output_type": "display_data"
    }
   ],
   "source": [
    "par(mfrow=c(4,3))\n",
    "invisible(sapply(1:11,\n",
    "       function(col_num) {\n",
    "           protein_name <- names(data_matrix_discrete)[col_num]\n",
    "           plot(data_matrix_discrete[,col_num],\n",
    "                data_matrix[,col_num], log=\"y\", xlab=sprintf(\"[%s] expression category\", protein_name),\n",
    "                ylab=sprintf(\"[%s] expression level\", protein_name))}))\n"
   ]
  },
  {
   "cell_type": "markdown",
   "metadata": {},
   "source": [
    "add a column indicating the experiment name for each row to the discretized data matrix; then save the matrix"
   ]
  },
  {
   "cell_type": "code",
   "execution_count": 15,
   "metadata": {},
   "outputs": [],
   "source": [
    "data_matrix_final <- data.frame(data_matrix_discrete, expt=data_matrix_orig[,12])\n",
    "\n",
    "write.table(data_matrix_final,\n",
    "            file=\"sachs_data_discretized.txt\",\n",
    "            sep=\"\\t\",\n",
    "            row.names=FALSE,\n",
    "            col.names=TRUE,\n",
    "            quote=FALSE)"
   ]
  }
 ],
 "metadata": {
  "kernelspec": {
   "display_name": "R",
   "language": "R",
   "name": "ir"
  },
  "language_info": {
   "codemirror_mode": "r",
   "file_extension": ".r",
   "mimetype": "text/x-r-source",
   "name": "R",
   "pygments_lexer": "r",
   "version": "3.6.1"
  }
 },
 "nbformat": 4,
 "nbformat_minor": 1
}
