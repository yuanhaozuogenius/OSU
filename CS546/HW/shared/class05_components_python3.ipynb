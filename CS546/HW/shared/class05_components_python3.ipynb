{
 "cells": [
  {
   "cell_type": "markdown",
   "metadata": {},
   "source": [
    "# CSX46 - Class Session 5 - Components\n",
    "\n",
    "In this class session we are going to find the number of proteins that are in the giant component of the (undirected) protein-protein interaction network, using igraph."
   ]
  },
  {
   "cell_type": "code",
   "execution_count": 1,
   "metadata": {},
   "outputs": [],
   "source": [
    "from igraph import Graph\n",
    "from igraph import summary\n",
    "import pandas\n",
    "import numpy"
   ]
  },
  {
   "cell_type": "markdown",
   "metadata": {},
   "source": [
    "Step 1:  load in the Pathway Commons SIF file into a data frame `sif_data`, using the `pandas.read_csv` function, and name the columns `species1`, `interaction_type`, and `species2`."
   ]
  },
  {
   "cell_type": "code",
   "execution_count": 2,
   "metadata": {},
   "outputs": [],
   "source": [
    "sif_data = pandas.read_csv(\"shared/pathway_commons.sif\",\n",
    "                           sep=\"\\t\", names=[\"species1\",\"interaction_type\",\"species2\"])"
   ]
  },
  {
   "cell_type": "markdown",
   "metadata": {},
   "source": [
    "Step 2:  restrict the interactions to protein-protein undirected (\"in-complex-with\", \"interacts-with\"), by using the `isin` function and then using `[` to index rows into the data frame.  Call the returned ata frame `interac_ppi`."
   ]
  },
  {
   "cell_type": "code",
   "execution_count": 3,
   "metadata": {},
   "outputs": [],
   "source": [
    "interaction_types_ppi = set([\"interacts-with\",\n",
    "                             \"in-complex-with\"])\n",
    "interac_ppi = sif_data[sif_data.interaction_type.isin(interaction_types_ppi)].copy()"
   ]
  },
  {
   "cell_type": "markdown",
   "metadata": {},
   "source": [
    "Step 3: restrict the data frame to only the unique interaction pairs of proteins (ignoring the interaction type), and call that data frame `interac_ppi_unique`. Make an igraph `Graph` object from `interac_ppi_unique` using `Graph.TupleList`, `values`, and `tolist`. Call `summary` on the `Graph` object. Refer to the notebooks for the in-class exercises in Class sessions 3 and 6."
   ]
  },
  {
   "cell_type": "code",
   "execution_count": 4,
   "metadata": {},
   "outputs": [
    {
     "name": "stdout",
     "output_type": "stream",
     "text": [
      "IGRAPH UN-- 17020 491784 -- \n",
      "+ attr: name (v)\n"
     ]
    }
   ],
   "source": [
    "boolean_vec = interac_ppi['species1'] > interac_ppi['species2']\n",
    "interac_ppi.loc[boolean_vec, ['species1', 'species2']] = interac_ppi.loc[boolean_vec, ['species2', 'species1']].values\n",
    "        \n",
    "interac_ppi_unique = interac_ppi[[\"species1\",\"species2\"]].drop_duplicates()        \n",
    "\n",
    "\n",
    "ppi_igraph = Graph.TupleList(interac_ppi_unique.values.tolist(), directed=False)\n",
    "summary(ppi_igraph)"
   ]
  },
  {
   "cell_type": "markdown",
   "metadata": {},
   "source": [
    "Step 4: Map the components of the network using the `igraph.Graph.clusters` method. That method returns a `igraph.clustering.VertexClustering` object. Assign it to object `ppi_components`."
   ]
  },
  {
   "cell_type": "code",
   "execution_count": 5,
   "metadata": {},
   "outputs": [],
   "source": [
    "ppi_components = ppi_igraph.clusters()"
   ]
  },
  {
   "cell_type": "markdown",
   "metadata": {},
   "source": [
    "Call the `sizes` method on that `VertexClustering` object, to get a list of sizes of the components.  What is the giant component size?"
   ]
  },
  {
   "cell_type": "code",
   "execution_count": 6,
   "metadata": {},
   "outputs": [
    {
     "data": {
      "text/plain": [
       "16985"
      ]
     },
     "execution_count": 6,
     "metadata": {},
     "output_type": "execute_result"
    }
   ],
   "source": [
    "# call the `sizes` method on the `ppi_components` object, and assign the\n",
    "# resulting list object to have the name `ppi_component_sizes`.\n",
    "ppi_component_sizes = ppi_components.sizes()\n",
    "\n",
    "# make a `numpy.array` initialized by `ppi_component_sizes`, and find its \n",
    "# maximum value using the `max` method on the `numpy.array` class\n",
    "numpy.array(ppi_component_sizes).max()"
   ]
  },
  {
   "cell_type": "markdown",
   "metadata": {},
   "source": [
    "Let's print out all the component sizes, in reverse-sorted order"
   ]
  },
  {
   "cell_type": "code",
   "execution_count": 7,
   "metadata": {},
   "outputs": [
    {
     "data": {
      "text/plain": [
       "[16985, 10, 4, 4, 3, 3, 3, 2, 2, 2, 2]"
      ]
     },
     "execution_count": 7,
     "metadata": {},
     "output_type": "execute_result"
    }
   ],
   "source": [
    "sorted(ppi_component_sizes, reverse=True)"
   ]
  },
  {
   "cell_type": "markdown",
   "metadata": {},
   "source": [
    "Let's get the vertex indices of the vertices that are in the giant component using list comprehension, `enumerate`, and the `membership` field on the `ppi_components` object."
   ]
  },
  {
   "cell_type": "code",
   "execution_count": 8,
   "metadata": {},
   "outputs": [],
   "source": [
    "inds_giant_component =  [index for index, item in enumerate(ppi_components.membership) if item==numpy.argmax(ppi_component_sizes)]\n"
   ]
  },
  {
   "cell_type": "markdown",
   "metadata": {},
   "source": [
    "Let's compute the vertex degrees, for all the vertices in the giant component"
   ]
  },
  {
   "cell_type": "code",
   "execution_count": 9,
   "metadata": {},
   "outputs": [],
   "source": [
    "ppi_degrees_gc = ppi_igraph.degree(inds_giant_component)"
   ]
  },
  {
   "cell_type": "markdown",
   "metadata": {},
   "source": [
    "What is the highest degree vertex in the giant component, and what is its degree?"
   ]
  },
  {
   "cell_type": "code",
   "execution_count": 10,
   "metadata": {},
   "outputs": [
    {
     "name": "stdout",
     "output_type": "stream",
     "text": [
      "Vertex number 32 has maximum degree; it is degree: 3600\n"
     ]
    }
   ],
   "source": [
    "ind_max = numpy.argmax(ppi_degrees_gc)\n",
    "print(\"Vertex number {} has maximum degree; it is degree: {}\".format(\n",
    "      ind_max,\n",
    "      ppi_degrees_gc[ind_max]))\n"
   ]
  },
  {
   "cell_type": "markdown",
   "metadata": {},
   "source": [
    "Let's compute the shortest paths distance between highest-degree vertex of the giant component, and all the other vertices in the giant component, using the `shortest_paths` method on the `ppi_igraph` method, specifying both `source` and `target` as lists of vertex IDs."
   ]
  },
  {
   "cell_type": "code",
   "execution_count": 11,
   "metadata": {},
   "outputs": [],
   "source": [
    "apsp_dists = ppi_igraph.shortest_paths(source=inds_giant_component[ind_max],\n",
    "                                       target=inds_giant_component)"
   ]
  },
  {
   "cell_type": "markdown",
   "metadata": {},
   "source": [
    "What is the average distance between the highest-degree vertex of the giant component and all the other vertices of the giant component? Use `numpy.mean`."
   ]
  },
  {
   "cell_type": "code",
   "execution_count": 12,
   "metadata": {},
   "outputs": [
    {
     "name": "stdout",
     "output_type": "stream",
     "text": [
      "1.86\n"
     ]
    }
   ],
   "source": [
    "print(\"%0.2f\" % numpy.mean(apsp_dists))"
   ]
  },
  {
   "cell_type": "markdown",
   "metadata": {},
   "source": [
    "Code-spellunking question:  go to the GitHub repo for igraph (https://github.com/igraph), and find the code components.c.  For the weakly connected components, is it doing a BFS or DFS?"
   ]
  }
 ],
 "metadata": {
  "kernelspec": {
   "display_name": "Python 3",
   "language": "python",
   "name": "python3"
  },
  "language_info": {
   "codemirror_mode": {
    "name": "ipython",
    "version": 3
   },
   "file_extension": ".py",
   "mimetype": "text/x-python",
   "name": "python",
   "nbconvert_exporter": "python",
   "pygments_lexer": "ipython3",
   "version": "3.6.9"
  }
 },
 "nbformat": 4,
 "nbformat_minor": 1
}
