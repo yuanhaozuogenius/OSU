{
 "cells": [
  {
   "cell_type": "markdown",
   "metadata": {},
   "source": [
    "# Class 19 - MCODE"
   ]
  },
  {
   "cell_type": "code",
   "execution_count": null,
   "metadata": {},
   "outputs": [],
   "source": [
    "suppressPackageStartupMessages(library(sna))\n",
    "library(readr)\n",
    "suppressPackageStartupMessages(library(igraph))\n",
    "suppressPackageStartupMessages(library(expm))\n",
    "suppressPackageStartupMessages(library(ProNet))"
   ]
  },
  {
   "cell_type": "code",
   "execution_count": 104,
   "metadata": {},
   "outputs": [
    {
     "name": "stdout",
     "output_type": "stream",
     "text": [
      "IGRAPH 59155dd UN-- 13 26 -- \n",
      "+ attr: name (v/c)\n"
     ]
    }
   ],
   "source": [
    "test_adjmat <- read.dot(\"testr.dot\")\n",
    "test_adjmat <- test_adjmat + t(test_adjmat)\n",
    "test_igraph <- igraph::graph_from_adjacency_matrix(test_adjmat, mode=\"undirected\")\n",
    "summary(test_igraph)"
   ]
  },
  {
   "cell_type": "code",
   "execution_count": 105,
   "metadata": {},
   "outputs": [
    {
     "data": {
      "image/png": "[encoded data removed]",
      "text/plain": [
       "Plot with title \"\""
      ]
     },
     "metadata": {},
     "output_type": "display_data"
    }
   ],
   "source": [
    "plot(test_igraph)"
   ]
  },
  {
   "cell_type": "markdown",
   "metadata": {},
   "source": [
    "Run ProNet::mcode on your test graph with the default parameters; what cluster sizes do you get back?"
   ]
  },
  {
   "cell_type": "code",
   "execution_count": 106,
   "metadata": {
    "scrolled": true
   },
   "outputs": [
    {
     "data": {
      "text/html": [
       "<dl>\n",
       "\t<dt>$COMPLEX</dt>\n",
       "\t\t<dd><ol>\n",
       "\t<li><ol class=list-inline>\n",
       "\t<li>1</li>\n",
       "\t<li>2</li>\n",
       "\t<li>3</li>\n",
       "\t<li>4</li>\n",
       "\t<li>5</li>\n",
       "\t<li>6</li>\n",
       "\t<li>7</li>\n",
       "</ol>\n",
       "</li>\n",
       "\t<li><ol class=list-inline>\n",
       "\t<li>9</li>\n",
       "\t<li>10</li>\n",
       "\t<li>11</li>\n",
       "\t<li>12</li>\n",
       "\t<li>13</li>\n",
       "</ol>\n",
       "</li>\n",
       "</ol>\n",
       "</dd>\n",
       "\t<dt>$score</dt>\n",
       "\t\t<dd><ol class=list-inline>\n",
       "\t<li>5</li>\n",
       "\t<li>4.5</li>\n",
       "</ol>\n",
       "</dd>\n",
       "</dl>\n"
      ],
      "text/latex": [
       "\\begin{description}\n",
       "\\item[\\$COMPLEX] \\begin{enumerate}\n",
       "\\item \\begin{enumerate*}\n",
       "\\item 1\n",
       "\\item 2\n",
       "\\item 3\n",
       "\\item 4\n",
       "\\item 5\n",
       "\\item 6\n",
       "\\item 7\n",
       "\\end{enumerate*}\n",
       "\n",
       "\\item \\begin{enumerate*}\n",
       "\\item 9\n",
       "\\item 10\n",
       "\\item 11\n",
       "\\item 12\n",
       "\\item 13\n",
       "\\end{enumerate*}\n",
       "\n",
       "\\end{enumerate}\n",
       "\n",
       "\\item[\\$score] \\begin{enumerate*}\n",
       "\\item 5\n",
       "\\item 4.5\n",
       "\\end{enumerate*}\n",
       "\n",
       "\\end{description}\n"
      ],
      "text/markdown": [
       "$COMPLEX\n",
       ":   1. 1. 1\n",
       "2. 2\n",
       "3. 3\n",
       "4. 4\n",
       "5. 5\n",
       "6. 6\n",
       "7. 7\n",
       "\n",
       "\n",
       "\n",
       "2. 1. 9\n",
       "2. 10\n",
       "3. 11\n",
       "4. 12\n",
       "5. 13\n",
       "\n",
       "\n",
       "\n",
       "\n",
       "\n",
       "\n",
       "$score\n",
       ":   1. 5\n",
       "2. 4.5\n",
       "\n",
       "\n",
       "\n",
       "\n",
       "\n"
      ],
      "text/plain": [
       "$COMPLEX\n",
       "$COMPLEX[[1]]\n",
       "[1] 1 2 3 4 5 6 7\n",
       "\n",
       "$COMPLEX[[2]]\n",
       "[1]  9 10 11 12 13\n",
       "\n",
       "\n",
       "$score\n",
       "[1] 5.0 4.5\n"
      ]
     },
     "metadata": {},
     "output_type": "display_data"
    }
   ],
   "source": [
    "ProNet::mcode(test_igraph)"
   ]
  },
  {
   "cell_type": "markdown",
   "metadata": {},
   "source": [
    "Load the Krogan et al. network edge-list as a dataframe"
   ]
  },
  {
   "cell_type": "code",
   "execution_count": 129,
   "metadata": {
    "scrolled": true
   },
   "outputs": [
    {
     "data": {
      "text/html": [
       "<table>\n",
       "<thead><tr><th scope=col>protein1</th><th scope=col>protein2</th></tr></thead>\n",
       "<tbody>\n",
       "\t<tr><td>AAC3 </td><td>PMR1 </td></tr>\n",
       "\t<tr><td>AAP1 </td><td>GUD1 </td></tr>\n",
       "\t<tr><td>AAP1 </td><td>TRS31</td></tr>\n",
       "\t<tr><td>AAP1 </td><td>GCN3 </td></tr>\n",
       "\t<tr><td>AAP1 </td><td>MDY2 </td></tr>\n",
       "\t<tr><td>AAR2 </td><td>SMD1 </td></tr>\n",
       "</tbody>\n",
       "</table>\n"
      ],
      "text/latex": [
       "\\begin{tabular}{r|ll}\n",
       " protein1 & protein2\\\\\n",
       "\\hline\n",
       "\t AAC3  & PMR1 \\\\\n",
       "\t AAP1  & GUD1 \\\\\n",
       "\t AAP1  & TRS31\\\\\n",
       "\t AAP1  & GCN3 \\\\\n",
       "\t AAP1  & MDY2 \\\\\n",
       "\t AAR2  & SMD1 \\\\\n",
       "\\end{tabular}\n"
      ],
      "text/markdown": [
       "\n",
       "protein1 | protein2 | \n",
       "|---|---|---|---|---|---|\n",
       "| AAC3  | PMR1  | \n",
       "| AAP1  | GUD1  | \n",
       "| AAP1  | TRS31 | \n",
       "| AAP1  | GCN3  | \n",
       "| AAP1  | MDY2  | \n",
       "| AAR2  | SMD1  | \n",
       "\n",
       "\n"
      ],
      "text/plain": [
       "  protein1 protein2\n",
       "1 AAC3     PMR1    \n",
       "2 AAP1     GUD1    \n",
       "3 AAP1     TRS31   \n",
       "4 AAP1     GCN3    \n",
       "5 AAP1     MDY2    \n",
       "6 AAR2     SMD1    "
      ]
     },
     "metadata": {},
     "output_type": "display_data"
    }
   ],
   "source": [
    "edge_list_df <- unique(readr::read_tsv(\"krogan.sif\", \n",
    "                              col_names=c(\"protein1\",\"protein2\"),\n",
    "                              col_types=cols()))\n",
    "\n",
    "head(edge_list_df)"
   ]
  },
  {
   "cell_type": "markdown",
   "metadata": {},
   "source": [
    "Make an igraph graph out of your edge-list data frame (undirected); print a summary"
   ]
  },
  {
   "cell_type": "code",
   "execution_count": 130,
   "metadata": {},
   "outputs": [
    {
     "name": "stdout",
     "output_type": "stream",
     "text": [
      "IGRAPH 2294070 UN-- 2674 7079 -- \n",
      "+ attr: name (v/c)\n"
     ]
    }
   ],
   "source": [
    "big_graph <- igraph::graph_from_data_frame(edge_list_df, directed=FALSE)\n",
    "summary(big_graph)"
   ]
  },
  {
   "cell_type": "markdown",
   "metadata": {},
   "source": [
    "Plot the degree distribution of your graph, on log-log scale"
   ]
  },
  {
   "cell_type": "code",
   "execution_count": 131,
   "metadata": {},
   "outputs": [
    {
     "data": {
      "image/png": "[encoded data removed]",
      "text/plain": [
       "plot without title"
      ]
     },
     "metadata": {},
     "output_type": "display_data"
    }
   ],
   "source": [
    "suppressWarnings(plot(degree_distribution(big_graph), log=\"xy\", xlab=\"k\", ylab=\"Pk\"))"
   ]
  },
  {
   "cell_type": "markdown",
   "metadata": {},
   "source": [
    "Run ProNet::mcode on your graph, with vwp=0.2 and fdt=0.1; print out the cluster sizes that you get bakc"
   ]
  },
  {
   "cell_type": "code",
   "execution_count": 136,
   "metadata": {},
   "outputs": [
    {
     "data": {
      "text/html": [
       "<ol class=list-inline>\n",
       "\t<li>1308</li>\n",
       "\t<li>80</li>\n",
       "\t<li>70</li>\n",
       "\t<li>61</li>\n",
       "\t<li>43</li>\n",
       "\t<li>41</li>\n",
       "\t<li>40</li>\n",
       "\t<li>33</li>\n",
       "\t<li>28</li>\n",
       "\t<li>23</li>\n",
       "\t<li>22</li>\n",
       "\t<li>22</li>\n",
       "\t<li>19</li>\n",
       "\t<li>17</li>\n",
       "\t<li>17</li>\n",
       "\t<li>16</li>\n",
       "\t<li>16</li>\n",
       "\t<li>14</li>\n",
       "\t<li>13</li>\n",
       "\t<li>13</li>\n",
       "\t<li>13</li>\n",
       "\t<li>11</li>\n",
       "\t<li>10</li>\n",
       "\t<li>10</li>\n",
       "\t<li>10</li>\n",
       "\t<li>10</li>\n",
       "\t<li>10</li>\n",
       "\t<li>9</li>\n",
       "\t<li>9</li>\n",
       "\t<li>9</li>\n",
       "\t<li>9</li>\n",
       "\t<li>9</li>\n",
       "\t<li>8</li>\n",
       "\t<li>8</li>\n",
       "\t<li>8</li>\n",
       "\t<li>7</li>\n",
       "\t<li>7</li>\n",
       "\t<li>7</li>\n",
       "\t<li>7</li>\n",
       "\t<li>7</li>\n",
       "\t<li>7</li>\n",
       "\t<li>6</li>\n",
       "\t<li>6</li>\n",
       "\t<li>6</li>\n",
       "\t<li>6</li>\n",
       "\t<li>6</li>\n",
       "\t<li>6</li>\n",
       "\t<li>6</li>\n",
       "\t<li>6</li>\n",
       "\t<li>5</li>\n",
       "\t<li>5</li>\n",
       "\t<li>5</li>\n",
       "\t<li>5</li>\n",
       "\t<li>5</li>\n",
       "\t<li>5</li>\n",
       "\t<li>5</li>\n",
       "\t<li>4</li>\n",
       "\t<li>4</li>\n",
       "\t<li>4</li>\n",
       "\t<li>4</li>\n",
       "\t<li>4</li>\n",
       "\t<li>4</li>\n",
       "\t<li>4</li>\n",
       "\t<li>4</li>\n",
       "\t<li>4</li>\n",
       "\t<li>4</li>\n",
       "\t<li>4</li>\n",
       "\t<li>4</li>\n",
       "\t<li>4</li>\n",
       "\t<li>4</li>\n",
       "\t<li>4</li>\n",
       "\t<li>4</li>\n",
       "\t<li>4</li>\n",
       "\t<li>3</li>\n",
       "\t<li>3</li>\n",
       "\t<li>3</li>\n",
       "\t<li>3</li>\n",
       "\t<li>3</li>\n",
       "\t<li>3</li>\n",
       "\t<li>3</li>\n",
       "\t<li>3</li>\n",
       "\t<li>3</li>\n",
       "\t<li>3</li>\n",
       "\t<li>3</li>\n",
       "\t<li>3</li>\n",
       "\t<li>3</li>\n",
       "\t<li>3</li>\n",
       "\t<li>3</li>\n",
       "\t<li>3</li>\n",
       "</ol>\n"
      ],
      "text/latex": [
       "\\begin{enumerate*}\n",
       "\\item 1308\n",
       "\\item 80\n",
       "\\item 70\n",
       "\\item 61\n",
       "\\item 43\n",
       "\\item 41\n",
       "\\item 40\n",
       "\\item 33\n",
       "\\item 28\n",
       "\\item 23\n",
       "\\item 22\n",
       "\\item 22\n",
       "\\item 19\n",
       "\\item 17\n",
       "\\item 17\n",
       "\\item 16\n",
       "\\item 16\n",
       "\\item 14\n",
       "\\item 13\n",
       "\\item 13\n",
       "\\item 13\n",
       "\\item 11\n",
       "\\item 10\n",
       "\\item 10\n",
       "\\item 10\n",
       "\\item 10\n",
       "\\item 10\n",
       "\\item 9\n",
       "\\item 9\n",
       "\\item 9\n",
       "\\item 9\n",
       "\\item 9\n",
       "\\item 8\n",
       "\\item 8\n",
       "\\item 8\n",
       "\\item 7\n",
       "\\item 7\n",
       "\\item 7\n",
       "\\item 7\n",
       "\\item 7\n",
       "\\item 7\n",
       "\\item 6\n",
       "\\item 6\n",
       "\\item 6\n",
       "\\item 6\n",
       "\\item 6\n",
       "\\item 6\n",
       "\\item 6\n",
       "\\item 6\n",
       "\\item 5\n",
       "\\item 5\n",
       "\\item 5\n",
       "\\item 5\n",
       "\\item 5\n",
       "\\item 5\n",
       "\\item 5\n",
       "\\item 4\n",
       "\\item 4\n",
       "\\item 4\n",
       "\\item 4\n",
       "\\item 4\n",
       "\\item 4\n",
       "\\item 4\n",
       "\\item 4\n",
       "\\item 4\n",
       "\\item 4\n",
       "\\item 4\n",
       "\\item 4\n",
       "\\item 4\n",
       "\\item 4\n",
       "\\item 4\n",
       "\\item 4\n",
       "\\item 4\n",
       "\\item 3\n",
       "\\item 3\n",
       "\\item 3\n",
       "\\item 3\n",
       "\\item 3\n",
       "\\item 3\n",
       "\\item 3\n",
       "\\item 3\n",
       "\\item 3\n",
       "\\item 3\n",
       "\\item 3\n",
       "\\item 3\n",
       "\\item 3\n",
       "\\item 3\n",
       "\\item 3\n",
       "\\item 3\n",
       "\\end{enumerate*}\n"
      ],
      "text/markdown": [
       "1. 1308\n",
       "2. 80\n",
       "3. 70\n",
       "4. 61\n",
       "5. 43\n",
       "6. 41\n",
       "7. 40\n",
       "8. 33\n",
       "9. 28\n",
       "10. 23\n",
       "11. 22\n",
       "12. 22\n",
       "13. 19\n",
       "14. 17\n",
       "15. 17\n",
       "16. 16\n",
       "17. 16\n",
       "18. 14\n",
       "19. 13\n",
       "20. 13\n",
       "21. 13\n",
       "22. 11\n",
       "23. 10\n",
       "24. 10\n",
       "25. 10\n",
       "26. 10\n",
       "27. 10\n",
       "28. 9\n",
       "29. 9\n",
       "30. 9\n",
       "31. 9\n",
       "32. 9\n",
       "33. 8\n",
       "34. 8\n",
       "35. 8\n",
       "36. 7\n",
       "37. 7\n",
       "38. 7\n",
       "39. 7\n",
       "40. 7\n",
       "41. 7\n",
       "42. 6\n",
       "43. 6\n",
       "44. 6\n",
       "45. 6\n",
       "46. 6\n",
       "47. 6\n",
       "48. 6\n",
       "49. 6\n",
       "50. 5\n",
       "51. 5\n",
       "52. 5\n",
       "53. 5\n",
       "54. 5\n",
       "55. 5\n",
       "56. 5\n",
       "57. 4\n",
       "58. 4\n",
       "59. 4\n",
       "60. 4\n",
       "61. 4\n",
       "62. 4\n",
       "63. 4\n",
       "64. 4\n",
       "65. 4\n",
       "66. 4\n",
       "67. 4\n",
       "68. 4\n",
       "69. 4\n",
       "70. 4\n",
       "71. 4\n",
       "72. 4\n",
       "73. 4\n",
       "74. 3\n",
       "75. 3\n",
       "76. 3\n",
       "77. 3\n",
       "78. 3\n",
       "79. 3\n",
       "80. 3\n",
       "81. 3\n",
       "82. 3\n",
       "83. 3\n",
       "84. 3\n",
       "85. 3\n",
       "86. 3\n",
       "87. 3\n",
       "88. 3\n",
       "89. 3\n",
       "\n",
       "\n"
      ],
      "text/plain": [
       " [1] 1308   80   70   61   43   41   40   33   28   23   22   22   19   17   17\n",
       "[16]   16   16   14   13   13   13   11   10   10   10   10   10    9    9    9\n",
       "[31]    9    9    8    8    8    7    7    7    7    7    7    6    6    6    6\n",
       "[46]    6    6    6    6    5    5    5    5    5    5    5    4    4    4    4\n",
       "[61]    4    4    4    4    4    4    4    4    4    4    4    4    4    3    3\n",
       "[76]    3    3    3    3    3    3    3    3    3    3    3    3    3    3"
      ]
     },
     "metadata": {},
     "output_type": "display_data"
    }
   ],
   "source": [
    "res <- ProNet::mcode(big_graph, haircut=TRUE, fluff=TRUE, vwp=0.2, fdt=0.1)\n",
    "s_vals <- sapply(res$COMPLEX, length)\n",
    "sort(s_vals, decreasing=TRUE)\n"
   ]
  },
  {
   "cell_type": "markdown",
   "metadata": {},
   "source": [
    "Print a histogram of log N(S) vs. log cluster size S."
   ]
  },
  {
   "cell_type": "code",
   "execution_count": 161,
   "metadata": {},
   "outputs": [
    {
     "name": "stderr",
     "output_type": "stream",
     "text": [
      "Warning message in xy.coords(x, y, xlabel, ylabel, log):\n",
      "\"3 y values <= 0 omitted from logarithmic plot\""
     ]
    },
    {
     "data": {
      "image/png": "[encoded data removed]",
      "text/plain": [
       "plot without title"
      ]
     },
     "metadata": {},
     "output_type": "display_data"
    }
   ],
   "source": [
    "s_bins <- (0:15)*80/15\n",
    "hist_res <- hist(s_vals[-1],breaks=s_bins, plot=FALSE)\n",
    "plot(hist_res$mids, hist_res$counts, log=\"y\", xlab=\"numprot\", ylab=\"Nclust(numprot)\")"
   ]
  }
 ],
 "metadata": {
  "kernelspec": {
   "display_name": "R",
   "language": "R",
   "name": "ir"
  },
  "language_info": {
   "codemirror_mode": "r",
   "file_extension": ".r",
   "mimetype": "text/x-r-source",
   "name": "R",
   "pygments_lexer": "r",
   "version": "3.6.1"
  }
 },
 "nbformat": 4,
 "nbformat_minor": 2
}
