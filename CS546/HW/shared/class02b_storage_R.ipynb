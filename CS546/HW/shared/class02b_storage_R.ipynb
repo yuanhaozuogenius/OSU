{
 "cells": [
  {
   "cell_type": "markdown",
   "metadata": {},
   "source": [
    "# Class Session 4 Exercise:\n",
    "## Comparing asymptotic running time for enumerating neighbors of all vertices in a graph"
   ]
  },
  {
   "cell_type": "markdown",
   "metadata": {},
   "source": [
    "We will measure the running time for enumerating the neighbor vertices for three different data structures for representing the graph:\n",
    "    adjacency matrix\n",
    "    adjacency list\n",
    "    edge list\n",
    "    \n",
    "First, we import all the R packages that we will need for this exercise:"
   ]
  },
  {
   "cell_type": "code",
   "execution_count": 1,
   "metadata": {},
   "outputs": [
    {
     "name": "stderr",
     "output_type": "stream",
     "text": [
      "\n",
      "Attaching package: ‘igraph’\n",
      "\n",
      "\n",
      "The following objects are masked from ‘package:stats’:\n",
      "\n",
      "    decompose, spectrum\n",
      "\n",
      "\n",
      "The following object is masked from ‘package:base’:\n",
      "\n",
      "    union\n",
      "\n",
      "\n"
     ]
    }
   ],
   "source": [
    "library(igraph)"
   ]
  },
  {
   "cell_type": "markdown",
   "metadata": {},
   "source": [
    "Define a function that enumerates the neighbors of a vertex i, when the \n",
    "graph is stored in adjacency matrix format (ones and zeroes).  Use the `which` function."
   ]
  },
  {
   "cell_type": "code",
   "execution_count": 2,
   "metadata": {},
   "outputs": [],
   "source": [
    "enumerate_matrix <- function(gmat, i) {\n",
    "    which(gmat[i, ] == 1)\n",
    "}"
   ]
  },
  {
   "cell_type": "markdown",
   "metadata": {},
   "source": [
    "Define a function that enumerates the neighbors of a vertex i, when the \n",
    "graph is stored in adjacency list format. Use the `[[` function (i..e, array indexing)."
   ]
  },
  {
   "cell_type": "code",
   "execution_count": 3,
   "metadata": {},
   "outputs": [],
   "source": [
    "enumerate_adj_list <- function(adj_list, i) {\n",
    "    adj_list[[i]]\n",
    "}"
   ]
  },
  {
   "cell_type": "markdown",
   "metadata": {},
   "source": [
    "Define a function that enumerates the neighbors of a vertex i, when the \n",
    "graph is stored in edge-list format.  Use the `which` function and then the `c` (concatenate) function."
   ]
  },
  {
   "cell_type": "code",
   "execution_count": 4,
   "metadata": {},
   "outputs": [],
   "source": [
    "enumerate_edge_list <- function(edge_list, i) {\n",
    "    inds1 <- which(edge_list[,1] == i)\n",
    "    inds2 <- which(edge_list[,2] == i)\n",
    "    c(edge_list[inds1,2], edge_list[inds2,1])\n",
    "}"
   ]
  },
  {
   "cell_type": "markdown",
   "metadata": {},
   "source": [
    "This next function is the simulation funtion.  \"n\" is the number of vertices.\n",
    "It returns a length-three list containing the average running time for enumerating the neighbor vertices of a vertex in the graph. \n",
    "\n",
    "Use the `sample_pa` function in igraph to generate a Barabasi-Albert (undirected) graph, with n vertices and m=5 (which should have number of edges equal to nm - m^2 / 2 - m/2).\n",
    "It returns a length-three list containing the average running time for enumerating the neighbor vertices of a vertex in the graph. "
   ]
  },
  {
   "cell_type": "code",
   "execution_count": 5,
   "metadata": {},
   "outputs": [],
   "source": [
    "dosim <- function(n) {\n",
    "\n",
    "    nrep <- 10\n",
    "    nsubrep <- 10\n",
    "    \n",
    "    simdf <- do.call(rbind,\n",
    "                     replicate(nrep, {\n",
    "                        # make a random undirected graph with fixed (average) vertex degree = 5\n",
    "                         g <- sample_pa(n, out.seq=rep(5, n), directed=FALSE)\n",
    "                         \n",
    "                         g_matrix <- as.matrix(as_adjacency_matrix(g))\n",
    "                         g_adj_list <- as_adj_list(g)\n",
    "                         g_edge_list <- as_edgelist(g)\n",
    "\n",
    "                         time_mat <- system.time(\n",
    "                             replicate(nsubrep, {\n",
    "                                 lapply(1:n,\n",
    "                                        function(i) {\n",
    "                                            enumerate_matrix(g_matrix, i)\n",
    "                                        })\n",
    "                             })\n",
    "                         )[1]\n",
    "                         \n",
    "                         time_adj_list <- system.time(\n",
    "                             replicate(nsubrep, {\n",
    "                                 lapply(1:n,\n",
    "                                        function(i) {\n",
    "                                            enumerate_adj_list(g_adj_list, i)\n",
    "                                        })\n",
    "                             })\n",
    "                         )[1]\n",
    "                         \n",
    "                         time_edge_list <- system.time(\n",
    "                             replicate(nsubrep, {\n",
    "                                 lapply(1:n,\n",
    "                                        function(i) {\n",
    "                                            enumerate_edge_list(g_edge_list, i)\n",
    "                                        })\n",
    "                             })\n",
    "                         )[1]\n",
    "\n",
    "                         rowdf <- data.frame(matrix=time_mat,\n",
    "                                             adjlist=time_adj_list,\n",
    "                                             edgelist=time_edge_list)\n",
    "                         \n",
    "                         rowdf\n",
    "                     }, simplify=FALSE)\n",
    "                     )\n",
    "    \n",
    "    # average over replicates\n",
    "    simres <- apply(simdf, 2, mean)\n",
    "    \n",
    "    # divide by n so that the running time results are on a per-vertex basis\n",
    "    simres/n\n",
    "}\n"
   ]
  },
  {
   "cell_type": "markdown",
   "metadata": {},
   "source": [
    "Run the function for the graphs of 100, 300, and 500 vertices, and gather the results in a list:"
   ]
  },
  {
   "cell_type": "code",
   "execution_count": 16,
   "metadata": {},
   "outputs": [],
   "source": [
    "nvals <- c(100, 300, 500)\n",
    "sim_data_list <- lapply(nvals, dosim)"
   ]
  },
  {
   "cell_type": "markdown",
   "metadata": {},
   "source": [
    "Rescale the list to make the numbers in milliseconds:"
   ]
  },
  {
   "cell_type": "code",
   "execution_count": 17,
   "metadata": {},
   "outputs": [],
   "source": [
    "sim_data_list_rescaled <- lapply(sim_data_list, function(v) {v*1000})"
   ]
  },
  {
   "cell_type": "markdown",
   "metadata": {},
   "source": [
    "Let's have a look at the data in the list format:"
   ]
  },
  {
   "cell_type": "code",
   "execution_count": 18,
   "metadata": {},
   "outputs": [
    {
     "data": {
      "text/html": [
       "<ol>\n",
       "\t<li><dl class=dl-horizontal>\n",
       "\t<dt>matrix</dt>\n",
       "\t\t<dd>0.0529999999999973</dd>\n",
       "\t<dt>adjlist</dt>\n",
       "\t\t<dd>0.0130000000000336</dd>\n",
       "\t<dt>edgelist</dt>\n",
       "\t\t<dd>0.146999999999991</dd>\n",
       "</dl>\n",
       "</li>\n",
       "\t<li><dl class=dl-horizontal>\n",
       "\t<dt>matrix</dt>\n",
       "\t\t<dd>0.0653333333333421</dd>\n",
       "\t<dt>adjlist</dt>\n",
       "\t\t<dd>0.0156666666666467</dd>\n",
       "\t<dt>edgelist</dt>\n",
       "\t\t<dd>0.282666666666671</dd>\n",
       "</dl>\n",
       "</li>\n",
       "\t<li><dl class=dl-horizontal>\n",
       "\t<dt>matrix</dt>\n",
       "\t\t<dd>0.0875999999999976</dd>\n",
       "\t<dt>adjlist</dt>\n",
       "\t\t<dd>0.0153999999999883</dd>\n",
       "\t<dt>edgelist</dt>\n",
       "\t\t<dd>0.451399999999984</dd>\n",
       "</dl>\n",
       "</li>\n",
       "</ol>\n"
      ],
      "text/latex": [
       "\\begin{enumerate}\n",
       "\\item \\begin{description*}\n",
       "\\item[matrix] 0.0529999999999973\n",
       "\\item[adjlist] 0.0130000000000336\n",
       "\\item[edgelist] 0.146999999999991\n",
       "\\end{description*}\n",
       "\n",
       "\\item \\begin{description*}\n",
       "\\item[matrix] 0.0653333333333421\n",
       "\\item[adjlist] 0.0156666666666467\n",
       "\\item[edgelist] 0.282666666666671\n",
       "\\end{description*}\n",
       "\n",
       "\\item \\begin{description*}\n",
       "\\item[matrix] 0.0875999999999976\n",
       "\\item[adjlist] 0.0153999999999883\n",
       "\\item[edgelist] 0.451399999999984\n",
       "\\end{description*}\n",
       "\n",
       "\\end{enumerate}\n"
      ],
      "text/markdown": [
       "1. matrix\n",
       ":   0.0529999999999973adjlist\n",
       ":   0.0130000000000336edgelist\n",
       ":   0.146999999999991\n",
       "\n",
       "\n",
       "2. matrix\n",
       ":   0.0653333333333421adjlist\n",
       ":   0.0156666666666467edgelist\n",
       ":   0.282666666666671\n",
       "\n",
       "\n",
       "3. matrix\n",
       ":   0.0875999999999976adjlist\n",
       ":   0.0153999999999883edgelist\n",
       ":   0.451399999999984\n",
       "\n",
       "\n",
       "\n",
       "\n"
      ],
      "text/plain": [
       "[[1]]\n",
       "  matrix  adjlist edgelist \n",
       "   0.053    0.013    0.147 \n",
       "\n",
       "[[2]]\n",
       "    matrix    adjlist   edgelist \n",
       "0.06533333 0.01566667 0.28266667 \n",
       "\n",
       "[[3]]\n",
       "  matrix  adjlist edgelist \n",
       "  0.0876   0.0154   0.4514 \n"
      ]
     },
     "metadata": {},
     "output_type": "display_data"
    }
   ],
   "source": [
    "sim_data_list_rescaled"
   ]
  },
  {
   "cell_type": "markdown",
   "metadata": {},
   "source": [
    "Convert the list to a wide data frame, using do.call and rbind; make the network size the first column of the data frame (and as a factor)"
   ]
  },
  {
   "cell_type": "code",
   "execution_count": 19,
   "metadata": {},
   "outputs": [],
   "source": [
    "sim_data_list_df <- data.frame(network_size=as.factor(nvals),\n",
    "                               do.call(rbind, sim_data_list_rescaled))"
   ]
  },
  {
   "cell_type": "markdown",
   "metadata": {},
   "source": [
    "Let's have a look at the wide data frame format:"
   ]
  },
  {
   "cell_type": "code",
   "execution_count": 20,
   "metadata": {},
   "outputs": [
    {
     "data": {
      "text/html": [
       "<table>\n",
       "<caption>A data.frame: 3 × 4</caption>\n",
       "<thead>\n",
       "\t<tr><th scope=col>network_size</th><th scope=col>matrix</th><th scope=col>adjlist</th><th scope=col>edgelist</th></tr>\n",
       "\t<tr><th scope=col>&lt;fct&gt;</th><th scope=col>&lt;dbl&gt;</th><th scope=col>&lt;dbl&gt;</th><th scope=col>&lt;dbl&gt;</th></tr>\n",
       "</thead>\n",
       "<tbody>\n",
       "\t<tr><td>100</td><td>0.05300000</td><td>0.01300000</td><td>0.1470000</td></tr>\n",
       "\t<tr><td>300</td><td>0.06533333</td><td>0.01566667</td><td>0.2826667</td></tr>\n",
       "\t<tr><td>500</td><td>0.08760000</td><td>0.01540000</td><td>0.4514000</td></tr>\n",
       "</tbody>\n",
       "</table>\n"
      ],
      "text/latex": [
       "A data.frame: 3 × 4\n",
       "\\begin{tabular}{r|llll}\n",
       " network\\_size & matrix & adjlist & edgelist\\\\\n",
       " <fct> & <dbl> & <dbl> & <dbl>\\\\\n",
       "\\hline\n",
       "\t 100 & 0.05300000 & 0.01300000 & 0.1470000\\\\\n",
       "\t 300 & 0.06533333 & 0.01566667 & 0.2826667\\\\\n",
       "\t 500 & 0.08760000 & 0.01540000 & 0.4514000\\\\\n",
       "\\end{tabular}\n"
      ],
      "text/markdown": [
       "\n",
       "A data.frame: 3 × 4\n",
       "\n",
       "| network_size &lt;fct&gt; | matrix &lt;dbl&gt; | adjlist &lt;dbl&gt; | edgelist &lt;dbl&gt; |\n",
       "|---|---|---|---|\n",
       "| 100 | 0.05300000 | 0.01300000 | 0.1470000 |\n",
       "| 300 | 0.06533333 | 0.01566667 | 0.2826667 |\n",
       "| 500 | 0.08760000 | 0.01540000 | 0.4514000 |\n",
       "\n"
      ],
      "text/plain": [
       "  network_size matrix     adjlist    edgelist \n",
       "1 100          0.05300000 0.01300000 0.1470000\n",
       "2 300          0.06533333 0.01566667 0.2826667\n",
       "3 500          0.08760000 0.01540000 0.4514000"
      ]
     },
     "metadata": {},
     "output_type": "display_data"
    }
   ],
   "source": [
    "sim_data_list_df"
   ]
  },
  {
   "cell_type": "markdown",
   "metadata": {},
   "source": [
    "\"Melt\" the data into a narrow format:"
   ]
  },
  {
   "cell_type": "code",
   "execution_count": 21,
   "metadata": {},
   "outputs": [],
   "source": [
    "library(dplyr)\n",
    "library(reshape2)\n",
    "sim_data_list_melted <- melt(sim_data_list_df, id.vars=\"network_size\")"
   ]
  },
  {
   "cell_type": "markdown",
   "metadata": {},
   "source": [
    "Let's have a look at the narrow data frame format:"
   ]
  },
  {
   "cell_type": "code",
   "execution_count": 22,
   "metadata": {},
   "outputs": [
    {
     "data": {
      "text/html": [
       "<table>\n",
       "<caption>A data.frame: 9 × 3</caption>\n",
       "<thead>\n",
       "\t<tr><th scope=col>network_size</th><th scope=col>variable</th><th scope=col>value</th></tr>\n",
       "\t<tr><th scope=col>&lt;fct&gt;</th><th scope=col>&lt;fct&gt;</th><th scope=col>&lt;dbl&gt;</th></tr>\n",
       "</thead>\n",
       "<tbody>\n",
       "\t<tr><td>100</td><td>matrix  </td><td>0.05300000</td></tr>\n",
       "\t<tr><td>300</td><td>matrix  </td><td>0.06533333</td></tr>\n",
       "\t<tr><td>500</td><td>matrix  </td><td>0.08760000</td></tr>\n",
       "\t<tr><td>100</td><td>adjlist </td><td>0.01300000</td></tr>\n",
       "\t<tr><td>300</td><td>adjlist </td><td>0.01566667</td></tr>\n",
       "\t<tr><td>500</td><td>adjlist </td><td>0.01540000</td></tr>\n",
       "\t<tr><td>100</td><td>edgelist</td><td>0.14700000</td></tr>\n",
       "\t<tr><td>300</td><td>edgelist</td><td>0.28266667</td></tr>\n",
       "\t<tr><td>500</td><td>edgelist</td><td>0.45140000</td></tr>\n",
       "</tbody>\n",
       "</table>\n"
      ],
      "text/latex": [
       "A data.frame: 9 × 3\n",
       "\\begin{tabular}{r|lll}\n",
       " network\\_size & variable & value\\\\\n",
       " <fct> & <fct> & <dbl>\\\\\n",
       "\\hline\n",
       "\t 100 & matrix   & 0.05300000\\\\\n",
       "\t 300 & matrix   & 0.06533333\\\\\n",
       "\t 500 & matrix   & 0.08760000\\\\\n",
       "\t 100 & adjlist  & 0.01300000\\\\\n",
       "\t 300 & adjlist  & 0.01566667\\\\\n",
       "\t 500 & adjlist  & 0.01540000\\\\\n",
       "\t 100 & edgelist & 0.14700000\\\\\n",
       "\t 300 & edgelist & 0.28266667\\\\\n",
       "\t 500 & edgelist & 0.45140000\\\\\n",
       "\\end{tabular}\n"
      ],
      "text/markdown": [
       "\n",
       "A data.frame: 9 × 3\n",
       "\n",
       "| network_size &lt;fct&gt; | variable &lt;fct&gt; | value &lt;dbl&gt; |\n",
       "|---|---|---|\n",
       "| 100 | matrix   | 0.05300000 |\n",
       "| 300 | matrix   | 0.06533333 |\n",
       "| 500 | matrix   | 0.08760000 |\n",
       "| 100 | adjlist  | 0.01300000 |\n",
       "| 300 | adjlist  | 0.01566667 |\n",
       "| 500 | adjlist  | 0.01540000 |\n",
       "| 100 | edgelist | 0.14700000 |\n",
       "| 300 | edgelist | 0.28266667 |\n",
       "| 500 | edgelist | 0.45140000 |\n",
       "\n"
      ],
      "text/plain": [
       "  network_size variable value     \n",
       "1 100          matrix   0.05300000\n",
       "2 300          matrix   0.06533333\n",
       "3 500          matrix   0.08760000\n",
       "4 100          adjlist  0.01300000\n",
       "5 300          adjlist  0.01566667\n",
       "6 500          adjlist  0.01540000\n",
       "7 100          edgelist 0.14700000\n",
       "8 300          edgelist 0.28266667\n",
       "9 500          edgelist 0.45140000"
      ]
     },
     "metadata": {},
     "output_type": "display_data"
    }
   ],
   "source": [
    "sim_data_list_melted"
   ]
  },
  {
   "cell_type": "markdown",
   "metadata": {},
   "source": [
    "Let's plot the data.  The \"barchart\" function in lattice graphics is a nice way to plot a grouped bar plot from a narrow data frame. "
   ]
  },
  {
   "cell_type": "code",
   "execution_count": 23,
   "metadata": {},
   "outputs": [
    {
     "data": {
      "image/png": "[encoded data removed]",
      "text/plain": [
       "plot without title"
      ]
     },
     "metadata": {
      "image/png": {
       "height": 420,
       "width": 420
      },
      "text/plain": {
       "height": 420,
       "width": 420
      }
     },
     "output_type": "display_data"
    }
   ],
   "source": [
    "library(lattice)\n",
    "colors = c('red', 'orange', 'yellow')\n",
    "barchart(value~network_size, data=sim_data_list_melted, groups=variable,\n",
    "         auto.key=list(space='right'),\n",
    "        par.settings=list(superpose.polygon=list(col=colors)))"
   ]
  }
 ],
 "metadata": {
  "kernelspec": {
   "display_name": "R",
   "language": "R",
   "name": "ir"
  },
  "language_info": {
   "codemirror_mode": "r",
   "file_extension": ".r",
   "mimetype": "text/x-r-source",
   "name": "R",
   "pygments_lexer": "r",
   "version": "3.6.1"
  }
 },
 "nbformat": 4,
 "nbformat_minor": 1
}
