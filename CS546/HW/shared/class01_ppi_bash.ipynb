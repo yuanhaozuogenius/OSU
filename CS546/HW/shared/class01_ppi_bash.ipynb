{
 "cells": [
  {
   "cell_type": "code",
   "execution_count": 16,
   "metadata": {
    "collapsed": false
   },
   "outputs": [
    {
     "name": "stdout",
     "output_type": "stream",
     "text": []
    }
   ],
   "source": [
    "curl -s --compressed http://www.pathwaycommons.org/archives/PC2/current/PathwayCommons.8.All.BINARY_SIF.hgnc.txt.sif.gz \\\n",
    "| gunzip > pc.sif"
   ]
  },
  {
   "cell_type": "code",
   "execution_count": 14,
   "metadata": {
    "collapsed": false
   },
   "outputs": [
    {
     "name": "stdout",
     "output_type": "stream",
     "text": [
      "A1BG\tcontrols-expression-of\tA2M\r\n",
      "A1BG\tinteracts-with\tABCC6\r\n",
      "A1BG\tcontrols-phosphorylation-of\tAKT1\r\n",
      "A1BG\tcontrols-state-change-of\tAKT1\r\n",
      "A1BG\tinteracts-with\tANXA7\r\n",
      "A1BG\tinteracts-with\tCDKN1A\r\n"
     ]
    }
   ],
   "source": [
    "head -6 pc.sif"
   ]
  },
  {
   "cell_type": "code",
   "execution_count": 12,
   "metadata": {
    "collapsed": false
   },
   "outputs": [
    {
     "name": "stdout",
     "output_type": "stream",
     "text": [
      "523498\r\n"
     ]
    }
   ],
   "source": [
    "egrep $'\\tinteracts-with\\t|\\tin-complex-with\\t|neighbor-of' pc.sif | wc -l"
   ]
  },
  {
   "cell_type": "code",
   "execution_count": 13,
   "metadata": {
    "collapsed": false
   },
   "outputs": [
    {
     "name": "stdout",
     "output_type": "stream",
     "text": [
      "17020\r\n"
     ]
    }
   ],
   "source": [
    "egrep $'\\tinteracts-with\\t|\\tin-complex-with\\t|neighbor-of' pc.sif \\\n",
    "   | gawk '{ print $1 \"\\n\"  $3 }' | sort -u | wc -l"
   ]
  },
  {
   "cell_type": "code",
   "execution_count": 10,
   "metadata": {
    "collapsed": false
   },
   "outputs": [
    {
     "name": "stdout",
     "output_type": "stream",
     "text": [
      "491784\r\n"
     ]
    }
   ],
   "source": [
    "egrep $'\\tinteracts-with\\t|\\tin-complex-with\\t|neighbor-of' pc.sif \\\n",
    "| gawk '{print ($3 > $1) ? $1 \"-\" $3 : $3 \"-\"  $1}'  | sort -u | wc -l"
   ]
  },
  {
   "cell_type": "code",
   "execution_count": 15,
   "metadata": {
    "collapsed": false
   },
   "outputs": [
    {
     "name": "stdout",
     "output_type": "stream",
     "text": [
      " 369895 interacts-with\r\n",
      " 153603 in-complex-with\r\n",
      " 135268 chemical-affects\r\n",
      " 120948 catalysis-precedes\r\n",
      " 110013 controls-expression-of\r\n",
      " 106156 controls-state-change-of\r\n",
      "  18482 controls-production-of\r\n",
      "  16816 consumption-controlled-by\r\n",
      "  15636 controls-phosphorylation-of\r\n",
      "  13705 used-to-produce\r\n",
      "   6960 controls-transport-of\r\n",
      "   3607 reacts-with\r\n",
      "   2847 controls-transport-of-chemical\r\n"
     ]
    }
   ],
   "source": [
    "cut -f2 pc.sif | sort | uniq -c | sort -k1 -nr"
   ]
  },
  {
   "cell_type": "code",
   "execution_count": null,
   "metadata": {
    "collapsed": true
   },
   "outputs": [],
   "source": []
  }
 ],
 "metadata": {
  "kernelspec": {
   "display_name": "Bash",
   "language": "bash",
   "name": "bash"
  },
  "language_info": {
   "codemirror_mode": "shell",
   "file_extension": ".sh",
   "mimetype": "text/x-sh",
   "name": "bash"
  }
 },
 "nbformat": 4,
 "nbformat_minor": 1
}
