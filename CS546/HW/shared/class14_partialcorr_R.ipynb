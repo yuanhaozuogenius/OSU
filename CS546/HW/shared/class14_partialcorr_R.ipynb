{
 "cells": [
  {
   "cell_type": "markdown",
   "metadata": {},
   "source": [
    "# CS446/546 - Class Session 14 - Network inference using partial correlations\n",
    "\n",
    "In this class session we will continue with analyzing the tumor gene expression dataset from the NIH human bladder cancer cohort (*M*=414 tumors), building on what we learned in Class Session 19 (Correlation Network).  In order to keep the analysis simple&ast;, in this notebook will restrict our analysis to a set of *N*=164 genes that are very highly expressed in bladder cancer. Using the 164 x 414 matrix of transcript abundance measurements, we will construct a network based on gene-gene partial correlation coefficients. We will also compare the distribution of partial correlation coefficients to the distribution of Pearson correlation coefficients. Do you think they will be different?  In what way would you expect them to be different?\n",
    "\n",
    "&ast; Here, \"simple\" means that the covariance matrix will be nonsingular, so that we can obtain the partial correlation matrix by inversion."
   ]
  },
  {
   "cell_type": "markdown",
   "metadata": {},
   "source": [
    "Let's start by loading the two R packages that we will need for this exercise:"
   ]
  },
  {
   "cell_type": "code",
   "execution_count": 20,
   "metadata": {},
   "outputs": [],
   "source": [
    "library(corpcor)  ## we will use this library for computing partial correl.\n",
    "\n",
    "suppressPackageStartupMessages(   \n",
    "library(igraph)   ## we will use this library for plotting the network\n",
    ")"
   ]
  },
  {
   "cell_type": "markdown",
   "metadata": {},
   "source": [
    "Read the tab-deliminted text file of gene expression measurements (rows correspond to genes, columns correspond to bladder tumor samples; the first row of the file contains the \"names\" of the tumor samples). As usual, you will use `read.table` with `row.names=1`. "
   ]
  },
  {
   "cell_type": "code",
   "execution_count": 21,
   "metadata": {},
   "outputs": [],
   "source": [
    "gene_matrix_for_network <- read.table(\"shared/bladder_cancer_genes_tcga.txt\",\n",
    "                                     sep=\"\\t\",\n",
    "                                     header=TRUE,\n",
    "                                     row.names=1)"
   ]
  },
  {
   "cell_type": "markdown",
   "metadata": {},
   "source": [
    "As always, you should check using `dim` to verify that the file that you loaded has the expected dimensions (in this case, 4,473 x 414)"
   ]
  },
  {
   "cell_type": "code",
   "execution_count": 22,
   "metadata": {},
   "outputs": [
    {
     "data": {
      "text/html": [
       "<ol class=list-inline>\n",
       "\t<li>4473</li>\n",
       "\t<li>414</li>\n",
       "</ol>\n"
      ],
      "text/latex": [
       "\\begin{enumerate*}\n",
       "\\item 4473\n",
       "\\item 414\n",
       "\\end{enumerate*}\n"
      ],
      "text/markdown": [
       "1. 4473\n",
       "2. 414\n",
       "\n",
       "\n"
      ],
      "text/plain": [
       "[1] 4473  414"
      ]
     },
     "metadata": {},
     "output_type": "display_data"
    }
   ],
   "source": [
    "dim(gene_matrix_for_network)"
   ]
  },
  {
   "cell_type": "markdown",
   "metadata": {},
   "source": [
    "Filter the matrix `gene_matrix_for_network` to include only rows for which the row median expression level is > 12 (a reasonbly high transcript tag count since these measurements are in log2 scale); matrix should now be 164 x 414; this is not strictly necessary but will help prevent us from over-burderning the EC2 instance and it will enable us to easily compute the partial correlation matrix using the inverse of the covariance matrix."
   ]
  },
  {
   "cell_type": "markdown",
   "metadata": {},
   "source": [
    "First, compute the row-wise median expression levels, using `apply` with `MARGIN=1`:"
   ]
  },
  {
   "cell_type": "code",
   "execution_count": 23,
   "metadata": {},
   "outputs": [],
   "source": [
    "gene_median_express <- apply(gene_matrix_for_network, 1, median)"
   ]
  },
  {
   "cell_type": "markdown",
   "metadata": {},
   "source": [
    "Next, use array indexing `[` to make a matrix `gene_matrix_filt` that contains only the rows for which `gene_median_express > 12`:"
   ]
  },
  {
   "cell_type": "code",
   "execution_count": 24,
   "metadata": {},
   "outputs": [],
   "source": [
    "gene_matrix_filt <- gene_matrix_for_network[gene_median_express > 12, ]"
   ]
  },
  {
   "cell_type": "markdown",
   "metadata": {},
   "source": [
    "Use `nrow` to verify that this matrix has 164 rows:"
   ]
  },
  {
   "cell_type": "code",
   "execution_count": 25,
   "metadata": {},
   "outputs": [
    {
     "data": {
      "text/html": [
       "164"
      ],
      "text/latex": [
       "164"
      ],
      "text/markdown": [
       "164"
      ],
      "text/plain": [
       "[1] 164"
      ]
     },
     "metadata": {},
     "output_type": "display_data"
    }
   ],
   "source": [
    "N <- nrow(gene_matrix_filt)\n",
    "N"
   ]
  },
  {
   "cell_type": "markdown",
   "metadata": {},
   "source": [
    "Using the `cor` function (our friend from last class session), compute the 164 x 164 matrix of gene-gene Pearson correlation coefficients. Don't forget that `cor` computes correlations between *columns* of its matrix argument, so you will have to transpose the data matrix using the `t` function before passing it to `cor`. "
   ]
  },
  {
   "cell_type": "code",
   "execution_count": 26,
   "metadata": {},
   "outputs": [],
   "source": [
    "matrix_cor <- cor(t(gene_matrix_filt))"
   ]
  },
  {
   "cell_type": "markdown",
   "metadata": {},
   "source": [
    "Use `dim` to verify that your matrix is now *N* x *N*, where *N* = 164.  (If you get 414 x 414 instead, you forgot to transpose.) This illustrates why it is good to always be checking matrix and data frame dimensions as you go through your analysis!"
   ]
  },
  {
   "cell_type": "code",
   "execution_count": 27,
   "metadata": {},
   "outputs": [
    {
     "data": {
      "text/html": [
       "<ol class=list-inline>\n",
       "\t<li>164</li>\n",
       "\t<li>164</li>\n",
       "</ol>\n"
      ],
      "text/latex": [
       "\\begin{enumerate*}\n",
       "\\item 164\n",
       "\\item 164\n",
       "\\end{enumerate*}\n"
      ],
      "text/markdown": [
       "1. 164\n",
       "2. 164\n",
       "\n",
       "\n"
      ],
      "text/plain": [
       "[1] 164 164"
      ]
     },
     "metadata": {},
     "output_type": "display_data"
    }
   ],
   "source": [
    "dim(matrix_cor)"
   ]
  },
  {
   "cell_type": "markdown",
   "metadata": {},
   "source": [
    "Read the online help page for the function `corpcor::cor2pcor`.  What is its input object type?  What is its output object type?"
   ]
  },
  {
   "cell_type": "code",
   "execution_count": 28,
   "metadata": {},
   "outputs": [],
   "source": [
    "?cor2pcor"
   ]
  },
  {
   "cell_type": "markdown",
   "metadata": {},
   "source": [
    "Use the `corpcor::cor2pcor` function to compute the partial correlation matrix (note: if *N* > *M*, `cor2pcor` is not recommended; we would need to instead use `corpcor::pcor.shrink`, which uses a technique called shrinkage estimation to obtain the partial correlation matrix)."
   ]
  },
  {
   "cell_type": "code",
   "execution_count": 29,
   "metadata": {},
   "outputs": [],
   "source": [
    "matrix_pcor <- corpcor::cor2pcor(matrix_cor)"
   ]
  },
  {
   "cell_type": "markdown",
   "metadata": {},
   "source": [
    "Plot the histograms of the correlation coefficients (upper triangle only) and the partial correlation coefficients, on the same plot using alpha blending (refer to class session 17 exercise)."
   ]
  },
  {
   "cell_type": "code",
   "execution_count": 30,
   "metadata": {},
   "outputs": [
    {
     "data": {
      "image/png": "[encoded data removed]",
      "text/plain": [
       "Plot with title \"\""
      ]
     },
     "metadata": {},
     "output_type": "display_data"
    }
   ],
   "source": [
    "nbreaks <- 40\n",
    "breaks <- ((0:nbreaks)-(nbreaks/2))/(nbreaks/2)\n",
    "hist_cor <- hist(matrix_cor[upper.tri(matrix_cor)], breaks=breaks, plot=FALSE)\n",
    "hist_pcor <- hist(matrix_pcor[upper.tri(matrix_pcor)], breaks=breaks, plot=FALSE)\n",
    "plotvals <- 0.5*(breaks[1:nbreaks] + breaks[2:(nbreaks+1)])\n",
    "plot(hist_pcor, col=rgb(0,1,0,1/4), xlab=expression(C[i]), main=\"\", freq=FALSE)\n",
    "plot(hist_cor, col=rgb(0,0,1,1/4), add=TRUE, freq=FALSE)\n",
    "legend(0.3, 8, legend=c(\"cor\",\"pcor\"), fill=c(rgb(0,0,1,1/4),rgb(0,1,0,1/4)))"
   ]
  },
  {
   "cell_type": "markdown",
   "metadata": {},
   "source": [
    "Fisher transform the partial correlation matrix, to get a matrix of z scores:"
   ]
  },
  {
   "cell_type": "code",
   "execution_count": 31,
   "metadata": {},
   "outputs": [],
   "source": [
    "matrix_z <- 0.5*log((1+matrix_pcor)/(1-matrix_pcor))"
   ]
  },
  {
   "cell_type": "markdown",
   "metadata": {},
   "source": [
    "Compute a p-value for each gene pair (upper triangle only), using the fact that sqrt(M-N-5) times the fisher Z sore should be approximately univariate normal (with zero mean) under the null hypothesis that a given gene pair's measurements (conditioned on the measurements for all the other 162 genes) are independent. (use `sqrt`, `upper.tri`, `abs`, and `pnorm`)"
   ]
  },
  {
   "cell_type": "code",
   "execution_count": 33,
   "metadata": {},
   "outputs": [],
   "source": [
    "M <- ncol(gene_matrix_for_network)\n",
    "pvalues <- 2*pnorm(-abs(matrix_z[upper.tri(matrix_z)])*sqrt(M-N-5))"
   ]
  },
  {
   "cell_type": "markdown",
   "metadata": {},
   "source": [
    "How many gene pairs have a P value less than 0.01? (use `which` and `length`)"
   ]
  },
  {
   "cell_type": "code",
   "execution_count": 34,
   "metadata": {},
   "outputs": [
    {
     "data": {
      "text/html": [
       "706"
      ],
      "text/latex": [
       "706"
      ],
      "text/markdown": [
       "706"
      ],
      "text/plain": [
       "[1] 706"
      ]
     },
     "metadata": {},
     "output_type": "display_data"
    }
   ],
   "source": [
    "length(which(pvalues < 0.01))"
   ]
  },
  {
   "cell_type": "markdown",
   "metadata": {},
   "source": [
    "What are the sizes of the components in the undirected graph whose edges have `P < 0.01` in the statistical test that you did?  You will need to use `arrayInd`, `cbind`, `graph_from_data_frame`, and `components` (last two of those functions are old friends from `igraph`). As always, print a summary about your graph."
   ]
  },
  {
   "cell_type": "code",
   "execution_count": 35,
   "metadata": {},
   "outputs": [
    {
     "name": "stdout",
     "output_type": "stream",
     "text": [
      "IGRAPH a6c28de UN-- 164 706 -- \n",
      "+ attr: name (v/c)\n"
     ]
    },
    {
     "data": {
      "text/html": [
       "164"
      ],
      "text/latex": [
       "164"
      ],
      "text/markdown": [
       "164"
      ],
      "text/plain": [
       "[1] 164"
      ]
     },
     "metadata": {},
     "output_type": "display_data"
    }
   ],
   "source": [
    "inds_tri <- which(upper.tri(matrix_z))\n",
    "inds_sig <- which(pvalues < 0.01)\n",
    "graph_edge_list <- cbind(arrayInd(inds_tri[inds_sig], \n",
    "                 .dim=c(N,N)))\n",
    "pcor_graph <- graph_from_data_frame(graph_edge_list, directed=FALSE)\n",
    "summary(pcor_graph)\n",
    "components(pcor_graph)$csize"
   ]
  },
  {
   "cell_type": "markdown",
   "metadata": {},
   "source": [
    "Plot the graph in igraph (make sure you first set the plot options using\n",
    "`igraph_options(vertex.size=1, vertex.label=NA, edge.width=0.3)`)"
   ]
  },
  {
   "cell_type": "code",
   "execution_count": 36,
   "metadata": {},
   "outputs": [
    {
     "data": {
      "image/png": "[encoded data removed]",
      "text/plain": [
       "Plot with title \"\""
      ]
     },
     "metadata": {},
     "output_type": "display_data"
    }
   ],
   "source": [
    "igraph_options(vertex.size=1, vertex.label=NA, edge.width=0.3, margin=-5)\n",
    "plot(pcor_graph)"
   ]
  },
  {
   "cell_type": "markdown",
   "metadata": {},
   "source": [
    "Plot the graph degree distribution on log-log scale"
   ]
  },
  {
   "cell_type": "code",
   "execution_count": 37,
   "metadata": {},
   "outputs": [
    {
     "data": {
      "image/png": "[encoded data removed]",
      "text/plain": [
       "plot without title"
      ]
     },
     "metadata": {},
     "output_type": "display_data"
    }
   ],
   "source": [
    "suppressWarnings(\n",
    "\n",
    "    plot(degree.distribution(pcor_graph), log=\"xy\", xlab=\"k\", ylab=\"Pk\")\n",
    "\n",
    ")"
   ]
  }
 ],
 "metadata": {
  "kernelspec": {
   "display_name": "R",
   "language": "R",
   "name": "ir"
  },
  "language_info": {
   "codemirror_mode": "r",
   "file_extension": ".r",
   "mimetype": "text/x-r-source",
   "name": "R",
   "pygments_lexer": "r",
   "version": "3.6.1"
  }
 },
 "nbformat": 4,
 "nbformat_minor": 1
}
