{
 "cells": [
  {
   "cell_type": "markdown",
   "metadata": {},
   "source": [
    "# CSX46 - Class Session 7 - Closeness centrality\n",
    "\n",
    "In this class session we are going to scatter-plot the harmonic-mean closeness centralities\n",
    "of the vertices in the gene regulatory network (which we will obtain from Pathway Commons) with the vertices' degree centralities. We will get the geodesic path distances using `igraph`, which will use BFS for this graph."
   ]
  },
  {
   "cell_type": "markdown",
   "metadata": {},
   "source": [
    "We are going to use igraph"
   ]
  },
  {
   "cell_type": "code",
   "execution_count": 3,
   "metadata": {},
   "outputs": [],
   "source": [
    "suppressPackageStartupMessages(library(igraph))"
   ]
  },
  {
   "cell_type": "markdown",
   "metadata": {},
   "source": [
    "Load in the SIF file for Pathway Commons into a data frame `sif_data` using `read.table`, and assign column names `species1`, `interaction_type`, and `species2` to the data frame:"
   ]
  },
  {
   "cell_type": "code",
   "execution_count": 4,
   "metadata": {},
   "outputs": [],
   "source": [
    "sif_data <- read.table(\"shared/pathway_commons.sif\",\n",
    "                       header=FALSE,\n",
    "                       stringsAsFactors=FALSE,\n",
    "                       col.names=c(\"species1\",\n",
    "                                   \"interaction_type\",\n",
    "                                   \"species2\"),\n",
    "                       quote=\"\",\n",
    "                       comment.char=\"\")"
   ]
  },
  {
   "cell_type": "markdown",
   "metadata": {},
   "source": [
    "Restrict the rows of the dataframe to \"controls-expression-of\", restrict to columns 1 and 3, and eliminate redundant edges in the edge-list. "
   ]
  },
  {
   "cell_type": "code",
   "execution_count": 5,
   "metadata": {},
   "outputs": [],
   "source": [
    "interac_grn <- sif_data[sif_data$interaction_type %in% c(\"controls-expression-of\"), c(1,3)]\n",
    "interac_grn_unique <- unique(interac_grn)"
   ]
  },
  {
   "cell_type": "markdown",
   "metadata": {},
   "source": [
    "Create a directed graph in igraph, from the dataframe edge-list, using `graph_from_data_frame`. Print a graph summary too, just as a sanity check."
   ]
  },
  {
   "cell_type": "code",
   "execution_count": 6,
   "metadata": {},
   "outputs": [],
   "source": [
    "grn_igraph <- graph_from_data_frame(interac_grn_unique, directed=TRUE)"
   ]
  },
  {
   "cell_type": "markdown",
   "metadata": {},
   "source": [
    "For one vertex at a time, compute that vertex's harmonic mean closeness centrality using Eq. 7.30 from Newman's book. Don't forget to eliminate the \"0\" distance between a vertex and itself, in the results you get back from calling `distances`.  VERY IMPORTANT: make sure you specify a single source vertex to the `distances` function!  Just for information purposes, wrap system.time around your code. Distances should be calculated on the undirected graph, regardless of edge direction (this appears to be the default for `distances`).  You'll use the `V` function to get the vertices of the graph `grn_igraph`.  You'll use the `sapply` function to run for each of these vertices, a function that computes the vertex harmonic-mean closeness centrality."
   ]
  },
  {
   "cell_type": "code",
   "execution_count": 7,
   "metadata": {},
   "outputs": [],
   "source": [
    "N <- length(V(grn_igraph))\n",
    "harmonic_closeness_centralities <- sapply(V(grn_igraph),\n",
    "                                            function(my_vertex) {\n",
    "                                                my_dists <- distances(grn_igraph, v=my_vertex)\n",
    "                                                sum(1/my_dists[my_dists > 0])/(N-1)\n",
    "                                          })"
   ]
  },
  {
   "cell_type": "markdown",
   "metadata": {},
   "source": [
    "Histogram the harmonic-mean closeness centralities.  Do they have a large dynamic range?"
   ]
  },
  {
   "cell_type": "code",
   "execution_count": 17,
   "metadata": {},
   "outputs": [
    {
     "data": {
      "image/png": "[encoded data removed]",
      "text/plain": [
       "Plot with title \"Histogram of harmonic_closeness_centralities\""
      ]
     },
     "metadata": {},
     "output_type": "display_data"
    }
   ],
   "source": [
    "library(repr)\n",
    "options(repr.plot.width=4, repr.plot.height=4)\n",
    "hist(harmonic_closeness_centralities)"
   ]
  },
  {
   "cell_type": "markdown",
   "metadata": {},
   "source": [
    "Scatter plot the harmonic-mean closeness centralities vs. the log10 degree. Is there any kind of relationship?"
   ]
  },
  {
   "cell_type": "code",
   "execution_count": 18,
   "metadata": {},
   "outputs": [
    {
     "data": {
      "image/png": "[encoded data removed]",
      "text/plain": [
       "plot without title"
      ]
     },
     "metadata": {},
     "output_type": "display_data"
    }
   ],
   "source": [
    "plot(degree(grn_igraph), harmonic_closeness_centralities,\n",
    "     xlab=expression(k[i]),\n",
    "     ylab=expression(\"C'\"[i]),\n",
    "     log=\"x\")"
   ]
  },
  {
   "cell_type": "markdown",
   "metadata": {},
   "source": [
    "which protein has the highest closeness centrality in the network? (hint: use `which.max`)"
   ]
  },
  {
   "cell_type": "code",
   "execution_count": 9,
   "metadata": {},
   "outputs": [
    {
     "data": {
      "text/html": [
       "<strong>CYP26A1:</strong> 0.707169001196593"
      ],
      "text/latex": [
       "\\textbf{CYP26A1:} 0.707169001196593"
      ],
      "text/markdown": [
       "**CYP26A1:** 0.707169001196593"
      ],
      "text/plain": [
       " CYP26A1 \n",
       "0.707169 "
      ]
     },
     "metadata": {},
     "output_type": "display_data"
    }
   ],
   "source": [
    "harmonic_closeness_centralities[which.max(harmonic_closeness_centralities)]"
   ]
  },
  {
   "cell_type": "code",
   "execution_count": 11,
   "metadata": {},
   "outputs": [
    {
     "data": {
      "text/html": [
       "<strong>CYP26A1:</strong> 163"
      ],
      "text/latex": [
       "\\textbf{CYP26A1:} 163"
      ],
      "text/markdown": [
       "**CYP26A1:** 163"
      ],
      "text/plain": [
       "CYP26A1 \n",
       "    163 "
      ]
     },
     "metadata": {},
     "output_type": "display_data"
    }
   ],
   "source": [
    "which.max(degree(grn_igraph))"
   ]
  },
  {
   "cell_type": "markdown",
   "metadata": {},
   "source": [
    "Print the harmonic-mean closeness centralities of the top 10  proteins in the network:"
   ]
  },
  {
   "cell_type": "code",
   "execution_count": 14,
   "metadata": {},
   "outputs": [
    {
     "data": {
      "text/html": [
       "<dl class=dl-horizontal>\n",
       "\t<dt>CYP26A1</dt>\n",
       "\t\t<dd>0.707</dd>\n",
       "\t<dt>TCF3</dt>\n",
       "\t\t<dd>0.625</dd>\n",
       "\t<dt>LEF1</dt>\n",
       "\t\t<dd>0.574</dd>\n",
       "\t<dt>MYC</dt>\n",
       "\t\t<dd>0.566</dd>\n",
       "\t<dt>MAZ</dt>\n",
       "\t\t<dd>0.561</dd>\n",
       "\t<dt>FOXO4</dt>\n",
       "\t\t<dd>0.548</dd>\n",
       "\t<dt>MAX</dt>\n",
       "\t\t<dd>0.545</dd>\n",
       "\t<dt>PAX4</dt>\n",
       "\t\t<dd>0.537</dd>\n",
       "\t<dt>PPARA</dt>\n",
       "\t\t<dd>0.523</dd>\n",
       "\t<dt>SREBF1</dt>\n",
       "\t\t<dd>0.523</dd>\n",
       "</dl>\n"
      ],
      "text/latex": [
       "\\begin{description*}\n",
       "\\item[CYP26A1] 0.707\n",
       "\\item[TCF3] 0.625\n",
       "\\item[LEF1] 0.574\n",
       "\\item[MYC] 0.566\n",
       "\\item[MAZ] 0.561\n",
       "\\item[FOXO4] 0.548\n",
       "\\item[MAX] 0.545\n",
       "\\item[PAX4] 0.537\n",
       "\\item[PPARA] 0.523\n",
       "\\item[SREBF1] 0.523\n",
       "\\end{description*}\n"
      ],
      "text/markdown": [
       "CYP26A1\n",
       ":   0.707TCF3\n",
       ":   0.625LEF1\n",
       ":   0.574MYC\n",
       ":   0.566MAZ\n",
       ":   0.561FOXO4\n",
       ":   0.548MAX\n",
       ":   0.545PAX4\n",
       ":   0.537PPARA\n",
       ":   0.523SREBF1\n",
       ":   0.523\n",
       "\n"
      ],
      "text/plain": [
       "CYP26A1    TCF3    LEF1     MYC     MAZ   FOXO4     MAX    PAX4   PPARA  SREBF1 \n",
       "  0.707   0.625   0.574   0.566   0.561   0.548   0.545   0.537   0.523   0.523 "
      ]
     },
     "metadata": {},
     "output_type": "display_data"
    }
   ],
   "source": [
    "head(sort(round(harmonic_closeness_centralities, 3), decreasing=TRUE), n=10)"
   ]
  },
  {
   "cell_type": "code",
   "execution_count": null,
   "metadata": {},
   "outputs": [],
   "source": []
  }
 ],
 "metadata": {
  "kernelspec": {
   "display_name": "R",
   "language": "R",
   "name": "ir"
  },
  "language_info": {
   "codemirror_mode": "r",
   "file_extension": ".r",
   "mimetype": "text/x-r-source",
   "name": "R",
   "pygments_lexer": "r",
   "version": "3.6.1"
  }
 },
 "nbformat": 4,
 "nbformat_minor": 1
}
